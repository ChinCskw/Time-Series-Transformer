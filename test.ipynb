{
 "nbformat": 4,
 "nbformat_minor": 2,
 "metadata": {
  "language_info": {
   "name": "python",
   "codemirror_mode": {
    "name": "ipython",
    "version": 3
   },
   "version": "3.7.3-final"
  },
  "orig_nbformat": 2,
  "file_extension": ".py",
  "mimetype": "text/x-python",
  "name": "python",
  "npconvert_exporter": "python",
  "pygments_lexer": "ipython3",
  "version": 3,
  "kernelspec": {
   "name": "python3",
   "display_name": "Python 3"
  }
 },
 "cells": [
  {
   "cell_type": "code",
   "execution_count": 1,
   "metadata": {},
   "outputs": [],
   "source": [
    "import pandas as pd\n",
    "import numpy as np\n",
    "import time_series_transform.base as base"
   ]
  },
  {
   "cell_type": "code",
   "execution_count": 2,
   "metadata": {},
   "outputs": [],
   "source": [
    "arr= np.array([1,1,3,4,5,6,7])\n",
    "fact = base.Time_Series_Tensor_Factory(arr,'sequence')"
   ]
  },
  {
   "cell_type": "code",
   "execution_count": 3,
   "metadata": {},
   "outputs": [],
   "source": [
    "time = fact.get_time_series_tensor('time',2,outType = np.float32)"
   ]
  },
  {
   "cell_type": "code",
   "execution_count": 4,
   "metadata": {},
   "outputs": [],
   "source": [
    "fb = fact.get_time_series_tensor('time',2,outType = np.float32)"
   ]
  },
  {
   "cell_type": "code",
   "execution_count": 8,
   "metadata": {},
   "outputs": [],
   "source": [
    "label = base.Time_Series_Tensor_Factory(arr,'label')\n",
    "label =  label.get_time_series_tensor('label',2,outType = np.float32)"
   ]
  },
  {
   "cell_type": "code",
   "execution_count": 9,
   "metadata": {},
   "outputs": [],
   "source": [
    "cate = [1,2,3]\n",
    "cate = base.Time_Series_Tensor_Factory(cate,'category')\n",
    "cate =  cate.get_time_series_tensor('category',2,batchSize= label.get_data_shape()[0],outType = np.float32)"
   ]
  },
  {
   "cell_type": "code",
   "execution_count": 10,
   "metadata": {},
   "outputs": [],
   "source": [
    "dataset = base.Time_Series_Dataset([time,label,cate])"
   ]
  },
  {
   "cell_type": "code",
   "execution_count": 11,
   "metadata": {},
   "outputs": [
    {
     "output_type": "execute_result",
     "data": {
      "text/plain": "{'time': array([[[1, 1],\n         [1, 1]],\n \n        [[1, 1],\n         [3, 3]],\n \n        [[3, 3],\n         [4, 4]],\n \n        [[4, 4],\n         [5, 5]],\n \n        [[5, 5],\n         [6, 6]]]),\n 'label': array([3, 4, 5, 6, 7]),\n 'category': array([[1, 2, 3],\n        [1, 2, 3],\n        [1, 2, 3],\n        [1, 2, 3],\n        [1, 2, 3]])}"
     },
     "metadata": {},
     "execution_count": 11
    }
   ],
   "source": [
    "dataset.make_dataset()"
   ]
  },
  {
   "cell_type": "code",
   "execution_count": null,
   "metadata": {},
   "outputs": [],
   "source": []
  }
 ]
}