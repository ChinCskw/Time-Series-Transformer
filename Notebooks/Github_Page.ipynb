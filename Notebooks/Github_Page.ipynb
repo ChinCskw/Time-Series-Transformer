{
 "cells": [
  {
   "cell_type": "markdown",
   "metadata": {},
   "source": [
    "# Time Series Transformer\n",
    "\n",
    "\n",
    "![Build](https://github.com/allen-chiang/Time-Series-Transformer/workflows/Build/badge.svg)\n",
    "\n",
    "Time Series Transformer is designed to handle time series data pre-processing for machine learning and deep learning. The general use case includes making lag/lead features, denoising data, and making various moving average (geometric and arithmetic ). Furthermore, this package provides extra features to different time series data area, including:\n",
    "\n",
    "1. stock\n",
    "    - extract data from different engine (only support yahoo finance in the current version)\n",
    "    - plot interative charts for stock analsys\n",
    "    - various technical indicator transformation i.e. MACD, stochastic oscillator, William %, relative strength index\n",
    "    \n",
    "## Pre-Processing for Machine Learning\n"
   ]
  },
  {
   "cell_type": "code",
   "execution_count": 11,
   "metadata": {},
   "outputs": [],
   "source": [
    "import numpy as np\n",
    "import pandas as pd\n",
    "import time_series_transform as tst\n",
    "from time_series_transform.transform_core_api.time_series_transformer import Pandas_Time_Series_Panel_Dataset"
   ]
  },
  {
   "cell_type": "markdown",
   "metadata": {},
   "source": [
    "This example uses the stock api to extract stock googl for one year. Subsequently, it shows how to create multiple lags data as predictors and lead data as target variable."
   ]
  },
  {
   "cell_type": "code",
   "execution_count": 37,
   "metadata": {},
   "outputs": [
    {
     "name": "stdout",
     "output_type": "stream",
     "text": [
      "         Date     Open     High      Low    Close   Volume  Dividends  \\\n",
      "0  2019-08-12  1180.00  1185.61  1168.72  1174.50  1103200          0   \n",
      "1  2019-08-13  1174.35  1205.43  1172.99  1196.73  1421700          0   \n",
      "2  2019-08-14  1176.07  1182.79  1161.07  1164.25  1771500          0   \n",
      "3  2019-08-15  1168.43  1176.42  1163.00  1169.32  1425300          0   \n",
      "4  2019-08-16  1180.79  1183.84  1173.00  1179.21  1245800          0   \n",
      "\n",
      "   Stock Splits  \n",
      "0             0  \n",
      "1             0  \n",
      "2             0  \n",
      "3             0  \n",
      "4             0  \n"
     ]
    }
   ],
   "source": [
    "stock_ext = tst.Stock_Extractor('googl','yahoo')\n",
    "df = stock_ext.get_stock_period(period='1y').df\n",
    "print(df.head())"
   ]
  },
  {
   "cell_type": "markdown",
   "metadata": {},
   "source": [
    "Pandas_Time_Series_Panel_Dataset takes dataframe as input. make_slide_window is the function used for making multiple lagging data, and make_lead_column is to create lead data for specific column. indexCol is the time series column, and this column is used for sorting the dataframe before lag/lead feature generations."
   ]
  },
  {
   "cell_type": "code",
   "execution_count": 21,
   "metadata": {},
   "outputs": [
    {
     "name": "stdout",
     "output_type": "stream",
     "text": [
      "<class 'pandas.core.frame.DataFrame'>\n",
      "Int64Index: 252 entries, 251 to 0\n",
      "Data columns (total 17 columns):\n",
      " #   Column        Non-Null Count  Dtype  \n",
      "---  ------        --------------  -----  \n",
      " 0   Date          252 non-null    object \n",
      " 1   Open          252 non-null    float64\n",
      " 2   High          252 non-null    float64\n",
      " 3   Low           252 non-null    float64\n",
      " 4   Close         252 non-null    float64\n",
      " 5   Volume        252 non-null    int64  \n",
      " 6   Dividends     252 non-null    int64  \n",
      " 7   Stock Splits  252 non-null    int64  \n",
      " 8   Open_lag1     251 non-null    float64\n",
      " 9   Open_lag2     250 non-null    float64\n",
      " 10  High_lag1     251 non-null    float64\n",
      " 11  High_lag2     250 non-null    float64\n",
      " 12  Low_lag1      251 non-null    float64\n",
      " 13  Low_lag2      250 non-null    float64\n",
      " 14  Close_lag1    251 non-null    float64\n",
      " 15  Close_lag2    250 non-null    float64\n",
      " 16  Open_lead1    251 non-null    float64\n",
      "dtypes: float64(13), int64(3), object(1)\n",
      "memory usage: 35.4+ KB\n"
     ]
    }
   ],
   "source": [
    "panel_transform = Pandas_Time_Series_Panel_Dataset(df)\n",
    "panel_transform.make_slide_window(\n",
    "    indexCol= 'Date',windowSize = 2,colList = ['Open','High','Low','Close']\n",
    ").make_lead_column(indexCol = 'Date',baseCol = 'Open',leadNum=1)\n",
    "panel_transform.df.info()"
   ]
  },
  {
   "cell_type": "markdown",
   "metadata": {},
   "source": [
    "To obtain the data, the df attribute of Pandas_Time_Series_Panel_Dataset can be retrieved."
   ]
  },
  {
   "cell_type": "code",
   "execution_count": 36,
   "metadata": {},
   "outputs": [
    {
     "name": "stdout",
     "output_type": "stream",
     "text": [
      "         Date symbol     Open  Open_lag1  Open_lead1\n",
      "0  2019-08-12   aapl   197.66        NaN      199.05\n",
      "0  2019-08-12  googl  1180.00        NaN     1174.35\n",
      "1  2019-08-13   aapl   199.05     197.66      201.16\n",
      "1  2019-08-13  googl  1174.35    1180.00     1176.07\n",
      "2  2019-08-14  googl  1176.07    1174.35     1168.43\n"
     ]
    }
   ],
   "source": [
    "lead_lag_stock = panel_transform.df\n",
    "print(lead_lag_stock[['Date','symbol','Open','Open_lag1','Open_lead1']].sort_values('Date').head())"
   ]
  },
  {
   "cell_type": "markdown",
   "metadata": {},
   "source": [
    "Sometimes, there cuold be different categories or item in the dataset. Pandas_Time_Series_Panel_Dataset the groupby parameter can serve the advanced data manipulation for lead and lag data making. The following example is going to construct a dataframe with multiple stocks, and each stock can be represented as one item."
   ]
  },
  {
   "cell_type": "code",
   "execution_count": 35,
   "metadata": {},
   "outputs": [
    {
     "name": "stdout",
     "output_type": "stream",
     "text": [
      "         Date     Open     High      Low    Close   Volume  Dividends  \\\n",
      "0  2019-08-12  1180.00  1185.61  1168.72  1174.50  1103200        0.0   \n",
      "1  2019-08-13  1174.35  1205.43  1172.99  1196.73  1421700        0.0   \n",
      "2  2019-08-14  1176.07  1182.79  1161.07  1164.25  1771500        0.0   \n",
      "3  2019-08-15  1168.43  1176.42  1163.00  1169.32  1425300        0.0   \n",
      "4  2019-08-16  1180.79  1183.84  1173.00  1179.21  1245800        0.0   \n",
      "\n",
      "   Stock Splits symbol  \n",
      "0             0  googl  \n",
      "1             0  googl  \n",
      "2             0  googl  \n",
      "3             0  googl  \n",
      "4             0  googl  \n"
     ]
    }
   ],
   "source": [
    "df = tst.Portfolio_Extractor(['googl','aapl'],'yahoo').get_portfolio_period('1y').get_portfolio_dataFrame()\n",
    "print(df.head())"
   ]
  },
  {
   "cell_type": "code",
   "execution_count": 34,
   "metadata": {},
   "outputs": [
    {
     "name": "stdout",
     "output_type": "stream",
     "text": [
      "<class 'pandas.core.frame.DataFrame'>\n",
      "Int64Index: 504 entries, 251 to 0\n",
      "Data columns (total 18 columns):\n",
      " #   Column        Non-Null Count  Dtype  \n",
      "---  ------        --------------  -----  \n",
      " 0   Date          504 non-null    object \n",
      " 1   Open          504 non-null    float64\n",
      " 2   High          504 non-null    float64\n",
      " 3   Low           504 non-null    float64\n",
      " 4   Close         504 non-null    float64\n",
      " 5   Volume        504 non-null    int64  \n",
      " 6   Dividends     504 non-null    float64\n",
      " 7   Stock Splits  504 non-null    int64  \n",
      " 8   symbol        504 non-null    object \n",
      " 9   Open_lag1     502 non-null    float64\n",
      " 10  Open_lag2     500 non-null    float64\n",
      " 11  High_lag1     502 non-null    float64\n",
      " 12  High_lag2     500 non-null    float64\n",
      " 13  Low_lag1      502 non-null    float64\n",
      " 14  Low_lag2      500 non-null    float64\n",
      " 15  Close_lag1    502 non-null    float64\n",
      " 16  Close_lag2    500 non-null    float64\n",
      " 17  Open_lead1    502 non-null    float64\n",
      "dtypes: float64(14), int64(2), object(2)\n",
      "memory usage: 74.8+ KB\n"
     ]
    }
   ],
   "source": [
    "panel_transform = Pandas_Time_Series_Panel_Dataset(df)\n",
    "panel_transform.make_slide_window(\n",
    "    indexCol= 'Date',windowSize = 2,colList = ['Open','High','Low','Close'],groupby='symbol'\n",
    ").make_lead_column(indexCol = 'Date',baseCol = 'Open',leadNum=1,groupby='symbol')\n",
    "panel_transform.df.info()"
   ]
  },
  {
   "cell_type": "code",
   "execution_count": 32,
   "metadata": {},
   "outputs": [
    {
     "name": "stdout",
     "output_type": "stream",
     "text": [
      "         Date symbol     Open  Open_lag1  Open_lead1\n",
      "0  2019-08-12   aapl   197.66        NaN      199.05\n",
      "0  2019-08-12  googl  1180.00        NaN     1174.35\n",
      "1  2019-08-13   aapl   199.05     197.66      201.16\n",
      "1  2019-08-13  googl  1174.35    1180.00     1176.07\n",
      "2  2019-08-14  googl  1176.07    1174.35     1168.43\n"
     ]
    }
   ],
   "source": [
    "lead_lag_stock = panel_transform.df\n",
    "print(lead_lag_stock[['Date','symbol','Open','Open_lag1','Open_lead1']].sort_values('Date').head())"
   ]
  },
  {
   "cell_type": "markdown",
   "metadata": {},
   "source": [
    "Note: Some other use cases could be inventory. Inventory data is usually associate with multiple categories such as item name or locations. To use groupby parameter, it has to be combined into on column, for example, item, location --> item_location. The currently api only supports one column groupby."
   ]
  },
  {
   "cell_type": "markdown",
   "metadata": {},
   "source": [
    "## Deep Learning\n",
    "\n",
    "Transforming panel data into tensor data for deep learning model might wirte server lines of code. Using Pandas_Time_Series_Tensor_Dataset can easily complete those tidious tasks. This class will take your pandas frame as input and following the configuration to manipulate the data and make the generator for training.\n",
    "\n",
    "The configuration can be simply setup by set_config function. There are three type of manipulation sequence --> making lagging data, category --> making a sequence of same data, and label --> making 1 step lead data. The following example uses a simple dataframe for demonstration."
   ]
  },
  {
   "cell_type": "code",
   "execution_count": 41,
   "metadata": {},
   "outputs": [
    {
     "name": "stdout",
     "output_type": "stream",
     "text": [
      "   time  demand  category\n",
      "0     1       1         1\n",
      "1     2       2         1\n",
      "2     3       3         2\n",
      "3     4       4         2\n"
     ]
    }
   ],
   "source": [
    "from time_series_transform.transform_core_api.time_series_transformer import Pandas_Time_Series_Tensor_Dataset\n",
    "df = pd.DataFrame({'time':[1,2,3,4],'demand':[1,2,3,4],'category':[1,1,2,2]})\n",
    "print(df)"
   ]
  },
  {
   "cell_type": "markdown",
   "metadata": {},
   "source": [
    "To make the generator, there are two steps:\n",
    "1. expand data from time, demand, category to category_demand_time (use expand_dataFrame_by_date to achieve this step)\n",
    "2. setup configuration"
   ]
  },
  {
   "cell_type": "code",
   "execution_count": 46,
   "metadata": {},
   "outputs": [
    {
     "name": "stdout",
     "output_type": "stream",
     "text": [
      "   1_demand_1  1_demand_2  2_demand_3  2_demand_4\n",
      "0           1           2           3           4\n"
     ]
    }
   ],
   "source": [
    "tensor_generator = Pandas_Time_Series_Tensor_Dataset(df)\n",
    "tensor_generator.expand_dataFrame_by_date(\n",
    "    categoryCol = 'category',timeSeriesCol = 'time',byCategory=False\n",
    ")\n",
    "print(tensor_generator.df)"
   ]
  },
  {
   "cell_type": "code",
   "execution_count": 48,
   "metadata": {},
   "outputs": [],
   "source": [
    "tensor_generator.set_config(\n",
    "    name = 'demand_lag',\n",
    "    colNames = [\"1_demand_1\"  ,\"1_demand_2\" , \"2_demand_3\" , \"2_demand_4\"],\n",
    "    tensorType= 'sequence',\n",
    "    windowSize = 2,\n",
    "    sequence_stack=None, \n",
    "    isResponseVar=False, \n",
    "    seqSize=4,\n",
    "    outType=np.float32\n",
    ")\n",
    "tensor_generator.set_config(\n",
    "    name = 'demand_lead',\n",
    "    colNames = [\"1_demand_1\"  ,\"1_demand_2\" , \"2_demand_3\" , \"2_demand_4\"],\n",
    "    tensorType= 'label',\n",
    "    windowSize = 2,\n",
    "    sequence_stack=None, \n",
    "    isResponseVar=True, \n",
    "    seqSize=4,\n",
    "    outType=np.float32\n",
    ")"
   ]
  },
  {
   "cell_type": "code",
   "execution_count": 50,
   "metadata": {},
   "outputs": [
    {
     "name": "stdout",
     "output_type": "stream",
     "text": [
      "({'demand_lag': array([[[1],\n",
      "        [2]],\n",
      "\n",
      "       [[2],\n",
      "        [3]]])}, array([3, 4]))\n"
     ]
    }
   ],
   "source": [
    "gen = tensor_generator.make_data_generator()\n",
    "for i in gen:\n",
    "    print(i)"
   ]
  },
  {
   "cell_type": "markdown",
   "metadata": {},
   "source": [
    "Note: More Advance manipulation including stacking different sequence and multi-steps prediction can refer gallery."
   ]
  },
  {
   "cell_type": "code",
   "execution_count": null,
   "metadata": {},
   "outputs": [],
   "source": []
  }
 ],
 "metadata": {
  "kernelspec": {
   "display_name": "Python 3",
   "language": "python",
   "name": "python3"
  },
  "language_info": {
   "codemirror_mode": {
    "name": "ipython",
    "version": 3
   },
   "file_extension": ".py",
   "mimetype": "text/x-python",
   "name": "python",
   "nbconvert_exporter": "python",
   "pygments_lexer": "ipython3",
   "version": "3.7.3"
  },
  "toc": {
   "base_numbering": 1,
   "nav_menu": {},
   "number_sections": false,
   "sideBar": true,
   "skip_h1_title": false,
   "title_cell": "Table of Contents",
   "title_sidebar": "Contents",
   "toc_cell": false,
   "toc_position": {},
   "toc_section_display": true,
   "toc_window_display": false
  }
 },
 "nbformat": 4,
 "nbformat_minor": 4
}
