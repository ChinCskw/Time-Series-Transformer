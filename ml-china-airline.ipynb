{
 "cells": [
  {
   "cell_type": "code",
   "execution_count": 1,
   "metadata": {},
   "outputs": [],
   "source": [
    "import pandas as pd\n",
    "import numpy as np\n",
    "from time_series_transform.tensorflow_adopter import *\n",
    "import time_series_transform.base as base\n",
    "from time_series_transform.time_series_transformer import *\n",
    "from sklearn.preprocessing import StandardScaler\n",
    "from time_series_transform.tensorflow_adopter import *\n",
    "from time_series_transform.stock_transform.base import *\n",
    "from time_series_transform.stock_transform.stock_extractor import Portfolio_Extractor,Stock_Extractor\n",
    "from time_series_transform.util import *\n",
    "from matplotlib import pyplot as plt"
   ]
  },
  {
   "cell_type": "code",
   "execution_count": 3,
   "metadata": {
    "scrolled": true
   },
   "outputs": [],
   "source": [
    "tickList = [\n",
    "    '2610.TW',\n",
    "    '2618.TW'\n",
    "]\n",
    "pe = Portfolio_Extractor(tickList,'yahoo')\n",
    "port = pe.get_portfolio_date('2000-06-24','2020-06-24')\n",
    "# port.remove_different_date()"
   ]
  },
  {
   "cell_type": "code",
   "execution_count": 133,
   "metadata": {
    "scrolled": true
   },
   "outputs": [],
   "source": [
    "labels = []\n",
    "colList = ['Open', 'High', 'Low', 'Close']\n",
    "for c in colList:\n",
    "    port.make_technical_indicator(c,f'{c}_ma5',moving_average,windowSize = 5)\n",
    "    port.make_technical_indicator(c,f'{c}_ma10',moving_average,windowSize = 10)\n",
    "    port.make_technical_indicator(c,f'{c}_ema10',ema,span = 10)\n",
    "    port.make_technical_indicator(c,f'{c}_diff1',differencing,order = 1)\n",
    "    \n",
    "    for t in tickList:\n",
    "        labels.extend([f'{t}_{c}',f'{t}_{c}_ma5',f'{t}_{c}_ma10',f'{t}_{c}_ema10',f'{t}_{c}_wavelet_1'])"
   ]
  },
  {
   "cell_type": "code",
   "execution_count": 134,
   "metadata": {},
   "outputs": [],
   "source": [
    "df = port.get_portfolio_dataFrame()\n",
    "df = df.dropna()"
   ]
  },
  {
   "cell_type": "code",
   "execution_count": 135,
   "metadata": {},
   "outputs": [],
   "source": [
    "ptspd = Pandas_Time_Series_Panel_Dataset(df)"
   ]
  },
  {
   "cell_type": "code",
   "execution_count": 136,
   "metadata": {
    "scrolled": true
   },
   "outputs": [],
   "source": [
    "ptspd =ptspd.expand_dataFrame_by_category('Date','symbol')"
   ]
  },
  {
   "cell_type": "code",
   "execution_count": 137,
   "metadata": {
    "scrolled": true
   },
   "outputs": [],
   "source": [
    "ptspd = ptspd.make_slide_window('Date',60).make_lead_column('Date','Close_2610.TW',1)"
   ]
  },
  {
   "cell_type": "code",
   "execution_count": 138,
   "metadata": {},
   "outputs": [],
   "source": [
    "df = ptspd.df"
   ]
  },
  {
   "cell_type": "code",
   "execution_count": 139,
   "metadata": {},
   "outputs": [],
   "source": [
    "df = df.dropna()"
   ]
  },
  {
   "cell_type": "code",
   "execution_count": 140,
   "metadata": {},
   "outputs": [],
   "source": [
    "train = df[df.Date <= '2020-03-01']\n",
    "test = df[df.Date > '2020-03-01']\n",
    "trainX = train.drop(['Date','Close_2610.TW_lead1'],axis = 1)\n",
    "trainY = train[\"Close_2610.TW_lead1\"]\n",
    "testX = test.drop(['Date','Close_2610.TW_lead1'],axis = 1)\n",
    "testY = test[\"Close_2610.TW_lead1\"]"
   ]
  },
  {
   "cell_type": "code",
   "execution_count": 141,
   "metadata": {},
   "outputs": [],
   "source": [
    "from sklearn.ensemble import RandomForestRegressor\n",
    "from sklearn.tree import DecisionTreeRegressor\n",
    "from sklearn.svm import SVR\n",
    "from sklearn.decomposition import PCA\n",
    "from sklearn.preprocessing import StandardScaler,MinMaxScaler,Normalizer\n",
    "from sklearn.pipeline import Pipeline"
   ]
  },
  {
   "cell_type": "code",
   "execution_count": 147,
   "metadata": {},
   "outputs": [],
   "source": [
    "rf = Pipeline([\n",
    "#     ('std',StandardScaler()),\n",
    "#     ('pca',PCA(50,whiten = False)),\n",
    "    ('tree',RandomForestRegressor(100,n_jobs = -1))\n",
    "#     ('svm',SVR(C = 0.5))\n",
    "])"
   ]
  },
  {
   "cell_type": "code",
   "execution_count": 148,
   "metadata": {},
   "outputs": [
    {
     "data": {
      "text/plain": [
       "Pipeline(memory=None,\n",
       "         steps=[('tree',\n",
       "                 RandomForestRegressor(bootstrap=True, ccp_alpha=0.0,\n",
       "                                       criterion='mse', max_depth=None,\n",
       "                                       max_features='auto', max_leaf_nodes=None,\n",
       "                                       max_samples=None,\n",
       "                                       min_impurity_decrease=0.0,\n",
       "                                       min_impurity_split=None,\n",
       "                                       min_samples_leaf=1, min_samples_split=2,\n",
       "                                       min_weight_fraction_leaf=0.0,\n",
       "                                       n_estimators=100, n_jobs=-1,\n",
       "                                       oob_score=False, random_state=None,\n",
       "                                       verbose=0, warm_start=False))],\n",
       "         verbose=False)"
      ]
     },
     "execution_count": 148,
     "metadata": {},
     "output_type": "execute_result"
    }
   ],
   "source": [
    "rf.fit(trainX,trainY)"
   ]
  },
  {
   "cell_type": "code",
   "execution_count": 149,
   "metadata": {},
   "outputs": [],
   "source": [
    "prd = rf.predict(testX)"
   ]
  },
  {
   "cell_type": "code",
   "execution_count": 150,
   "metadata": {},
   "outputs": [],
   "source": [
    "from matplotlib import pyplot as plt"
   ]
  },
  {
   "cell_type": "code",
   "execution_count": 151,
   "metadata": {},
   "outputs": [
    {
     "data": {
      "image/png": "[encoded data removed]",
      "text/plain": [
       "<Figure size 432x288 with 1 Axes>"
      ]
     },
     "metadata": {
      "needs_background": "light"
     },
     "output_type": "display_data"
    }
   ],
   "source": [
    "plt.plot(prd,color = 'green')\n",
    "plt.plot(testY.values,color = 'blue')\n",
    "plt.show()"
   ]
  },
  {
   "cell_type": "code",
   "execution_count": 161,
   "metadata": {},
   "outputs": [],
   "source": [
    "fe = rf.named_steps['tree'].feature_importances_"
   ]
  },
  {
   "cell_type": "code",
   "execution_count": 168,
   "metadata": {},
   "outputs": [],
   "source": [
    "fe = pd.DataFrame(fe,index = trainX.columns)"
   ]
  },
  {
   "cell_type": "code",
   "execution_count": 172,
   "metadata": {},
   "outputs": [
    {
     "data": {
      "text/html": [
       "<div>\n",
       "<style scoped>\n",
       "    .dataframe tbody tr th:only-of-type {\n",
       "        vertical-align: middle;\n",
       "    }\n",
       "\n",
       "    .dataframe tbody tr th {\n",
       "        vertical-align: top;\n",
       "    }\n",
       "\n",
       "    .dataframe thead th {\n",
       "        text-align: right;\n",
       "    }\n",
       "</style>\n",
       "<table border=\"1\" class=\"dataframe\">\n",
       "  <thead>\n",
       "    <tr style=\"text-align: right;\">\n",
       "      <th></th>\n",
       "      <th>0</th>\n",
       "    </tr>\n",
       "  </thead>\n",
       "  <tbody>\n",
       "    <tr>\n",
       "      <th>Stock Splits_2618.TW_lag25</th>\n",
       "      <td>0.000000</td>\n",
       "    </tr>\n",
       "    <tr>\n",
       "      <th>Stock Splits_2610.TW_lag12</th>\n",
       "      <td>0.000000</td>\n",
       "    </tr>\n",
       "    <tr>\n",
       "      <th>Dividends_2618.TW_lag24</th>\n",
       "      <td>0.000000</td>\n",
       "    </tr>\n",
       "    <tr>\n",
       "      <th>Dividends_2618.TW_lag25</th>\n",
       "      <td>0.000000</td>\n",
       "    </tr>\n",
       "    <tr>\n",
       "      <th>Stock Splits_2610.TW_lag11</th>\n",
       "      <td>0.000000</td>\n",
       "    </tr>\n",
       "    <tr>\n",
       "      <th>...</th>\n",
       "      <td>...</td>\n",
       "    </tr>\n",
       "    <tr>\n",
       "      <th>High_ema10_2610.TW</th>\n",
       "      <td>0.000192</td>\n",
       "    </tr>\n",
       "    <tr>\n",
       "      <th>Open_2610.TW</th>\n",
       "      <td>0.000406</td>\n",
       "    </tr>\n",
       "    <tr>\n",
       "      <th>Low_2610.TW</th>\n",
       "      <td>0.008513</td>\n",
       "    </tr>\n",
       "    <tr>\n",
       "      <th>High_2610.TW</th>\n",
       "      <td>0.020594</td>\n",
       "    </tr>\n",
       "    <tr>\n",
       "      <th>Close_2610.TW</th>\n",
       "      <td>0.964124</td>\n",
       "    </tr>\n",
       "  </tbody>\n",
       "</table>\n",
       "<p>2806 rows × 1 columns</p>\n",
       "</div>"
      ],
      "text/plain": [
       "                                   0\n",
       "Stock Splits_2618.TW_lag25  0.000000\n",
       "Stock Splits_2610.TW_lag12  0.000000\n",
       "Dividends_2618.TW_lag24     0.000000\n",
       "Dividends_2618.TW_lag25     0.000000\n",
       "Stock Splits_2610.TW_lag11  0.000000\n",
       "...                              ...\n",
       "High_ema10_2610.TW          0.000192\n",
       "Open_2610.TW                0.000406\n",
       "Low_2610.TW                 0.008513\n",
       "High_2610.TW                0.020594\n",
       "Close_2610.TW               0.964124\n",
       "\n",
       "[2806 rows x 1 columns]"
      ]
     },
     "execution_count": 172,
     "metadata": {},
     "output_type": "execute_result"
    }
   ],
   "source": [
    "fe.sort_values(0)"
   ]
  },
  {
   "cell_type": "code",
   "execution_count": 73,
   "metadata": {},
   "outputs": [],
   "source": [
    "import pandas as pd\n",
    "df = pd.DataFrame({'a':[1,2,3,1,1,1,2],'b':[12,22,32,12,12,12,22]})"
   ]
  },
  {
   "cell_type": "code",
   "execution_count": 74,
   "metadata": {},
   "outputs": [],
   "source": [
    "from matplotlib import pyplot as plt\n",
    "class b:\n",
    "    def __init__(self,df):\n",
    "        self.df = df\n",
    "    \n",
    "    def __call__(self,*args,**kwargs):\n",
    "        self.printb(*args)\n",
    "    \n",
    "    def printc(cls,*args,**kwargs):\n",
    "        cls.df.plot.barh()\n",
    "    \n",
    "    def printb (self,*args,**kwargs):\n",
    "        self.df.plot()\n",
    "        \n",
    "\n",
    "\n",
    "\n",
    "class a (object):\n",
    "    def __init__(self,df):\n",
    "        self.a = df\n",
    "    \n",
    "    @property\n",
    "    def b(self):\n",
    "        return b(self.a)\n",
    "        \n"
   ]
  },
  {
   "cell_type": "code",
   "execution_count": 75,
   "metadata": {},
   "outputs": [],
   "source": [
    "abc = a(df)"
   ]
  },
  {
   "cell_type": "code",
   "execution_count": 76,
   "metadata": {},
   "outputs": [
    {
     "data": {
      "image/png": "[encoded data removed]",
      "text/plain": [
       "<Figure size 432x288 with 1 Axes>"
      ]
     },
     "metadata": {
      "needs_background": "light"
     },
     "output_type": "display_data"
    }
   ],
   "source": [
    "abc.b()"
   ]
  },
  {
   "cell_type": "code",
   "execution_count": 77,
   "metadata": {},
   "outputs": [
    {
     "data": {
      "image/png": "[encoded data removed]",
      "text/plain": [
       "<Figure size 432x288 with 1 Axes>"
      ]
     },
     "metadata": {
      "needs_background": "light"
     },
     "output_type": "display_data"
    }
   ],
   "source": [
    "abc.b.printc()"
   ]
  },
  {
   "cell_type": "code",
   "execution_count": null,
   "metadata": {},
   "outputs": [],
   "source": []
  }
 ],
 "metadata": {
  "file_extension": ".py",
  "kernelspec": {
   "display_name": "Python 3",
   "language": "python",
   "name": "python3"
  },
  "language_info": {
   "codemirror_mode": {
    "name": "ipython",
    "version": 3
   },
   "file_extension": ".py",
   "mimetype": "text/x-python",
   "name": "python",
   "nbconvert_exporter": "python",
   "pygments_lexer": "ipython3",
   "version": "3.7.3"
  },
  "mimetype": "text/x-python",
  "name": "python",
  "npconvert_exporter": "python",
  "pygments_lexer": "ipython3",
  "toc": {
   "base_numbering": 1,
   "nav_menu": {},
   "number_sections": true,
   "sideBar": true,
   "skip_h1_title": false,
   "title_cell": "Table of Contents",
   "title_sidebar": "Contents",
   "toc_cell": false,
   "toc_position": {},
   "toc_section_display": true,
   "toc_window_display": false
  },
  "version": 3
 },
 "nbformat": 4,
 "nbformat_minor": 2
}
