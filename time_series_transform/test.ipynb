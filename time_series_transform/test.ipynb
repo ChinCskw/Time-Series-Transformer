{
 "nbformat": 4,
 "nbformat_minor": 2,
 "metadata": {
  "language_info": {
   "name": "python",
   "codemirror_mode": {
    "name": "ipython",
    "version": 3
   },
   "version": "3.7.3-final"
  },
  "orig_nbformat": 2,
  "file_extension": ".py",
  "mimetype": "text/x-python",
  "name": "python",
  "npconvert_exporter": "python",
  "pygments_lexer": "ipython3",
  "version": 3,
  "kernelspec": {
   "name": "python3",
   "display_name": "Python 3"
  }
 },
 "cells": [
  {
   "cell_type": "code",
   "execution_count": 1,
   "metadata": {},
   "outputs": [],
   "source": [
    "import pandas as pd\n",
    "import numpy as np\n",
    "import tensorflow as tf\n",
    "from tensorflow_adopter import *\n",
    "from sequence_transfomer import *\n",
    "from time_series_transformer import Time_Series_Transformer"
   ]
  },
  {
   "cell_type": "code",
   "execution_count": 2,
   "metadata": {},
   "outputs": [],
   "source": [
    "df = pd.read_csv('../Data/Train/sales_train_validation.csv').sample(1)\n",
    "dimList = ['item_id', 'dept_id', 'cat_id', 'store_id', 'state_id']\n",
    "df = df.drop(dimList+['id'] ,axis =1)"
   ]
  },
  {
   "cell_type": "code",
   "execution_count": 3,
   "metadata": {},
   "outputs": [],
   "source": [
    "fe = Time_Series_Transformer(df,[],seqTransformerList = [])\n",
    "gen = fe.np_to_time_tensor_generator(30)"
   ]
  },
  {
   "cell_type": "code",
   "execution_count": 4,
   "metadata": {},
   "outputs": [],
   "source": [
    "tfg = TFRecord_Generator(\"../Data/Train/tfg2.tfRecord\")\n",
    "tfg.write_tfRecord(gen)"
   ]
  },
  {
   "cell_type": "code",
   "execution_count": 5,
   "metadata": {},
   "outputs": [],
   "source": [
    "dataset = tfg.make_tfDataset()"
   ]
  },
  {
   "cell_type": "code",
   "execution_count": 6,
   "metadata": {},
   "outputs": [
    {
     "output_type": "execute_result",
     "data": {
      "text/plain": "<MapDataset shapes: {time_series: (1883, 30, 1), label: (1883, 1)}, types: {time_series: tf.float32, label: tf.float32}>"
     },
     "metadata": {},
     "execution_count": 6
    }
   ],
   "source": [
    "dataset"
   ]
  },
  {
   "cell_type": "code",
   "execution_count": 7,
   "metadata": {},
   "outputs": [
    {
     "output_type": "execute_result",
     "data": {
      "text/plain": "[{'time_series': <tf.Tensor: id=39, shape=(1883, 30, 1), dtype=float32, numpy=\n  array([[[0.],\n          [0.],\n          [0.],\n          ...,\n          [0.],\n          [0.],\n          [0.]],\n  \n         [[0.],\n          [0.],\n          [0.],\n          ...,\n          [0.],\n          [0.],\n          [0.]],\n  \n         [[0.],\n          [0.],\n          [0.],\n          ...,\n          [0.],\n          [0.],\n          [0.]],\n  \n         ...,\n  \n         [[0.],\n          [0.],\n          [1.],\n          ...,\n          [1.],\n          [1.],\n          [0.]],\n  \n         [[0.],\n          [1.],\n          [1.],\n          ...,\n          [1.],\n          [0.],\n          [1.]],\n  \n         [[1.],\n          [1.],\n          [0.],\n          ...,\n          [0.],\n          [1.],\n          [1.]]], dtype=float32)>,\n  'label': <tf.Tensor: id=38, shape=(1883, 1), dtype=float32, numpy=\n  array([[0.],\n         [0.],\n         [0.],\n         ...,\n         [1.],\n         [1.],\n         [1.]], dtype=float32)>}]"
     },
     "metadata": {},
     "execution_count": 7
    }
   ],
   "source": [
    "list(dataset.take(1))"
   ]
  },
  {
   "cell_type": "code",
   "execution_count": null,
   "metadata": {},
   "outputs": [],
   "source": []
  }
 ]
}