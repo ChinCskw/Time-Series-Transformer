{
 "cells": [
  {
   "cell_type": "code",
   "execution_count": 2,
   "metadata": {},
   "outputs": [],
   "source": [
    "import pandas as pd\n",
    "import numpy as np\n",
    "import time_series_transform.base as base\n",
    "from time_series_transform.time_series_transformer import *"
   ]
  },
  {
   "cell_type": "code",
   "execution_count": 3,
   "metadata": {},
   "outputs": [],
   "source": [
    "df = pd.read_csv('./Data/Train/sales_train_validation.csv')\n",
    "df.index = df.id\n",
    "df = df.drop('id',axis=1)"
   ]
  },
  {
   "cell_type": "code",
   "execution_count": 4,
   "metadata": {},
   "outputs": [],
   "source": [
    "CATEGORICAL_DIM = [\n",
    "    'item_id','dept_id','cat_id','store_id','state_id'\n",
    "]\n",
    "WINDOW_SIZE = 20\n",
    "TEST_RANGE = WINDOW_SIZE + 20"
   ]
  },
  {
   "cell_type": "code",
   "execution_count": 5,
   "metadata": {},
   "outputs": [],
   "source": [
    "testDate = list(map(lambda x: 'd_'+str(x),list(range(1913-TEST_RANGE,1914))))\n",
    "trainDateDrop = list(map(lambda x: 'd_'+str(x),list(range(1,1600))))\n",
    "test = df[CATEGORICAL_DIM+testDate]\n",
    "train = df.drop(testDate+trainDateDrop,axis = 1)\n",
    "SEQ_TRANSFORMER = []"
   ]
  },
  {
   "cell_type": "code",
   "execution_count": 6,
   "metadata": {},
   "outputs": [],
   "source": [
    "T_SEQUENCE_SIZE = len(train.drop(CATEGORICAL_DIM,axis =1).columns)-WINDOW_SIZE +1"
   ]
  },
  {
   "cell_type": "code",
   "execution_count": 13,
   "metadata": {},
   "outputs": [],
   "source": [
    "ptt = Pandas_Time_Series_Dataset(train)\n",
    "for i in CATEGORICAL_DIM:\n",
    "    ptt.set_config(name = i,\n",
    "                   colNames = [i],\n",
    "                   tensorType = 'category',\n",
    "                   param = {\"windowSize\":0,\"batchSize\":T_SEQUENCE_SIZE,\"outType\":np.float32},\n",
    "                   sequence_stack = None,\n",
    "                   isResponseVar = False\n",
    "                  )"
   ]
  },
  {
   "cell_type": "code",
   "execution_count": 14,
   "metadata": {},
   "outputs": [],
   "source": [
    "gen = ptt.make_data_generator()"
   ]
  },
  {
   "cell_type": "code",
   "execution_count": 16,
   "metadata": {},
   "outputs": [],
   "source": [
    "pass"
   ]
  },
  {
   "cell_type": "code",
   "execution_count": 12,
   "metadata": {},
   "outputs": [
    {
     "data": {
      "text/plain": [
       "{'item_id': {'colNames': 'item_id',\n",
       "  'tensorType': 'category',\n",
       "  'param': {'windowSize': 0, 'batchSize': 254, 'outType': numpy.float32},\n",
       "  'sequence_stack': None,\n",
       "  'responseVariable': False},\n",
       " 'dept_id': {'colNames': 'dept_id',\n",
       "  'tensorType': 'category',\n",
       "  'param': {'windowSize': 0, 'batchSize': 254, 'outType': numpy.float32},\n",
       "  'sequence_stack': None,\n",
       "  'responseVariable': False},\n",
       " 'cat_id': {'colNames': 'cat_id',\n",
       "  'tensorType': 'category',\n",
       "  'param': {'windowSize': 0, 'batchSize': 254, 'outType': numpy.float32},\n",
       "  'sequence_stack': None,\n",
       "  'responseVariable': False},\n",
       " 'store_id': {'colNames': 'store_id',\n",
       "  'tensorType': 'category',\n",
       "  'param': {'windowSize': 0, 'batchSize': 254, 'outType': numpy.float32},\n",
       "  'sequence_stack': None,\n",
       "  'responseVariable': False},\n",
       " 'state_id': {'colNames': 'state_id',\n",
       "  'tensorType': 'category',\n",
       "  'param': {'windowSize': 0, 'batchSize': 254, 'outType': numpy.float32},\n",
       "  'sequence_stack': None,\n",
       "  'responseVariable': False}}"
      ]
     },
     "execution_count": 12,
     "metadata": {},
     "output_type": "execute_result"
    }
   ],
   "source": [
    "ptt.config"
   ]
  },
  {
   "cell_type": "code",
   "execution_count": null,
   "metadata": {},
   "outputs": [],
   "source": [
    "sells_input = tf.keras.layers.Input(shape=(WINDOW_SIZE,2),name = 'sells')\n",
    "# state_input = tf.keras.layers.Input(shape=1,name = 'state_id')\n",
    "# store_input = tf.keras.layers.Input(shape=1,name = 'store_id')\n",
    "# item_input =  tf.keras.layers.Input(shape=1,name = 'item_id')\n",
    "# cat_input = tf.keras.layers.Input(shape=1,name = 'cat_id')\n",
    "# dept_input = tf.keras.layers.Input(shape=1,name = 'dept_id')\n",
    "# price_input = tf.keras.layers.Input(shape=1,name = 'price')\n",
    "\n",
    "# weekDay_input = tf.keras.layers.Input(shape=(WINDOW_SIZE,1),name = 'weekDay')\n",
    "# month_input = tf.keras.layers.Input(shape=(WINDOW_SIZE,1),name= 'month')\n",
    "# snapca_input = tf.keras.layers.Input(shape=(WINDOW_SIZE,1),name = 'snapca')\n",
    "# snapwi_input = tf.keras.layers.Input(shape=(WINDOW_SIZE,1),name = 'snapwi')\n",
    "# snaptx_input = tf.keras.layers.Input(shape=(WINDOW_SIZE,1),name = 'snaptx')\n",
    "\n",
    "\n",
    "# state  = tf.keras.layers.Embedding(embeddingNum['state_id'],WINDOW_SIZE,name = 'state')(state_input)\n",
    "# store  = tf.keras.layers.Embedding(embeddingNum['store_id'],WINDOW_SIZE,name ='store')(store_input)\n",
    "# item  = tf.keras.layers.Embedding(embeddingNum['item_id'],WINDOW_SIZE,name = 'item')(item_input)\n",
    "# dept  = tf.keras.layers.Embedding(embeddingNum['dept_id'],WINDOW_SIZE, name = 'dept')(dept_input)\n",
    "# cat  = tf.keras.layers.Embedding(embeddingNum['cat_id'],WINDOW_SIZE,name = 'cat')(cat_input)\n",
    "\n",
    "# price = tf.keras.layers.Embedding(5,WINDOW_SIZE,name = 'price_emb')(price_input)\n",
    "\n",
    "# month = tf.keras.layers.Flatten()(month_input)\n",
    "# month = tf.keras.layers.Embedding(13,1,\n",
    "#                                   input_length= WINDOW_SIZE,\n",
    "#                                   name = 'month_emb')(month)\n",
    "\n",
    "# weekDay = tf.keras.layers.Flatten()(weekDay_input)\n",
    "# weekDay = tf.keras.layers.Embedding(8,8\n",
    "#                                     ,input_length= WINDOW_SIZE,\n",
    "#                                     name ='weekDay_emb')(weekDay)\n",
    "\n",
    "# snapca = tf.keras.layers.Flatten()(snapca_input)\n",
    "# snapca = tf.keras.layers.Embedding(2,2,\n",
    "#                                    input_length= WINDOW_SIZE,\n",
    "#                                    name = 'snapca_emb')(snapca)\n",
    "\n",
    "\n",
    "# snaptx = tf.keras.layers.Flatten()(snaptx_input)\n",
    "# snaptx = tf.keras.layers.Embedding(2,2,\n",
    "#                                    input_length= WINDOW_SIZE,\n",
    "#                                    name ='snaptx_emb')(snaptx)\n",
    "\n",
    "\n",
    "# snapwi = tf.keras.layers.Flatten()(snapwi_input)\n",
    "# snapwi = tf.keras.layers.Embedding(2,2,\n",
    "#                                    input_length= WINDOW_SIZE,\n",
    "#                                    name ='snapwi_emb')(snapwi)\n",
    "\n",
    "\n",
    "# price = tf.keras.layers.Reshape((WINDOW_SIZE,1))(price)\n",
    "# state  = tf.keras.layers.Reshape((WINDOW_SIZE,1))(state)\n",
    "# store  = tf.keras.layers.Reshape((WINDOW_SIZE,1))(store)\n",
    "# item  = tf.keras.layers.Reshape((WINDOW_SIZE,1))(item)\n",
    "# dept  = tf.keras.layers.Reshape((WINDOW_SIZE,1))(dept)\n",
    "# cat  = tf.keras.layers.Reshape((WINDOW_SIZE,1))(cat)\n",
    "\n",
    "\n",
    "\n",
    "\n",
    "# lstm = tf.keras.layers.Concatenate()([\n",
    "#     snapwi,\n",
    "#     snaptx,\n",
    "#     snapca,\n",
    "#     sells_input,\n",
    "#     month,\n",
    "#     weekDay,\n",
    "#     price,\n",
    "#     state,\n",
    "#     store,\n",
    "#     item,\n",
    "#     dept,\n",
    "#     cat\n",
    "# ])\n",
    "\n",
    "dense = tf.keras.layers.LSTM(1)(sells_input)\n",
    "\n",
    "# price = tf.keras.layers.Flatten()(price)\n",
    "# state  = tf.keras.layers.Flatten()(state)\n",
    "# store  = tf.keras.layers.Flatten()(store)\n",
    "# item  = tf.keras.layers.Flatten()(item)\n",
    "# dept  = tf.keras.layers.Flatten()(dept)\n",
    "# cat  = tf.keras.layers.Flatten()(cat)\n",
    "# loc = tf.keras.layers.Concatenate(name = 'location')([state,store])\n",
    "# product = tf.keras.layers.Concatenate(name = 'product')([item,dept,cat,price])\n",
    "# cate = tf.keras.layers.Concatenate()([product,loc,lstm])\n",
    "# cate = tf.keras.layers.Dense(10,'relu')(lstm)\n",
    "\n",
    "# dense  = tf.keras.layers.Dense(1)(lstm)\n",
    "\n",
    "\n",
    "lstm_embed = tf.keras.models.Model({\n",
    "    'sells':sells_input,\n",
    "#     'state_id':state_input,\n",
    "#     'store_id':store_input,\n",
    "#     'item_id':item_input,\n",
    "#     'dept_id':dept_input,\n",
    "#     'cat_id':cat_input,\n",
    "#     'weekDay':weekDay_input,\n",
    "#     'price':price_input,\n",
    "#     'snapca':snapca_input,\n",
    "#     'snapwi':snapwi_input,\n",
    "#     'snaptx':snaptx_input,\n",
    "#     'month':month_input\n",
    "},dense)\n",
    "\n",
    "\n",
    "rmsp = tf.keras.optimizers.RMSprop(lr = 0.2,\n",
    "                                   decay = 1e-5,\n",
    "                               )\n",
    "\n",
    "rmse = tf.keras.metrics.RootMeanSquaredError()\n",
    "lstm_embed.compile(optimizer=rmsp, \n",
    "                   loss='mse',\n",
    "                   metrics = ['mae','mse',rmse\n",
    "                             ]\n",
    "                  )"
   ]
  }
 ],
 "metadata": {
  "file_extension": ".py",
  "kernelspec": {
   "display_name": "Python 3",
   "language": "python",
   "name": "python3"
  },
  "language_info": {
   "codemirror_mode": {
    "name": "ipython",
    "version": 3
   },
   "file_extension": ".py",
   "mimetype": "text/x-python",
   "name": "python",
   "nbconvert_exporter": "python",
   "pygments_lexer": "ipython3",
   "version": "3.7.3"
  },
  "mimetype": "text/x-python",
  "name": "python",
  "npconvert_exporter": "python",
  "pygments_lexer": "ipython3",
  "toc": {
   "base_numbering": 1,
   "nav_menu": {},
   "number_sections": true,
   "sideBar": true,
   "skip_h1_title": false,
   "title_cell": "Table of Contents",
   "title_sidebar": "Contents",
   "toc_cell": false,
   "toc_position": {},
   "toc_section_display": true,
   "toc_window_display": false
  },
  "version": 3
 },
 "nbformat": 4,
 "nbformat_minor": 2
}
