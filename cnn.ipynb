{
 "cells": [
  {
   "cell_type": "code",
   "execution_count": 1,
   "metadata": {},
   "outputs": [],
   "source": [
    "import pandas as pd\n",
    "import numpy as np\n",
    "from time_series_transform.tensorflow_adopter import *\n",
    "import time_series_transform.base as base\n",
    "from time_series_transform.time_series_transformer import *\n",
    "from sklearn.preprocessing import StandardScaler\n",
    "from time_series_transform.tensorflow_adopter import *\n",
    "from time_series_transform.stock_transform.base import *\n",
    "from time_series_transform.util import *"
   ]
  },
  {
   "cell_type": "code",
   "execution_count": 2,
   "metadata": {},
   "outputs": [],
   "source": [
    "df = pd.read_csv('./Data/Stock/sp.csv')\n",
    "df2 = pd.read_csv('./Data/Stock/GOOGL.csv')\n",
    "stock1 = Stock('sp500',df)\n",
    "stock2 = Stock('googl',df2)\n",
    "port = Portfolio([stock1,stock2])"
   ]
  },
  {
   "cell_type": "code",
   "execution_count": 3,
   "metadata": {},
   "outputs": [],
   "source": [
    "port.make_technical_indicator('Close','fft10000',rfft_transform,threshold = 10000)\n",
    "port.make_technical_indicator('Close','fft100',rfft_transform,threshold = 1000)"
   ]
  },
  {
   "cell_type": "code",
   "execution_count": 4,
   "metadata": {},
   "outputs": [
    {
     "data": {
      "text/plain": [
       "{'sp500': <time_series_transform.stock_transform.base.Stock at 0x27ff00791d0>,\n",
       " 'googl': <time_series_transform.stock_transform.base.Stock at 0x27fe4ef2400>}"
      ]
     },
     "execution_count": 4,
     "metadata": {},
     "output_type": "execute_result"
    }
   ],
   "source": [
    "port.stockDict"
   ]
  },
  {
   "cell_type": "code",
   "execution_count": 6,
   "metadata": {},
   "outputs": [
    {
     "ename": "TypeError",
     "evalue": "list indices must be integers or slices, not str",
     "output_type": "error",
     "traceback": [
      "\u001b[1;31m---------------------------------------------------------------------------\u001b[0m",
      "\u001b[1;31mTypeError\u001b[0m                                 Traceback (most recent call last)",
      "\u001b[1;32m<ipython-input-6-4643a28a876c>\u001b[0m in \u001b[0;36m<module>\u001b[1;34m\u001b[0m\n\u001b[1;32m----> 1\u001b[1;33m \u001b[0mport\u001b[0m\u001b[1;33m.\u001b[0m\u001b[0mplot\u001b[0m\u001b[1;33m(\u001b[0m\u001b[1;33m[\u001b[0m\u001b[1;34m'sp500'\u001b[0m\u001b[1;33m]\u001b[0m\u001b[1;33m,\u001b[0m\u001b[1;33m[\u001b[0m\u001b[1;34m'Close'\u001b[0m\u001b[1;33m]\u001b[0m\u001b[1;33m,\u001b[0m\u001b[1;32mTrue\u001b[0m\u001b[1;33m)\u001b[0m\u001b[1;33m\u001b[0m\u001b[1;33m\u001b[0m\u001b[0m\n\u001b[0m",
      "\u001b[1;32m~\\Documents\\Kaggle\\M5\\time_series_transform\\stock_transform\\base.py\u001b[0m in \u001b[0;36mplot\u001b[1;34m(self, stockIndicators, keyCol, samePlot, *args, **kwargs)\u001b[0m\n\u001b[0;32m     85\u001b[0m                     \u001b[0mkeyArr\u001b[0m \u001b[1;33m=\u001b[0m \u001b[0mself\u001b[0m\u001b[1;33m.\u001b[0m\u001b[0mstockDict\u001b[0m\u001b[1;33m[\u001b[0m\u001b[0mi\u001b[0m\u001b[1;33m]\u001b[0m\u001b[1;33m.\u001b[0m\u001b[0mdf\u001b[0m\u001b[1;33m[\u001b[0m\u001b[0mkeyCol\u001b[0m\u001b[1;33m]\u001b[0m\u001b[1;33m\u001b[0m\u001b[1;33m\u001b[0m\u001b[0m\n\u001b[0;32m     86\u001b[0m \u001b[1;33m\u001b[0m\u001b[0m\n\u001b[1;32m---> 87\u001b[1;33m                 \u001b[0mtmp\u001b[0m \u001b[1;33m=\u001b[0m \u001b[0mself\u001b[0m\u001b[1;33m.\u001b[0m\u001b[0mstockDict\u001b[0m\u001b[1;33m[\u001b[0m\u001b[0mi\u001b[0m\u001b[1;33m]\u001b[0m\u001b[1;33m.\u001b[0m\u001b[0mdf\u001b[0m\u001b[1;33m[\u001b[0m\u001b[0mstockIndicators\u001b[0m\u001b[1;33m[\u001b[0m\u001b[0mi\u001b[0m\u001b[1;33m]\u001b[0m\u001b[1;33m]\u001b[0m\u001b[1;33m\u001b[0m\u001b[1;33m\u001b[0m\u001b[0m\n\u001b[0m\u001b[0;32m     88\u001b[0m                 \u001b[0mtmp\u001b[0m\u001b[1;33m.\u001b[0m\u001b[0minsert\u001b[0m\u001b[1;33m(\u001b[0m\u001b[1;36m0\u001b[0m\u001b[1;33m,\u001b[0m\u001b[0mkeyCol\u001b[0m\u001b[1;33m,\u001b[0m\u001b[0mkeyArr\u001b[0m\u001b[1;33m)\u001b[0m\u001b[1;33m\u001b[0m\u001b[1;33m\u001b[0m\u001b[0m\n\u001b[0;32m     89\u001b[0m                 \u001b[0mcolName\u001b[0m \u001b[1;33m=\u001b[0m \u001b[1;33m[\u001b[0m\u001b[0mkeyCol\u001b[0m\u001b[1;33m]\u001b[0m\u001b[1;33m\u001b[0m\u001b[1;33m\u001b[0m\u001b[0m\n",
      "\u001b[1;31mTypeError\u001b[0m: list indices must be integers or slices, not str"
     ]
    }
   ],
   "source": [
    "port.plot(['sp500'],['Close'],True)"
   ]
  },
  {
   "cell_type": "code",
   "execution_count": 7,
   "metadata": {},
   "outputs": [
    {
     "data": {
      "text/html": [
       "<div>\n",
       "<style scoped>\n",
       "    .dataframe tbody tr th:only-of-type {\n",
       "        vertical-align: middle;\n",
       "    }\n",
       "\n",
       "    .dataframe tbody tr th {\n",
       "        vertical-align: top;\n",
       "    }\n",
       "\n",
       "    .dataframe thead th {\n",
       "        text-align: right;\n",
       "    }\n",
       "</style>\n",
       "<table border=\"1\" class=\"dataframe\">\n",
       "  <thead>\n",
       "    <tr style=\"text-align: right;\">\n",
       "      <th></th>\n",
       "      <th>Date</th>\n",
       "      <th>Open</th>\n",
       "      <th>High</th>\n",
       "      <th>Low</th>\n",
       "      <th>Close</th>\n",
       "      <th>Adj Close</th>\n",
       "      <th>Volume</th>\n",
       "      <th>Close_fft10000</th>\n",
       "      <th>Close_fft100</th>\n",
       "      <th>symbol</th>\n",
       "    </tr>\n",
       "  </thead>\n",
       "  <tbody>\n",
       "    <tr>\n",
       "      <th>0</th>\n",
       "      <td>2015-07-09</td>\n",
       "      <td>548.650024</td>\n",
       "      <td>548.880005</td>\n",
       "      <td>544.619995</td>\n",
       "      <td>544.650024</td>\n",
       "      <td>544.650024</td>\n",
       "      <td>1488300</td>\n",
       "      <td>NaN</td>\n",
       "      <td>NaN</td>\n",
       "      <td>googl</td>\n",
       "    </tr>\n",
       "    <tr>\n",
       "      <th>1</th>\n",
       "      <td>2015-07-10</td>\n",
       "      <td>553.710022</td>\n",
       "      <td>559.289978</td>\n",
       "      <td>552.000000</td>\n",
       "      <td>556.109985</td>\n",
       "      <td>556.109985</td>\n",
       "      <td>2171800</td>\n",
       "      <td>878.212979</td>\n",
       "      <td>1017.228608</td>\n",
       "      <td>googl</td>\n",
       "    </tr>\n",
       "    <tr>\n",
       "      <th>2</th>\n",
       "      <td>2015-07-13</td>\n",
       "      <td>559.510010</td>\n",
       "      <td>572.849976</td>\n",
       "      <td>558.700012</td>\n",
       "      <td>571.729980</td>\n",
       "      <td>571.729980</td>\n",
       "      <td>2089600</td>\n",
       "      <td>620.778629</td>\n",
       "      <td>991.640138</td>\n",
       "      <td>googl</td>\n",
       "    </tr>\n",
       "    <tr>\n",
       "      <th>3</th>\n",
       "      <td>2015-07-14</td>\n",
       "      <td>574.500000</td>\n",
       "      <td>589.710022</td>\n",
       "      <td>574.169983</td>\n",
       "      <td>584.179993</td>\n",
       "      <td>584.179993</td>\n",
       "      <td>3741600</td>\n",
       "      <td>488.304048</td>\n",
       "      <td>966.398761</td>\n",
       "      <td>googl</td>\n",
       "    </tr>\n",
       "    <tr>\n",
       "      <th>4</th>\n",
       "      <td>2015-07-15</td>\n",
       "      <td>583.739990</td>\n",
       "      <td>588.690002</td>\n",
       "      <td>580.210022</td>\n",
       "      <td>583.960022</td>\n",
       "      <td>583.960022</td>\n",
       "      <td>2073300</td>\n",
       "      <td>490.981304</td>\n",
       "      <td>941.589957</td>\n",
       "      <td>googl</td>\n",
       "    </tr>\n",
       "    <tr>\n",
       "      <th>...</th>\n",
       "      <td>...</td>\n",
       "      <td>...</td>\n",
       "      <td>...</td>\n",
       "      <td>...</td>\n",
       "      <td>...</td>\n",
       "      <td>...</td>\n",
       "      <td>...</td>\n",
       "      <td>...</td>\n",
       "      <td>...</td>\n",
       "      <td>...</td>\n",
       "    </tr>\n",
       "    <tr>\n",
       "      <th>1254</th>\n",
       "      <td>2020-07-01</td>\n",
       "      <td>1419.170044</td>\n",
       "      <td>1448.479980</td>\n",
       "      <td>1414.180054</td>\n",
       "      <td>1442.000000</td>\n",
       "      <td>1442.000000</td>\n",
       "      <td>2109100</td>\n",
       "      <td>1462.921312</td>\n",
       "      <td>1147.161783</td>\n",
       "      <td>googl</td>\n",
       "    </tr>\n",
       "    <tr>\n",
       "      <th>1255</th>\n",
       "      <td>2020-07-02</td>\n",
       "      <td>1451.839966</td>\n",
       "      <td>1488.520020</td>\n",
       "      <td>1451.069946</td>\n",
       "      <td>1469.930054</td>\n",
       "      <td>1469.930054</td>\n",
       "      <td>2860900</td>\n",
       "      <td>1548.587123</td>\n",
       "      <td>1121.228362</td>\n",
       "      <td>googl</td>\n",
       "    </tr>\n",
       "    <tr>\n",
       "      <th>1256</th>\n",
       "      <td>2020-07-06</td>\n",
       "      <td>1488.150024</td>\n",
       "      <td>1510.000000</td>\n",
       "      <td>1476.979980</td>\n",
       "      <td>1499.650024</td>\n",
       "      <td>1499.650024</td>\n",
       "      <td>2235600</td>\n",
       "      <td>1558.823839</td>\n",
       "      <td>1095.170789</td>\n",
       "      <td>googl</td>\n",
       "    </tr>\n",
       "    <tr>\n",
       "      <th>1257</th>\n",
       "      <td>2020-07-07</td>\n",
       "      <td>1496.130005</td>\n",
       "      <td>1521.319946</td>\n",
       "      <td>1489.699951</td>\n",
       "      <td>1489.920044</td>\n",
       "      <td>1489.920044</td>\n",
       "      <td>2118200</td>\n",
       "      <td>1435.656190</td>\n",
       "      <td>1069.087418</td>\n",
       "      <td>googl</td>\n",
       "    </tr>\n",
       "    <tr>\n",
       "      <th>1258</th>\n",
       "      <td>2020-07-08</td>\n",
       "      <td>1500.800049</td>\n",
       "      <td>1511.170044</td>\n",
       "      <td>1492.300049</td>\n",
       "      <td>1503.599976</td>\n",
       "      <td>1503.599976</td>\n",
       "      <td>1587500</td>\n",
       "      <td>1184.318019</td>\n",
       "      <td>1043.075096</td>\n",
       "      <td>googl</td>\n",
       "    </tr>\n",
       "  </tbody>\n",
       "</table>\n",
       "<p>1259 rows × 10 columns</p>\n",
       "</div>"
      ],
      "text/plain": [
       "            Date         Open         High          Low        Close  \\\n",
       "0     2015-07-09   548.650024   548.880005   544.619995   544.650024   \n",
       "1     2015-07-10   553.710022   559.289978   552.000000   556.109985   \n",
       "2     2015-07-13   559.510010   572.849976   558.700012   571.729980   \n",
       "3     2015-07-14   574.500000   589.710022   574.169983   584.179993   \n",
       "4     2015-07-15   583.739990   588.690002   580.210022   583.960022   \n",
       "...          ...          ...          ...          ...          ...   \n",
       "1254  2020-07-01  1419.170044  1448.479980  1414.180054  1442.000000   \n",
       "1255  2020-07-02  1451.839966  1488.520020  1451.069946  1469.930054   \n",
       "1256  2020-07-06  1488.150024  1510.000000  1476.979980  1499.650024   \n",
       "1257  2020-07-07  1496.130005  1521.319946  1489.699951  1489.920044   \n",
       "1258  2020-07-08  1500.800049  1511.170044  1492.300049  1503.599976   \n",
       "\n",
       "        Adj Close   Volume  Close_fft10000  Close_fft100 symbol  \n",
       "0      544.650024  1488300             NaN           NaN  googl  \n",
       "1      556.109985  2171800      878.212979   1017.228608  googl  \n",
       "2      571.729980  2089600      620.778629    991.640138  googl  \n",
       "3      584.179993  3741600      488.304048    966.398761  googl  \n",
       "4      583.960022  2073300      490.981304    941.589957  googl  \n",
       "...           ...      ...             ...           ...    ...  \n",
       "1254  1442.000000  2109100     1462.921312   1147.161783  googl  \n",
       "1255  1469.930054  2860900     1548.587123   1121.228362  googl  \n",
       "1256  1499.650024  2235600     1558.823839   1095.170789  googl  \n",
       "1257  1489.920044  2118200     1435.656190   1069.087418  googl  \n",
       "1258  1503.599976  1587500     1184.318019   1043.075096  googl  \n",
       "\n",
       "[1259 rows x 10 columns]"
      ]
     },
     "execution_count": 7,
     "metadata": {},
     "output_type": "execute_result"
    }
   ],
   "source": [
    "df = port.get_portfolio_dataFrame()\n",
    "df[df.symbol == 'googl']"
   ]
  },
  {
   "cell_type": "code",
   "execution_count": 5,
   "metadata": {},
   "outputs": [],
   "source": [
    "trainDate = list(range(4000,4800))\n",
    "valDate = list(range(4800,4900))\n",
    "testDate = list(range(4900,5000))\n",
    "labels = [\n",
    "    'sp500_Close_fft10000',\n",
    "    'sp500_Close_fft100',\n",
    "    'googl_Close_fft10000',\n",
    "    'googl_Close_fft100',\n",
    "    'googl_Close',\n",
    "    'sp500_Close'\n",
    "         ]\n",
    "WINDOW_SIZE = 20"
   ]
  },
  {
   "cell_type": "code",
   "execution_count": 6,
   "metadata": {
    "scrolled": true
   },
   "outputs": [],
   "source": [
    "resDf = port.get_portfolio_dataFrame()\n",
    "psd = Pandas_Time_Series_Tensor_Dataset(resDf)\n",
    "timeSeriesDic = psd.expand_dataFrame_by_date('symbol','Date',True,False,True)\n",
    "for i,v in enumerate(labels):\n",
    "    if i == 0:\n",
    "        psd.set_config(\n",
    "            name = f'sequence',\n",
    "            colNames = list(map(lambda x: f'{v}_{str(x)}',trainDate)),\n",
    "            tensorType = 'sequence',\n",
    "            sequence_stack = None,\n",
    "            isResponseVar = False,\n",
    "            windowSize = WINDOW_SIZE,\n",
    "            seqSize = 1837,\n",
    "            outType = np.float32\n",
    "        )\n",
    "    else:\n",
    "        psd.set_config(\n",
    "            name = f'{v}_sequence',\n",
    "            colNames = list(map(lambda x: f'{v}_{str(x)}',trainDate)),\n",
    "            tensorType = 'sequence',\n",
    "            sequence_stack = \"sequence\",\n",
    "            isResponseVar = False,\n",
    "            windowSize = WINDOW_SIZE,\n",
    "            seqSize = 1837,\n",
    "            outType = np.float32\n",
    "        )\n",
    "        \n",
    "psd.set_config(\n",
    "    name = 'label',\n",
    "    colNames = list(map(lambda x: f'sp500_Close_{str(x)}',trainDate)),\n",
    "    tensorType = 'label',\n",
    "    sequence_stack = None,\n",
    "    isResponseVar = True,\n",
    "    windowSize = WINDOW_SIZE,\n",
    "    seqSize = 1837,\n",
    "    outType = np.float32\n",
    ")"
   ]
  },
  {
   "cell_type": "code",
   "execution_count": 7,
   "metadata": {},
   "outputs": [],
   "source": [
    "gen = psd.make_data_generator()\n",
    "tfg = TFRecord_Writer('abc.tfRecord')\n",
    "tfg.write_tfRecord(gen)\n",
    "dtypeRecord_train = tfg.get_tfRecord_dtype()"
   ]
  },
  {
   "cell_type": "code",
   "execution_count": 8,
   "metadata": {
    "scrolled": true
   },
   "outputs": [],
   "source": [
    "psd = Pandas_Time_Series_Tensor_Dataset(resDf)\n",
    "timeSeriesDic = psd.expand_dataFrame_by_date('symbol','Date',True,False,True)\n",
    "for i,v in enumerate(labels):\n",
    "    if i == 0:\n",
    "        psd.set_config(\n",
    "            name = f'sequence',\n",
    "            colNames = list(map(lambda x: f'{v}_{str(x)}',valDate)),\n",
    "            tensorType = 'sequence',\n",
    "            sequence_stack = None,\n",
    "            isResponseVar = False,\n",
    "            windowSize = WINDOW_SIZE,\n",
    "            seqSize = 1837,\n",
    "            outType = np.float32\n",
    "        )\n",
    "    else:\n",
    "        psd.set_config(\n",
    "            name = f'{v}_sequence',\n",
    "            colNames = list(map(lambda x: f'{v}_{str(x)}',valDate)),\n",
    "            tensorType = 'sequence',\n",
    "            sequence_stack = \"sequence\",\n",
    "            isResponseVar = False,\n",
    "            windowSize = WINDOW_SIZE,\n",
    "            seqSize = 1837,\n",
    "            outType = np.float32\n",
    "        )\n",
    "\n",
    "psd.set_config(\n",
    "    name = 'label',\n",
    "    colNames = list(map(lambda x: f'sp500_Close_{str(x)}',valDate)),\n",
    "    tensorType = 'label',\n",
    "    sequence_stack = None,\n",
    "    isResponseVar = True,\n",
    "    windowSize = WINDOW_SIZE,\n",
    "    seqSize = 1837,\n",
    "    outType = np.float32\n",
    ")"
   ]
  },
  {
   "cell_type": "code",
   "execution_count": 9,
   "metadata": {
    "scrolled": true
   },
   "outputs": [],
   "source": [
    "gen = psd.make_data_generator()\n",
    "tfg = TFRecord_Writer('abc_val.tfRecord')\n",
    "tfg.write_tfRecord(gen)\n",
    "dtypeRecord_val = tfg.get_tfRecord_dtype()"
   ]
  },
  {
   "cell_type": "code",
   "execution_count": 10,
   "metadata": {},
   "outputs": [],
   "source": [
    "tfr_train = TFRecord_Reader('abc.tfRecord',dtypeRecord_train)\n",
    "tfr_val = TFRecord_Reader('abc_val.tfRecord',dtypeRecord_val)"
   ]
  },
  {
   "cell_type": "code",
   "execution_count": 11,
   "metadata": {},
   "outputs": [],
   "source": [
    "def data_transform(X):\n",
    "    # we only use the current week day and current price as feature\n",
    "    # ignore the rest of data within the window since the change is very limited.\n",
    "    X['current'] = X['sequence'][:,:-28,:]\n",
    "    X['past'] = X['sequence'][:,-28:,:]\n",
    "    Y = X['label']\n",
    "    return (X,Y)"
   ]
  },
  {
   "cell_type": "code",
   "execution_count": 12,
   "metadata": {},
   "outputs": [],
   "source": [
    "EVALUATION_INTERVAL = 250\n",
    "Validation_STEP =  250\n",
    "EPOCHS = 100\n",
    "\n",
    "\n",
    "train_dataset = tfr_train.make_tfDataset()\n",
    "val_dataset = tfr_val.make_tfDataset()\n",
    "batchsize = 1000\n",
    "\n",
    "train_dataset = train_dataset.shuffle(1000).unbatch().batch(2000).map(data_transform).\\\n",
    "prefetch(tf.data.experimental.AUTOTUNE).repeat()\n",
    "val_dataset = val_dataset.shuffle(1000).unbatch().batch(2000).map(data_transform).\\\n",
    "prefetch(tf.data.experimental.AUTOTUNE).repeat()"
   ]
  },
  {
   "cell_type": "code",
   "execution_count": 28,
   "metadata": {},
   "outputs": [],
   "source": [
    "def create_attention_model():\n",
    "    seq_input = tf.keras.layers.Input(shape=(WINDOW_SIZE,len(labels)),name = 'sequence')\n",
    "    \n",
    "    # lstm\n",
    "#     seq = tf.keras.layers.LayerNormalization()(seq_input)\n",
    "#     seq = tf.keras.layers.LSTM(5)(seq)\n",
    "    \n",
    "    #2d cnn\n",
    "#     seq = tf.keras.layers.Reshape((20,20,len(labels)))(seq_input)\n",
    "#     seq = tf.keras.layers.BatchNormalization()(seq)\n",
    "#     seq = tf.keras.layers.Conv2D(5,(11,11),activation = 'relu')(seq)\n",
    "#     seq = tf.keras.layers.MaxPooling2D((2,2))(seq)\n",
    "#     seq = tf.keras.layers.BatchNormalization()(seq)\n",
    "#     seq = tf.keras.layers.Conv2D(5,(2,2),activation = 'relu')(seq)\n",
    "#     seq = tf.keras.layers.MaxPooling2D((2,2))(seq)\n",
    "    \n",
    "    #1d cnn\n",
    "    seq = tf.keras.layers.BatchNormalization()(seq_input)\n",
    "    seq = tf.keras.layers.Conv1D(30,3,activation = 'relu')(seq)\n",
    "    seq = tf.keras.layers.MaxPooling1D(2)(seq)    \n",
    "\n",
    "    seq = tf.keras.layers.Flatten()(seq)\n",
    "    seq = tf.keras.layers.Dense(10,'elu')(seq)\n",
    "    seq = tf.keras.layers.Dropout(0.2)(seq)\n",
    "    seq = tf.keras.layers.Dense(5,'elu')(seq)\n",
    "    seq = tf.keras.layers.Dense(1)(seq)\n",
    "    \n",
    "\n",
    "    \n",
    "    lstm_embed = tf.keras.models.Model({\n",
    "        \"sequence\":seq_input\n",
    "                                       },\n",
    "                                       seq)\n",
    "\n",
    "    rmse = tf.keras.metrics.RootMeanSquaredError()\n",
    "    msle = tf.keras.losses.MeanSquaredLogarithmicError()\n",
    "    huber = tf.keras.losses.Huber()\n",
    "    adam = tf.keras.optimizers.Adam(lr = 0.1,\n",
    "                                    decay = 0.01,\n",
    "                                    amsgrad = True\n",
    "                                   )\n",
    "    rmsp = tf.keras.optimizers.RMSprop(learning_rate=0.05, \n",
    "                                       rho=0.9)\n",
    "\n",
    "\n",
    "    lstm_embed.compile(optimizer=adam, \n",
    "                       loss='mse',\n",
    "                       metrics = ['mae','mse',rmse\n",
    "                                 ]\n",
    "                      )\n",
    "    return lstm_embed"
   ]
  },
  {
   "cell_type": "code",
   "execution_count": 29,
   "metadata": {
    "scrolled": true
   },
   "outputs": [
    {
     "data": {
      "image/png": "[encoded data removed]",
      "text/plain": [
       "<IPython.core.display.Image object>"
      ]
     },
     "execution_count": 29,
     "metadata": {},
     "output_type": "execute_result"
    }
   ],
   "source": [
    "model = create_attention_model()\n",
    "tf.keras.utils.plot_model(\n",
    "    model, show_shapes=True, show_layer_names=True,\n",
    "    rankdir='TB', expand_nested=False, dpi=96\n",
    ")"
   ]
  },
  {
   "cell_type": "code",
   "execution_count": 30,
   "metadata": {
    "scrolled": true
   },
   "outputs": [
    {
     "name": "stdout",
     "output_type": "stream",
     "text": [
      "Train for 10 steps, validate for 1 steps\n",
      "Epoch 1/500\n",
      "10/10 - 1s - loss: 3492878.6250 - mae: 1676.1483 - mse: 3492878.5000 - root_mean_squared_error: 1868.9244 - val_loss: 2337356544.0000 - val_mae: 48342.9141 - val_mse: 2337356544.0000 - val_root_mean_squared_error: 48346.2148\n",
      "Epoch 2/500\n",
      "10/10 - 0s - loss: 993836.0437 - mae: 831.2608 - mse: 993836.0625 - root_mean_squared_error: 996.9133 - val_loss: 1977437824.0000 - val_mae: 44467.0117 - val_mse: 1977437824.0000 - val_root_mean_squared_error: 44468.3906\n",
      "Epoch 3/500\n",
      "10/10 - 0s - loss: 465005.3406 - mae: 548.0489 - mse: 465005.3438 - root_mean_squared_error: 681.9130 - val_loss: 1303217536.0000 - val_mae: 36098.3594 - val_mse: 1303217536.0000 - val_root_mean_squared_error: 36100.1055\n",
      "Epoch 4/500\n",
      "10/10 - 0s - loss: 339463.8125 - mae: 463.8607 - mse: 339463.7812 - root_mean_squared_error: 582.6352 - val_loss: 644467968.0000 - val_mae: 25385.6816 - val_mse: 644467968.0000 - val_root_mean_squared_error: 25386.3730\n",
      "Epoch 5/500\n",
      "10/10 - 0s - loss: 294420.4375 - mae: 430.4904 - mse: 294420.4375 - root_mean_squared_error: 542.6052 - val_loss: 356992320.0000 - val_mae: 18893.7188 - val_mse: 356992320.0000 - val_root_mean_squared_error: 18894.2402\n",
      "Epoch 6/500\n",
      "10/10 - 0s - loss: 263670.5203 - mae: 401.6790 - mse: 263670.5000 - root_mean_squared_error: 513.4886 - val_loss: 219806768.0000 - val_mae: 14825.4688 - val_mse: 219806768.0000 - val_root_mean_squared_error: 14825.8818\n",
      "Epoch 7/500\n",
      "10/10 - 0s - loss: 256281.3109 - mae: 395.0285 - mse: 256281.3281 - root_mean_squared_error: 506.2424 - val_loss: 134953280.0000 - val_mae: 11616.5801 - val_mse: 134953280.0000 - val_root_mean_squared_error: 11616.9395\n",
      "Epoch 8/500\n",
      "10/10 - 0s - loss: 253092.9203 - mae: 388.9829 - mse: 253092.9219 - root_mean_squared_error: 503.0834 - val_loss: 85566560.0000 - val_mae: 9249.8379 - val_mse: 85566560.0000 - val_root_mean_squared_error: 9250.2197\n",
      "Epoch 9/500\n",
      "10/10 - 0s - loss: 259056.9953 - mae: 395.3158 - mse: 259056.9688 - root_mean_squared_error: 508.9764 - val_loss: 57388328.0000 - val_mae: 7575.0596 - val_mse: 57388328.0000 - val_root_mean_squared_error: 7575.5083\n",
      "Epoch 10/500\n",
      "10/10 - 0s - loss: 253092.4531 - mae: 387.3220 - mse: 253092.4531 - root_mean_squared_error: 503.0829 - val_loss: 41479400.0000 - val_mae: 6439.9219 - val_mse: 41479400.0000 - val_root_mean_squared_error: 6440.4502\n",
      "Epoch 11/500\n",
      "10/10 - 0s - loss: 245399.6844 - mae: 379.1761 - mse: 245399.6562 - root_mean_squared_error: 495.3783 - val_loss: 29222896.0000 - val_mae: 5405.1943 - val_mse: 29222896.0000 - val_root_mean_squared_error: 5405.8208\n",
      "Epoch 12/500\n",
      "10/10 - 0s - loss: 245104.0703 - mae: 380.3456 - mse: 245104.0938 - root_mean_squared_error: 495.0799 - val_loss: 22300426.0000 - val_mae: 4721.5820 - val_mse: 22300426.0000 - val_root_mean_squared_error: 4722.3325\n",
      "Epoch 13/500\n",
      "10/10 - 0s - loss: 245109.0344 - mae: 379.4228 - mse: 245109.0312 - root_mean_squared_error: 495.0849 - val_loss: 15624346.0000 - val_mae: 3951.8425 - val_mse: 15624346.0000 - val_root_mean_squared_error: 3952.7644\n",
      "Epoch 14/500\n",
      "10/10 - 0s - loss: 234856.6609 - mae: 370.9103 - mse: 234856.6875 - root_mean_squared_error: 484.6201 - val_loss: 11316586.0000 - val_mae: 3362.9233 - val_mse: 11316586.0000 - val_root_mean_squared_error: 3364.0134\n",
      "Epoch 15/500\n",
      "10/10 - 0s - loss: 241651.0594 - mae: 371.9012 - mse: 241651.0469 - root_mean_squared_error: 491.5801 - val_loss: 8112419.0000 - val_mae: 2846.8826 - val_mse: 8112419.0000 - val_root_mean_squared_error: 2848.2310\n",
      "Epoch 16/500\n",
      "10/10 - 0s - loss: 243715.7469 - mae: 377.7022 - mse: 243715.7656 - root_mean_squared_error: 493.6758 - val_loss: 5764839.0000 - val_mae: 2399.4116 - val_mse: 5764839.0000 - val_root_mean_squared_error: 2401.0078\n",
      "Epoch 17/500\n",
      "10/10 - 0s - loss: 243092.2703 - mae: 376.8212 - mse: 243092.2500 - root_mean_squared_error: 493.0439 - val_loss: 4382955.0000 - val_mae: 2091.7358 - val_mse: 4382955.0000 - val_root_mean_squared_error: 2093.5508\n",
      "Epoch 18/500\n",
      "10/10 - 0s - loss: 243056.3375 - mae: 373.8040 - mse: 243056.3281 - root_mean_squared_error: 493.0074 - val_loss: 2878845.5000 - val_mae: 1694.6726 - val_mse: 2878845.5000 - val_root_mean_squared_error: 1696.7161\n",
      "Epoch 19/500\n",
      "10/10 - 0s - loss: 230830.5797 - mae: 363.4186 - mse: 230830.5781 - root_mean_squared_error: 480.4483 - val_loss: 2445294.5000 - val_mae: 1561.6097 - val_mse: 2445294.5000 - val_root_mean_squared_error: 1563.7438\n",
      "Epoch 20/500\n",
      "10/10 - 0s - loss: 245466.0156 - mae: 375.0557 - mse: 245466.0469 - root_mean_squared_error: 495.4453 - val_loss: 2072349.6250 - val_mae: 1437.0969 - val_mse: 2072349.6250 - val_root_mean_squared_error: 1439.5658\n",
      "Epoch 21/500\n",
      "10/10 - 0s - loss: 238690.0984 - mae: 369.9832 - mse: 238690.0938 - root_mean_squared_error: 488.5592 - val_loss: 1631017.8750 - val_mae: 1274.2627 - val_mse: 1631017.8750 - val_root_mean_squared_error: 1277.1132\n",
      "Epoch 22/500\n",
      "10/10 - 0s - loss: 233284.7016 - mae: 359.8241 - mse: 233284.6875 - root_mean_squared_error: 482.9955 - val_loss: 1399364.3750 - val_mae: 1179.9115 - val_mse: 1399364.3750 - val_root_mean_squared_error: 1182.9473\n",
      "Epoch 23/500\n",
      "10/10 - 0s - loss: 239768.4438 - mae: 367.7059 - mse: 239768.4531 - root_mean_squared_error: 489.6616 - val_loss: 1064855.6250 - val_mae: 1028.5771 - val_mse: 1064855.6250 - val_root_mean_squared_error: 1031.9185\n",
      "Epoch 24/500\n",
      "10/10 - 0s - loss: 242495.4438 - mae: 371.0882 - mse: 242495.4375 - root_mean_squared_error: 492.4383 - val_loss: 837010.5000 - val_mae: 911.2133 - val_mse: 837010.5000 - val_root_mean_squared_error: 914.8828\n",
      "Epoch 25/500\n",
      "10/10 - 0s - loss: 237391.2125 - mae: 368.2585 - mse: 237391.2188 - root_mean_squared_error: 487.2281 - val_loss: 694069.5000 - val_mae: 829.2936 - val_mse: 694069.5000 - val_root_mean_squared_error: 833.1083\n",
      "Epoch 26/500\n",
      "10/10 - 0s - loss: 233281.9328 - mae: 366.4758 - mse: 233281.9375 - root_mean_squared_error: 482.9927 - val_loss: 586818.2500 - val_mae: 761.8135 - val_mse: 586818.2500 - val_root_mean_squared_error: 766.0406\n",
      "Epoch 27/500\n",
      "10/10 - 0s - loss: 229260.5750 - mae: 358.3344 - mse: 229260.5625 - root_mean_squared_error: 478.8116 - val_loss: 423148.9375 - val_mae: 645.5090 - val_mse: 423148.9375 - val_root_mean_squared_error: 650.4990\n",
      "Epoch 28/500\n",
      "10/10 - 0s - loss: 242273.6641 - mae: 368.6707 - mse: 242273.6719 - root_mean_squared_error: 492.2130 - val_loss: 367219.1250 - val_mae: 600.7419 - val_mse: 367219.1250 - val_root_mean_squared_error: 605.9861\n",
      "Epoch 29/500\n",
      "10/10 - 0s - loss: 237793.4172 - mae: 364.9611 - mse: 237793.4219 - root_mean_squared_error: 487.6407 - val_loss: 248893.5469 - val_mae: 492.7895 - val_mse: 248893.5469 - val_root_mean_squared_error: 498.8923\n",
      "Epoch 30/500\n",
      "10/10 - 0s - loss: 239421.5672 - mae: 367.9685 - mse: 239421.5781 - root_mean_squared_error: 489.3073 - val_loss: 214719.0469 - val_mae: 456.6521 - val_mse: 214719.0469 - val_root_mean_squared_error: 463.3779\n",
      "Epoch 31/500\n",
      "10/10 - 0s - loss: 240058.5797 - mae: 369.2792 - mse: 240058.5625 - root_mean_squared_error: 489.9577 - val_loss: 177728.4844 - val_mae: 414.1675 - val_mse: 177728.4844 - val_root_mean_squared_error: 421.5786\n",
      "Epoch 32/500\n",
      "10/10 - 0s - loss: 228268.3813 - mae: 362.6743 - mse: 228268.3906 - root_mean_squared_error: 477.7744 - val_loss: 147658.6250 - val_mae: 376.1235 - val_mse: 147658.6250 - val_root_mean_squared_error: 384.2637\n",
      "Epoch 33/500\n",
      "10/10 - 0s - loss: 230562.3328 - mae: 359.5132 - mse: 230562.3281 - root_mean_squared_error: 480.1691 - val_loss: 156556.0312 - val_mae: 387.7270 - val_mse: 156556.0312 - val_root_mean_squared_error: 395.6716\n",
      "Epoch 34/500\n",
      "10/10 - 0s - loss: 242102.9984 - mae: 369.6709 - mse: 242103.0312 - root_mean_squared_error: 492.0397 - val_loss: 151548.9531 - val_mae: 381.1647 - val_mse: 151548.9531 - val_root_mean_squared_error: 389.2929\n",
      "Epoch 35/500\n",
      "10/10 - 0s - loss: 245000.9047 - mae: 370.8122 - mse: 245000.9062 - root_mean_squared_error: 494.9757 - val_loss: 121430.6641 - val_mae: 339.2144 - val_mse: 121430.6641 - val_root_mean_squared_error: 348.4690\n",
      "Epoch 36/500\n",
      "10/10 - 0s - loss: 241056.7234 - mae: 369.4035 - mse: 241056.7188 - root_mean_squared_error: 490.9753 - val_loss: 95934.5312 - val_mae: 299.4093 - val_mse: 95934.5312 - val_root_mean_squared_error: 309.7330\n",
      "Epoch 37/500\n"
     ]
    },
    {
     "name": "stdout",
     "output_type": "stream",
     "text": [
      "10/10 - 0s - loss: 228612.8500 - mae: 360.6097 - mse: 228612.8438 - root_mean_squared_error: 478.1348 - val_loss: 64429.0508 - val_mae: 241.7273 - val_mse: 64429.0508 - val_root_mean_squared_error: 253.8288\n",
      "Epoch 38/500\n",
      "10/10 - 0s - loss: 229787.9094 - mae: 361.9309 - mse: 229787.9062 - root_mean_squared_error: 479.3620 - val_loss: 47189.4766 - val_mae: 203.0064 - val_mse: 47189.4766 - val_root_mean_squared_error: 217.2314\n",
      "Epoch 39/500\n",
      "10/10 - 0s - loss: 243873.2672 - mae: 373.8427 - mse: 243873.2656 - root_mean_squared_error: 493.8353 - val_loss: 62761.7500 - val_mae: 237.7784 - val_mse: 62761.7500 - val_root_mean_squared_error: 250.5229\n",
      "Epoch 40/500\n",
      "10/10 - 0s - loss: 236957.2344 - mae: 366.3292 - mse: 236957.2344 - root_mean_squared_error: 486.7825 - val_loss: 39788.7422 - val_mae: 183.3413 - val_mse: 39788.7422 - val_root_mean_squared_error: 199.4712\n",
      "Epoch 41/500\n",
      "10/10 - 0s - loss: 238645.1437 - mae: 368.5636 - mse: 238645.1562 - root_mean_squared_error: 488.5132 - val_loss: 36978.4102 - val_mae: 176.1525 - val_mse: 36978.4102 - val_root_mean_squared_error: 192.2977\n",
      "Epoch 42/500\n",
      "10/10 - 0s - loss: 233242.6000 - mae: 362.4670 - mse: 233242.5781 - root_mean_squared_error: 482.9519 - val_loss: 25816.1875 - val_mae: 141.1225 - val_mse: 25816.1875 - val_root_mean_squared_error: 160.6742\n",
      "Epoch 43/500\n",
      "10/10 - 0s - loss: 233247.7062 - mae: 363.0854 - mse: 233247.6875 - root_mean_squared_error: 482.9572 - val_loss: 43268.3555 - val_mae: 192.8251 - val_mse: 43268.3555 - val_root_mean_squared_error: 208.0105\n",
      "Epoch 44/500\n",
      "10/10 - 0s - loss: 229509.1594 - mae: 358.2278 - mse: 229509.1562 - root_mean_squared_error: 479.0711 - val_loss: 34045.7891 - val_mae: 166.8094 - val_mse: 34045.7891 - val_root_mean_squared_error: 184.5150\n",
      "Epoch 45/500\n",
      "10/10 - 0s - loss: 227605.3406 - mae: 358.5069 - mse: 227605.3281 - root_mean_squared_error: 477.0800 - val_loss: 53888.1484 - val_mae: 218.1083 - val_mse: 53888.1484 - val_root_mean_squared_error: 232.1382\n",
      "Epoch 46/500\n",
      "10/10 - 0s - loss: 232518.6562 - mae: 363.4833 - mse: 232518.6562 - root_mean_squared_error: 482.2019 - val_loss: 21937.0586 - val_mae: 126.3228 - val_mse: 21937.0586 - val_root_mean_squared_error: 148.1116\n",
      "Epoch 47/500\n",
      "10/10 - 0s - loss: 235030.4672 - mae: 359.3206 - mse: 235030.4531 - root_mean_squared_error: 484.7994 - val_loss: 25055.4375 - val_mae: 137.4888 - val_mse: 25055.4375 - val_root_mean_squared_error: 158.2891\n",
      "Epoch 48/500\n",
      "10/10 - 0s - loss: 231343.9922 - mae: 362.5339 - mse: 231344.0000 - root_mean_squared_error: 480.9823 - val_loss: 20309.2285 - val_mae: 119.7321 - val_mse: 20309.2285 - val_root_mean_squared_error: 142.5105\n",
      "Epoch 49/500\n",
      "10/10 - 0s - loss: 235025.5094 - mae: 363.7246 - mse: 235025.5156 - root_mean_squared_error: 484.7943 - val_loss: 22243.8027 - val_mae: 127.0348 - val_mse: 22243.8027 - val_root_mean_squared_error: 149.1436\n",
      "Epoch 50/500\n",
      "10/10 - 0s - loss: 223048.0438 - mae: 353.5751 - mse: 223048.0469 - root_mean_squared_error: 472.2796 - val_loss: 14652.6934 - val_mae: 95.6647 - val_mse: 14652.6934 - val_root_mean_squared_error: 121.0483\n",
      "Epoch 51/500\n",
      "10/10 - 0s - loss: 224403.3062 - mae: 355.9021 - mse: 224403.3125 - root_mean_squared_error: 473.7123 - val_loss: 12965.6191 - val_mae: 88.4485 - val_mse: 12965.6191 - val_root_mean_squared_error: 113.8667\n",
      "Epoch 52/500\n",
      "10/10 - 0s - loss: 220864.1187 - mae: 351.0322 - mse: 220864.1094 - root_mean_squared_error: 469.9618 - val_loss: 7003.4580 - val_mae: 63.1812 - val_mse: 7003.4580 - val_root_mean_squared_error: 83.6867\n",
      "Epoch 53/500\n",
      "10/10 - 0s - loss: 192738.2875 - mae: 326.2959 - mse: 192738.2969 - root_mean_squared_error: 439.0197 - val_loss: 6930.6133 - val_mae: 75.0711 - val_mse: 6930.6133 - val_root_mean_squared_error: 83.2503\n",
      "Epoch 54/500\n",
      "10/10 - 0s - loss: 172940.3000 - mae: 312.3604 - mse: 172940.3125 - root_mean_squared_error: 415.8609 - val_loss: 7632.3179 - val_mae: 78.5289 - val_mse: 7632.3179 - val_root_mean_squared_error: 87.3631\n",
      "Epoch 55/500\n",
      "10/10 - 0s - loss: 150161.5828 - mae: 290.9004 - mse: 150161.5781 - root_mean_squared_error: 387.5069 - val_loss: 9714.1426 - val_mae: 87.6318 - val_mse: 9714.1426 - val_root_mean_squared_error: 98.5603\n",
      "Epoch 56/500\n",
      "10/10 - 0s - loss: 139345.4508 - mae: 280.0600 - mse: 139345.4531 - root_mean_squared_error: 373.2900 - val_loss: 13615.2158 - val_mae: 100.9973 - val_mse: 13615.2158 - val_root_mean_squared_error: 116.6843\n",
      "Epoch 57/500\n",
      "10/10 - 0s - loss: 131574.9211 - mae: 271.4040 - mse: 131574.9375 - root_mean_squared_error: 362.7326 - val_loss: 20904.6328 - val_mae: 127.2007 - val_mse: 20904.6328 - val_root_mean_squared_error: 144.5844\n",
      "Epoch 58/500\n",
      "10/10 - 0s - loss: 117386.2547 - mae: 254.4191 - mse: 117386.2578 - root_mean_squared_error: 342.6168 - val_loss: 35176.6484 - val_mae: 173.3941 - val_mse: 35176.6484 - val_root_mean_squared_error: 187.5544\n",
      "Epoch 59/500\n",
      "10/10 - 0s - loss: 107759.7125 - mae: 240.8620 - mse: 107759.7109 - root_mean_squared_error: 328.2677 - val_loss: 39515.5000 - val_mae: 185.5023 - val_mse: 39515.5000 - val_root_mean_squared_error: 198.7851\n",
      "Epoch 60/500\n",
      "10/10 - 0s - loss: 104181.0297 - mae: 234.5516 - mse: 104181.0234 - root_mean_squared_error: 322.7708 - val_loss: 39058.8047 - val_mae: 184.9464 - val_mse: 39058.8047 - val_root_mean_squared_error: 197.6330\n",
      "Epoch 61/500\n",
      "10/10 - 0s - loss: 98721.0836 - mae: 226.2208 - mse: 98721.0938 - root_mean_squared_error: 314.1991 - val_loss: 51923.6953 - val_mae: 216.9537 - val_mse: 51923.6953 - val_root_mean_squared_error: 227.8677\n",
      "Epoch 62/500\n",
      "10/10 - 0s - loss: 91795.1359 - mae: 215.1654 - mse: 91795.1328 - root_mean_squared_error: 302.9771 - val_loss: 60975.7266 - val_mae: 237.0515 - val_mse: 60975.7266 - val_root_mean_squared_error: 246.9326\n",
      "Epoch 63/500\n",
      "10/10 - 0s - loss: 82810.0680 - mae: 203.7632 - mse: 82810.0703 - root_mean_squared_error: 287.7674 - val_loss: 77439.3125 - val_mae: 269.8018 - val_mse: 77439.3125 - val_root_mean_squared_error: 278.2792\n",
      "Epoch 64/500\n",
      "10/10 - 0s - loss: 82499.9375 - mae: 196.2437 - mse: 82499.9297 - root_mean_squared_error: 287.2280 - val_loss: 74634.2891 - val_mae: 265.0206 - val_mse: 74634.2891 - val_root_mean_squared_error: 273.1928\n",
      "Epoch 65/500\n",
      "10/10 - 0s - loss: 76086.3320 - mae: 187.7462 - mse: 76086.3359 - root_mean_squared_error: 275.8375 - val_loss: 86339.1328 - val_mae: 286.1684 - val_mse: 86339.1328 - val_root_mean_squared_error: 293.8352\n",
      "Epoch 66/500\n",
      "10/10 - 0s - loss: 79915.6547 - mae: 186.4441 - mse: 79915.6484 - root_mean_squared_error: 282.6936 - val_loss: 102278.4141 - val_mae: 313.0368 - val_mse: 102278.4141 - val_root_mean_squared_error: 319.8100\n",
      "Epoch 67/500\n",
      "10/10 - 0s - loss: 76286.2375 - mae: 180.5135 - mse: 76286.2422 - root_mean_squared_error: 276.1996 - val_loss: 113878.8906 - val_mae: 331.2568 - val_mse: 113878.8906 - val_root_mean_squared_error: 337.4595\n",
      "Epoch 68/500\n",
      "10/10 - 0s - loss: 72874.9477 - mae: 174.5687 - mse: 72874.9453 - root_mean_squared_error: 269.9536 - val_loss: 116994.2734 - val_mae: 335.9774 - val_mse: 116994.2734 - val_root_mean_squared_error: 342.0443\n",
      "Epoch 69/500\n",
      "10/10 - 0s - loss: 77521.4570 - mae: 173.1700 - mse: 77521.4531 - root_mean_squared_error: 278.4268 - val_loss: 124161.8125 - val_mae: 346.5277 - val_mse: 124161.8125 - val_root_mean_squared_error: 352.3660\n",
      "Epoch 70/500\n",
      "10/10 - 0s - loss: 69468.3699 - mae: 165.6094 - mse: 69468.3750 - root_mean_squared_error: 263.5685 - val_loss: 122753.6016 - val_mae: 344.5100 - val_mse: 122753.6016 - val_root_mean_squared_error: 350.3621\n",
      "Epoch 71/500\n",
      "10/10 - 0s - loss: 70944.8293 - mae: 163.1591 - mse: 70944.8281 - root_mean_squared_error: 266.3547 - val_loss: 122812.1406 - val_mae: 344.5959 - val_mse: 122812.1406 - val_root_mean_squared_error: 350.4456\n",
      "Epoch 72/500\n",
      "10/10 - 0s - loss: 61968.8395 - mae: 152.7544 - mse: 61968.8398 - root_mean_squared_error: 248.9354 - val_loss: 128825.6719 - val_mae: 353.2661 - val_mse: 128825.6719 - val_root_mean_squared_error: 358.9229\n",
      "Epoch 73/500\n",
      "10/10 - 0s - loss: 66294.9676 - mae: 155.1496 - mse: 66294.9688 - root_mean_squared_error: 257.4781 - val_loss: 136936.6562 - val_mae: 364.6040 - val_mse: 136936.6562 - val_root_mean_squared_error: 370.0495\n",
      "Epoch 74/500\n",
      "10/10 - 0s - loss: 65825.9625 - mae: 152.5326 - mse: 65825.9688 - root_mean_squared_error: 256.5657 - val_loss: 148224.9219 - val_mae: 379.7755 - val_mse: 148224.9219 - val_root_mean_squared_error: 384.9999\n"
     ]
    },
    {
     "name": "stdout",
     "output_type": "stream",
     "text": [
      "Epoch 75/500\n",
      "10/10 - 0s - loss: 63188.1102 - mae: 150.8095 - mse: 63188.1094 - root_mean_squared_error: 251.3725 - val_loss: 138887.9688 - val_mae: 367.2145 - val_mse: 138887.9688 - val_root_mean_squared_error: 372.6768\n",
      "Epoch 76/500\n",
      "10/10 - 0s - loss: 66222.5719 - mae: 150.1716 - mse: 66222.5703 - root_mean_squared_error: 257.3375 - val_loss: 147992.8438 - val_mae: 379.4478 - val_mse: 147992.8438 - val_root_mean_squared_error: 384.6984\n",
      "Epoch 77/500\n",
      "10/10 - 0s - loss: 64892.9633 - mae: 147.0445 - mse: 64892.9609 - root_mean_squared_error: 254.7410 - val_loss: 149402.6719 - val_mae: 381.3396 - val_mse: 149402.6719 - val_root_mean_squared_error: 386.5264\n",
      "Epoch 78/500\n",
      "10/10 - 0s - loss: 60862.9387 - mae: 143.0145 - mse: 60862.9414 - root_mean_squared_error: 246.7042 - val_loss: 162924.6562 - val_mae: 398.7372 - val_mse: 162924.6562 - val_root_mean_squared_error: 403.6393\n",
      "Epoch 79/500\n",
      "10/10 - 0s - loss: 56818.9664 - mae: 138.8105 - mse: 56818.9648 - root_mean_squared_error: 238.3673 - val_loss: 153146.4688 - val_mae: 386.2402 - val_mse: 153146.4688 - val_root_mean_squared_error: 391.3393\n",
      "Epoch 80/500\n",
      "10/10 - 0s - loss: 57497.4875 - mae: 136.9679 - mse: 57497.4883 - root_mean_squared_error: 239.7863 - val_loss: 157776.0312 - val_mae: 392.1825 - val_mse: 157776.0312 - val_root_mean_squared_error: 397.2103\n",
      "Epoch 81/500\n",
      "10/10 - 0s - loss: 58345.0164 - mae: 136.7480 - mse: 58345.0117 - root_mean_squared_error: 241.5471 - val_loss: 163928.6562 - val_mae: 399.9679 - val_mse: 163928.6562 - val_root_mean_squared_error: 404.8810\n",
      "Epoch 82/500\n",
      "10/10 - 0s - loss: 64987.8117 - mae: 139.0243 - mse: 64987.8125 - root_mean_squared_error: 254.9271 - val_loss: 166836.3281 - val_mae: 403.5809 - val_mse: 166836.3281 - val_root_mean_squared_error: 408.4560\n",
      "Epoch 83/500\n",
      "10/10 - 0s - loss: 59859.6871 - mae: 133.8877 - mse: 59859.6836 - root_mean_squared_error: 244.6624 - val_loss: 166137.0781 - val_mae: 402.7090 - val_mse: 166137.0781 - val_root_mean_squared_error: 407.5992\n",
      "Epoch 84/500\n",
      "10/10 - 0s - loss: 64381.8723 - mae: 137.5751 - mse: 64381.8750 - root_mean_squared_error: 253.7358 - val_loss: 164824.5625 - val_mae: 401.1041 - val_mse: 164824.5625 - val_root_mean_squared_error: 405.9859\n",
      "Epoch 85/500\n",
      "10/10 - 0s - loss: 58230.1652 - mae: 130.3154 - mse: 58230.1680 - root_mean_squared_error: 241.3093 - val_loss: 181387.2188 - val_mae: 421.2941 - val_mse: 181387.2188 - val_root_mean_squared_error: 425.8958\n",
      "Epoch 86/500\n",
      "10/10 - 0s - loss: 61217.9023 - mae: 131.7134 - mse: 61217.8984 - root_mean_squared_error: 247.4225 - val_loss: 176793.7500 - val_mae: 415.7987 - val_mse: 176793.7500 - val_root_mean_squared_error: 420.4685\n",
      "Epoch 87/500\n",
      "10/10 - 0s - loss: 59316.8355 - mae: 128.2667 - mse: 59316.8359 - root_mean_squared_error: 243.5505 - val_loss: 173181.2188 - val_mae: 411.7239 - val_mse: 173181.2188 - val_root_mean_squared_error: 416.1505\n",
      "Epoch 88/500\n",
      "10/10 - 0s - loss: 61184.2867 - mae: 127.6709 - mse: 61184.2812 - root_mean_squared_error: 247.3546 - val_loss: 182515.2500 - val_mae: 422.6302 - val_mse: 182515.2500 - val_root_mean_squared_error: 427.2180\n",
      "Epoch 89/500\n",
      "10/10 - 0s - loss: 60480.8348 - mae: 128.4170 - mse: 60480.8359 - root_mean_squared_error: 245.9285 - val_loss: 184583.4062 - val_mae: 425.0592 - val_mse: 184583.4062 - val_root_mean_squared_error: 429.6317\n",
      "Epoch 90/500\n",
      "10/10 - 0s - loss: 56740.6715 - mae: 126.7385 - mse: 56740.6680 - root_mean_squared_error: 238.2030 - val_loss: 180543.0000 - val_mae: 420.2778 - val_mse: 180543.0000 - val_root_mean_squared_error: 424.9035\n",
      "Epoch 91/500\n",
      "10/10 - 0s - loss: 57161.8695 - mae: 124.5815 - mse: 57161.8711 - root_mean_squared_error: 239.0855 - val_loss: 175901.7031 - val_mae: 414.7075 - val_mse: 175901.7031 - val_root_mean_squared_error: 419.4064\n",
      "Epoch 92/500\n",
      "10/10 - 0s - loss: 59833.1922 - mae: 125.4086 - mse: 59833.1953 - root_mean_squared_error: 244.6082 - val_loss: 189971.1562 - val_mae: 431.3651 - val_mse: 189971.1562 - val_root_mean_squared_error: 435.8568\n",
      "Epoch 93/500\n",
      "10/10 - 0s - loss: 55420.2547 - mae: 121.9888 - mse: 55420.2500 - root_mean_squared_error: 235.4151 - val_loss: 187261.7188 - val_mae: 428.1789 - val_mse: 187261.7188 - val_root_mean_squared_error: 432.7375\n",
      "Epoch 94/500\n",
      "10/10 - 0s - loss: 55757.3949 - mae: 120.8135 - mse: 55757.3945 - root_mean_squared_error: 236.1300 - val_loss: 182073.2812 - val_mae: 422.0609 - val_mse: 182073.2812 - val_root_mean_squared_error: 426.7005\n",
      "Epoch 95/500\n",
      "10/10 - 0s - loss: 59847.9809 - mae: 122.4221 - mse: 59847.9844 - root_mean_squared_error: 244.6385 - val_loss: 185333.7031 - val_mae: 425.8985 - val_mse: 185333.7031 - val_root_mean_squared_error: 430.5040\n",
      "Epoch 96/500\n",
      "10/10 - 0s - loss: 55279.0902 - mae: 119.8338 - mse: 55279.0938 - root_mean_squared_error: 235.1151 - val_loss: 181727.4531 - val_mae: 421.6563 - val_mse: 181727.4531 - val_root_mean_squared_error: 426.2950\n",
      "Epoch 97/500\n",
      "10/10 - 0s - loss: 57834.3758 - mae: 119.8681 - mse: 57834.3750 - root_mean_squared_error: 240.4878 - val_loss: 186401.5312 - val_mae: 427.1662 - val_mse: 186401.5312 - val_root_mean_squared_error: 431.7424\n",
      "Epoch 98/500\n",
      "10/10 - 0s - loss: 59571.5969 - mae: 120.2446 - mse: 59571.5938 - root_mean_squared_error: 244.0729 - val_loss: 183531.0469 - val_mae: 423.7839 - val_mse: 183531.0469 - val_root_mean_squared_error: 428.4052\n",
      "Epoch 99/500\n",
      "10/10 - 0s - loss: 59334.1594 - mae: 119.6875 - mse: 59334.1602 - root_mean_squared_error: 243.5860 - val_loss: 189420.3125 - val_mae: 430.7054 - val_mse: 189420.3125 - val_root_mean_squared_error: 435.2244\n",
      "Epoch 100/500\n",
      "10/10 - 0s - loss: 54694.4863 - mae: 113.7291 - mse: 54694.4922 - root_mean_squared_error: 233.8685 - val_loss: 193227.6719 - val_mae: 435.1284 - val_mse: 193227.6719 - val_root_mean_squared_error: 439.5767\n",
      "Epoch 101/500\n",
      "10/10 - 0s - loss: 56194.4742 - mae: 114.8181 - mse: 56194.4727 - root_mean_squared_error: 237.0537 - val_loss: 193039.4219 - val_mae: 434.9363 - val_mse: 193039.4219 - val_root_mean_squared_error: 439.3625\n",
      "Epoch 102/500\n",
      "10/10 - 0s - loss: 57798.0418 - mae: 117.2928 - mse: 57798.0430 - root_mean_squared_error: 240.4122 - val_loss: 204379.4531 - val_mae: 447.8299 - val_mse: 204379.4531 - val_root_mean_squared_error: 452.0835\n",
      "Epoch 103/500\n",
      "Restoring model weights from the end of the best epoch.\n",
      "10/10 - 0s - loss: 57479.4176 - mae: 117.0943 - mse: 57479.4141 - root_mean_squared_error: 239.7486 - val_loss: 199340.7031 - val_mae: 442.1459 - val_mse: 199340.7031 - val_root_mean_squared_error: 446.4759\n",
      "Epoch 00103: early stopping\n"
     ]
    },
    {
     "data": {
      "text/plain": [
       "<tensorflow.python.keras.callbacks.History at 0x216c5f99710>"
      ]
     },
     "execution_count": 30,
     "metadata": {},
     "output_type": "execute_result"
    }
   ],
   "source": [
    "early_stopping = tf.keras.callbacks.EarlyStopping(\n",
    "    monitor='val_mse',\n",
    "    min_delta=0.001, \n",
    "    patience=50, \n",
    "    verbose=1, \n",
    "    mode='auto',\n",
    "    baseline=None, \n",
    "    restore_best_weights=True\n",
    ")\n",
    "model.fit(train_dataset,\n",
    "          epochs=500,\n",
    "          verbose = 2,\n",
    "          validation_data = val_dataset,\n",
    "          validation_steps=1,\n",
    "          steps_per_epoch=10,\n",
    "          callbacks= [early_stopping]\n",
    "     )"
   ]
  },
  {
   "cell_type": "code",
   "execution_count": 32,
   "metadata": {},
   "outputs": [],
   "source": [
    "prd = model.predict(train_dataset,steps = 1)\n",
    "val_prd = model.predict(val_dataset, steps=1)"
   ]
  },
  {
   "cell_type": "code",
   "execution_count": 33,
   "metadata": {},
   "outputs": [],
   "source": [
    "def plot_diff(prcd,resDf,label):\n",
    "    real = resDf[list(map(lambda x: f'sp500_Close_{x}',label))].transpose().values\n",
    "    plotDf = pd.DataFrame(real).tail(len(prcd))\n",
    "    print(plotDf.shape)\n",
    "    plotDf['prd_Close'] = prcd\n",
    "    return plotDf"
   ]
  },
  {
   "cell_type": "code",
   "execution_count": 34,
   "metadata": {},
   "outputs": [
    {
     "name": "stdout",
     "output_type": "stream",
     "text": [
      "(780, 1)\n"
     ]
    },
    {
     "data": {
      "text/plain": [
       "<matplotlib.axes._subplots.AxesSubplot at 0x216c660e588>"
      ]
     },
     "execution_count": 34,
     "metadata": {},
     "output_type": "execute_result"
    },
    {
     "data": {
      "image/png": "[encoded data removed]",
      "text/plain": [
       "<Figure size 432x288 with 1 Axes>"
      ]
     },
     "metadata": {
      "needs_background": "light"
     },
     "output_type": "display_data"
    }
   ],
   "source": [
    "plotDf = plot_diff(prd,psd.df,trainDate)\n",
    "plotDf.plot()"
   ]
  },
  {
   "cell_type": "code",
   "execution_count": 35,
   "metadata": {},
   "outputs": [
    {
     "name": "stdout",
     "output_type": "stream",
     "text": [
      "(80, 1)\n"
     ]
    },
    {
     "data": {
      "text/plain": [
       "<matplotlib.axes._subplots.AxesSubplot at 0x216c66f7080>"
      ]
     },
     "execution_count": 35,
     "metadata": {},
     "output_type": "execute_result"
    },
    {
     "data": {
      "image/png": "[encoded data removed]",
      "text/plain": [
       "<Figure size 432x288 with 1 Axes>"
      ]
     },
     "metadata": {
      "needs_background": "light"
     },
     "output_type": "display_data"
    }
   ],
   "source": [
    "plotDf = plot_diff(val_prd,psd.df,valDate)\n",
    "plotDf.plot()"
   ]
  },
  {
   "cell_type": "code",
   "execution_count": 21,
   "metadata": {},
   "outputs": [],
   "source": [
    "tpsd = Pandas_Time_Series_Tensor_Dataset(df)\n",
    "timeSeriesDic = tpsd.expand_dataFrame_by_date('symbol','Date')\n",
    "for i,v in enumerate(labels):\n",
    "    if i == 0:\n",
    "        tpsd.set_config(\n",
    "            name = f'sequence',\n",
    "            colNames = list(map(lambda x: f'{v}_{str(x)}',testDate)),\n",
    "            tensorType = 'sequence',\n",
    "            sequence_stack = None,\n",
    "            isResponseVar = False,\n",
    "            windowSize = WINDOW_SIZE,\n",
    "            seqSize = 1837,\n",
    "            outType = np.float32\n",
    "        )\n",
    "    else:\n",
    "        tpsd.set_config(\n",
    "            name = f'{v}_sequence',\n",
    "            colNames = list(map(lambda x: f'{v}_{str(x)}',testDate)),\n",
    "            tensorType = 'sequence',\n",
    "            sequence_stack = \"sequence\",\n",
    "            isResponseVar = False,\n",
    "            windowSize = WINDOW_SIZE,\n",
    "            seqSize = 1837,\n",
    "            outType = np.float32\n",
    "        )\n",
    "        \n",
    "tpsd.set_config(\n",
    "    name = 'label',\n",
    "    colNames = list(map(lambda x: f'sp500_Close_{str(x)}',testDate)),\n",
    "    tensorType = 'label',\n",
    "    sequence_stack = None,\n",
    "    isResponseVar = True,\n",
    "    windowSize = WINDOW_SIZE,\n",
    "    seqSize = 1837,\n",
    "    outType = np.float32\n",
    ")"
   ]
  },
  {
   "cell_type": "code",
   "execution_count": 22,
   "metadata": {
    "scrolled": true
   },
   "outputs": [],
   "source": [
    "tgen = psd.make_data_generator()\n",
    "test_prediction = model.predict(tgen)"
   ]
  },
  {
   "cell_type": "code",
   "execution_count": 23,
   "metadata": {
    "scrolled": true
   },
   "outputs": [
    {
     "ename": "KeyError",
     "evalue": "\"None of [Index(['sp500_Close_4900', 'sp500_Close_4901', 'sp500_Close_4902',\\n       'sp500_Close_4903', 'sp500_Close_4904', 'sp500_Close_4905',\\n       'sp500_Close_4906', 'sp500_Close_4907', 'sp500_Close_4908',\\n       'sp500_Close_4909', 'sp500_Close_4910', 'sp500_Close_4911',\\n       'sp500_Close_4912', 'sp500_Close_4913', 'sp500_Close_4914',\\n       'sp500_Close_4915', 'sp500_Close_4916', 'sp500_Close_4917',\\n       'sp500_Close_4918', 'sp500_Close_4919', 'sp500_Close_4920',\\n       'sp500_Close_4921', 'sp500_Close_4922', 'sp500_Close_4923',\\n       'sp500_Close_4924', 'sp500_Close_4925', 'sp500_Close_4926',\\n       'sp500_Close_4927', 'sp500_Close_4928', 'sp500_Close_4929',\\n       'sp500_Close_4930', 'sp500_Close_4931', 'sp500_Close_4932',\\n       'sp500_Close_4933', 'sp500_Close_4934', 'sp500_Close_4935',\\n       'sp500_Close_4936', 'sp500_Close_4937', 'sp500_Close_4938',\\n       'sp500_Close_4939', 'sp500_Close_4940', 'sp500_Close_4941',\\n       'sp500_Close_4942', 'sp500_Close_4943', 'sp500_Close_4944',\\n       'sp500_Close_4945', 'sp500_Close_4946', 'sp500_Close_4947',\\n       'sp500_Close_4948', 'sp500_Close_4949', 'sp500_Close_4950',\\n       'sp500_Close_4951', 'sp500_Close_4952', 'sp500_Close_4953',\\n       'sp500_Close_4954', 'sp500_Close_4955', 'sp500_Close_4956',\\n       'sp500_Close_4957', 'sp500_Close_4958', 'sp500_Close_4959',\\n       'sp500_Close_4960', 'sp500_Close_4961', 'sp500_Close_4962',\\n       'sp500_Close_4963', 'sp500_Close_4964', 'sp500_Close_4965',\\n       'sp500_Close_4966', 'sp500_Close_4967', 'sp500_Close_4968',\\n       'sp500_Close_4969', 'sp500_Close_4970', 'sp500_Close_4971',\\n       'sp500_Close_4972', 'sp500_Close_4973', 'sp500_Close_4974',\\n       'sp500_Close_4975', 'sp500_Close_4976', 'sp500_Close_4977',\\n       'sp500_Close_4978', 'sp500_Close_4979', 'sp500_Close_4980',\\n       'sp500_Close_4981', 'sp500_Close_4982', 'sp500_Close_4983',\\n       'sp500_Close_4984', 'sp500_Close_4985', 'sp500_Close_4986',\\n       'sp500_Close_4987', 'sp500_Close_4988', 'sp500_Close_4989',\\n       'sp500_Close_4990', 'sp500_Close_4991', 'sp500_Close_4992',\\n       'sp500_Close_4993', 'sp500_Close_4994', 'sp500_Close_4995',\\n       'sp500_Close_4996', 'sp500_Close_4997', 'sp500_Close_4998',\\n       'sp500_Close_4999'],\\n      dtype='object')] are in the [columns]\"",
     "output_type": "error",
     "traceback": [
      "\u001b[1;31m---------------------------------------------------------------------------\u001b[0m",
      "\u001b[1;31mKeyError\u001b[0m                                  Traceback (most recent call last)",
      "\u001b[1;32m<ipython-input-23-f6e69ff475d6>\u001b[0m in \u001b[0;36m<module>\u001b[1;34m\u001b[0m\n\u001b[1;32m----> 1\u001b[1;33m \u001b[0mplotDf\u001b[0m \u001b[1;33m=\u001b[0m \u001b[0mplot_diff\u001b[0m\u001b[1;33m(\u001b[0m\u001b[0mtest_prediction\u001b[0m\u001b[1;33m,\u001b[0m\u001b[0mtpsd\u001b[0m\u001b[1;33m.\u001b[0m\u001b[0mdf\u001b[0m\u001b[1;33m,\u001b[0m\u001b[0mtestDate\u001b[0m\u001b[1;33m)\u001b[0m\u001b[1;33m\u001b[0m\u001b[1;33m\u001b[0m\u001b[0m\n\u001b[0m\u001b[0;32m      2\u001b[0m \u001b[0mplotDf\u001b[0m\u001b[1;33m.\u001b[0m\u001b[0mplot\u001b[0m\u001b[1;33m(\u001b[0m\u001b[1;33m)\u001b[0m\u001b[1;33m\u001b[0m\u001b[1;33m\u001b[0m\u001b[0m\n",
      "\u001b[1;32m<ipython-input-17-2b060b40f2d3>\u001b[0m in \u001b[0;36mplot_diff\u001b[1;34m(prcd, resDf, label)\u001b[0m\n\u001b[0;32m      1\u001b[0m \u001b[1;32mdef\u001b[0m \u001b[0mplot_diff\u001b[0m\u001b[1;33m(\u001b[0m\u001b[0mprcd\u001b[0m\u001b[1;33m,\u001b[0m\u001b[0mresDf\u001b[0m\u001b[1;33m,\u001b[0m\u001b[0mlabel\u001b[0m\u001b[1;33m)\u001b[0m\u001b[1;33m:\u001b[0m\u001b[1;33m\u001b[0m\u001b[1;33m\u001b[0m\u001b[0m\n\u001b[1;32m----> 2\u001b[1;33m     \u001b[0mreal\u001b[0m \u001b[1;33m=\u001b[0m \u001b[0mresDf\u001b[0m\u001b[1;33m[\u001b[0m\u001b[0mlist\u001b[0m\u001b[1;33m(\u001b[0m\u001b[0mmap\u001b[0m\u001b[1;33m(\u001b[0m\u001b[1;32mlambda\u001b[0m \u001b[0mx\u001b[0m\u001b[1;33m:\u001b[0m \u001b[1;34mf'sp500_Close_{x}'\u001b[0m\u001b[1;33m,\u001b[0m\u001b[0mlabel\u001b[0m\u001b[1;33m)\u001b[0m\u001b[1;33m)\u001b[0m\u001b[1;33m]\u001b[0m\u001b[1;33m.\u001b[0m\u001b[0mtranspose\u001b[0m\u001b[1;33m(\u001b[0m\u001b[1;33m)\u001b[0m\u001b[1;33m.\u001b[0m\u001b[0mvalues\u001b[0m\u001b[1;33m\u001b[0m\u001b[1;33m\u001b[0m\u001b[0m\n\u001b[0m\u001b[0;32m      3\u001b[0m     \u001b[0mplotDf\u001b[0m \u001b[1;33m=\u001b[0m \u001b[0mpd\u001b[0m\u001b[1;33m.\u001b[0m\u001b[0mDataFrame\u001b[0m\u001b[1;33m(\u001b[0m\u001b[0mreal\u001b[0m\u001b[1;33m)\u001b[0m\u001b[1;33m.\u001b[0m\u001b[0mtail\u001b[0m\u001b[1;33m(\u001b[0m\u001b[0mlen\u001b[0m\u001b[1;33m(\u001b[0m\u001b[0mprcd\u001b[0m\u001b[1;33m)\u001b[0m\u001b[1;33m)\u001b[0m\u001b[1;33m\u001b[0m\u001b[1;33m\u001b[0m\u001b[0m\n\u001b[0;32m      4\u001b[0m     \u001b[0mprint\u001b[0m\u001b[1;33m(\u001b[0m\u001b[0mplotDf\u001b[0m\u001b[1;33m.\u001b[0m\u001b[0mshape\u001b[0m\u001b[1;33m)\u001b[0m\u001b[1;33m\u001b[0m\u001b[1;33m\u001b[0m\u001b[0m\n\u001b[0;32m      5\u001b[0m     \u001b[0mplotDf\u001b[0m\u001b[1;33m[\u001b[0m\u001b[1;34m'prd_Close'\u001b[0m\u001b[1;33m]\u001b[0m \u001b[1;33m=\u001b[0m \u001b[0mprcd\u001b[0m\u001b[1;33m\u001b[0m\u001b[1;33m\u001b[0m\u001b[0m\n",
      "\u001b[1;32m~\\Anaconda3\\lib\\site-packages\\pandas\\core\\frame.py\u001b[0m in \u001b[0;36m__getitem__\u001b[1;34m(self, key)\u001b[0m\n\u001b[0;32m   2804\u001b[0m             \u001b[1;32mif\u001b[0m \u001b[0mis_iterator\u001b[0m\u001b[1;33m(\u001b[0m\u001b[0mkey\u001b[0m\u001b[1;33m)\u001b[0m\u001b[1;33m:\u001b[0m\u001b[1;33m\u001b[0m\u001b[1;33m\u001b[0m\u001b[0m\n\u001b[0;32m   2805\u001b[0m                 \u001b[0mkey\u001b[0m \u001b[1;33m=\u001b[0m \u001b[0mlist\u001b[0m\u001b[1;33m(\u001b[0m\u001b[0mkey\u001b[0m\u001b[1;33m)\u001b[0m\u001b[1;33m\u001b[0m\u001b[1;33m\u001b[0m\u001b[0m\n\u001b[1;32m-> 2806\u001b[1;33m             \u001b[0mindexer\u001b[0m \u001b[1;33m=\u001b[0m \u001b[0mself\u001b[0m\u001b[1;33m.\u001b[0m\u001b[0mloc\u001b[0m\u001b[1;33m.\u001b[0m\u001b[0m_get_listlike_indexer\u001b[0m\u001b[1;33m(\u001b[0m\u001b[0mkey\u001b[0m\u001b[1;33m,\u001b[0m \u001b[0maxis\u001b[0m\u001b[1;33m=\u001b[0m\u001b[1;36m1\u001b[0m\u001b[1;33m,\u001b[0m \u001b[0mraise_missing\u001b[0m\u001b[1;33m=\u001b[0m\u001b[1;32mTrue\u001b[0m\u001b[1;33m)\u001b[0m\u001b[1;33m[\u001b[0m\u001b[1;36m1\u001b[0m\u001b[1;33m]\u001b[0m\u001b[1;33m\u001b[0m\u001b[1;33m\u001b[0m\u001b[0m\n\u001b[0m\u001b[0;32m   2807\u001b[0m \u001b[1;33m\u001b[0m\u001b[0m\n\u001b[0;32m   2808\u001b[0m         \u001b[1;31m# take() does not accept boolean indexers\u001b[0m\u001b[1;33m\u001b[0m\u001b[1;33m\u001b[0m\u001b[1;33m\u001b[0m\u001b[0m\n",
      "\u001b[1;32m~\\Anaconda3\\lib\\site-packages\\pandas\\core\\indexing.py\u001b[0m in \u001b[0;36m_get_listlike_indexer\u001b[1;34m(self, key, axis, raise_missing)\u001b[0m\n\u001b[0;32m   1551\u001b[0m \u001b[1;33m\u001b[0m\u001b[0m\n\u001b[0;32m   1552\u001b[0m         self._validate_read_indexer(\n\u001b[1;32m-> 1553\u001b[1;33m             \u001b[0mkeyarr\u001b[0m\u001b[1;33m,\u001b[0m \u001b[0mindexer\u001b[0m\u001b[1;33m,\u001b[0m \u001b[0mo\u001b[0m\u001b[1;33m.\u001b[0m\u001b[0m_get_axis_number\u001b[0m\u001b[1;33m(\u001b[0m\u001b[0maxis\u001b[0m\u001b[1;33m)\u001b[0m\u001b[1;33m,\u001b[0m \u001b[0mraise_missing\u001b[0m\u001b[1;33m=\u001b[0m\u001b[0mraise_missing\u001b[0m\u001b[1;33m\u001b[0m\u001b[1;33m\u001b[0m\u001b[0m\n\u001b[0m\u001b[0;32m   1554\u001b[0m         )\n\u001b[0;32m   1555\u001b[0m         \u001b[1;32mreturn\u001b[0m \u001b[0mkeyarr\u001b[0m\u001b[1;33m,\u001b[0m \u001b[0mindexer\u001b[0m\u001b[1;33m\u001b[0m\u001b[1;33m\u001b[0m\u001b[0m\n",
      "\u001b[1;32m~\\Anaconda3\\lib\\site-packages\\pandas\\core\\indexing.py\u001b[0m in \u001b[0;36m_validate_read_indexer\u001b[1;34m(self, key, indexer, axis, raise_missing)\u001b[0m\n\u001b[0;32m   1638\u001b[0m             \u001b[1;32mif\u001b[0m \u001b[0mmissing\u001b[0m \u001b[1;33m==\u001b[0m \u001b[0mlen\u001b[0m\u001b[1;33m(\u001b[0m\u001b[0mindexer\u001b[0m\u001b[1;33m)\u001b[0m\u001b[1;33m:\u001b[0m\u001b[1;33m\u001b[0m\u001b[1;33m\u001b[0m\u001b[0m\n\u001b[0;32m   1639\u001b[0m                 \u001b[0maxis_name\u001b[0m \u001b[1;33m=\u001b[0m \u001b[0mself\u001b[0m\u001b[1;33m.\u001b[0m\u001b[0mobj\u001b[0m\u001b[1;33m.\u001b[0m\u001b[0m_get_axis_name\u001b[0m\u001b[1;33m(\u001b[0m\u001b[0maxis\u001b[0m\u001b[1;33m)\u001b[0m\u001b[1;33m\u001b[0m\u001b[1;33m\u001b[0m\u001b[0m\n\u001b[1;32m-> 1640\u001b[1;33m                 \u001b[1;32mraise\u001b[0m \u001b[0mKeyError\u001b[0m\u001b[1;33m(\u001b[0m\u001b[1;34mf\"None of [{key}] are in the [{axis_name}]\"\u001b[0m\u001b[1;33m)\u001b[0m\u001b[1;33m\u001b[0m\u001b[1;33m\u001b[0m\u001b[0m\n\u001b[0m\u001b[0;32m   1641\u001b[0m \u001b[1;33m\u001b[0m\u001b[0m\n\u001b[0;32m   1642\u001b[0m             \u001b[1;31m# We (temporarily) allow for some missing keys with .loc, except in\u001b[0m\u001b[1;33m\u001b[0m\u001b[1;33m\u001b[0m\u001b[1;33m\u001b[0m\u001b[0m\n",
      "\u001b[1;31mKeyError\u001b[0m: \"None of [Index(['sp500_Close_4900', 'sp500_Close_4901', 'sp500_Close_4902',\\n       'sp500_Close_4903', 'sp500_Close_4904', 'sp500_Close_4905',\\n       'sp500_Close_4906', 'sp500_Close_4907', 'sp500_Close_4908',\\n       'sp500_Close_4909', 'sp500_Close_4910', 'sp500_Close_4911',\\n       'sp500_Close_4912', 'sp500_Close_4913', 'sp500_Close_4914',\\n       'sp500_Close_4915', 'sp500_Close_4916', 'sp500_Close_4917',\\n       'sp500_Close_4918', 'sp500_Close_4919', 'sp500_Close_4920',\\n       'sp500_Close_4921', 'sp500_Close_4922', 'sp500_Close_4923',\\n       'sp500_Close_4924', 'sp500_Close_4925', 'sp500_Close_4926',\\n       'sp500_Close_4927', 'sp500_Close_4928', 'sp500_Close_4929',\\n       'sp500_Close_4930', 'sp500_Close_4931', 'sp500_Close_4932',\\n       'sp500_Close_4933', 'sp500_Close_4934', 'sp500_Close_4935',\\n       'sp500_Close_4936', 'sp500_Close_4937', 'sp500_Close_4938',\\n       'sp500_Close_4939', 'sp500_Close_4940', 'sp500_Close_4941',\\n       'sp500_Close_4942', 'sp500_Close_4943', 'sp500_Close_4944',\\n       'sp500_Close_4945', 'sp500_Close_4946', 'sp500_Close_4947',\\n       'sp500_Close_4948', 'sp500_Close_4949', 'sp500_Close_4950',\\n       'sp500_Close_4951', 'sp500_Close_4952', 'sp500_Close_4953',\\n       'sp500_Close_4954', 'sp500_Close_4955', 'sp500_Close_4956',\\n       'sp500_Close_4957', 'sp500_Close_4958', 'sp500_Close_4959',\\n       'sp500_Close_4960', 'sp500_Close_4961', 'sp500_Close_4962',\\n       'sp500_Close_4963', 'sp500_Close_4964', 'sp500_Close_4965',\\n       'sp500_Close_4966', 'sp500_Close_4967', 'sp500_Close_4968',\\n       'sp500_Close_4969', 'sp500_Close_4970', 'sp500_Close_4971',\\n       'sp500_Close_4972', 'sp500_Close_4973', 'sp500_Close_4974',\\n       'sp500_Close_4975', 'sp500_Close_4976', 'sp500_Close_4977',\\n       'sp500_Close_4978', 'sp500_Close_4979', 'sp500_Close_4980',\\n       'sp500_Close_4981', 'sp500_Close_4982', 'sp500_Close_4983',\\n       'sp500_Close_4984', 'sp500_Close_4985', 'sp500_Close_4986',\\n       'sp500_Close_4987', 'sp500_Close_4988', 'sp500_Close_4989',\\n       'sp500_Close_4990', 'sp500_Close_4991', 'sp500_Close_4992',\\n       'sp500_Close_4993', 'sp500_Close_4994', 'sp500_Close_4995',\\n       'sp500_Close_4996', 'sp500_Close_4997', 'sp500_Close_4998',\\n       'sp500_Close_4999'],\\n      dtype='object')] are in the [columns]\""
     ]
    }
   ],
   "source": [
    "plotDf = plot_diff(test_prediction,tpsd.df,testDate)\n",
    "plotDf.plot()"
   ]
  },
  {
   "cell_type": "code",
   "execution_count": 24,
   "metadata": {
    "scrolled": true
   },
   "outputs": [
    {
     "ename": "AttributeError",
     "evalue": "'DataFrame' object has no attribute 'prd_High'",
     "output_type": "error",
     "traceback": [
      "\u001b[1;31m---------------------------------------------------------------------------\u001b[0m",
      "\u001b[1;31mAttributeError\u001b[0m                            Traceback (most recent call last)",
      "\u001b[1;32m<ipython-input-24-e9dfad5372d1>\u001b[0m in \u001b[0;36m<module>\u001b[1;34m\u001b[0m\n\u001b[0;32m      1\u001b[0m \u001b[1;32mfrom\u001b[0m \u001b[0msklearn\u001b[0m\u001b[1;33m.\u001b[0m\u001b[0mmetrics\u001b[0m \u001b[1;32mimport\u001b[0m \u001b[0mmean_squared_error\u001b[0m\u001b[1;33m\u001b[0m\u001b[1;33m\u001b[0m\u001b[0m\n\u001b[1;32m----> 2\u001b[1;33m \u001b[0mnp\u001b[0m\u001b[1;33m.\u001b[0m\u001b[0msqrt\u001b[0m\u001b[1;33m(\u001b[0m\u001b[0mmean_squared_error\u001b[0m\u001b[1;33m(\u001b[0m\u001b[0mplotDf\u001b[0m\u001b[1;33m[\u001b[0m\u001b[1;36m0\u001b[0m\u001b[1;33m]\u001b[0m\u001b[1;33m,\u001b[0m\u001b[0mplotDf\u001b[0m\u001b[1;33m.\u001b[0m\u001b[0mprd_High\u001b[0m\u001b[1;33m)\u001b[0m\u001b[1;33m)\u001b[0m\u001b[1;33m\u001b[0m\u001b[1;33m\u001b[0m\u001b[0m\n\u001b[0m",
      "\u001b[1;32m~\\Anaconda3\\lib\\site-packages\\pandas\\core\\generic.py\u001b[0m in \u001b[0;36m__getattr__\u001b[1;34m(self, name)\u001b[0m\n\u001b[0;32m   5272\u001b[0m             \u001b[1;32mif\u001b[0m \u001b[0mself\u001b[0m\u001b[1;33m.\u001b[0m\u001b[0m_info_axis\u001b[0m\u001b[1;33m.\u001b[0m\u001b[0m_can_hold_identifiers_and_holds_name\u001b[0m\u001b[1;33m(\u001b[0m\u001b[0mname\u001b[0m\u001b[1;33m)\u001b[0m\u001b[1;33m:\u001b[0m\u001b[1;33m\u001b[0m\u001b[1;33m\u001b[0m\u001b[0m\n\u001b[0;32m   5273\u001b[0m                 \u001b[1;32mreturn\u001b[0m \u001b[0mself\u001b[0m\u001b[1;33m[\u001b[0m\u001b[0mname\u001b[0m\u001b[1;33m]\u001b[0m\u001b[1;33m\u001b[0m\u001b[1;33m\u001b[0m\u001b[0m\n\u001b[1;32m-> 5274\u001b[1;33m             \u001b[1;32mreturn\u001b[0m \u001b[0mobject\u001b[0m\u001b[1;33m.\u001b[0m\u001b[0m__getattribute__\u001b[0m\u001b[1;33m(\u001b[0m\u001b[0mself\u001b[0m\u001b[1;33m,\u001b[0m \u001b[0mname\u001b[0m\u001b[1;33m)\u001b[0m\u001b[1;33m\u001b[0m\u001b[1;33m\u001b[0m\u001b[0m\n\u001b[0m\u001b[0;32m   5275\u001b[0m \u001b[1;33m\u001b[0m\u001b[0m\n\u001b[0;32m   5276\u001b[0m     \u001b[1;32mdef\u001b[0m \u001b[0m__setattr__\u001b[0m\u001b[1;33m(\u001b[0m\u001b[0mself\u001b[0m\u001b[1;33m,\u001b[0m \u001b[0mname\u001b[0m\u001b[1;33m:\u001b[0m \u001b[0mstr\u001b[0m\u001b[1;33m,\u001b[0m \u001b[0mvalue\u001b[0m\u001b[1;33m)\u001b[0m \u001b[1;33m->\u001b[0m \u001b[1;32mNone\u001b[0m\u001b[1;33m:\u001b[0m\u001b[1;33m\u001b[0m\u001b[1;33m\u001b[0m\u001b[0m\n",
      "\u001b[1;31mAttributeError\u001b[0m: 'DataFrame' object has no attribute 'prd_High'"
     ]
    }
   ],
   "source": [
    "from sklearn.metrics import mean_squared_error\n",
    "np.sqrt(mean_squared_error(plotDf[0],plotDf.prd_High))"
   ]
  },
  {
   "cell_type": "code",
   "execution_count": null,
   "metadata": {},
   "outputs": [],
   "source": []
  },
  {
   "cell_type": "code",
   "execution_count": null,
   "metadata": {},
   "outputs": [],
   "source": []
  }
 ],
 "metadata": {
  "file_extension": ".py",
  "kernelspec": {
   "display_name": "Python 3",
   "language": "python",
   "name": "python3"
  },
  "language_info": {
   "codemirror_mode": {
    "name": "ipython",
    "version": 3
   },
   "file_extension": ".py",
   "mimetype": "text/x-python",
   "name": "python",
   "nbconvert_exporter": "python",
   "pygments_lexer": "ipython3",
   "version": "3.7.3"
  },
  "mimetype": "text/x-python",
  "name": "python",
  "npconvert_exporter": "python",
  "pygments_lexer": "ipython3",
  "toc": {
   "base_numbering": 1,
   "nav_menu": {},
   "number_sections": true,
   "sideBar": true,
   "skip_h1_title": false,
   "title_cell": "Table of Contents",
   "title_sidebar": "Contents",
   "toc_cell": false,
   "toc_position": {},
   "toc_section_display": true,
   "toc_window_display": false
  },
  "version": 3
 },
 "nbformat": 4,
 "nbformat_minor": 2
}
