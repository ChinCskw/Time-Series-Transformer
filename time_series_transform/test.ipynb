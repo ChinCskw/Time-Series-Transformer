{
 "nbformat": 4,
 "nbformat_minor": 2,
 "metadata": {
  "language_info": {
   "name": "python",
   "codemirror_mode": {
    "name": "ipython",
    "version": 3
   },
   "version": "3.7.3-final"
  },
  "orig_nbformat": 2,
  "file_extension": ".py",
  "mimetype": "text/x-python",
  "name": "python",
  "npconvert_exporter": "python",
  "pygments_lexer": "ipython3",
  "version": 3,
  "kernelspec": {
   "name": "python3",
   "display_name": "Python 3"
  }
 },
 "cells": [
  {
   "cell_type": "code",
   "execution_count": null,
   "metadata": {},
   "outputs": [],
   "source": [
    "import pandas as pd\n",
    "import numpy as np\n",
    "import tensorflow as tf\n",
    "from tensorflow_adopter import *\n",
    "from sequence_transfomer import *\n",
    "from time_series_transformer import Time_Series_Transformer"
   ]
  },
  {
   "cell_type": "code",
   "execution_count": 1,
   "metadata": {},
   "outputs": [
    {
     "output_type": "error",
     "ename": "NameError",
     "evalue": "name 'pd' is not defined",
     "traceback": [
      "\u001b[1;31m---------------------------------------------------------------------------\u001b[0m",
      "\u001b[1;31mNameError\u001b[0m                                 Traceback (most recent call last)",
      "\u001b[1;32m<ipython-input-1-130a88f39c2f>\u001b[0m in \u001b[0;36m<module>\u001b[1;34m\u001b[0m\n\u001b[1;32m----> 1\u001b[1;33m \u001b[0mdf\u001b[0m \u001b[1;33m=\u001b[0m \u001b[0mpd\u001b[0m\u001b[1;33m.\u001b[0m\u001b[0mread_csv\u001b[0m\u001b[1;33m(\u001b[0m\u001b[1;34m'../Data/Train/sales_train_validation.csv'\u001b[0m\u001b[1;33m)\u001b[0m\u001b[1;33m\u001b[0m\u001b[1;33m\u001b[0m\u001b[0m\n\u001b[0m\u001b[0;32m      2\u001b[0m \u001b[0mdimList\u001b[0m \u001b[1;33m=\u001b[0m \u001b[1;33m[\u001b[0m\u001b[1;34m'item_id'\u001b[0m\u001b[1;33m,\u001b[0m \u001b[1;34m'dept_id'\u001b[0m\u001b[1;33m,\u001b[0m \u001b[1;34m'cat_id'\u001b[0m\u001b[1;33m,\u001b[0m \u001b[1;34m'store_id'\u001b[0m\u001b[1;33m,\u001b[0m \u001b[1;34m'state_id'\u001b[0m\u001b[1;33m]\u001b[0m\u001b[1;33m\u001b[0m\u001b[1;33m\u001b[0m\u001b[0m\n\u001b[0;32m      3\u001b[0m \u001b[0mdf\u001b[0m \u001b[1;33m=\u001b[0m \u001b[0mdf\u001b[0m\u001b[1;33m.\u001b[0m\u001b[0mdrop\u001b[0m\u001b[1;33m(\u001b[0m\u001b[1;33m[\u001b[0m\u001b[1;34m'id'\u001b[0m\u001b[1;33m]\u001b[0m \u001b[1;33m,\u001b[0m\u001b[0maxis\u001b[0m \u001b[1;33m=\u001b[0m\u001b[1;36m1\u001b[0m\u001b[1;33m)\u001b[0m\u001b[1;33m\u001b[0m\u001b[1;33m\u001b[0m\u001b[0m\n",
      "\u001b[1;31mNameError\u001b[0m: name 'pd' is not defined"
     ]
    }
   ],
   "source": [
    "df = pd.read_csv('../Data/Train/sales_train_validation.csv')\n",
    "dimList = ['item_id', 'dept_id', 'cat_id', 'store_id', 'state_id']\n",
    "df = df.drop(['id'] ,axis =1)"
   ]
  },
  {
   "cell_type": "code",
   "execution_count": null,
   "metadata": {},
   "outputs": [],
   "source": [
    "fe = Time_Series_Transformer(df,dimList,seqTransformerList = [])\n",
    "gen = fe.np_to_time_tensor_generator(30)"
   ]
  },
  {
   "cell_type": "code",
   "execution_count": null,
   "metadata": {},
   "outputs": [],
   "source": [
    "tfg = TFRecord_Generator(\"../Data/Train/tfg2.tfRecord\")\n",
    "tfg.write_tfRecord(gen)"
   ]
  },
  {
   "cell_type": "code",
   "execution_count": 5,
   "metadata": {},
   "outputs": [],
   "source": [
    "dataset = tfg.make_tfDataset()"
   ]
  },
  {
   "cell_type": "code",
   "execution_count": 6,
   "metadata": {},
   "outputs": [
    {
     "output_type": "execute_result",
     "data": {
      "text/plain": "30490"
     },
     "metadata": {},
     "execution_count": 6
    }
   ],
   "source": [
    "len(list(dataset))"
   ]
  },
  {
   "cell_type": "code",
   "execution_count": 7,
   "metadata": {},
   "outputs": [
    {
     "output_type": "execute_result",
     "data": {
      "text/plain": "[{'item_id': <tf.Tensor: id=853779, shape=(1883, 1), dtype=float32, numpy=\n  array([[1437.],\n         [1437.],\n         [1437.],\n         ...,\n         [1437.],\n         [1437.],\n         [1437.]], dtype=float32)>,\n  'dept_id': <tf.Tensor: id=853778, shape=(1883, 1), dtype=float32, numpy=\n  array([[3.],\n         [3.],\n         [3.],\n         ...,\n         [3.],\n         [3.],\n         [3.]], dtype=float32)>,\n  'cat_id': <tf.Tensor: id=853777, shape=(1883, 1), dtype=float32, numpy=\n  array([[1.],\n         [1.],\n         [1.],\n         ...,\n         [1.],\n         [1.],\n         [1.]], dtype=float32)>,\n  'store_id': <tf.Tensor: id=853782, shape=(1883, 1), dtype=float32, numpy=\n  array([[0.],\n         [0.],\n         [0.],\n         ...,\n         [0.],\n         [0.],\n         [0.]], dtype=float32)>,\n  'state_id': <tf.Tensor: id=853781, shape=(1883, 1), dtype=float32, numpy=\n  array([[0.],\n         [0.],\n         [0.],\n         ...,\n         [0.],\n         [0.],\n         [0.]], dtype=float32)>,\n  'time_series': <tf.Tensor: id=853783, shape=(1883, 30, 1), dtype=float32, numpy=\n  array([[[0.],\n          [0.],\n          [0.],\n          ...,\n          [0.],\n          [0.],\n          [0.]],\n  \n         [[0.],\n          [0.],\n          [0.],\n          ...,\n          [0.],\n          [0.],\n          [0.]],\n  \n         [[0.],\n          [0.],\n          [0.],\n          ...,\n          [0.],\n          [0.],\n          [0.]],\n  \n         ...,\n  \n         [[2.],\n          [0.],\n          [1.],\n          ...,\n          [1.],\n          [1.],\n          [3.]],\n  \n         [[0.],\n          [1.],\n          [1.],\n          ...,\n          [1.],\n          [3.],\n          [0.]],\n  \n         [[1.],\n          [1.],\n          [1.],\n          ...,\n          [3.],\n          [0.],\n          [1.]]], dtype=float32)>,\n  'label': <tf.Tensor: id=853780, shape=(1883, 1), dtype=float32, numpy=\n  array([[0.],\n         [0.],\n         [0.],\n         ...,\n         [0.],\n         [1.],\n         [1.]], dtype=float32)>}]"
     },
     "metadata": {},
     "execution_count": 7
    }
   ],
   "source": [
    "list(dataset.take(1))"
   ]
  },
  {
   "cell_type": "code",
   "execution_count": null,
   "metadata": {},
   "outputs": [],
   "source": []
  }
 ]
}