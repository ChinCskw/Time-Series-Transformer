{
 "cells": [
  {
   "cell_type": "code",
   "execution_count": 1,
   "metadata": {},
   "outputs": [],
   "source": [
    "import pandas as pd\n",
    "import pyarrow as pa\n",
    "from collections import defaultdict\n",
    "from pyarrow import parquet as pq\n",
    "import gc"
   ]
  },
  {
   "cell_type": "code",
   "execution_count": 2,
   "metadata": {},
   "outputs": [],
   "source": [
    "train = pd.read_csv('../Data/Train/sales_train_validation.csv')\n",
    "train = train.drop(['item_id','dept_id','cat_id','store_id','state_id'],axis =1)\n",
    "train.index = train.id\n",
    "train = train.drop('id',axis = 1)"
   ]
  },
  {
   "cell_type": "code",
   "execution_count": 20,
   "metadata": {},
   "outputs": [],
   "source": [
    "def get_time_tensor(arr,window_size, start_date=0):\n",
    "    Xtensor = []\n",
    "    Ytensor = []\n",
    "    date_interval = []\n",
    "    for ix, v in enumerate(arr):\n",
    "        if ix+1 >= window_size and ix+1 < len(arr):\n",
    "            tmp = arr[ix+1-window_size:ix+1]\n",
    "            Xtensor.append(tmp)\n",
    "            Ytensor.append(arr[ix+1])\n",
    "            date_interval.append(list(range(ix+1-window_size+start_date,ix+1+start_date)))\n",
    "    return Xtensor,Ytensor,date_interval\n",
    "\n",
    "def _get_item_id(fullIndex):\n",
    "    tmp = fullIndex.split('_')\n",
    "    return '_'.join(tmp[:3])\n",
    "\n",
    "def _get_store_id(fullIndex):\n",
    "    tmp = fullIndex.split('_')\n",
    "    return '_'.join(tmp[3:5])\n",
    "\n",
    "def _get_cate_info(fullIndex,cateInfoDir):\n",
    "    item_id = _get_item_id(fullIndex)\n",
    "    store_id = _get_store_id(fullIndex)\n",
    "    return pd.read_parquet(cateInfoDir,filters = [(\"item_id\",'=',str(item_id)),(\"store_id\",'=',str(store_id))])\n",
    "\n",
    "def _get_events(calendar_dir,sdate,edate):\n",
    "    df = pd.read_csv(calendar_dir)\n",
    "    df['d_num'] = df.d.apply(lambda x: x.replace('d_','')).astype('int')\n",
    "    return df[df.d_num.apply(lambda x: x <= edate and x >= sdate)]\n",
    "\n",
    "def _get_future_events(calendar_dir, sdate,duration):\n",
    "    edate = sdate+duration-1\n",
    "    return _get_events(calendar_dir,sdate,edate)\n"
   ]
  },
  {
   "cell_type": "code",
   "execution_count": 22,
   "metadata": {},
   "outputs": [
    {
     "data": {
      "text/html": "<div>\n<style scoped>\n    .dataframe tbody tr th:only-of-type {\n        vertical-align: middle;\n    }\n\n    .dataframe tbody tr th {\n        vertical-align: top;\n    }\n\n    .dataframe thead th {\n        text-align: right;\n    }\n</style>\n<table border=\"1\" class=\"dataframe\">\n  <thead>\n    <tr style=\"text-align: right;\">\n      <th></th>\n      <th>date</th>\n      <th>wm_yr_wk</th>\n      <th>weekday</th>\n      <th>wday</th>\n      <th>month</th>\n      <th>year</th>\n      <th>d</th>\n      <th>event_name_1</th>\n      <th>event_type_1</th>\n      <th>event_name_2</th>\n      <th>event_type_2</th>\n      <th>snap_CA</th>\n      <th>snap_TX</th>\n      <th>snap_WI</th>\n      <th>d_num</th>\n    </tr>\n  </thead>\n  <tbody>\n    <tr>\n      <th>99</th>\n      <td>2011-05-08</td>\n      <td>11115</td>\n      <td>Sunday</td>\n      <td>2</td>\n      <td>5</td>\n      <td>2011</td>\n      <td>d_100</td>\n      <td>Mother's day</td>\n      <td>Cultural</td>\n      <td>NaN</td>\n      <td>NaN</td>\n      <td>1</td>\n      <td>0</td>\n      <td>1</td>\n      <td>100</td>\n    </tr>\n    <tr>\n      <th>100</th>\n      <td>2011-05-09</td>\n      <td>11115</td>\n      <td>Monday</td>\n      <td>3</td>\n      <td>5</td>\n      <td>2011</td>\n      <td>d_101</td>\n      <td>NaN</td>\n      <td>NaN</td>\n      <td>NaN</td>\n      <td>NaN</td>\n      <td>1</td>\n      <td>1</td>\n      <td>1</td>\n      <td>101</td>\n    </tr>\n    <tr>\n      <th>101</th>\n      <td>2011-05-10</td>\n      <td>11115</td>\n      <td>Tuesday</td>\n      <td>4</td>\n      <td>5</td>\n      <td>2011</td>\n      <td>d_102</td>\n      <td>NaN</td>\n      <td>NaN</td>\n      <td>NaN</td>\n      <td>NaN</td>\n      <td>1</td>\n      <td>0</td>\n      <td>0</td>\n      <td>102</td>\n    </tr>\n    <tr>\n      <th>102</th>\n      <td>2011-05-11</td>\n      <td>11115</td>\n      <td>Wednesday</td>\n      <td>5</td>\n      <td>5</td>\n      <td>2011</td>\n      <td>d_103</td>\n      <td>NaN</td>\n      <td>NaN</td>\n      <td>NaN</td>\n      <td>NaN</td>\n      <td>0</td>\n      <td>1</td>\n      <td>1</td>\n      <td>103</td>\n    </tr>\n    <tr>\n      <th>103</th>\n      <td>2011-05-12</td>\n      <td>11115</td>\n      <td>Thursday</td>\n      <td>6</td>\n      <td>5</td>\n      <td>2011</td>\n      <td>d_104</td>\n      <td>NaN</td>\n      <td>NaN</td>\n      <td>NaN</td>\n      <td>NaN</td>\n      <td>0</td>\n      <td>1</td>\n      <td>1</td>\n      <td>104</td>\n    </tr>\n    <tr>\n      <th>104</th>\n      <td>2011-05-13</td>\n      <td>11115</td>\n      <td>Friday</td>\n      <td>7</td>\n      <td>5</td>\n      <td>2011</td>\n      <td>d_105</td>\n      <td>NaN</td>\n      <td>NaN</td>\n      <td>NaN</td>\n      <td>NaN</td>\n      <td>0</td>\n      <td>1</td>\n      <td>0</td>\n      <td>105</td>\n    </tr>\n    <tr>\n      <th>105</th>\n      <td>2011-05-14</td>\n      <td>11116</td>\n      <td>Saturday</td>\n      <td>1</td>\n      <td>5</td>\n      <td>2011</td>\n      <td>d_106</td>\n      <td>NaN</td>\n      <td>NaN</td>\n      <td>NaN</td>\n      <td>NaN</td>\n      <td>0</td>\n      <td>0</td>\n      <td>1</td>\n      <td>106</td>\n    </tr>\n    <tr>\n      <th>106</th>\n      <td>2011-05-15</td>\n      <td>11116</td>\n      <td>Sunday</td>\n      <td>2</td>\n      <td>5</td>\n      <td>2011</td>\n      <td>d_107</td>\n      <td>NaN</td>\n      <td>NaN</td>\n      <td>NaN</td>\n      <td>NaN</td>\n      <td>0</td>\n      <td>1</td>\n      <td>1</td>\n      <td>107</td>\n    </tr>\n    <tr>\n      <th>107</th>\n      <td>2011-05-16</td>\n      <td>11116</td>\n      <td>Monday</td>\n      <td>3</td>\n      <td>5</td>\n      <td>2011</td>\n      <td>d_108</td>\n      <td>NaN</td>\n      <td>NaN</td>\n      <td>NaN</td>\n      <td>NaN</td>\n      <td>0</td>\n      <td>0</td>\n      <td>0</td>\n      <td>108</td>\n    </tr>\n    <tr>\n      <th>108</th>\n      <td>2011-05-17</td>\n      <td>11116</td>\n      <td>Tuesday</td>\n      <td>4</td>\n      <td>5</td>\n      <td>2011</td>\n      <td>d_109</td>\n      <td>NaN</td>\n      <td>NaN</td>\n      <td>NaN</td>\n      <td>NaN</td>\n      <td>0</td>\n      <td>0</td>\n      <td>0</td>\n      <td>109</td>\n    </tr>\n  </tbody>\n</table>\n</div>",
      "text/plain": "           date  wm_yr_wk    weekday  wday  month  year      d  event_name_1  \\\n99   2011-05-08     11115     Sunday     2      5  2011  d_100  Mother's day   \n100  2011-05-09     11115     Monday     3      5  2011  d_101           NaN   \n101  2011-05-10     11115    Tuesday     4      5  2011  d_102           NaN   \n102  2011-05-11     11115  Wednesday     5      5  2011  d_103           NaN   \n103  2011-05-12     11115   Thursday     6      5  2011  d_104           NaN   \n104  2011-05-13     11115     Friday     7      5  2011  d_105           NaN   \n105  2011-05-14     11116   Saturday     1      5  2011  d_106           NaN   \n106  2011-05-15     11116     Sunday     2      5  2011  d_107           NaN   \n107  2011-05-16     11116     Monday     3      5  2011  d_108           NaN   \n108  2011-05-17     11116    Tuesday     4      5  2011  d_109           NaN   \n\n    event_type_1 event_name_2 event_type_2  snap_CA  snap_TX  snap_WI  d_num  \n99      Cultural          NaN          NaN        1        0        1    100  \n100          NaN          NaN          NaN        1        1        1    101  \n101          NaN          NaN          NaN        1        0        0    102  \n102          NaN          NaN          NaN        0        1        1    103  \n103          NaN          NaN          NaN        0        1        1    104  \n104          NaN          NaN          NaN        0        1        0    105  \n105          NaN          NaN          NaN        0        0        1    106  \n106          NaN          NaN          NaN        0        1        1    107  \n107          NaN          NaN          NaN        0        0        0    108  \n108          NaN          NaN          NaN        0        0        0    109  "
     },
     "execution_count": 22,
     "metadata": {},
     "output_type": "execute_result"
    }
   ],
   "source": [
    "_get_future_events('../Data/Train/calendar.csv',100,10)"
   ]
  },
  {
   "cell_type": "code",
   "execution_count": 36,
   "metadata": {},
   "outputs": [],
   "source": [
    "df = pd.read_csv('../Data/Train/sell_prices.csv')"
   ]
  },
  {
   "cell_type": "code",
   "execution_count": 43,
   "metadata": {},
   "outputs": [],
   "source": [
    "b = df.groupby(['store_id','item_id']).wm_yr_wk.max()"
   ]
  },
  {
   "cell_type": "code",
   "execution_count": 45,
   "metadata": {},
   "outputs": [
    {
     "data": {
      "text/plain": "Series([], Name: wm_yr_wk, dtype: int64)"
     },
     "execution_count": 45,
     "metadata": {},
     "output_type": "execute_result"
    }
   ],
   "source": [
    "b[b != 11621]"
   ]
  },
  {
   "cell_type": "code",
   "execution_count": null,
   "metadata": {},
   "outputs": [],
   "source": []
  },
  {
   "cell_type": "code",
   "execution_count": 32,
   "metadata": {},
   "outputs": [
    {
     "data": {
      "text/plain": "56"
     },
     "execution_count": 32,
     "metadata": {},
     "output_type": "execute_result"
    }
   ],
   "source": [
    "1969-1913"
   ]
  },
  {
   "cell_type": "code",
   "execution_count": null,
   "metadata": {},
   "outputs": [],
   "source": []
  }
 ],
 "metadata": {
  "kernelspec": {
   "display_name": "Python 3",
   "language": "python",
   "name": "python3"
  },
  "language_info": {
   "codemirror_mode": {
    "name": "ipython",
    "version": 3
   },
   "file_extension": ".py",
   "mimetype": "text/x-python",
   "name": "python",
   "nbconvert_exporter": "python",
   "pygments_lexer": "ipython3",
   "version": "3.7.3-final"
  },
  "toc": {
   "base_numbering": 1,
   "nav_menu": {},
   "number_sections": true,
   "sideBar": true,
   "skip_h1_title": false,
   "title_cell": "Table of Contents",
   "title_sidebar": "Contents",
   "toc_cell": false,
   "toc_position": {},
   "toc_section_display": true,
   "toc_window_display": false
  }
 },
 "nbformat": 4,
 "nbformat_minor": 2
}