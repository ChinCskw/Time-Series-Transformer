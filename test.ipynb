{
 "nbformat": 4,
 "nbformat_minor": 2,
 "metadata": {
  "language_info": {
   "name": "python",
   "codemirror_mode": {
    "name": "ipython",
    "version": 3
   },
   "version": "3.7.3-final"
  },
  "orig_nbformat": 2,
  "file_extension": ".py",
  "mimetype": "text/x-python",
  "name": "python",
  "npconvert_exporter": "python",
  "pygments_lexer": "ipython3",
  "version": 3,
  "kernelspec": {
   "name": "python3",
   "display_name": "Python 3"
  }
 },
 "cells": [
  {
   "cell_type": "code",
   "execution_count": 1,
   "metadata": {},
   "outputs": [],
   "source": [
    "import pandas as pd\n",
    "import numpy as np\n",
    "import time_series_transform.base as base\n",
    "from time_series_transform.time_series_transformer import *"
   ]
  },
  {
   "cell_type": "code",
   "execution_count": 2,
   "metadata": {},
   "outputs": [],
   "source": [
    "df = pd.DataFrame([{'t1':1,'t2':2,'t3':3,'t4':4,'cate1':30},{'t1':1,'t2':2,'t3':3,'t4':4,'cate1':30}])"
   ]
  },
  {
   "cell_type": "code",
   "execution_count": 3,
   "metadata": {},
   "outputs": [],
   "source": [
    "data = df.to_dict('records')[0]"
   ]
  },
  {
   "cell_type": "code",
   "execution_count": 4,
   "metadata": {},
   "outputs": [],
   "source": [
    "config = {}\n",
    "config['series'] = {\n",
    "    'colNames':['t1','t2','t3','t4'],\n",
    "    'tensorType':'sequence',\n",
    "    'param':{\n",
    "        'windowSize':2,\n",
    "        'outType':np.float32\n",
    "    }\n",
    "}\n",
    "config['label'] = {\n",
    "    'colNames':['t1','t2','t3','t4'],\n",
    "    'tensorType':'label',\n",
    "    'param':{\n",
    "        'windowSize':2,\n",
    "        'outType':np.float32\n",
    "    }\n",
    "}\n",
    "config['series_2'] = {\n",
    "    'colNames':['t1','t2','t3','t4'],\n",
    "    'tensorType':'sequence',\n",
    "    'param':{\n",
    "        'windowSize':2,\n",
    "        'outType':np.float32\n",
    "    },\n",
    "    'sequence_stack':\"series\"\n",
    "}"
   ]
  },
  {
   "cell_type": "code",
   "execution_count": 5,
   "metadata": {},
   "outputs": [],
   "source": [
    "pst = Pandas_Time_Series_Dataset(df,config)"
   ]
  },
  {
   "cell_type": "code",
   "execution_count": 6,
   "metadata": {},
   "outputs": [
    {
     "output_type": "execute_result",
     "data": {
      "text/plain": "[None, <time_series_transform.base.Time_Series_Tensor at 0x154eed71f60>]"
     },
     "metadata": {},
     "execution_count": 6
    }
   ],
   "source": [
    "pst._make_time_series_dataset(data)"
   ]
  },
  {
   "cell_type": "code",
   "execution_count": null,
   "metadata": {},
   "outputs": [],
   "source": []
  }
 ]
}