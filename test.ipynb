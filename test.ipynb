{
 "cells": [
  {
   "cell_type": "code",
   "execution_count": 2,
   "metadata": {},
   "outputs": [],
   "source": [
    "import pandas as pd\n",
    "import numpy as np\n",
    "import time_series_transform.base as base\n",
    "from time_series_transform.time_series_transformer import *"
   ]
  },
  {
   "cell_type": "code",
   "execution_count": 3,
   "metadata": {},
   "outputs": [],
   "source": [
    "df = pd.read_csv('./Data/Train/sales_train_validation.csv')\n",
    "df.index = df.id\n",
    "df = df.drop('id',axis=1)"
   ]
  },
  {
   "cell_type": "code",
   "execution_count": 4,
   "metadata": {},
   "outputs": [],
   "source": [
    "CATEGORICAL_DIM = [\n",
    "    'item_id','dept_id','cat_id','store_id','state_id'\n",
    "]\n",
    "WINDOW_SIZE = 20\n",
    "TEST_RANGE = WINDOW_SIZE + 20"
   ]
  },
  {
   "cell_type": "code",
   "execution_count": 5,
   "metadata": {},
   "outputs": [],
   "source": [
    "testDate = list(map(lambda x: 'd_'+str(x),list(range(1913-TEST_RANGE,1914))))\n",
    "trainDateDrop = list(map(lambda x: 'd_'+str(x),list(range(1,1600))))\n",
    "test = df[CATEGORICAL_DIM+testDate]\n",
    "train = df.drop(testDate+trainDateDrop,axis = 1)\n",
    "SEQ_TRANSFORMER = []"
   ]
  },
  {
   "cell_type": "code",
   "execution_count": 6,
   "metadata": {},
   "outputs": [],
   "source": [
    "T_SEQUENCE_SIZE = len(train.drop(CATEGORICAL_DIM,axis =1).columns)-WINDOW_SIZE +1"
   ]
  },
  {
   "cell_type": "code",
   "execution_count": 13,
   "metadata": {},
   "outputs": [],
   "source": [
    "ptt = Pandas_Time_Series_Dataset(train)\n",
    "for i in CATEGORICAL_DIM:\n",
    "    ptt.set_config(name = i,\n",
    "                   colNames = [i],\n",
    "                   tensorType = 'category',\n",
    "                   param = {\"windowSize\":0,\"batchSize\":T_SEQUENCE_SIZE,\"outType\":np.float32},\n",
    "                   sequence_stack = None,\n",
    "                   isResponseVar = False\n",
    "                  )"
   ]
  },
  {
   "cell_type": "code",
   "execution_count": 14,
   "metadata": {},
   "outputs": [],
   "source": [
    "gen = ptt.make_data_generator()"
   ]
  },
  {
   "cell_type": "code",
   "execution_count": 16,
   "metadata": {},
   "outputs": [],
   "source": [
    "pass"
   ]
  },
  {
   "cell_type": "code",
   "execution_count": 12,
   "metadata": {},
   "outputs": [
    {
     "data": {
      "text/plain": [
       "{'item_id': {'colNames': 'item_id',\n",
       "  'tensorType': 'category',\n",
       "  'param': {'windowSize': 0, 'batchSize': 254, 'outType': numpy.float32},\n",
       "  'sequence_stack': None,\n",
       "  'responseVariable': False},\n",
       " 'dept_id': {'colNames': 'dept_id',\n",
       "  'tensorType': 'category',\n",
       "  'param': {'windowSize': 0, 'batchSize': 254, 'outType': numpy.float32},\n",
       "  'sequence_stack': None,\n",
       "  'responseVariable': False},\n",
       " 'cat_id': {'colNames': 'cat_id',\n",
       "  'tensorType': 'category',\n",
       "  'param': {'windowSize': 0, 'batchSize': 254, 'outType': numpy.float32},\n",
       "  'sequence_stack': None,\n",
       "  'responseVariable': False},\n",
       " 'store_id': {'colNames': 'store_id',\n",
       "  'tensorType': 'category',\n",
       "  'param': {'windowSize': 0, 'batchSize': 254, 'outType': numpy.float32},\n",
       "  'sequence_stack': None,\n",
       "  'responseVariable': False},\n",
       " 'state_id': {'colNames': 'state_id',\n",
       "  'tensorType': 'category',\n",
       "  'param': {'windowSize': 0, 'batchSize': 254, 'outType': numpy.float32},\n",
       "  'sequence_stack': None,\n",
       "  'responseVariable': False}}"
      ]
     },
     "execution_count": 12,
     "metadata": {},
     "output_type": "execute_result"
    }
   ],
   "source": [
    "ptt.config"
   ]
  },
  {
   "cell_type": "code",
   "execution_count": null,
   "metadata": {},
   "outputs": [],
   "source": []
  }
 ],
 "metadata": {
  "file_extension": ".py",
  "kernelspec": {
   "display_name": "Python 3",
   "language": "python",
   "name": "python3"
  },
  "language_info": {
   "codemirror_mode": {
    "name": "ipython",
    "version": 3
   },
   "file_extension": ".py",
   "mimetype": "text/x-python",
   "name": "python",
   "nbconvert_exporter": "python",
   "pygments_lexer": "ipython3",
   "version": "3.7.3"
  },
  "mimetype": "text/x-python",
  "name": "python",
  "npconvert_exporter": "python",
  "pygments_lexer": "ipython3",
  "toc": {
   "base_numbering": 1,
   "nav_menu": {},
   "number_sections": true,
   "sideBar": true,
   "skip_h1_title": false,
   "title_cell": "Table of Contents",
   "title_sidebar": "Contents",
   "toc_cell": false,
   "toc_position": {},
   "toc_section_display": true,
   "toc_window_display": false
  },
  "version": 3
 },
 "nbformat": 4,
 "nbformat_minor": 2
}
