{
 "cells": [
  {
   "cell_type": "code",
   "execution_count": 1,
   "metadata": {},
   "outputs": [],
   "source": [
    "import pandas as pd\n",
    "import numpy as np\n",
    "import time_series_transform.base as base\n",
    "from time_series_transform.time_series_transformer import *\n",
    "from sklearn.preprocessing import StandardScaler\n",
    "import scipy\n",
    "from time_series_transform.tensorflow_adopter import *"
   ]
  },
  {
   "cell_type": "code",
   "execution_count": 3,
   "metadata": {},
   "outputs": [
    {
     "data": {
      "text/html": [
       "<div>\n",
       "<style scoped>\n",
       "    .dataframe tbody tr th:only-of-type {\n",
       "        vertical-align: middle;\n",
       "    }\n",
       "\n",
       "    .dataframe tbody tr th {\n",
       "        vertical-align: top;\n",
       "    }\n",
       "\n",
       "    .dataframe thead th {\n",
       "        text-align: right;\n",
       "    }\n",
       "</style>\n",
       "<table border=\"1\" class=\"dataframe\">\n",
       "  <thead>\n",
       "    <tr style=\"text-align: right;\">\n",
       "      <th></th>\n",
       "      <th>Open</th>\n",
       "      <th>High</th>\n",
       "      <th>Low</th>\n",
       "      <th>Close</th>\n",
       "      <th>Adj Close</th>\n",
       "      <th>Volume</th>\n",
       "    </tr>\n",
       "  </thead>\n",
       "  <tbody>\n",
       "    <tr>\n",
       "      <th>0</th>\n",
       "      <td>1469.250000</td>\n",
       "      <td>1478.000000</td>\n",
       "      <td>1438.359985</td>\n",
       "      <td>1455.219971</td>\n",
       "      <td>1455.219971</td>\n",
       "      <td>931800000</td>\n",
       "    </tr>\n",
       "    <tr>\n",
       "      <th>1</th>\n",
       "      <td>1455.219971</td>\n",
       "      <td>1455.219971</td>\n",
       "      <td>1397.430054</td>\n",
       "      <td>1399.420044</td>\n",
       "      <td>1399.420044</td>\n",
       "      <td>1009000000</td>\n",
       "    </tr>\n",
       "    <tr>\n",
       "      <th>2</th>\n",
       "      <td>1399.420044</td>\n",
       "      <td>1413.270020</td>\n",
       "      <td>1377.680054</td>\n",
       "      <td>1402.109985</td>\n",
       "      <td>1402.109985</td>\n",
       "      <td>1085500000</td>\n",
       "    </tr>\n",
       "    <tr>\n",
       "      <th>3</th>\n",
       "      <td>1402.109985</td>\n",
       "      <td>1411.900024</td>\n",
       "      <td>1392.099976</td>\n",
       "      <td>1403.449951</td>\n",
       "      <td>1403.449951</td>\n",
       "      <td>1092300000</td>\n",
       "    </tr>\n",
       "    <tr>\n",
       "      <th>4</th>\n",
       "      <td>1403.449951</td>\n",
       "      <td>1441.469971</td>\n",
       "      <td>1400.729980</td>\n",
       "      <td>1441.469971</td>\n",
       "      <td>1441.469971</td>\n",
       "      <td>1225200000</td>\n",
       "    </tr>\n",
       "    <tr>\n",
       "      <th>...</th>\n",
       "      <td>...</td>\n",
       "      <td>...</td>\n",
       "      <td>...</td>\n",
       "      <td>...</td>\n",
       "      <td>...</td>\n",
       "      <td>...</td>\n",
       "    </tr>\n",
       "    <tr>\n",
       "      <th>5156</th>\n",
       "      <td>3105.919922</td>\n",
       "      <td>3128.439941</td>\n",
       "      <td>3101.169922</td>\n",
       "      <td>3115.860107</td>\n",
       "      <td>3115.860107</td>\n",
       "      <td>4443130000</td>\n",
       "    </tr>\n",
       "    <tr>\n",
       "      <th>5157</th>\n",
       "      <td>3143.639893</td>\n",
       "      <td>3165.810059</td>\n",
       "      <td>3124.520020</td>\n",
       "      <td>3130.010010</td>\n",
       "      <td>3130.010010</td>\n",
       "      <td>4190830000</td>\n",
       "    </tr>\n",
       "    <tr>\n",
       "      <th>5158</th>\n",
       "      <td>3155.290039</td>\n",
       "      <td>3182.590088</td>\n",
       "      <td>3155.290039</td>\n",
       "      <td>3179.719971</td>\n",
       "      <td>3179.719971</td>\n",
       "      <td>4736450000</td>\n",
       "    </tr>\n",
       "    <tr>\n",
       "      <th>5159</th>\n",
       "      <td>3166.439941</td>\n",
       "      <td>3184.149902</td>\n",
       "      <td>3142.929932</td>\n",
       "      <td>3145.320068</td>\n",
       "      <td>3145.320068</td>\n",
       "      <td>4563700000</td>\n",
       "    </tr>\n",
       "    <tr>\n",
       "      <th>5160</th>\n",
       "      <td>3153.070068</td>\n",
       "      <td>3171.800049</td>\n",
       "      <td>3136.530029</td>\n",
       "      <td>3169.939941</td>\n",
       "      <td>3169.939941</td>\n",
       "      <td>4927700000</td>\n",
       "    </tr>\n",
       "  </tbody>\n",
       "</table>\n",
       "<p>5161 rows × 6 columns</p>\n",
       "</div>"
      ],
      "text/plain": [
       "             Open         High          Low        Close    Adj Close  \\\n",
       "0     1469.250000  1478.000000  1438.359985  1455.219971  1455.219971   \n",
       "1     1455.219971  1455.219971  1397.430054  1399.420044  1399.420044   \n",
       "2     1399.420044  1413.270020  1377.680054  1402.109985  1402.109985   \n",
       "3     1402.109985  1411.900024  1392.099976  1403.449951  1403.449951   \n",
       "4     1403.449951  1441.469971  1400.729980  1441.469971  1441.469971   \n",
       "...           ...          ...          ...          ...          ...   \n",
       "5156  3105.919922  3128.439941  3101.169922  3115.860107  3115.860107   \n",
       "5157  3143.639893  3165.810059  3124.520020  3130.010010  3130.010010   \n",
       "5158  3155.290039  3182.590088  3155.290039  3179.719971  3179.719971   \n",
       "5159  3166.439941  3184.149902  3142.929932  3145.320068  3145.320068   \n",
       "5160  3153.070068  3171.800049  3136.530029  3169.939941  3169.939941   \n",
       "\n",
       "          Volume  \n",
       "0      931800000  \n",
       "1     1009000000  \n",
       "2     1085500000  \n",
       "3     1092300000  \n",
       "4     1225200000  \n",
       "...          ...  \n",
       "5156  4443130000  \n",
       "5157  4190830000  \n",
       "5158  4736450000  \n",
       "5159  4563700000  \n",
       "5160  4927700000  \n",
       "\n",
       "[5161 rows x 6 columns]"
      ]
     },
     "execution_count": 3,
     "metadata": {},
     "output_type": "execute_result"
    }
   ],
   "source": [
    "df = pd.read_csv('./Data/Stock/sp.csv')\n",
    "df = df.sort_values('Date')\n",
    "df= df.drop('Date',axis =1)\n",
    "df"
   ]
  },
  {
   "cell_type": "code",
   "execution_count": 4,
   "metadata": {},
   "outputs": [],
   "source": [
    "df = df.dropna()\n",
    "df = pd.DataFrame(df.to_records())\n",
    "df = df.drop('index',axis =1)"
   ]
  },
  {
   "cell_type": "code",
   "execution_count": 5,
   "metadata": {},
   "outputs": [],
   "source": [
    "def first_difference(df,label):\n",
    "    df[f'{label}_lag1']=df[label].shift(1)\n",
    "    df[f'Diff_{label}'] = df[label]-df[f'{label}_lag1']\n",
    "    return df\n",
    "df = first_difference(df,'High')\n",
    "df = first_difference(df,'Low')\n",
    "df = first_difference(df,'Open')\n",
    "df = first_difference(df,'Close')"
   ]
  },
  {
   "cell_type": "code",
   "execution_count": 6,
   "metadata": {
    "scrolled": true
   },
   "outputs": [],
   "source": [
    "df['High_mvg50'] = df.High.rolling(50).mean()\n",
    "df['High_mvg200'] = df.High.rolling(200).mean()\n",
    "df['Low_mvg50'] = df.Low.rolling(50).mean()\n",
    "df['Low_mvg200'] = df.Low.rolling(200).mean()\n",
    "df['High_fft'] = np.fft.fft(df.High.values)\n",
    "df['Low_fft'] = np.fft.fft(df.Low.values)\n",
    "df['Close_fft'] = np.fft.fft(df.Close.values)\n",
    "df['Open_fft'] = np.fft.fft(df.Open.values)\n",
    "df['Volume_fft'] = np.fft.fft(df.Volume.values)\n",
    "df = df.dropna()"
   ]
  },
  {
   "cell_type": "code",
   "execution_count": 7,
   "metadata": {
    "scrolled": true
   },
   "outputs": [],
   "source": [
    "resDf = None\n",
    "for i in df:\n",
    "    tmp = pd.DataFrame(df[i]).transpose()\n",
    "    tmp.columns = map(lambda x: f'{i}_{str(x)}',tmp.columns)\n",
    "    tmp['merge'] = np.array([0])\n",
    "    if resDf is None:\n",
    "        resDf = tmp\n",
    "    else:\n",
    "        resDf = resDf.merge(tmp, on = ['merge'])"
   ]
  },
  {
   "cell_type": "code",
   "execution_count": 8,
   "metadata": {
    "scrolled": true
   },
   "outputs": [
    {
     "data": {
      "text/html": [
       "<div>\n",
       "<style scoped>\n",
       "    .dataframe tbody tr th:only-of-type {\n",
       "        vertical-align: middle;\n",
       "    }\n",
       "\n",
       "    .dataframe tbody tr th {\n",
       "        vertical-align: top;\n",
       "    }\n",
       "\n",
       "    .dataframe thead th {\n",
       "        text-align: right;\n",
       "    }\n",
       "</style>\n",
       "<table border=\"1\" class=\"dataframe\">\n",
       "  <thead>\n",
       "    <tr style=\"text-align: right;\">\n",
       "      <th></th>\n",
       "      <th>Open_199</th>\n",
       "      <th>Open_200</th>\n",
       "      <th>Open_201</th>\n",
       "      <th>Open_202</th>\n",
       "      <th>Open_203</th>\n",
       "      <th>Open_204</th>\n",
       "      <th>Open_205</th>\n",
       "      <th>Open_206</th>\n",
       "      <th>Open_207</th>\n",
       "      <th>Open_208</th>\n",
       "      <th>...</th>\n",
       "      <th>Volume_fft_5151</th>\n",
       "      <th>Volume_fft_5152</th>\n",
       "      <th>Volume_fft_5153</th>\n",
       "      <th>Volume_fft_5154</th>\n",
       "      <th>Volume_fft_5155</th>\n",
       "      <th>Volume_fft_5156</th>\n",
       "      <th>Volume_fft_5157</th>\n",
       "      <th>Volume_fft_5158</th>\n",
       "      <th>Volume_fft_5159</th>\n",
       "      <th>Volume_fft_5160</th>\n",
       "    </tr>\n",
       "  </thead>\n",
       "  <tbody>\n",
       "    <tr>\n",
       "      <th>0</th>\n",
       "      <td>1374.170044</td>\n",
       "      <td>1374.619995</td>\n",
       "      <td>1349.969971</td>\n",
       "      <td>1342.130005</td>\n",
       "      <td>1388.76001</td>\n",
       "      <td>1396.930054</td>\n",
       "      <td>1395.780029</td>\n",
       "      <td>1398.130005</td>\n",
       "      <td>1364.900024</td>\n",
       "      <td>1364.439941</td>\n",
       "      <td>...</td>\n",
       "      <td>1.184392e+11-3.583532e+11j</td>\n",
       "      <td>4.117844e+11-3.175527e+11j</td>\n",
       "      <td>-9.981340e+10-3.003119e+11j</td>\n",
       "      <td>4.482362e+11-2.047702e+11j</td>\n",
       "      <td>-1.701796e+11-1.008210e+12j</td>\n",
       "      <td>4.242559e+11-1.955758e+11j</td>\n",
       "      <td>3.714791e+11-1.030745e+12j</td>\n",
       "      <td>-5.401204e+11+2.512636e+11j</td>\n",
       "      <td>1.635839e+12-2.006339e+12j</td>\n",
       "      <td>-2.608224e+12-2.233216e+12j</td>\n",
       "    </tr>\n",
       "  </tbody>\n",
       "</table>\n",
       "<p>1 rows × 114127 columns</p>\n",
       "</div>"
      ],
      "text/plain": [
       "      Open_199     Open_200     Open_201     Open_202    Open_203  \\\n",
       "0  1374.170044  1374.619995  1349.969971  1342.130005  1388.76001   \n",
       "\n",
       "      Open_204     Open_205     Open_206     Open_207     Open_208  ...  \\\n",
       "0  1396.930054  1395.780029  1398.130005  1364.900024  1364.439941  ...   \n",
       "\n",
       "              Volume_fft_5151             Volume_fft_5152  \\\n",
       "0  1.184392e+11-3.583532e+11j  4.117844e+11-3.175527e+11j   \n",
       "\n",
       "              Volume_fft_5153             Volume_fft_5154  \\\n",
       "0 -9.981340e+10-3.003119e+11j  4.482362e+11-2.047702e+11j   \n",
       "\n",
       "              Volume_fft_5155             Volume_fft_5156  \\\n",
       "0 -1.701796e+11-1.008210e+12j  4.242559e+11-1.955758e+11j   \n",
       "\n",
       "              Volume_fft_5157             Volume_fft_5158  \\\n",
       "0  3.714791e+11-1.030745e+12j -5.401204e+11+2.512636e+11j   \n",
       "\n",
       "              Volume_fft_5159             Volume_fft_5160  \n",
       "0  1.635839e+12-2.006339e+12j -2.608224e+12-2.233216e+12j  \n",
       "\n",
       "[1 rows x 114127 columns]"
      ]
     },
     "execution_count": 8,
     "metadata": {},
     "output_type": "execute_result"
    }
   ],
   "source": [
    "resDf"
   ]
  },
  {
   "cell_type": "code",
   "execution_count": 9,
   "metadata": {},
   "outputs": [],
   "source": [
    "trainDate = list(range(199,2000))\n",
    "valDate = list(range(2000,2600))\n",
    "testDate = list(range(2600,3200))\n",
    "labels = [\n",
    "#     'Close',\n",
    "#     'Open',\n",
    "#     'High',\n",
    "    'Diff_High',\n",
    "    'Diff_Low',\n",
    "    'Diff_Open',\n",
    "    'Diff_Close',\n",
    "#     'Low',\n",
    "#     'Volume',\n",
    "#     'Adj Close',\n",
    "#     'High_mvg50',\n",
    "#     'High_mvg200',\n",
    "#     'Low_mvg50',\n",
    "#     'Low_mvg200',\n",
    "    'High_fft',\n",
    "    'Open_fft',\n",
    "    'Close_fft',\n",
    "    'Low_fft',\n",
    "#     'Volume_fft'\n",
    "         ]\n",
    "WINDOW_SIZE = 400"
   ]
  },
  {
   "cell_type": "code",
   "execution_count": 11,
   "metadata": {},
   "outputs": [],
   "source": [
    "psd = Pandas_Time_Series_Dataset(resDf)\n",
    "for i,v in enumerate(labels):\n",
    "    if i == 0:\n",
    "        psd.set_config(\n",
    "            name = f'sequence',\n",
    "            colNames = list(map(lambda x: f'{v}_{str(x)}',trainDate)),\n",
    "            tensorType = 'sequence',\n",
    "            sequence_stack = None,\n",
    "            isResponseVar = False,\n",
    "            windowSize = WINDOW_SIZE,\n",
    "            seqSize = 1837,\n",
    "            outType = np.float32\n",
    "        )\n",
    "    else:\n",
    "        psd.set_config(\n",
    "            name = f'{v}_sequence',\n",
    "            colNames = list(map(lambda x: f'{v}_{str(x)}',trainDate)),\n",
    "            tensorType = 'sequence',\n",
    "            sequence_stack = \"sequence\",\n",
    "            isResponseVar = False,\n",
    "            windowSize = WINDOW_SIZE,\n",
    "            seqSize = 1837,\n",
    "            outType = np.float32\n",
    "        )\n",
    "        \n",
    "psd.set_config(\n",
    "    name = 'label',\n",
    "    colNames = list(map(lambda x: f'High_{str(x)}',trainDate)),\n",
    "    tensorType = 'label',\n",
    "    sequence_stack = None,\n",
    "    isResponseVar = True,\n",
    "    windowSize = WINDOW_SIZE,\n",
    "    seqSize = 1837,\n",
    "    outType = np.float32\n",
    ")\n"
   ]
  },
  {
   "cell_type": "code",
   "execution_count": 12,
   "metadata": {},
   "outputs": [
    {
     "name": "stderr",
     "output_type": "stream",
     "text": [
      "C:\\Users\\USER\\Documents\\Kaggle\\M5\\time_series_transform\\tensorflow_adopter.py:172: ComplexWarning: Casting complex values to real discards the imaginary part\n",
      "  return _bytes_feature(tf.io.serialize_tensor(value.astype(np.float32)))\n"
     ]
    }
   ],
   "source": [
    "gen = psd.make_data_generator()\n",
    "tfg = TFRecord_Writer('abc.tfRecord')\n",
    "tfg.write_tfRecord(gen)\n",
    "dtypeRecord_train = tfg.get_tfRecord_dtype()"
   ]
  },
  {
   "cell_type": "code",
   "execution_count": 14,
   "metadata": {
    "scrolled": true
   },
   "outputs": [],
   "source": [
    "psd = Pandas_Time_Series_Dataset(resDf)\n",
    "for i,v in enumerate(labels):\n",
    "    if i == 0:\n",
    "        psd.set_config(\n",
    "            name = f'sequence',\n",
    "            colNames = list(map(lambda x: f'{v}_{str(x)}',valDate)),\n",
    "            tensorType = 'sequence',\n",
    "            sequence_stack = None,\n",
    "            isResponseVar = False,\n",
    "            windowSize = WINDOW_SIZE,\n",
    "            seqSize = 1837,\n",
    "            outType = np.float32\n",
    "        )\n",
    "    else:\n",
    "        psd.set_config(\n",
    "            name = f'{v}_sequence',\n",
    "            colNames = list(map(lambda x: f'{v}_{str(x)}',valDate)),\n",
    "            tensorType = 'sequence',\n",
    "            sequence_stack = \"sequence\",\n",
    "            isResponseVar = False,\n",
    "            windowSize = WINDOW_SIZE,\n",
    "            seqSize = 1837,\n",
    "            outType = np.float32\n",
    "        )\n",
    "        \n",
    "psd.set_config(\n",
    "    name = 'label',\n",
    "    colNames = list(map(lambda x: f'High_{str(x)}',valDate)),\n",
    "    tensorType = 'label',\n",
    "    sequence_stack = None,\n",
    "    isResponseVar = True,\n",
    "    windowSize = WINDOW_SIZE,\n",
    "    seqSize = 1837,\n",
    "    outType = np.float32\n",
    ")"
   ]
  },
  {
   "cell_type": "code",
   "execution_count": 15,
   "metadata": {},
   "outputs": [],
   "source": [
    "gen = psd.make_data_generator()\n",
    "tfg = TFRecord_Writer('abc_val.tfRecord')\n",
    "tfg.write_tfRecord(gen)\n",
    "dtypeRecord_val = tfg.get_tfRecord_dtype()"
   ]
  },
  {
   "cell_type": "code",
   "execution_count": 17,
   "metadata": {},
   "outputs": [],
   "source": [
    "tfr_train = TFRecord_Reader('abc.tfRecord',dtypeRecord_train)\n",
    "tfr_val = TFRecord_Reader('abc_val.tfRecord',dtypeRecord_val)"
   ]
  },
  {
   "cell_type": "code",
   "execution_count": 18,
   "metadata": {},
   "outputs": [],
   "source": [
    "def data_transform(X):\n",
    "    # we only use the current week day and current price as feature\n",
    "    # ignore the rest of data within the window since the change is very limited.\n",
    "    X['current'] = X['sequence'][:,:-28,:]\n",
    "    X['past'] = X['sequence'][:,-28:,:]\n",
    "    Y = X['label']\n",
    "    return (X,Y)"
   ]
  },
  {
   "cell_type": "code",
   "execution_count": 19,
   "metadata": {},
   "outputs": [],
   "source": [
    "EVALUATION_INTERVAL = 250\n",
    "Validation_STEP =  250\n",
    "EPOCHS = 100\n",
    "\n",
    "\n",
    "train_dataset = tfr_train.make_tfDataset()\n",
    "val_dataset = tfr_val.make_tfDataset()\n",
    "batchsize = 1000\n",
    "\n",
    "train_dataset = train_dataset.shuffle(1000).unbatch().batch(2000).map(data_transform).\\\n",
    "prefetch(tf.data.experimental.AUTOTUNE).repeat()\n",
    "val_dataset = val_dataset.shuffle(1000).unbatch().batch(2000).map(data_transform).\\\n",
    "prefetch(tf.data.experimental.AUTOTUNE).repeat()"
   ]
  },
  {
   "cell_type": "code",
   "execution_count": 20,
   "metadata": {},
   "outputs": [],
   "source": [
    "def create_attention_model():\n",
    "    seq_input = tf.keras.layers.Input(shape=(WINDOW_SIZE,len(labels)),name = 'sequence')\n",
    "    \n",
    "    # lstm\n",
    "#     seq = tf.keras.layers.LayerNormalization()(seq_input)\n",
    "#     seq = tf.keras.layers.LSTM(5)(seq)\n",
    "    \n",
    "    #2d cnn\n",
    "    seq = tf.keras.layers.Reshape((20,20,len(labels)))(seq_input)\n",
    "    seq = tf.keras.layers.BatchNormalization()(seq)\n",
    "    seq = tf.keras.layers.Conv2D(5,(11,11),activation = 'relu')(seq)\n",
    "    seq = tf.keras.layers.MaxPooling2D((2,2))(seq)\n",
    "    seq = tf.keras.layers.BatchNormalization()(seq)\n",
    "    seq = tf.keras.layers.Conv2D(5,(2,2),activation = 'relu')(seq)\n",
    "    seq = tf.keras.layers.MaxPooling2D((2,2))(seq)\n",
    "    \n",
    "    #1d cnn\n",
    "#     seq = tf.keras.layers.BatchNormalization()(seq_input)\n",
    "#     seq = tf.keras.layers.Conv1D(5,3,activation = 'relu')(seq)\n",
    "#     seq = tf.keras.layers.MaxPooling1D(2)(seq)    \n",
    "\n",
    "\n",
    "    seq = tf.keras.layers.Flatten()(seq)\n",
    "    seq = tf.keras.layers.Dense(10,'elu')(seq)\n",
    "    seq = tf.keras.layers.Dropout(0.2)(seq)\n",
    "    seq = tf.keras.layers.Dense(5,'elu')(seq)\n",
    "    seq = tf.keras.layers.Dense(1)(seq)\n",
    "    \n",
    "\n",
    "    \n",
    "    lstm_embed = tf.keras.models.Model({\n",
    "        \"sequence\":seq_input\n",
    "                                       },\n",
    "                                       seq)\n",
    "\n",
    "    rmse = tf.keras.metrics.RootMeanSquaredError()\n",
    "    msle = tf.keras.losses.MeanSquaredLogarithmicError()\n",
    "    huber = tf.keras.losses.Huber()\n",
    "    adam = tf.keras.optimizers.Adam(lr = 0.1,\n",
    "                                    decay = 0.01,\n",
    "                                    amsgrad = True\n",
    "                                   )\n",
    "    rmsp = tf.keras.optimizers.RMSprop(learning_rate=0.05, \n",
    "                                       rho=0.9)\n",
    "\n",
    "\n",
    "    lstm_embed.compile(optimizer=adam, \n",
    "                       loss='mse',\n",
    "                       metrics = ['mae','mse',rmse\n",
    "                                 ]\n",
    "                      )\n",
    "    return lstm_embed"
   ]
  },
  {
   "cell_type": "code",
   "execution_count": 21,
   "metadata": {
    "scrolled": true
   },
   "outputs": [
    {
     "data": {
      "text/plain": [
       "{'item_id': {'colNames': 'item_id',\n",
       "  'tensorType': 'category',\n",
       "  'param': {'windowSize': 0, 'batchSize': 254, 'outType': numpy.float32},\n",
       "  'sequence_stack': None,\n",
       "  'responseVariable': False},\n",
       " 'dept_id': {'colNames': 'dept_id',\n",
       "  'tensorType': 'category',\n",
       "  'param': {'windowSize': 0, 'batchSize': 254, 'outType': numpy.float32},\n",
       "  'sequence_stack': None,\n",
       "  'responseVariable': False},\n",
       " 'cat_id': {'colNames': 'cat_id',\n",
       "  'tensorType': 'category',\n",
       "  'param': {'windowSize': 0, 'batchSize': 254, 'outType': numpy.float32},\n",
       "  'sequence_stack': None,\n",
       "  'responseVariable': False},\n",
       " 'store_id': {'colNames': 'store_id',\n",
       "  'tensorType': 'category',\n",
       "  'param': {'windowSize': 0, 'batchSize': 254, 'outType': numpy.float32},\n",
       "  'sequence_stack': None,\n",
       "  'responseVariable': False},\n",
       " 'state_id': {'colNames': 'state_id',\n",
       "  'tensorType': 'category',\n",
       "  'param': {'windowSize': 0, 'batchSize': 254, 'outType': numpy.float32},\n",
       "  'sequence_stack': None,\n",
       "  'responseVariable': False}}"
      ]
     },
     "execution_count": 12,
     "metadata": {},
     "output_type": "execute_result"
    }
   ],
   "source": [
    "model = create_attention_model()\n",
    "tf.keras.utils.plot_model(\n",
    "    model, show_shapes=True, show_layer_names=True,\n",
    "    rankdir='TB', expand_nested=False, dpi=96\n",
    ")"
   ]
  },
  {
   "cell_type": "code",
   "execution_count": 22,
   "metadata": {
    "scrolled": false
   },
   "outputs": [
    {
     "name": "stdout",
     "output_type": "stream",
     "text": [
      "Train for 10 steps, validate for 1 steps\n",
      "Epoch 1/500\n",
      "10/10 - 8s - loss: 1312990.5437 - mae: 1125.7487 - mse: 1312990.5000 - root_mean_squared_error: 1145.8580 - val_loss: 52109968.0000 - val_mae: 6894.1255 - val_mse: 52109968.0000 - val_root_mean_squared_error: 7218.7236\n",
      "Epoch 2/500\n",
      "10/10 - 6s - loss: 219601.9703 - mae: 386.2849 - mse: 219601.9531 - root_mean_squared_error: 468.6171 - val_loss: 72153960.0000 - val_mae: 8024.6074 - val_mse: 72153960.0000 - val_root_mean_squared_error: 8494.3486\n",
      "Epoch 3/500\n",
      "10/10 - 6s - loss: 87572.0398 - mae: 235.2517 - mse: 87572.0391 - root_mean_squared_error: 295.9257 - val_loss: 42321664.0000 - val_mae: 6083.0063 - val_mse: 42321664.0000 - val_root_mean_squared_error: 6505.5103\n",
      "Epoch 4/500\n",
      "10/10 - 6s - loss: 70509.0371 - mae: 209.8017 - mse: 70509.0391 - root_mean_squared_error: 265.5354 - val_loss: 22806182.0000 - val_mae: 4386.9971 - val_mse: 22806182.0000 - val_root_mean_squared_error: 4775.5820\n",
      "Epoch 5/500\n",
      "10/10 - 7s - loss: 58708.2414 - mae: 189.4986 - mse: 58708.2422 - root_mean_squared_error: 242.2978 - val_loss: 13414817.0000 - val_mae: 3327.2351 - val_mse: 13414817.0000 - val_root_mean_squared_error: 3662.6243\n",
      "Epoch 6/500\n",
      "10/10 - 8s - loss: 54782.9512 - mae: 182.0608 - mse: 54782.9531 - root_mean_squared_error: 234.0576 - val_loss: 6553570.5000 - val_mae: 2299.6025 - val_mse: 6553570.5000 - val_root_mean_squared_error: 2559.9941\n",
      "Epoch 7/500\n",
      "10/10 - 9s - loss: 52946.2434 - mae: 180.8653 - mse: 52946.2461 - root_mean_squared_error: 230.1005 - val_loss: 3980749.0000 - val_mae: 1772.4402 - val_mse: 3980749.0000 - val_root_mean_squared_error: 1995.1814\n",
      "Epoch 8/500\n",
      "WARNING:tensorflow:Early stopping conditioned on metric `val_mse` which is not available. Available metrics are: loss,mae,mse,root_mean_squared_error\n"
     ]
    },
    {
     "ename": "KeyboardInterrupt",
     "evalue": "",
     "output_type": "error",
     "traceback": [
      "\u001b[1;31m---------------------------------------------------------------------------\u001b[0m",
      "\u001b[1;31mKeyboardInterrupt\u001b[0m                         Traceback (most recent call last)",
      "\u001b[1;32m<ipython-input-22-7b8dad65d1bb>\u001b[0m in \u001b[0;36m<module>\u001b[1;34m\u001b[0m\n\u001b[0;32m     14\u001b[0m           \u001b[0mvalidation_steps\u001b[0m\u001b[1;33m=\u001b[0m\u001b[1;36m1\u001b[0m\u001b[1;33m,\u001b[0m\u001b[1;33m\u001b[0m\u001b[1;33m\u001b[0m\u001b[0m\n\u001b[0;32m     15\u001b[0m           \u001b[0msteps_per_epoch\u001b[0m\u001b[1;33m=\u001b[0m\u001b[1;36m10\u001b[0m\u001b[1;33m,\u001b[0m\u001b[1;33m\u001b[0m\u001b[1;33m\u001b[0m\u001b[0m\n\u001b[1;32m---> 16\u001b[1;33m           \u001b[0mcallbacks\u001b[0m\u001b[1;33m=\u001b[0m \u001b[1;33m[\u001b[0m\u001b[0mearly_stopping\u001b[0m\u001b[1;33m]\u001b[0m\u001b[1;33m\u001b[0m\u001b[1;33m\u001b[0m\u001b[0m\n\u001b[0m\u001b[0;32m     17\u001b[0m      )\n",
      "\u001b[1;32m~\\Anaconda3\\lib\\site-packages\\tensorflow_core\\python\\keras\\engine\\training.py\u001b[0m in \u001b[0;36mfit\u001b[1;34m(self, x, y, batch_size, epochs, verbose, callbacks, validation_split, validation_data, shuffle, class_weight, sample_weight, initial_epoch, steps_per_epoch, validation_steps, validation_freq, max_queue_size, workers, use_multiprocessing, **kwargs)\u001b[0m\n\u001b[0;32m    817\u001b[0m         \u001b[0mmax_queue_size\u001b[0m\u001b[1;33m=\u001b[0m\u001b[0mmax_queue_size\u001b[0m\u001b[1;33m,\u001b[0m\u001b[1;33m\u001b[0m\u001b[1;33m\u001b[0m\u001b[0m\n\u001b[0;32m    818\u001b[0m         \u001b[0mworkers\u001b[0m\u001b[1;33m=\u001b[0m\u001b[0mworkers\u001b[0m\u001b[1;33m,\u001b[0m\u001b[1;33m\u001b[0m\u001b[1;33m\u001b[0m\u001b[0m\n\u001b[1;32m--> 819\u001b[1;33m         use_multiprocessing=use_multiprocessing)\n\u001b[0m\u001b[0;32m    820\u001b[0m \u001b[1;33m\u001b[0m\u001b[0m\n\u001b[0;32m    821\u001b[0m   def evaluate(self,\n",
      "\u001b[1;32m~\\Anaconda3\\lib\\site-packages\\tensorflow_core\\python\\keras\\engine\\training_v2.py\u001b[0m in \u001b[0;36mfit\u001b[1;34m(self, model, x, y, batch_size, epochs, verbose, callbacks, validation_split, validation_data, shuffle, class_weight, sample_weight, initial_epoch, steps_per_epoch, validation_steps, validation_freq, max_queue_size, workers, use_multiprocessing, **kwargs)\u001b[0m\n\u001b[0;32m    340\u001b[0m                 \u001b[0mmode\u001b[0m\u001b[1;33m=\u001b[0m\u001b[0mModeKeys\u001b[0m\u001b[1;33m.\u001b[0m\u001b[0mTRAIN\u001b[0m\u001b[1;33m,\u001b[0m\u001b[1;33m\u001b[0m\u001b[1;33m\u001b[0m\u001b[0m\n\u001b[0;32m    341\u001b[0m                 \u001b[0mtraining_context\u001b[0m\u001b[1;33m=\u001b[0m\u001b[0mtraining_context\u001b[0m\u001b[1;33m,\u001b[0m\u001b[1;33m\u001b[0m\u001b[1;33m\u001b[0m\u001b[0m\n\u001b[1;32m--> 342\u001b[1;33m                 total_epochs=epochs)\n\u001b[0m\u001b[0;32m    343\u001b[0m             \u001b[0mcbks\u001b[0m\u001b[1;33m.\u001b[0m\u001b[0mmake_logs\u001b[0m\u001b[1;33m(\u001b[0m\u001b[0mmodel\u001b[0m\u001b[1;33m,\u001b[0m \u001b[0mepoch_logs\u001b[0m\u001b[1;33m,\u001b[0m \u001b[0mtraining_result\u001b[0m\u001b[1;33m,\u001b[0m \u001b[0mModeKeys\u001b[0m\u001b[1;33m.\u001b[0m\u001b[0mTRAIN\u001b[0m\u001b[1;33m)\u001b[0m\u001b[1;33m\u001b[0m\u001b[1;33m\u001b[0m\u001b[0m\n\u001b[0;32m    344\u001b[0m \u001b[1;33m\u001b[0m\u001b[0m\n",
      "\u001b[1;32m~\\Anaconda3\\lib\\site-packages\\tensorflow_core\\python\\keras\\engine\\training_v2.py\u001b[0m in \u001b[0;36mrun_one_epoch\u001b[1;34m(model, iterator, execution_function, dataset_size, batch_size, strategy, steps_per_epoch, num_samples, mode, training_context, total_epochs)\u001b[0m\n\u001b[0;32m    126\u001b[0m         step=step, mode=mode, size=current_batch_size) as batch_logs:\n\u001b[0;32m    127\u001b[0m       \u001b[1;32mtry\u001b[0m\u001b[1;33m:\u001b[0m\u001b[1;33m\u001b[0m\u001b[1;33m\u001b[0m\u001b[0m\n\u001b[1;32m--> 128\u001b[1;33m         \u001b[0mbatch_outs\u001b[0m \u001b[1;33m=\u001b[0m \u001b[0mexecution_function\u001b[0m\u001b[1;33m(\u001b[0m\u001b[0miterator\u001b[0m\u001b[1;33m)\u001b[0m\u001b[1;33m\u001b[0m\u001b[1;33m\u001b[0m\u001b[0m\n\u001b[0m\u001b[0;32m    129\u001b[0m       \u001b[1;32mexcept\u001b[0m \u001b[1;33m(\u001b[0m\u001b[0mStopIteration\u001b[0m\u001b[1;33m,\u001b[0m \u001b[0merrors\u001b[0m\u001b[1;33m.\u001b[0m\u001b[0mOutOfRangeError\u001b[0m\u001b[1;33m)\u001b[0m\u001b[1;33m:\u001b[0m\u001b[1;33m\u001b[0m\u001b[1;33m\u001b[0m\u001b[0m\n\u001b[0;32m    130\u001b[0m         \u001b[1;31m# TODO(kaftan): File bug about tf function and errors.OutOfRangeError?\u001b[0m\u001b[1;33m\u001b[0m\u001b[1;33m\u001b[0m\u001b[1;33m\u001b[0m\u001b[0m\n",
      "\u001b[1;32m~\\Anaconda3\\lib\\site-packages\\tensorflow_core\\python\\keras\\engine\\training_v2_utils.py\u001b[0m in \u001b[0;36mexecution_function\u001b[1;34m(input_fn)\u001b[0m\n\u001b[0;32m     96\u001b[0m     \u001b[1;31m# `numpy` translates Tensors to values in Eager mode.\u001b[0m\u001b[1;33m\u001b[0m\u001b[1;33m\u001b[0m\u001b[1;33m\u001b[0m\u001b[0m\n\u001b[0;32m     97\u001b[0m     return nest.map_structure(_non_none_constant_value,\n\u001b[1;32m---> 98\u001b[1;33m                               distributed_function(input_fn))\n\u001b[0m\u001b[0;32m     99\u001b[0m \u001b[1;33m\u001b[0m\u001b[0m\n\u001b[0;32m    100\u001b[0m   \u001b[1;32mreturn\u001b[0m \u001b[0mexecution_function\u001b[0m\u001b[1;33m\u001b[0m\u001b[1;33m\u001b[0m\u001b[0m\n",
      "\u001b[1;32m~\\Anaconda3\\lib\\site-packages\\tensorflow_core\\python\\eager\\def_function.py\u001b[0m in \u001b[0;36m__call__\u001b[1;34m(self, *args, **kwds)\u001b[0m\n\u001b[0;32m    566\u001b[0m         \u001b[0mxla_context\u001b[0m\u001b[1;33m.\u001b[0m\u001b[0mExit\u001b[0m\u001b[1;33m(\u001b[0m\u001b[1;33m)\u001b[0m\u001b[1;33m\u001b[0m\u001b[1;33m\u001b[0m\u001b[0m\n\u001b[0;32m    567\u001b[0m     \u001b[1;32melse\u001b[0m\u001b[1;33m:\u001b[0m\u001b[1;33m\u001b[0m\u001b[1;33m\u001b[0m\u001b[0m\n\u001b[1;32m--> 568\u001b[1;33m       \u001b[0mresult\u001b[0m \u001b[1;33m=\u001b[0m \u001b[0mself\u001b[0m\u001b[1;33m.\u001b[0m\u001b[0m_call\u001b[0m\u001b[1;33m(\u001b[0m\u001b[1;33m*\u001b[0m\u001b[0margs\u001b[0m\u001b[1;33m,\u001b[0m \u001b[1;33m**\u001b[0m\u001b[0mkwds\u001b[0m\u001b[1;33m)\u001b[0m\u001b[1;33m\u001b[0m\u001b[1;33m\u001b[0m\u001b[0m\n\u001b[0m\u001b[0;32m    569\u001b[0m \u001b[1;33m\u001b[0m\u001b[0m\n\u001b[0;32m    570\u001b[0m     \u001b[1;32mif\u001b[0m \u001b[0mtracing_count\u001b[0m \u001b[1;33m==\u001b[0m \u001b[0mself\u001b[0m\u001b[1;33m.\u001b[0m\u001b[0m_get_tracing_count\u001b[0m\u001b[1;33m(\u001b[0m\u001b[1;33m)\u001b[0m\u001b[1;33m:\u001b[0m\u001b[1;33m\u001b[0m\u001b[1;33m\u001b[0m\u001b[0m\n",
      "\u001b[1;32m~\\Anaconda3\\lib\\site-packages\\tensorflow_core\\python\\eager\\def_function.py\u001b[0m in \u001b[0;36m_call\u001b[1;34m(self, *args, **kwds)\u001b[0m\n\u001b[0;32m    597\u001b[0m       \u001b[1;31m# In this case we have created variables on the first call, so we run the\u001b[0m\u001b[1;33m\u001b[0m\u001b[1;33m\u001b[0m\u001b[1;33m\u001b[0m\u001b[0m\n\u001b[0;32m    598\u001b[0m       \u001b[1;31m# defunned version which is guaranteed to never create variables.\u001b[0m\u001b[1;33m\u001b[0m\u001b[1;33m\u001b[0m\u001b[1;33m\u001b[0m\u001b[0m\n\u001b[1;32m--> 599\u001b[1;33m       \u001b[1;32mreturn\u001b[0m \u001b[0mself\u001b[0m\u001b[1;33m.\u001b[0m\u001b[0m_stateless_fn\u001b[0m\u001b[1;33m(\u001b[0m\u001b[1;33m*\u001b[0m\u001b[0margs\u001b[0m\u001b[1;33m,\u001b[0m \u001b[1;33m**\u001b[0m\u001b[0mkwds\u001b[0m\u001b[1;33m)\u001b[0m  \u001b[1;31m# pylint: disable=not-callable\u001b[0m\u001b[1;33m\u001b[0m\u001b[1;33m\u001b[0m\u001b[0m\n\u001b[0m\u001b[0;32m    600\u001b[0m     \u001b[1;32melif\u001b[0m \u001b[0mself\u001b[0m\u001b[1;33m.\u001b[0m\u001b[0m_stateful_fn\u001b[0m \u001b[1;32mis\u001b[0m \u001b[1;32mnot\u001b[0m \u001b[1;32mNone\u001b[0m\u001b[1;33m:\u001b[0m\u001b[1;33m\u001b[0m\u001b[1;33m\u001b[0m\u001b[0m\n\u001b[0;32m    601\u001b[0m       \u001b[1;31m# Release the lock early so that multiple threads can perform the call\u001b[0m\u001b[1;33m\u001b[0m\u001b[1;33m\u001b[0m\u001b[1;33m\u001b[0m\u001b[0m\n",
      "\u001b[1;32m~\\Anaconda3\\lib\\site-packages\\tensorflow_core\\python\\eager\\function.py\u001b[0m in \u001b[0;36m__call__\u001b[1;34m(self, *args, **kwargs)\u001b[0m\n\u001b[0;32m   2361\u001b[0m     \u001b[1;32mwith\u001b[0m \u001b[0mself\u001b[0m\u001b[1;33m.\u001b[0m\u001b[0m_lock\u001b[0m\u001b[1;33m:\u001b[0m\u001b[1;33m\u001b[0m\u001b[1;33m\u001b[0m\u001b[0m\n\u001b[0;32m   2362\u001b[0m       \u001b[0mgraph_function\u001b[0m\u001b[1;33m,\u001b[0m \u001b[0margs\u001b[0m\u001b[1;33m,\u001b[0m \u001b[0mkwargs\u001b[0m \u001b[1;33m=\u001b[0m \u001b[0mself\u001b[0m\u001b[1;33m.\u001b[0m\u001b[0m_maybe_define_function\u001b[0m\u001b[1;33m(\u001b[0m\u001b[0margs\u001b[0m\u001b[1;33m,\u001b[0m \u001b[0mkwargs\u001b[0m\u001b[1;33m)\u001b[0m\u001b[1;33m\u001b[0m\u001b[1;33m\u001b[0m\u001b[0m\n\u001b[1;32m-> 2363\u001b[1;33m     \u001b[1;32mreturn\u001b[0m \u001b[0mgraph_function\u001b[0m\u001b[1;33m.\u001b[0m\u001b[0m_filtered_call\u001b[0m\u001b[1;33m(\u001b[0m\u001b[0margs\u001b[0m\u001b[1;33m,\u001b[0m \u001b[0mkwargs\u001b[0m\u001b[1;33m)\u001b[0m  \u001b[1;31m# pylint: disable=protected-access\u001b[0m\u001b[1;33m\u001b[0m\u001b[1;33m\u001b[0m\u001b[0m\n\u001b[0m\u001b[0;32m   2364\u001b[0m \u001b[1;33m\u001b[0m\u001b[0m\n\u001b[0;32m   2365\u001b[0m   \u001b[1;33m@\u001b[0m\u001b[0mproperty\u001b[0m\u001b[1;33m\u001b[0m\u001b[1;33m\u001b[0m\u001b[0m\n",
      "\u001b[1;32m~\\Anaconda3\\lib\\site-packages\\tensorflow_core\\python\\eager\\function.py\u001b[0m in \u001b[0;36m_filtered_call\u001b[1;34m(self, args, kwargs)\u001b[0m\n\u001b[0;32m   1609\u001b[0m          if isinstance(t, (ops.Tensor,\n\u001b[0;32m   1610\u001b[0m                            resource_variable_ops.BaseResourceVariable))),\n\u001b[1;32m-> 1611\u001b[1;33m         self.captured_inputs)\n\u001b[0m\u001b[0;32m   1612\u001b[0m \u001b[1;33m\u001b[0m\u001b[0m\n\u001b[0;32m   1613\u001b[0m   \u001b[1;32mdef\u001b[0m \u001b[0m_call_flat\u001b[0m\u001b[1;33m(\u001b[0m\u001b[0mself\u001b[0m\u001b[1;33m,\u001b[0m \u001b[0margs\u001b[0m\u001b[1;33m,\u001b[0m \u001b[0mcaptured_inputs\u001b[0m\u001b[1;33m,\u001b[0m \u001b[0mcancellation_manager\u001b[0m\u001b[1;33m=\u001b[0m\u001b[1;32mNone\u001b[0m\u001b[1;33m)\u001b[0m\u001b[1;33m:\u001b[0m\u001b[1;33m\u001b[0m\u001b[1;33m\u001b[0m\u001b[0m\n",
      "\u001b[1;32m~\\Anaconda3\\lib\\site-packages\\tensorflow_core\\python\\eager\\function.py\u001b[0m in \u001b[0;36m_call_flat\u001b[1;34m(self, args, captured_inputs, cancellation_manager)\u001b[0m\n\u001b[0;32m   1690\u001b[0m       \u001b[1;31m# No tape is watching; skip to running the function.\u001b[0m\u001b[1;33m\u001b[0m\u001b[1;33m\u001b[0m\u001b[1;33m\u001b[0m\u001b[0m\n\u001b[0;32m   1691\u001b[0m       return self._build_call_outputs(self._inference_function.call(\n\u001b[1;32m-> 1692\u001b[1;33m           ctx, args, cancellation_manager=cancellation_manager))\n\u001b[0m\u001b[0;32m   1693\u001b[0m     forward_backward = self._select_forward_and_backward_functions(\n\u001b[0;32m   1694\u001b[0m         \u001b[0margs\u001b[0m\u001b[1;33m,\u001b[0m\u001b[1;33m\u001b[0m\u001b[1;33m\u001b[0m\u001b[0m\n",
      "\u001b[1;32m~\\Anaconda3\\lib\\site-packages\\tensorflow_core\\python\\eager\\function.py\u001b[0m in \u001b[0;36mcall\u001b[1;34m(self, ctx, args, cancellation_manager)\u001b[0m\n\u001b[0;32m    543\u001b[0m               \u001b[0minputs\u001b[0m\u001b[1;33m=\u001b[0m\u001b[0margs\u001b[0m\u001b[1;33m,\u001b[0m\u001b[1;33m\u001b[0m\u001b[1;33m\u001b[0m\u001b[0m\n\u001b[0;32m    544\u001b[0m               \u001b[0mattrs\u001b[0m\u001b[1;33m=\u001b[0m\u001b[1;33m(\u001b[0m\u001b[1;34m\"executor_type\"\u001b[0m\u001b[1;33m,\u001b[0m \u001b[0mexecutor_type\u001b[0m\u001b[1;33m,\u001b[0m \u001b[1;34m\"config_proto\"\u001b[0m\u001b[1;33m,\u001b[0m \u001b[0mconfig\u001b[0m\u001b[1;33m)\u001b[0m\u001b[1;33m,\u001b[0m\u001b[1;33m\u001b[0m\u001b[1;33m\u001b[0m\u001b[0m\n\u001b[1;32m--> 545\u001b[1;33m               ctx=ctx)\n\u001b[0m\u001b[0;32m    546\u001b[0m         \u001b[1;32melse\u001b[0m\u001b[1;33m:\u001b[0m\u001b[1;33m\u001b[0m\u001b[1;33m\u001b[0m\u001b[0m\n\u001b[0;32m    547\u001b[0m           outputs = execute.execute_with_cancellation(\n",
      "\u001b[1;32m~\\Anaconda3\\lib\\site-packages\\tensorflow_core\\python\\eager\\execute.py\u001b[0m in \u001b[0;36mquick_execute\u001b[1;34m(op_name, num_outputs, inputs, attrs, ctx, name)\u001b[0m\n\u001b[0;32m     59\u001b[0m     tensors = pywrap_tensorflow.TFE_Py_Execute(ctx._handle, device_name,\n\u001b[0;32m     60\u001b[0m                                                \u001b[0mop_name\u001b[0m\u001b[1;33m,\u001b[0m \u001b[0minputs\u001b[0m\u001b[1;33m,\u001b[0m \u001b[0mattrs\u001b[0m\u001b[1;33m,\u001b[0m\u001b[1;33m\u001b[0m\u001b[1;33m\u001b[0m\u001b[0m\n\u001b[1;32m---> 61\u001b[1;33m                                                num_outputs)\n\u001b[0m\u001b[0;32m     62\u001b[0m   \u001b[1;32mexcept\u001b[0m \u001b[0mcore\u001b[0m\u001b[1;33m.\u001b[0m\u001b[0m_NotOkStatusException\u001b[0m \u001b[1;32mas\u001b[0m \u001b[0me\u001b[0m\u001b[1;33m:\u001b[0m\u001b[1;33m\u001b[0m\u001b[1;33m\u001b[0m\u001b[0m\n\u001b[0;32m     63\u001b[0m     \u001b[1;32mif\u001b[0m \u001b[0mname\u001b[0m \u001b[1;32mis\u001b[0m \u001b[1;32mnot\u001b[0m \u001b[1;32mNone\u001b[0m\u001b[1;33m:\u001b[0m\u001b[1;33m\u001b[0m\u001b[1;33m\u001b[0m\u001b[0m\n",
      "\u001b[1;31mKeyboardInterrupt\u001b[0m: "
     ]
    }
   ],
   "source": [
    "early_stopping = tf.keras.callbacks.EarlyStopping(\n",
    "    monitor='val_mse',\n",
    "    min_delta=0.001, \n",
    "    patience=50, \n",
    "    verbose=1, \n",
    "    mode='auto',\n",
    "    baseline=None, \n",
    "    restore_best_weights=True\n",
    ")\n",
    "model.fit(train_dataset,\n",
    "          epochs=500,\n",
    "          verbose = 2,\n",
    "          validation_data = val_dataset,\n",
    "          validation_steps=1,\n",
    "          steps_per_epoch=10,\n",
    "          callbacks= [early_stopping]\n",
    "     )"
   ]
  },
  {
   "cell_type": "code",
   "execution_count": 28,
   "metadata": {},
   "outputs": [],
   "source": [
    "prd = model.predict(train_dataset,steps = 1)\n",
    "val_prd = model.predict(val_dataset, steps=1)"
   ]
  },
  {
   "cell_type": "code",
   "execution_count": 29,
   "metadata": {},
   "outputs": [],
   "source": [
    "def plot_diff(prcd,resDf,label):\n",
    "    real = resDf[list(map(lambda x: f'High_{x}',label))].transpose().values\n",
    "    plotDf = pd.DataFrame(real).tail(len(prcd))\n",
    "    print(plotDf.shape)\n",
    "    plotDf['prd_High'] = prcd\n",
    "    return plotDf"
   ]
  },
  {
   "cell_type": "code",
   "execution_count": 30,
   "metadata": {},
   "outputs": [
    {
     "name": "stdout",
     "output_type": "stream",
     "text": [
      "(1401, 1)\n"
     ]
    },
    {
     "data": {
      "text/plain": [
       "<matplotlib.axes._subplots.AxesSubplot at 0x1ea4b457f98>"
      ]
     },
     "execution_count": 30,
     "metadata": {},
     "output_type": "execute_result"
    },
    {
     "data": {
      "image/png": "[encoded data removed]",
      "text/plain": [
       "<Figure size 432x288 with 1 Axes>"
      ]
     },
     "metadata": {
      "needs_background": "light"
     },
     "output_type": "display_data"
    }
   ],
   "source": [
    "plotDf = plot_diff(prd,resDf,trainDate)\n",
    "plotDf.plot()"
   ]
  },
  {
   "cell_type": "code",
   "execution_count": 31,
   "metadata": {},
   "outputs": [
    {
     "name": "stdout",
     "output_type": "stream",
     "text": [
      "(200, 1)\n"
     ]
    },
    {
     "data": {
      "text/plain": [
       "<matplotlib.axes._subplots.AxesSubplot at 0x1ea4c503550>"
      ]
     },
     "execution_count": 31,
     "metadata": {},
     "output_type": "execute_result"
    },
    {
     "data": {
      "image/png": "[encoded data removed]",
      "text/plain": [
       "<Figure size 432x288 with 1 Axes>"
      ]
     },
     "metadata": {
      "needs_background": "light"
     },
     "output_type": "display_data"
    }
   ],
   "source": [
    "plotDf = plot_diff(val_prd,resDf,valDate)\n",
    "plotDf.plot()"
   ]
  },
  {
   "cell_type": "code",
   "execution_count": 32,
   "metadata": {},
   "outputs": [],
   "source": [
    "tpsd = Pandas_Time_Series_Dataset(resDf)\n",
    "for i,v in enumerate(labels):\n",
    "    if i == 0:\n",
    "        tpsd.set_config(\n",
    "            name = f'sequence',\n",
    "            colNames = list(map(lambda x: f'{v}_{str(x)}',testDate)),\n",
    "            tensorType = 'sequence',\n",
    "            sequence_stack = None,\n",
    "            isResponseVar = False,\n",
    "            windowSize = WINDOW_SIZE,\n",
    "            seqSize = 1837,\n",
    "            outType = np.float32\n",
    "        )\n",
    "    else:\n",
    "        tpsd.set_config(\n",
    "            name = f'{v}_sequence',\n",
    "            colNames = list(map(lambda x: f'{v}_{str(x)}',testDate)),\n",
    "            tensorType = 'sequence',\n",
    "            sequence_stack = \"sequence\",\n",
    "            isResponseVar = False,\n",
    "            windowSize = WINDOW_SIZE,\n",
    "            seqSize = 1837,\n",
    "            outType = np.float32\n",
    "        )\n",
    "        \n",
    "tpsd.set_config(\n",
    "    name = 'label',\n",
    "    colNames = list(map(lambda x: f'High_{str(x)}',testDate)),\n",
    "    tensorType = 'label',\n",
    "    sequence_stack = None,\n",
    "    isResponseVar = True,\n",
    "    windowSize = WINDOW_SIZE,\n",
    "    seqSize = 1837,\n",
    "    outType = np.float32\n",
    ")"
   ]
  },
  {
   "cell_type": "code",
   "execution_count": 33,
   "metadata": {
    "scrolled": true
   },
   "outputs": [],
   "source": [
    "tgen = psd.make_data_generator()\n",
    "test_prediction = model.predict(tgen)"
   ]
  },
  {
   "cell_type": "code",
   "execution_count": 34,
   "metadata": {},
   "outputs": [
    {
     "name": "stdout",
     "output_type": "stream",
     "text": [
      "(200, 1)\n"
     ]
    },
    {
     "data": {
      "text/plain": [
       "<matplotlib.axes._subplots.AxesSubplot at 0x1ea4c561128>"
      ]
     },
     "execution_count": 34,
     "metadata": {},
     "output_type": "execute_result"
    },
    {
     "data": {
      "image/png": "[encoded data removed]",
      "text/plain": [
       "<Figure size 432x288 with 1 Axes>"
      ]
     },
     "metadata": {
      "needs_background": "light"
     },
     "output_type": "display_data"
    }
   ],
   "source": [
    "plotDf = plot_diff(test_prediction,resDf,testDate)\n",
    "plotDf.plot()"
   ]
  },
  {
   "cell_type": "code",
   "execution_count": 108,
   "metadata": {},
   "outputs": [
    {
     "data": {
      "text/plain": [
       "201.150094542275"
      ]
     },
     "execution_count": 108,
     "metadata": {},
     "output_type": "execute_result"
    }
   ],
   "source": [
    "from sklearn.metrics import mean_squared_error\n",
    "np.sqrt(mean_squared_error(plotDf[0],plotDf.prd_High))"
   ]
  },
  {
   "cell_type": "code",
   "execution_count": 56,
   "metadata": {},
   "outputs": [
    {
     "data": {
      "text/html": [
       "<div>\n",
       "<style scoped>\n",
       "    .dataframe tbody tr th:only-of-type {\n",
       "        vertical-align: middle;\n",
       "    }\n",
       "\n",
       "    .dataframe tbody tr th {\n",
       "        vertical-align: top;\n",
       "    }\n",
       "\n",
       "    .dataframe thead th {\n",
       "        text-align: right;\n",
       "    }\n",
       "</style>\n",
       "<table border=\"1\" class=\"dataframe\">\n",
       "  <thead>\n",
       "    <tr style=\"text-align: right;\">\n",
       "      <th></th>\n",
       "      <th>Open_199</th>\n",
       "      <th>Open_200</th>\n",
       "      <th>Open_201</th>\n",
       "      <th>Open_202</th>\n",
       "      <th>Open_203</th>\n",
       "      <th>Open_204</th>\n",
       "      <th>Open_205</th>\n",
       "      <th>Open_206</th>\n",
       "      <th>Open_207</th>\n",
       "      <th>Open_208</th>\n",
       "      <th>...</th>\n",
       "      <th>Volume_fft_5151</th>\n",
       "      <th>Volume_fft_5152</th>\n",
       "      <th>Volume_fft_5153</th>\n",
       "      <th>Volume_fft_5154</th>\n",
       "      <th>Volume_fft_5155</th>\n",
       "      <th>Volume_fft_5156</th>\n",
       "      <th>Volume_fft_5157</th>\n",
       "      <th>Volume_fft_5158</th>\n",
       "      <th>Volume_fft_5159</th>\n",
       "      <th>Volume_fft_5160</th>\n",
       "    </tr>\n",
       "  </thead>\n",
       "  <tbody>\n",
       "    <tr>\n",
       "      <th>0</th>\n",
       "      <td>1374.170044</td>\n",
       "      <td>1374.619995</td>\n",
       "      <td>1349.969971</td>\n",
       "      <td>1342.130005</td>\n",
       "      <td>1388.76001</td>\n",
       "      <td>1396.930054</td>\n",
       "      <td>1395.780029</td>\n",
       "      <td>1398.130005</td>\n",
       "      <td>1364.900024</td>\n",
       "      <td>1364.439941</td>\n",
       "      <td>...</td>\n",
       "      <td>1.184392e+11-3.583532e+11j</td>\n",
       "      <td>4.117844e+11-3.175527e+11j</td>\n",
       "      <td>-9.981340e+10-3.003119e+11j</td>\n",
       "      <td>4.482362e+11-2.047702e+11j</td>\n",
       "      <td>-1.701796e+11-1.008210e+12j</td>\n",
       "      <td>4.242559e+11-1.955758e+11j</td>\n",
       "      <td>3.714791e+11-1.030745e+12j</td>\n",
       "      <td>-5.401204e+11+2.512636e+11j</td>\n",
       "      <td>1.635839e+12-2.006339e+12j</td>\n",
       "      <td>-2.608224e+12-2.233216e+12j</td>\n",
       "    </tr>\n",
       "  </tbody>\n",
       "</table>\n",
       "<p>1 rows × 74431 columns</p>\n",
       "</div>"
      ],
      "text/plain": [
       "      Open_199     Open_200     Open_201     Open_202    Open_203  \\\n",
       "0  1374.170044  1374.619995  1349.969971  1342.130005  1388.76001   \n",
       "\n",
       "      Open_204     Open_205     Open_206     Open_207     Open_208  ...  \\\n",
       "0  1396.930054  1395.780029  1398.130005  1364.900024  1364.439941  ...   \n",
       "\n",
       "              Volume_fft_5151             Volume_fft_5152  \\\n",
       "0  1.184392e+11-3.583532e+11j  4.117844e+11-3.175527e+11j   \n",
       "\n",
       "              Volume_fft_5153             Volume_fft_5154  \\\n",
       "0 -9.981340e+10-3.003119e+11j  4.482362e+11-2.047702e+11j   \n",
       "\n",
       "              Volume_fft_5155             Volume_fft_5156  \\\n",
       "0 -1.701796e+11-1.008210e+12j  4.242559e+11-1.955758e+11j   \n",
       "\n",
       "              Volume_fft_5157             Volume_fft_5158  \\\n",
       "0  3.714791e+11-1.030745e+12j -5.401204e+11+2.512636e+11j   \n",
       "\n",
       "              Volume_fft_5159             Volume_fft_5160  \n",
       "0  1.635839e+12-2.006339e+12j -2.608224e+12-2.233216e+12j  \n",
       "\n",
       "[1 rows x 74431 columns]"
      ]
     },
     "execution_count": 56,
     "metadata": {},
     "output_type": "execute_result"
    }
   ],
   "source": [
    "resDf"
   ]
  },
  {
   "cell_type": "code",
   "execution_count": 11,
   "metadata": {},
   "outputs": [],
   "source": [
    "psd = Pandas_Time_Series_Dataset(resDf)\n",
    "psd.set_config(\n",
    "    name = f'sequence',\n",
    "    colNames = ['Open_199','Open_200','Open_201','Open_202'],\n",
    "    tensorType = 'label',\n",
    "    sequence_stack = None,\n",
    "    isResponseVar = True,\n",
    "    windowSize = 2,\n",
    "    seqSize = 1837,\n",
    "    outType = np.float32\n",
    ")\n",
    "psd.set_config(\n",
    "    name = f'sequence2',\n",
    "    colNames = ['Open_199','Open_200','Open_201','Open_202'],\n",
    "    tensorType = 'label',\n",
    "    sequence_stack = 'sequence',\n",
    "    isResponseVar = False,\n",
    "    windowSize = 2,\n",
    "    seqSize = 1837,\n",
    "    outType = np.float32\n",
    ")"
   ]
  },
  {
   "cell_type": "code",
   "execution_count": 12,
   "metadata": {},
   "outputs": [
    {
     "name": "stdout",
     "output_type": "stream",
     "text": [
      "({}, array([[[1349.969971, 1349.969971],\n",
      "        [1342.130005, 1342.130005]]]))\n"
     ]
    }
   ],
   "source": [
    "gen = psd.make_data_generator()\n",
    "for i in gen:\n",
    "    print(i)"
   ]
  },
  {
   "cell_type": "code",
   "execution_count": null,
   "metadata": {},
   "outputs": [],
   "source": []
  }
 ],
 "metadata": {
  "file_extension": ".py",
  "kernelspec": {
   "display_name": "Python 3",
   "language": "python",
   "name": "python3"
  },
  "language_info": {
   "codemirror_mode": {
    "name": "ipython",
    "version": 3
   },
   "file_extension": ".py",
   "mimetype": "text/x-python",
   "name": "python",
   "nbconvert_exporter": "python",
   "pygments_lexer": "ipython3",
   "version": "3.7.3"
  },
  "mimetype": "text/x-python",
  "name": "python",
  "npconvert_exporter": "python",
  "pygments_lexer": "ipython3",
  "toc": {
   "base_numbering": 1,
   "nav_menu": {},
   "number_sections": true,
   "sideBar": true,
   "skip_h1_title": false,
   "title_cell": "Table of Contents",
   "title_sidebar": "Contents",
   "toc_cell": false,
   "toc_position": {},
   "toc_section_display": true,
   "toc_window_display": false
  },
  "version": 3
 },
 "nbformat": 4,
 "nbformat_minor": 2
}
