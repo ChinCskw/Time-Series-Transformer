{
 "nbformat": 4,
 "nbformat_minor": 2,
 "metadata": {
  "language_info": {
   "name": "python",
   "codemirror_mode": {
    "name": "ipython",
    "version": 3
   },
   "version": "3.7.3-final"
  },
  "orig_nbformat": 2,
  "file_extension": ".py",
  "mimetype": "text/x-python",
  "name": "python",
  "npconvert_exporter": "python",
  "pygments_lexer": "ipython3",
  "version": 3,
  "kernelspec": {
   "name": "python3",
   "display_name": "Python 3"
  }
 },
 "cells": [
  {
   "cell_type": "code",
   "execution_count": 1,
   "metadata": {},
   "outputs": [],
   "source": [
    "import numpy as np\n",
    "from tensorflow_adsopter import *"
   ]
  },
  {
   "cell_type": "code",
   "execution_count": 2,
   "metadata": {},
   "outputs": [],
   "source": [
    "tfg = TFRecord_Generator(\"tfg.tfRecord\")"
   ]
  },
  {
   "cell_type": "code",
   "execution_count": 10,
   "metadata": {},
   "outputs": [],
   "source": [
    "dct = {\n",
    "    'sells': np.array([[1.0,2.0,3.0],[3.0,4.0,5.0],[6.0,8.0,9.0]],dtype = np.float32),\n",
    "    'cate1': np.array([1.0,2.0,3.0],dtype = np.float32),\n",
    "    'cate2': np.array([1.0,2.0,3.0],dtype = np.float32)\n",
    "}\n",
    "data = [(dct,np.array([1.0,2.0,3.0],dtype = np.float32))]"
   ]
  },
  {
   "cell_type": "code",
   "execution_count": 11,
   "metadata": {},
   "outputs": [],
   "source": [
    "tfg.write_tfRecord(data)"
   ]
  },
  {
   "cell_type": "code",
   "execution_count": 12,
   "metadata": {},
   "outputs": [],
   "source": [
    "dataset = tfg.make_tfDataset()"
   ]
  },
  {
   "cell_type": "code",
   "execution_count": 13,
   "metadata": {},
   "outputs": [
    {
     "output_type": "execute_result",
     "data": {
      "text/plain": "[{'sells': <tf.Tensor: id=106, shape=(3, 3), dtype=float32, numpy=\n  array([[1., 2., 3.],\n         [3., 4., 5.],\n         [6., 8., 9.]], dtype=float32)>,\n  'cate1': <tf.Tensor: id=103, shape=(3,), dtype=float32, numpy=array([1., 2., 3.], dtype=float32)>,\n  'cate2': <tf.Tensor: id=104, shape=(3,), dtype=float32, numpy=array([1., 2., 3.], dtype=float32)>,\n  'label': <tf.Tensor: id=105, shape=(3,), dtype=float32, numpy=array([1., 2., 3.], dtype=float32)>}]"
     },
     "metadata": {},
     "execution_count": 13
    }
   ],
   "source": [
    "list(dataset.take(1))"
   ]
  },
  {
   "cell_type": "code",
   "execution_count": 9,
   "metadata": {},
   "outputs": [
    {
     "output_type": "execute_result",
     "data": {
      "text/plain": "dtype('float64')"
     },
     "metadata": {},
     "execution_count": 9
    }
   ],
   "source": []
  },
  {
   "cell_type": "code",
   "execution_count": null,
   "metadata": {},
   "outputs": [],
   "source": []
  }
 ]
}