{
 "cells": [
  {
   "cell_type": "code",
   "execution_count": 1,
   "metadata": {},
   "outputs": [],
   "source": [
    "import pandas as pd\n",
    "import numpy as np\n",
    "from time_series_transform.tensorflow_adopter import *\n",
    "import time_series_transform.base as base\n",
    "from time_series_transform.time_series_transformer import *\n",
    "from sklearn.preprocessing import StandardScaler\n",
    "from time_series_transform.tensorflow_adopter import *\n",
    "from time_series_transform.stock_transform.base import *\n",
    "from time_series_transform.stock_transform.stock_extractor import Portfolio_Extractor\n",
    "from time_series_transform.util import *\n",
    "from matplotlib import pyplot as plt"
   ]
  },
  {
   "cell_type": "code",
   "execution_count": 2,
   "metadata": {},
   "outputs": [
    {
     "ename": "AttributeError",
     "evalue": "'str' object has no attribute 'ticker'",
     "output_type": "error",
     "traceback": [
      "\u001b[1;31m---------------------------------------------------------------------------\u001b[0m",
      "\u001b[1;31mAttributeError\u001b[0m                            Traceback (most recent call last)",
      "\u001b[1;32m<ipython-input-2-de0be01989d7>\u001b[0m in \u001b[0;36m<module>\u001b[1;34m\u001b[0m\n\u001b[0;32m      1\u001b[0m \u001b[0mtickList\u001b[0m \u001b[1;33m=\u001b[0m \u001b[1;33m[\u001b[0m\u001b[1;34m'^GSPC'\u001b[0m\u001b[1;33m,\u001b[0m\u001b[1;34m'^DJI'\u001b[0m\u001b[1;33m,\u001b[0m\u001b[1;34m'GC=F'\u001b[0m\u001b[1;33m,\u001b[0m\u001b[1;34m'CL=F'\u001b[0m\u001b[1;33m]\u001b[0m\u001b[1;33m\u001b[0m\u001b[1;33m\u001b[0m\u001b[0m\n\u001b[0;32m      2\u001b[0m \u001b[0mpe\u001b[0m \u001b[1;33m=\u001b[0m \u001b[0mPortfolio_Extractor\u001b[0m\u001b[1;33m(\u001b[0m\u001b[0mtickList\u001b[0m\u001b[1;33m,\u001b[0m\u001b[1;34m'yahoo'\u001b[0m\u001b[1;33m)\u001b[0m\u001b[1;33m\u001b[0m\u001b[1;33m\u001b[0m\u001b[0m\n\u001b[1;32m----> 3\u001b[1;33m \u001b[0mport\u001b[0m \u001b[1;33m=\u001b[0m \u001b[0mpe\u001b[0m\u001b[1;33m.\u001b[0m\u001b[0mget_portfolio_period\u001b[0m\u001b[1;33m(\u001b[0m\u001b[1;34m'5yr'\u001b[0m\u001b[1;33m)\u001b[0m\u001b[1;33m\u001b[0m\u001b[1;33m\u001b[0m\u001b[0m\n\u001b[0m",
      "\u001b[1;32m~\\Documents\\Kaggle\\M5\\time_series_transform\\stock_transform\\stock_extractor.py\u001b[0m in \u001b[0;36mget_portfolio_period\u001b[1;34m(self, period)\u001b[0m\n\u001b[0;32m     50\u001b[0m         \u001b[0mstockList\u001b[0m \u001b[1;33m=\u001b[0m \u001b[1;33m[\u001b[0m\u001b[1;33m]\u001b[0m\u001b[1;33m\u001b[0m\u001b[1;33m\u001b[0m\u001b[0m\n\u001b[0;32m     51\u001b[0m         \u001b[1;32mfor\u001b[0m \u001b[0msymbol\u001b[0m \u001b[1;32min\u001b[0m \u001b[0mself\u001b[0m\u001b[1;33m.\u001b[0m\u001b[0msymbolList\u001b[0m\u001b[1;33m:\u001b[0m\u001b[1;33m\u001b[0m\u001b[1;33m\u001b[0m\u001b[0m\n\u001b[1;32m---> 52\u001b[1;33m             \u001b[0mstock_data\u001b[0m \u001b[1;33m=\u001b[0m \u001b[0mStock_Extractor\u001b[0m\u001b[1;33m(\u001b[0m\u001b[0msymbol\u001b[0m\u001b[1;33m,\u001b[0m \u001b[0mself\u001b[0m\u001b[1;33m.\u001b[0m\u001b[0mengine\u001b[0m\u001b[1;33m)\u001b[0m\u001b[1;33m.\u001b[0m\u001b[0mget_stock_period\u001b[0m\u001b[1;33m(\u001b[0m\u001b[0mperiod\u001b[0m\u001b[1;33m)\u001b[0m\u001b[1;33m\u001b[0m\u001b[1;33m\u001b[0m\u001b[0m\n\u001b[0m\u001b[0;32m     53\u001b[0m             \u001b[0mstockList\u001b[0m\u001b[1;33m.\u001b[0m\u001b[0mappend\u001b[0m\u001b[1;33m(\u001b[0m\u001b[0mstock_data\u001b[0m\u001b[1;33m)\u001b[0m\u001b[1;33m\u001b[0m\u001b[1;33m\u001b[0m\u001b[0m\n\u001b[0;32m     54\u001b[0m \u001b[1;33m\u001b[0m\u001b[0m\n",
      "\u001b[1;32m~\\Documents\\Kaggle\\M5\\time_series_transform\\stock_transform\\stock_extractor.py\u001b[0m in \u001b[0;36mget_stock_period\u001b[1;34m(self, period)\u001b[0m\n\u001b[0;32m     17\u001b[0m \u001b[1;33m\u001b[0m\u001b[0m\n\u001b[0;32m     18\u001b[0m     \u001b[1;32mdef\u001b[0m \u001b[0mget_stock_period\u001b[0m\u001b[1;33m(\u001b[0m\u001b[0mself\u001b[0m\u001b[1;33m,\u001b[0m\u001b[0mperiod\u001b[0m\u001b[1;33m)\u001b[0m\u001b[1;33m:\u001b[0m\u001b[1;33m\u001b[0m\u001b[1;33m\u001b[0m\u001b[0m\n\u001b[1;32m---> 19\u001b[1;33m         \u001b[0mdata\u001b[0m \u001b[1;33m=\u001b[0m \u001b[0mself\u001b[0m\u001b[1;33m.\u001b[0m\u001b[0mclient\u001b[0m\u001b[1;33m.\u001b[0m\u001b[0mgetHistoricalByPeriod\u001b[0m\u001b[1;33m(\u001b[0m\u001b[0mperiod\u001b[0m\u001b[1;33m)\u001b[0m\u001b[1;33m\u001b[0m\u001b[1;33m\u001b[0m\u001b[0m\n\u001b[0m\u001b[0;32m     20\u001b[0m         \u001b[0madditionalInfo\u001b[0m \u001b[1;33m=\u001b[0m \u001b[0mself\u001b[0m\u001b[1;33m.\u001b[0m\u001b[0mclient\u001b[0m\u001b[1;33m.\u001b[0m\u001b[0mgetAdditionalInfo\u001b[0m\u001b[1;33m(\u001b[0m\u001b[1;33m)\u001b[0m\u001b[1;33m\u001b[0m\u001b[1;33m\u001b[0m\u001b[0m\n\u001b[0;32m     21\u001b[0m         \u001b[0mself\u001b[0m\u001b[1;33m.\u001b[0m\u001b[0mstock\u001b[0m \u001b[1;33m=\u001b[0m \u001b[0mStock\u001b[0m\u001b[1;33m(\u001b[0m\u001b[0mself\u001b[0m\u001b[1;33m.\u001b[0m\u001b[0msymbol\u001b[0m\u001b[1;33m,\u001b[0m\u001b[0mdata\u001b[0m\u001b[1;33m,\u001b[0m\u001b[0madditionalInfo\u001b[0m\u001b[1;33m)\u001b[0m\u001b[1;33m\u001b[0m\u001b[1;33m\u001b[0m\u001b[0m\n",
      "\u001b[1;32m~\\Documents\\Kaggle\\M5\\time_series_transform\\stock_transform\\stock_extractor.py\u001b[0m in \u001b[0;36mgetHistoricalByPeriod\u001b[1;34m(self, period)\u001b[0m\n\u001b[0;32m    119\u001b[0m \u001b[1;33m\u001b[0m\u001b[0m\n\u001b[0;32m    120\u001b[0m     \u001b[1;32mdef\u001b[0m \u001b[0mgetHistoricalByPeriod\u001b[0m\u001b[1;33m(\u001b[0m\u001b[0mself\u001b[0m\u001b[1;33m,\u001b[0m \u001b[0mperiod\u001b[0m \u001b[1;33m=\u001b[0m \u001b[1;34m'1mo'\u001b[0m\u001b[1;33m)\u001b[0m\u001b[1;33m:\u001b[0m\u001b[1;33m\u001b[0m\u001b[1;33m\u001b[0m\u001b[0m\n\u001b[1;32m--> 121\u001b[1;33m         \u001b[1;32mreturn\u001b[0m \u001b[0mself\u001b[0m\u001b[1;33m.\u001b[0m\u001b[0mticker\u001b[0m\u001b[1;33m.\u001b[0m\u001b[0mhistory\u001b[0m\u001b[1;33m(\u001b[0m\u001b[0mperiod\u001b[0m\u001b[1;33m)\u001b[0m\u001b[1;33m\u001b[0m\u001b[1;33m\u001b[0m\u001b[0m\n\u001b[0m\u001b[0;32m    122\u001b[0m \u001b[1;33m\u001b[0m\u001b[0m\n\u001b[0;32m    123\u001b[0m     \u001b[1;32mdef\u001b[0m \u001b[0mgetHistoricalByRange\u001b[0m\u001b[1;33m(\u001b[0m\u001b[0mself\u001b[0m\u001b[1;33m,\u001b[0m \u001b[0mstart_date\u001b[0m\u001b[1;33m,\u001b[0m \u001b[0mend_date\u001b[0m\u001b[1;33m)\u001b[0m\u001b[1;33m:\u001b[0m\u001b[1;33m\u001b[0m\u001b[1;33m\u001b[0m\u001b[0m\n",
      "\u001b[1;31mAttributeError\u001b[0m: 'str' object has no attribute 'ticker'"
     ]
    }
   ],
   "source": [
    "tickList = ['^GSPC','^DJI','GC=F','CL=F']\n",
    "pe = Portfolio_Extractor(tickList,'yahoo')\n",
    "port = pe.get_portfolio_period('5yr')"
   ]
  },
  {
   "cell_type": "code",
   "execution_count": 3,
   "metadata": {
    "scrolled": true
   },
   "outputs": [],
   "source": [
    "port.make_technical_indicator('Close','diff_1',differencing)\n",
    "port.make_technical_indicator('Close_diff_1','fft10000',rfft_transform,threshold = 10000)\n",
    "port.make_technical_indicator('Close_diff_1','fft1000',rfft_transform,threshold = 1000)\n",
    "port.make_technical_indicator('Close_diff_1','fft100',rfft_transform,threshold = 100)\n",
    "port.make_technical_indicator('Close_diff_1','moving_3',moving_average,windowSize = 3)\n",
    "port.make_technical_indicator('Close_diff_1','moving_30',moving_average,windowSize = 30)\n",
    "port.make_technical_indicator('Close_diff_1','wavelet_6',wavelet_denoising,level =6)\n",
    "port.make_technical_indicator('Close_diff_1','wavelet_1',wavelet_denoising,level =1)\n",
    "port.make_technical_indicator('Close','wavelet_1',wavelet_denoising,level =1)"
   ]
  },
  {
   "cell_type": "code",
   "execution_count": 4,
   "metadata": {},
   "outputs": [],
   "source": [
    "df = port.get_portfolio_dataFrame()"
   ]
  },
  {
   "cell_type": "code",
   "execution_count": 5,
   "metadata": {},
   "outputs": [
    {
     "data": {
      "text/plain": [
       "<matplotlib.axes._subplots.AxesSubplot at 0x2741881a2b0>"
      ]
     },
     "execution_count": 5,
     "metadata": {},
     "output_type": "execute_result"
    },
    {
     "data": {
      "image/png": "[encoded data removed]",
      "text/plain": [
       "<Figure size 432x288 with 1 Axes>"
      ]
     },
     "metadata": {
      "needs_background": "light"
     },
     "output_type": "display_data"
    }
   ],
   "source": [
    "df[['Close','Close_wavelet_1']].plot()"
   ]
  },
  {
   "cell_type": "code",
   "execution_count": 6,
   "metadata": {},
   "outputs": [],
   "source": [
    "trainDate = list(range(2000,4800))\n",
    "valDate = list(range(4800,4900))\n",
    "testDate = list(range(4900,5000))\n",
    "labels = [\n",
    "    'sp500_Close_diff_1',\n",
    "    'sp500_Close_wavelet_1',\n",
    "    'sp500_Close_diff_1_wavelet_6',\n",
    "    'sp500_Close_diff_1_wavelet_1'\n",
    "         ]\n",
    "WINDOW_SIZE = 30"
   ]
  },
  {
   "cell_type": "code",
   "execution_count": 7,
   "metadata": {
    "scrolled": true
   },
   "outputs": [],
   "source": [
    "resDf = port.get_portfolio_dataFrame()\n",
    "psd = Pandas_Time_Series_Tensor_Dataset(resDf)\n",
    "timeSeriesDic = psd.expand_dataFrame_by_date('symbol','Date',True,False,True)\n",
    "for i,v in enumerate(labels):\n",
    "    if i == 0:\n",
    "        psd.set_config(\n",
    "            name = f'sequence',\n",
    "            colNames = list(map(lambda x: f'{v}_{str(x)}',trainDate)),\n",
    "            tensorType = 'sequence',\n",
    "            sequence_stack = None,\n",
    "            isResponseVar = False,\n",
    "            windowSize = WINDOW_SIZE,\n",
    "            seqSize = 1837,\n",
    "            outType = np.float32\n",
    "        )\n",
    "    else:\n",
    "        psd.set_config(\n",
    "            name = f'{v}_sequence',\n",
    "            colNames = list(map(lambda x: f'{v}_{str(x)}',trainDate)),\n",
    "            tensorType = 'sequence',\n",
    "            sequence_stack = \"sequence\",\n",
    "            isResponseVar = False,\n",
    "            windowSize = WINDOW_SIZE,\n",
    "            seqSize = 1837,\n",
    "            outType = np.float32\n",
    "        )\n",
    "\n",
    "for step in range(1):\n",
    "    if step == 0:\n",
    "        psd.set_config(\n",
    "            name = 'label',\n",
    "            colNames = list(map(lambda x: f'sp500_Close_{str(x)}',trainDate)),\n",
    "            tensorType = 'label',\n",
    "            sequence_stack = None,\n",
    "            isResponseVar = True,\n",
    "            windowSize = WINDOW_SIZE,\n",
    "            seqSize = 1837,\n",
    "            outType = np.float32\n",
    "        )\n",
    "    else:\n",
    "        psd.set_config(\n",
    "            name = f'label_{step}',\n",
    "            colNames = list(map(lambda x: f'sp500_Close_{str(x)}',map(lambda x: x+step ,trainDate))),\n",
    "            tensorType = 'label',\n",
    "            sequence_stack = 'label',\n",
    "            isResponseVar = True,\n",
    "            windowSize = WINDOW_SIZE,\n",
    "            seqSize = 1837,\n",
    "            outType = np.float32\n",
    "        )        "
   ]
  },
  {
   "cell_type": "code",
   "execution_count": 8,
   "metadata": {},
   "outputs": [],
   "source": [
    "gen = psd.make_data_generator()\n",
    "tfg = TFRecord_Writer('abc.tfRecord')\n",
    "tfg.write_tfRecord(gen)\n",
    "dtypeRecord_train = tfg.get_tfRecord_dtype()"
   ]
  },
  {
   "cell_type": "code",
   "execution_count": 9,
   "metadata": {
    "scrolled": true
   },
   "outputs": [],
   "source": [
    "psd = Pandas_Time_Series_Tensor_Dataset(resDf)\n",
    "timeSeriesDic = psd.expand_dataFrame_by_date('symbol','Date',True,False,True)\n",
    "for i,v in enumerate(labels):\n",
    "    if i == 0:\n",
    "        psd.set_config(\n",
    "            name = f'sequence',\n",
    "            colNames = list(map(lambda x: f'{v}_{str(x)}',valDate)),\n",
    "            tensorType = 'sequence',\n",
    "            sequence_stack = None,\n",
    "            isResponseVar = False,\n",
    "            windowSize = WINDOW_SIZE,\n",
    "            seqSize = 1837,\n",
    "            outType = np.float32\n",
    "        )\n",
    "    else:\n",
    "        psd.set_config(\n",
    "            name = f'{v}_sequence',\n",
    "            colNames = list(map(lambda x: f'{v}_{str(x)}',valDate)),\n",
    "            tensorType = 'sequence',\n",
    "            sequence_stack = \"sequence\",\n",
    "            isResponseVar = False,\n",
    "            windowSize = WINDOW_SIZE,\n",
    "            seqSize = 1837,\n",
    "            outType = np.float32\n",
    "        )\n",
    "\n",
    "for step in range(1):\n",
    "    if step == 0:\n",
    "        psd.set_config(\n",
    "            name = 'label',\n",
    "            colNames = list(map(lambda x: f'sp500_Close_{str(x)}',valDate)),\n",
    "            tensorType = 'label',\n",
    "            sequence_stack = None,\n",
    "            isResponseVar = True,\n",
    "            windowSize = WINDOW_SIZE,\n",
    "            seqSize = 1837,\n",
    "            outType = np.float32\n",
    "        )\n",
    "    else:\n",
    "        psd.set_config(\n",
    "            name = f'label_{step}',\n",
    "            colNames = list(map(lambda x: f'sp500_Close_{str(x)}',map(lambda x: x+step ,valDate))),\n",
    "            tensorType = 'label',\n",
    "            sequence_stack = 'label',\n",
    "            isResponseVar = True,\n",
    "            windowSize = WINDOW_SIZE,\n",
    "            seqSize = 1837,\n",
    "            outType = np.float32\n",
    "        )     "
   ]
  },
  {
   "cell_type": "code",
   "execution_count": 10,
   "metadata": {
    "scrolled": true
   },
   "outputs": [],
   "source": [
    "gen = psd.make_data_generator()\n",
    "tfg = TFRecord_Writer('abc_val.tfRecord')\n",
    "tfg.write_tfRecord(gen)\n",
    "dtypeRecord_val = tfg.get_tfRecord_dtype()"
   ]
  },
  {
   "cell_type": "code",
   "execution_count": 11,
   "metadata": {},
   "outputs": [],
   "source": [
    "tfr_train = TFRecord_Reader('abc.tfRecord',dtypeRecord_train)\n",
    "tfr_val = TFRecord_Reader('abc_val.tfRecord',dtypeRecord_val)"
   ]
  },
  {
   "cell_type": "code",
   "execution_count": 12,
   "metadata": {},
   "outputs": [],
   "source": [
    "def data_transform(X):\n",
    "    # we only use the current week day and current price as feature\n",
    "    # ignore the rest of data within the window since the change is very limited.\n",
    "    X['current'] = X['sequence'][:,:-28,:]\n",
    "    X['past'] = X['sequence'][:,-28:,:]\n",
    "    Y = X['label']\n",
    "    return (X,Y)"
   ]
  },
  {
   "cell_type": "code",
   "execution_count": 55,
   "metadata": {},
   "outputs": [],
   "source": [
    "EVALUATION_INTERVAL = 250\n",
    "Validation_STEP =  250\n",
    "EPOCHS = 100\n",
    "\n",
    "\n",
    "train_dataset = tfr_train.make_tfDataset()\n",
    "val_dataset = tfr_val.make_tfDataset()\n",
    "batchsize = 1000\n",
    "\n",
    "train_dataset = train_dataset.unbatch().batch(3000).map(data_transform).\\\n",
    "prefetch(tf.data.experimental.AUTOTUNE).repeat()\n",
    "val_dataset = val_dataset.unbatch().batch(3000).map(data_transform).\\\n",
    "prefetch(tf.data.experimental.AUTOTUNE).repeat()"
   ]
  },
  {
   "cell_type": "code",
   "execution_count": 93,
   "metadata": {},
   "outputs": [],
   "source": [
    "def create_attention_model():\n",
    "    seq_input = tf.keras.layers.Input(shape=(WINDOW_SIZE,len(labels)),name = 'sequence')\n",
    "    \n",
    "    # lstm\n",
    "#     seq = tf.keras.layers.LayerNormalization()(seq_input)\n",
    "#     seq = tf.keras.layers.LSTM(1,return_sequences=False)(seq)\n",
    "    \n",
    "    #2d cnn\n",
    "#     seq = tf.keras.layers.Reshape((20,20,len(labels)))(seq_input)\n",
    "#     seq = tf.keras.layers.BatchNormalization()(seq)\n",
    "#     seq = tf.keras.layers.Conv2D(5,(11,11),activation = 'relu')(seq)\n",
    "#     seq = tf.keras.layers.MaxPooling2D((2,2))(seq)\n",
    "#     seq = tf.keras.layers.BatchNormalization()(seq)\n",
    "#     seq = tf.keras.layers.Conv2D(5,(2,2),activation = 'relu')(seq)\n",
    "#     seq = tf.keras.layers.MaxPooling2D((2,2))(seq)\n",
    "    \n",
    "    #1d cnn\n",
    "    seq = tf.keras.layers.BatchNormalization()(seq_input)\n",
    "    seq = tf.keras.layers.Conv1D(3,10,activation = 'elu')(seq)\n",
    "    seq = tf.keras.layers.MaxPooling1D(2)(seq)\n",
    "\n",
    "    seq = tf.keras.layers.Flatten()(seq_input)\n",
    "    seq = tf.keras.layers.Dense(50,'relu')(seq)\n",
    "    seq = tf.keras.layers.Dropout(0.1)(seq)\n",
    "    seq = tf.keras.layers.Dense(20,'relu')(seq)\n",
    "    seq = tf.keras.layers.Dense(1)(seq)\n",
    "    \n",
    "\n",
    "    \n",
    "    lstm_embed = tf.keras.models.Model({\n",
    "        \"sequence\":seq_input\n",
    "                                       },\n",
    "                                       seq)\n",
    "\n",
    "    rmse = tf.keras.metrics.RootMeanSquaredError()\n",
    "    msle = tf.keras.losses.MeanSquaredLogarithmicError()\n",
    "    huber = tf.keras.losses.Huber()\n",
    "    adam = tf.keras.optimizers.Adam(lr = 0.001,\n",
    "                                    decay = 0.0001,\n",
    "                                    amsgrad = True\n",
    "                                   )\n",
    "    rmsp = tf.keras.optimizers.RMSprop(learning_rate=0.01, \n",
    "                                       rho=0.9)\n",
    "\n",
    "\n",
    "    lstm_embed.compile(optimizer=rmsp, \n",
    "                       loss='mae',\n",
    "                       metrics = ['mae','mse',rmse\n",
    "                                 ]\n",
    "                      )\n",
    "    return lstm_embed"
   ]
  },
  {
   "cell_type": "code",
   "execution_count": 94,
   "metadata": {
    "scrolled": true
   },
   "outputs": [
    {
     "data": {
      "image/png": "[encoded data removed]",
      "text/plain": [
       "<IPython.core.display.Image object>"
      ]
     },
     "execution_count": 94,
     "metadata": {},
     "output_type": "execute_result"
    }
   ],
   "source": [
    "model = create_attention_model()\n",
    "tf.keras.utils.plot_model(\n",
    "    model, show_shapes=True, show_layer_names=True,\n",
    "    rankdir='TB', expand_nested=False, dpi=96\n",
    ")"
   ]
  },
  {
   "cell_type": "code",
   "execution_count": 95,
   "metadata": {
    "scrolled": true
   },
   "outputs": [
    {
     "name": "stdout",
     "output_type": "stream",
     "text": [
      "Train for 10 steps, validate for 1 steps\n",
      "Epoch 1/500\n",
      "10/10 - 1s - loss: 883.7638 - mae: 883.7639 - mse: 1630862.3750 - root_mean_squared_error: 1277.0522 - val_loss: 1021.2752 - val_mae: 1021.2752 - val_mse: 1045824.6875 - val_root_mean_squared_error: 1022.6557\n",
      "Epoch 2/500\n",
      "10/10 - 0s - loss: 402.7148 - mae: 402.7148 - mse: 219687.5156 - root_mean_squared_error: 468.7083 - val_loss: 754.8698 - val_mae: 754.8698 - val_mse: 572603.5625 - val_root_mean_squared_error: 756.7057\n",
      "Epoch 3/500\n",
      "10/10 - 0s - loss: 358.4696 - mae: 358.4696 - mse: 169865.9375 - root_mean_squared_error: 412.1479 - val_loss: 820.8891 - val_mae: 820.8891 - val_mse: 676303.0625 - val_root_mean_squared_error: 822.3765\n",
      "Epoch 4/500\n",
      "10/10 - 0s - loss: 344.6115 - mae: 344.6115 - mse: 160120.3125 - root_mean_squared_error: 400.1504 - val_loss: 665.3701 - val_mae: 665.3701 - val_mse: 445322.4375 - val_root_mean_squared_error: 667.3248\n",
      "Epoch 5/500\n",
      "10/10 - 0s - loss: 314.9224 - mae: 314.9225 - mse: 131415.9844 - root_mean_squared_error: 362.5134 - val_loss: 709.5609 - val_mae: 709.5609 - val_mse: 505782.2188 - val_root_mean_squared_error: 711.1837\n",
      "Epoch 6/500\n",
      "10/10 - 0s - loss: 293.6170 - mae: 293.6169 - mse: 115490.1172 - root_mean_squared_error: 339.8384 - val_loss: 713.2686 - val_mae: 713.2686 - val_mse: 510987.4375 - val_root_mean_squared_error: 714.8339\n",
      "Epoch 7/500\n",
      "10/10 - 0s - loss: 284.4362 - mae: 284.4362 - mse: 109039.5000 - root_mean_squared_error: 330.2113 - val_loss: 660.6586 - val_mae: 660.6586 - val_mse: 438689.5000 - val_root_mean_squared_error: 662.3364\n",
      "Epoch 8/500\n",
      "10/10 - 0s - loss: 254.5541 - mae: 254.5542 - mse: 88093.9922 - root_mean_squared_error: 296.8063 - val_loss: 581.6353 - val_mae: 581.6353 - val_mse: 340491.4688 - val_root_mean_squared_error: 583.5165\n",
      "Epoch 9/500\n",
      "10/10 - 0s - loss: 259.2208 - mae: 259.2208 - mse: 91282.5859 - root_mean_squared_error: 302.1301 - val_loss: 638.3884 - val_mae: 638.3884 - val_mse: 409692.6250 - val_root_mean_squared_error: 640.0724\n",
      "Epoch 10/500\n",
      "10/10 - 0s - loss: 231.6067 - mae: 231.6067 - mse: 72005.9766 - root_mean_squared_error: 268.3393 - val_loss: 704.3318 - val_mae: 704.3318 - val_mse: 498164.1562 - val_root_mean_squared_error: 705.8074\n",
      "Epoch 11/500\n",
      "10/10 - 0s - loss: 226.8169 - mae: 226.8169 - mse: 73540.9062 - root_mean_squared_error: 271.1843 - val_loss: 717.6685 - val_mae: 717.6685 - val_mse: 517067.9375 - val_root_mean_squared_error: 719.0743\n",
      "Epoch 12/500\n",
      "10/10 - 0s - loss: 226.0136 - mae: 226.0136 - mse: 72873.5156 - root_mean_squared_error: 269.9510 - val_loss: 740.2163 - val_mae: 740.2163 - val_mse: 549889.3750 - val_root_mean_squared_error: 741.5453\n",
      "Epoch 13/500\n",
      "10/10 - 0s - loss: 216.9336 - mae: 216.9336 - mse: 72411.7188 - root_mean_squared_error: 269.0943 - val_loss: 775.3584 - val_mae: 775.3584 - val_mse: 603074.1875 - val_root_mean_squared_error: 776.5785\n",
      "Epoch 14/500\n",
      "10/10 - 0s - loss: 215.1145 - mae: 215.1145 - mse: 76039.1797 - root_mean_squared_error: 275.7520 - val_loss: 705.8989 - val_mae: 705.8989 - val_mse: 500110.2812 - val_root_mean_squared_error: 707.1848\n",
      "Epoch 15/500\n",
      "10/10 - 1s - loss: 216.6923 - mae: 216.6923 - mse: 70601.3281 - root_mean_squared_error: 265.7091 - val_loss: 776.7132 - val_mae: 776.7132 - val_mse: 605032.8750 - val_root_mean_squared_error: 777.8386\n",
      "Epoch 16/500\n",
      "10/10 - 0s - loss: 208.3944 - mae: 208.3944 - mse: 71114.0859 - root_mean_squared_error: 266.6722 - val_loss: 745.4231 - val_mae: 745.4231 - val_mse: 557338.6875 - val_root_mean_squared_error: 746.5512\n",
      "Epoch 17/500\n",
      "10/10 - 0s - loss: 205.4224 - mae: 205.4224 - mse: 65216.2930 - root_mean_squared_error: 255.3748 - val_loss: 759.9158 - val_mae: 759.9158 - val_mse: 579085.5625 - val_root_mean_squared_error: 760.9767\n",
      "Epoch 18/500\n",
      "10/10 - 1s - loss: 205.2649 - mae: 205.2650 - mse: 62761.3945 - root_mean_squared_error: 250.5222 - val_loss: 739.1809 - val_mae: 739.1809 - val_mse: 547956.6875 - val_root_mean_squared_error: 740.2410\n",
      "Epoch 19/500\n",
      "10/10 - 0s - loss: 190.2960 - mae: 190.2960 - mse: 58582.8633 - root_mean_squared_error: 242.0390 - val_loss: 392.9144 - val_mae: 392.9144 - val_mse: 155969.3906 - val_root_mean_squared_error: 394.9296\n",
      "Epoch 20/500\n",
      "10/10 - 0s - loss: 198.2221 - mae: 198.2221 - mse: 56566.8906 - root_mean_squared_error: 237.8380 - val_loss: 728.3379 - val_mae: 728.3379 - val_mse: 531986.3125 - val_root_mean_squared_error: 729.3739\n",
      "Epoch 21/500\n",
      "10/10 - 0s - loss: 183.1014 - mae: 183.1014 - mse: 53661.6914 - root_mean_squared_error: 231.6499 - val_loss: 683.8021 - val_mae: 683.8021 - val_mse: 469060.7188 - val_root_mean_squared_error: 684.8801\n",
      "Epoch 22/500\n",
      "10/10 - 0s - loss: 186.1623 - mae: 186.1623 - mse: 57477.3633 - root_mean_squared_error: 239.7444 - val_loss: 488.5150 - val_mae: 488.5150 - val_mse: 240100.6875 - val_root_mean_squared_error: 490.0007\n",
      "Epoch 23/500\n",
      "10/10 - 0s - loss: 193.7038 - mae: 193.7038 - mse: 51325.0625 - root_mean_squared_error: 226.5504 - val_loss: 745.4796 - val_mae: 745.4796 - val_mse: 557175.5000 - val_root_mean_squared_error: 746.4419\n",
      "Epoch 24/500\n",
      "10/10 - 0s - loss: 191.8544 - mae: 191.8544 - mse: 57135.7930 - root_mean_squared_error: 239.0309 - val_loss: 592.5513 - val_mae: 592.5513 - val_mse: 352524.2188 - val_root_mean_squared_error: 593.7375\n",
      "Epoch 25/500\n",
      "10/10 - 0s - loss: 178.7904 - mae: 178.7905 - mse: 50877.9883 - root_mean_squared_error: 225.5615 - val_loss: 358.9855 - val_mae: 358.9855 - val_mse: 130276.2969 - val_root_mean_squared_error: 360.9381\n",
      "Epoch 26/500\n",
      "10/10 - 0s - loss: 187.2049 - mae: 187.2049 - mse: 48452.6641 - root_mean_squared_error: 220.1197 - val_loss: 712.2477 - val_mae: 712.2477 - val_mse: 508660.1562 - val_root_mean_squared_error: 713.2042\n",
      "Epoch 27/500\n",
      "10/10 - 0s - loss: 172.9257 - mae: 172.9257 - mse: 52679.8750 - root_mean_squared_error: 229.5210 - val_loss: 577.0612 - val_mae: 577.0612 - val_mse: 334323.1875 - val_root_mean_squared_error: 578.2068\n",
      "Epoch 28/500\n",
      "10/10 - 0s - loss: 178.6696 - mae: 178.6696 - mse: 46809.4922 - root_mean_squared_error: 216.3550 - val_loss: 571.8795 - val_mae: 571.8795 - val_mse: 328361.5312 - val_root_mean_squared_error: 573.0284\n",
      "Epoch 29/500\n",
      "10/10 - 0s - loss: 177.3704 - mae: 177.3704 - mse: 47236.4180 - root_mean_squared_error: 217.3394 - val_loss: 734.4163 - val_mae: 734.4163 - val_mse: 540675.6250 - val_root_mean_squared_error: 735.3065\n",
      "Epoch 30/500\n",
      "10/10 - 0s - loss: 173.8605 - mae: 173.8605 - mse: 48094.3594 - root_mean_squared_error: 219.3043 - val_loss: 719.6508 - val_mae: 719.6508 - val_mse: 519184.1250 - val_root_mean_squared_error: 720.5443\n",
      "Epoch 31/500\n",
      "10/10 - 0s - loss: 169.8856 - mae: 169.8856 - mse: 47378.2617 - root_mean_squared_error: 217.6655 - val_loss: 614.3369 - val_mae: 614.3369 - val_mse: 378659.1875 - val_root_mean_squared_error: 615.3529\n",
      "Epoch 32/500\n",
      "10/10 - 0s - loss: 169.0610 - mae: 169.0611 - mse: 44111.6641 - root_mean_squared_error: 210.0278 - val_loss: 653.2669 - val_mae: 653.2669 - val_mse: 428007.0312 - val_root_mean_squared_error: 654.2225\n",
      "Epoch 33/500\n",
      "10/10 - 0s - loss: 165.0898 - mae: 165.0899 - mse: 44425.9688 - root_mean_squared_error: 210.7747 - val_loss: 634.3069 - val_mae: 634.3069 - val_mse: 403568.8438 - val_root_mean_squared_error: 635.2707\n",
      "Epoch 34/500\n",
      "10/10 - 0s - loss: 160.8274 - mae: 160.8274 - mse: 42088.8711 - root_mean_squared_error: 205.1557 - val_loss: 660.4267 - val_mae: 660.4267 - val_mse: 437380.4688 - val_root_mean_squared_error: 661.3475\n",
      "Epoch 35/500\n",
      "10/10 - 0s - loss: 156.1396 - mae: 156.1396 - mse: 37192.9336 - root_mean_squared_error: 192.8547 - val_loss: 632.9540 - val_mae: 632.9540 - val_mse: 401823.2188 - val_root_mean_squared_error: 633.8953\n",
      "Epoch 36/500\n",
      "10/10 - 0s - loss: 150.4357 - mae: 150.4357 - mse: 35541.6094 - root_mean_squared_error: 188.5248 - val_loss: 647.6592 - val_mae: 647.6592 - val_mse: 420654.6562 - val_root_mean_squared_error: 648.5790\n",
      "Epoch 37/500\n",
      "10/10 - 0s - loss: 143.8474 - mae: 143.8474 - mse: 37224.7266 - root_mean_squared_error: 192.9371 - val_loss: 664.2146 - val_mae: 664.2146 - val_mse: 442364.1562 - val_root_mean_squared_error: 665.1046\n",
      "Epoch 38/500\n",
      "10/10 - 0s - loss: 145.5706 - mae: 145.5706 - mse: 34429.8438 - root_mean_squared_error: 185.5528 - val_loss: 599.6031 - val_mae: 599.6031 - val_mse: 360691.6875 - val_root_mean_squared_error: 600.5761\n"
     ]
    },
    {
     "name": "stdout",
     "output_type": "stream",
     "text": [
      "Epoch 39/500\n",
      "10/10 - 0s - loss: 140.4818 - mae: 140.4818 - mse: 35440.4414 - root_mean_squared_error: 188.2563 - val_loss: 595.4196 - val_mae: 595.4196 - val_mse: 355701.4375 - val_root_mean_squared_error: 596.4071\n",
      "Epoch 40/500\n",
      "10/10 - 0s - loss: 141.3177 - mae: 141.3177 - mse: 34595.3086 - root_mean_squared_error: 185.9981 - val_loss: 648.1545 - val_mae: 648.1545 - val_mse: 421271.3438 - val_root_mean_squared_error: 649.0542\n",
      "Epoch 41/500\n",
      "10/10 - 0s - loss: 138.7785 - mae: 138.7785 - mse: 34360.1484 - root_mean_squared_error: 185.3649 - val_loss: 638.3522 - val_mae: 638.3522 - val_mse: 408635.9062 - val_root_mean_squared_error: 639.2463\n",
      "Epoch 42/500\n",
      "10/10 - 0s - loss: 140.0434 - mae: 140.0434 - mse: 35130.5391 - root_mean_squared_error: 187.4314 - val_loss: 636.1301 - val_mae: 636.1301 - val_mse: 405776.6875 - val_root_mean_squared_error: 637.0060\n",
      "Epoch 43/500\n",
      "10/10 - 0s - loss: 138.4506 - mae: 138.4505 - mse: 35005.6367 - root_mean_squared_error: 187.0979 - val_loss: 587.0898 - val_mae: 587.0898 - val_mse: 345748.7500 - val_root_mean_squared_error: 588.0040\n",
      "Epoch 44/500\n",
      "10/10 - 0s - loss: 139.1404 - mae: 139.1404 - mse: 33383.9648 - root_mean_squared_error: 182.7128 - val_loss: 635.9744 - val_mae: 635.9744 - val_mse: 405527.9688 - val_root_mean_squared_error: 636.8108\n",
      "Epoch 45/500\n",
      "10/10 - 0s - loss: 137.2824 - mae: 137.2824 - mse: 36632.7969 - root_mean_squared_error: 191.3970 - val_loss: 592.5778 - val_mae: 592.5778 - val_mse: 352183.8438 - val_root_mean_squared_error: 593.4508\n",
      "Epoch 46/500\n",
      "10/10 - 1s - loss: 137.0420 - mae: 137.0420 - mse: 34440.4180 - root_mean_squared_error: 185.5813 - val_loss: 584.2474 - val_mae: 584.2474 - val_mse: 342355.1875 - val_root_mean_squared_error: 585.1113\n",
      "Epoch 47/500\n",
      "10/10 - 0s - loss: 139.2040 - mae: 139.2039 - mse: 33743.0664 - root_mean_squared_error: 183.6929 - val_loss: 644.0153 - val_mae: 644.0153 - val_mse: 415750.0938 - val_root_mean_squared_error: 644.7869\n",
      "Epoch 48/500\n",
      "10/10 - 0s - loss: 139.1838 - mae: 139.1838 - mse: 32134.8281 - root_mean_squared_error: 179.2619 - val_loss: 618.7500 - val_mae: 618.7500 - val_mse: 383834.4688 - val_root_mean_squared_error: 619.5438\n",
      "Epoch 49/500\n",
      "10/10 - 0s - loss: 137.5204 - mae: 137.5204 - mse: 32648.1992 - root_mean_squared_error: 180.6881 - val_loss: 570.2387 - val_mae: 570.2387 - val_mse: 326126.0312 - val_root_mean_squared_error: 571.0745\n",
      "Epoch 50/500\n",
      "10/10 - 0s - loss: 135.9761 - mae: 135.9761 - mse: 31397.5312 - root_mean_squared_error: 177.1935 - val_loss: 625.5596 - val_mae: 625.5596 - val_mse: 392272.3750 - val_root_mean_squared_error: 626.3165\n",
      "Epoch 51/500\n",
      "10/10 - 0s - loss: 135.8043 - mae: 135.8043 - mse: 33098.0977 - root_mean_squared_error: 181.9288 - val_loss: 618.4631 - val_mae: 618.4631 - val_mse: 383418.5625 - val_root_mean_squared_error: 619.2080\n",
      "Epoch 52/500\n",
      "10/10 - 0s - loss: 135.6847 - mae: 135.6847 - mse: 30895.3535 - root_mean_squared_error: 175.7707 - val_loss: 598.3965 - val_mae: 598.3965 - val_mse: 358994.0312 - val_root_mean_squared_error: 599.1611\n",
      "Epoch 53/500\n",
      "10/10 - 0s - loss: 134.5564 - mae: 134.5564 - mse: 33038.0469 - root_mean_squared_error: 181.7637 - val_loss: 557.9158 - val_mae: 557.9158 - val_mse: 312172.2188 - val_root_mean_squared_error: 558.7238\n",
      "Epoch 54/500\n",
      "10/10 - 0s - loss: 138.7394 - mae: 138.7394 - mse: 31585.0195 - root_mean_squared_error: 177.7217 - val_loss: 573.8464 - val_mae: 573.8464 - val_mse: 330193.0625 - val_root_mean_squared_error: 574.6243\n",
      "Epoch 55/500\n",
      "10/10 - 0s - loss: 133.9824 - mae: 133.9825 - mse: 32023.2891 - root_mean_squared_error: 178.9505 - val_loss: 579.4949 - val_mae: 579.4949 - val_mse: 336704.5625 - val_root_mean_squared_error: 580.2625\n",
      "Epoch 56/500\n",
      "10/10 - 0s - loss: 136.4947 - mae: 136.4947 - mse: 32948.4219 - root_mean_squared_error: 181.5170 - val_loss: 636.1112 - val_mae: 636.1112 - val_mse: 405514.5000 - val_root_mean_squared_error: 636.8002\n",
      "Epoch 57/500\n",
      "10/10 - 0s - loss: 136.6380 - mae: 136.6380 - mse: 32946.6328 - root_mean_squared_error: 181.5121 - val_loss: 535.0760 - val_mae: 535.0760 - val_mse: 287150.1562 - val_root_mean_squared_error: 535.8640\n",
      "Epoch 58/500\n",
      "10/10 - 0s - loss: 134.3775 - mae: 134.3775 - mse: 30704.6055 - root_mean_squared_error: 175.2273 - val_loss: 628.4155 - val_mae: 628.4155 - val_mse: 395763.1562 - val_root_mean_squared_error: 629.0971\n",
      "Epoch 59/500\n",
      "10/10 - 0s - loss: 134.7390 - mae: 134.7391 - mse: 32045.0859 - root_mean_squared_error: 179.0114 - val_loss: 614.8975 - val_mae: 614.8975 - val_mse: 378928.3438 - val_root_mean_squared_error: 615.5715\n",
      "Epoch 60/500\n",
      "10/10 - 0s - loss: 137.7167 - mae: 137.7167 - mse: 29083.5195 - root_mean_squared_error: 170.5389 - val_loss: 600.4131 - val_mae: 600.4131 - val_mse: 361335.3438 - val_root_mean_squared_error: 601.1118\n",
      "Epoch 61/500\n",
      "10/10 - 0s - loss: 132.8272 - mae: 132.8272 - mse: 33107.2891 - root_mean_squared_error: 181.9541 - val_loss: 622.2035 - val_mae: 622.2035 - val_mse: 387963.0938 - val_root_mean_squared_error: 622.8668\n",
      "Epoch 62/500\n",
      "10/10 - 0s - loss: 132.3174 - mae: 132.3174 - mse: 32413.0684 - root_mean_squared_error: 180.0363 - val_loss: 499.0594 - val_mae: 499.0594 - val_mse: 249863.9688 - val_root_mean_squared_error: 499.8640\n",
      "Epoch 63/500\n",
      "10/10 - 0s - loss: 134.3384 - mae: 134.3384 - mse: 30291.3379 - root_mean_squared_error: 174.0441 - val_loss: 635.0222 - val_mae: 635.0222 - val_mse: 404060.0625 - val_root_mean_squared_error: 635.6572\n",
      "Epoch 64/500\n",
      "10/10 - 0s - loss: 133.6635 - mae: 133.6635 - mse: 33504.3945 - root_mean_squared_error: 183.0421 - val_loss: 633.9711 - val_mae: 633.9711 - val_mse: 402723.5938 - val_root_mean_squared_error: 634.6050\n",
      "Epoch 65/500\n",
      "10/10 - 0s - loss: 130.9615 - mae: 130.9615 - mse: 30197.4961 - root_mean_squared_error: 173.7743 - val_loss: 587.8369 - val_mae: 587.8369 - val_mse: 346329.7812 - val_root_mean_squared_error: 588.4979\n",
      "Epoch 66/500\n",
      "10/10 - 0s - loss: 133.7967 - mae: 133.7968 - mse: 32518.6562 - root_mean_squared_error: 180.3293 - val_loss: 646.2850 - val_mae: 646.2850 - val_mse: 418482.9688 - val_root_mean_squared_error: 646.9026\n",
      "Epoch 67/500\n",
      "10/10 - 0s - loss: 134.7996 - mae: 134.7996 - mse: 34649.8438 - root_mean_squared_error: 186.1447 - val_loss: 638.4830 - val_mae: 638.4830 - val_mse: 408435.6250 - val_root_mean_squared_error: 639.0897\n",
      "Epoch 68/500\n",
      "10/10 - 0s - loss: 133.8041 - mae: 133.8041 - mse: 33348.2031 - root_mean_squared_error: 182.6149 - val_loss: 414.8724 - val_mae: 414.8724 - val_mse: 172852.2812 - val_root_mean_squared_error: 415.7551\n",
      "Epoch 69/500\n",
      "10/10 - 0s - loss: 139.0861 - mae: 139.0861 - mse: 27062.8340 - root_mean_squared_error: 164.5079 - val_loss: 568.3495 - val_mae: 568.3495 - val_mse: 323781.0000 - val_root_mean_squared_error: 569.0176\n",
      "Epoch 70/500\n",
      "10/10 - 0s - loss: 130.9884 - mae: 130.9884 - mse: 31245.1035 - root_mean_squared_error: 176.7628 - val_loss: 587.4587 - val_mae: 587.4587 - val_mse: 345859.2812 - val_root_mean_squared_error: 588.0980\n",
      "Epoch 71/500\n",
      "10/10 - 0s - loss: 133.3699 - mae: 133.3699 - mse: 31713.5566 - root_mean_squared_error: 178.0830 - val_loss: 526.7759 - val_mae: 526.7759 - val_mse: 278232.5000 - val_root_mean_squared_error: 527.4775\n",
      "Epoch 72/500\n",
      "10/10 - 0s - loss: 132.7055 - mae: 132.7055 - mse: 29750.1406 - root_mean_squared_error: 172.4823 - val_loss: 590.6546 - val_mae: 590.6546 - val_mse: 349622.2812 - val_root_mean_squared_error: 591.2886\n",
      "Epoch 73/500\n",
      "10/10 - 0s - loss: 134.8395 - mae: 134.8395 - mse: 32442.2949 - root_mean_squared_error: 180.1174 - val_loss: 549.6954 - val_mae: 549.6954 - val_mse: 302897.3438 - val_root_mean_squared_error: 550.3611\n",
      "Epoch 74/500\n",
      "10/10 - 0s - loss: 131.1027 - mae: 131.1027 - mse: 29161.3594 - root_mean_squared_error: 170.7670 - val_loss: 635.1951 - val_mae: 635.1951 - val_mse: 404221.8750 - val_root_mean_squared_error: 635.7845\n",
      "Epoch 75/500\n",
      "Restoring model weights from the end of the best epoch.\n",
      "10/10 - 0s - loss: 132.2607 - mae: 132.2607 - mse: 30951.6016 - root_mean_squared_error: 175.9307 - val_loss: 543.8091 - val_mae: 543.8091 - val_mse: 296449.7188 - val_root_mean_squared_error: 544.4720\n",
      "Epoch 00075: early stopping\n"
     ]
    },
    {
     "data": {
      "text/plain": [
       "<tensorflow.python.keras.callbacks.History at 0x27435141588>"
      ]
     },
     "execution_count": 95,
     "metadata": {},
     "output_type": "execute_result"
    }
   ],
   "source": [
    "early_stopping = tf.keras.callbacks.EarlyStopping(\n",
    "    monitor='val_mse',\n",
    "    min_delta=0.001, \n",
    "    patience=50, \n",
    "    verbose=1, \n",
    "    mode='auto',\n",
    "    baseline=None, \n",
    "    restore_best_weights=True\n",
    ")\n",
    "model.fit(train_dataset,\n",
    "          epochs=500,\n",
    "          verbose = 2,\n",
    "          validation_data = val_dataset,\n",
    "          validation_steps=1,\n",
    "          steps_per_epoch=10,\n",
    "          callbacks= [early_stopping]\n",
    "     )"
   ]
  },
  {
   "cell_type": "code",
   "execution_count": 96,
   "metadata": {},
   "outputs": [],
   "source": [
    "prd = model.predict(train_dataset,steps = 1)\n",
    "val_prd = model.predict(val_dataset, steps=1)"
   ]
  },
  {
   "cell_type": "code",
   "execution_count": 97,
   "metadata": {},
   "outputs": [],
   "source": [
    "def plot_diff(prcd,resDf,label,step):\n",
    "    real = resDf[list(map(lambda x: f'sp500_Close_{x}',label))].transpose().values\n",
    "    plotDf = pd.DataFrame(real[step:]).tail(len(prcd[step]))\n",
    "    plotDf['prd_Close'] = prcd[step]\n",
    "    return plotDf\n",
    "def plot_diff(prcd,resDf,label,step):\n",
    "    real = resDf[list(map(lambda x: f'sp500_Close_{x}',label))].transpose().values\n",
    "    plotDf = pd.DataFrame(real).tail(len(prcd))\n",
    "    plotDf['prd_Close'] = prcd\n",
    "    return plotDf"
   ]
  },
  {
   "cell_type": "code",
   "execution_count": 98,
   "metadata": {
    "scrolled": true
   },
   "outputs": [
    {
     "data": {
      "text/plain": [
       "<matplotlib.axes._subplots.AxesSubplot at 0x27435124358>"
      ]
     },
     "execution_count": 98,
     "metadata": {},
     "output_type": "execute_result"
    },
    {
     "data": {
      "image/png": "[encoded data removed]",
      "text/plain": [
       "<Figure size 432x288 with 1 Axes>"
      ]
     },
     "metadata": {
      "needs_background": "light"
     },
     "output_type": "display_data"
    }
   ],
   "source": [
    "plotDf = plot_diff(prd,psd.df,trainDate,0)\n",
    "plotDf.plot()"
   ]
  },
  {
   "cell_type": "code",
   "execution_count": 99,
   "metadata": {},
   "outputs": [
    {
     "data": {
      "text/plain": [
       "<matplotlib.axes._subplots.AxesSubplot at 0x27435642a58>"
      ]
     },
     "execution_count": 99,
     "metadata": {},
     "output_type": "execute_result"
    },
    {
     "data": {
      "image/png": "[encoded data removed]",
      "text/plain": [
       "<Figure size 432x288 with 1 Axes>"
      ]
     },
     "metadata": {
      "needs_background": "light"
     },
     "output_type": "display_data"
    }
   ],
   "source": [
    "plotDf = plot_diff(val_prd,psd.df,valDate,20)\n",
    "plotDf.plot()"
   ]
  },
  {
   "cell_type": "code",
   "execution_count": 21,
   "metadata": {},
   "outputs": [],
   "source": [
    "tpsd = Pandas_Time_Series_Tensor_Dataset(df)\n",
    "timeSeriesDic = tpsd.expand_dataFrame_by_date('symbol','Date')\n",
    "for i,v in enumerate(labels):\n",
    "    if i == 0:\n",
    "        tpsd.set_config(\n",
    "            name = f'sequence',\n",
    "            colNames = list(map(lambda x: f'{v}_{str(x)}',testDate)),\n",
    "            tensorType = 'sequence',\n",
    "            sequence_stack = None,\n",
    "            isResponseVar = False,\n",
    "            windowSize = WINDOW_SIZE,\n",
    "            seqSize = 1837,\n",
    "            outType = np.float32\n",
    "        )\n",
    "    else:\n",
    "        tpsd.set_config(\n",
    "            name = f'{v}_sequence',\n",
    "            colNames = list(map(lambda x: f'{v}_{str(x)}',testDate)),\n",
    "            tensorType = 'sequence',\n",
    "            sequence_stack = \"sequence\",\n",
    "            isResponseVar = False,\n",
    "            windowSize = WINDOW_SIZE,\n",
    "            seqSize = 1837,\n",
    "            outType = np.float32\n",
    "        )\n",
    "        \n",
    "tpsd.set_config(\n",
    "    name = 'label',\n",
    "    colNames = list(map(lambda x: f'sp500_Close_{str(x)}',testDate)),\n",
    "    tensorType = 'label',\n",
    "    sequence_stack = None,\n",
    "    isResponseVar = True,\n",
    "    windowSize = WINDOW_SIZE,\n",
    "    seqSize = 1837,\n",
    "    outType = np.float32\n",
    ")"
   ]
  },
  {
   "cell_type": "code",
   "execution_count": 22,
   "metadata": {
    "scrolled": true
   },
   "outputs": [],
   "source": [
    "tgen = psd.make_data_generator()\n",
    "test_prediction = model.predict(tgen)"
   ]
  },
  {
   "cell_type": "code",
   "execution_count": 23,
   "metadata": {
    "scrolled": true
   },
   "outputs": [
    {
     "ename": "KeyError",
     "evalue": "\"None of [Index(['sp500_Close_4900', 'sp500_Close_4901', 'sp500_Close_4902',\\n       'sp500_Close_4903', 'sp500_Close_4904', 'sp500_Close_4905',\\n       'sp500_Close_4906', 'sp500_Close_4907', 'sp500_Close_4908',\\n       'sp500_Close_4909', 'sp500_Close_4910', 'sp500_Close_4911',\\n       'sp500_Close_4912', 'sp500_Close_4913', 'sp500_Close_4914',\\n       'sp500_Close_4915', 'sp500_Close_4916', 'sp500_Close_4917',\\n       'sp500_Close_4918', 'sp500_Close_4919', 'sp500_Close_4920',\\n       'sp500_Close_4921', 'sp500_Close_4922', 'sp500_Close_4923',\\n       'sp500_Close_4924', 'sp500_Close_4925', 'sp500_Close_4926',\\n       'sp500_Close_4927', 'sp500_Close_4928', 'sp500_Close_4929',\\n       'sp500_Close_4930', 'sp500_Close_4931', 'sp500_Close_4932',\\n       'sp500_Close_4933', 'sp500_Close_4934', 'sp500_Close_4935',\\n       'sp500_Close_4936', 'sp500_Close_4937', 'sp500_Close_4938',\\n       'sp500_Close_4939', 'sp500_Close_4940', 'sp500_Close_4941',\\n       'sp500_Close_4942', 'sp500_Close_4943', 'sp500_Close_4944',\\n       'sp500_Close_4945', 'sp500_Close_4946', 'sp500_Close_4947',\\n       'sp500_Close_4948', 'sp500_Close_4949', 'sp500_Close_4950',\\n       'sp500_Close_4951', 'sp500_Close_4952', 'sp500_Close_4953',\\n       'sp500_Close_4954', 'sp500_Close_4955', 'sp500_Close_4956',\\n       'sp500_Close_4957', 'sp500_Close_4958', 'sp500_Close_4959',\\n       'sp500_Close_4960', 'sp500_Close_4961', 'sp500_Close_4962',\\n       'sp500_Close_4963', 'sp500_Close_4964', 'sp500_Close_4965',\\n       'sp500_Close_4966', 'sp500_Close_4967', 'sp500_Close_4968',\\n       'sp500_Close_4969', 'sp500_Close_4970', 'sp500_Close_4971',\\n       'sp500_Close_4972', 'sp500_Close_4973', 'sp500_Close_4974',\\n       'sp500_Close_4975', 'sp500_Close_4976', 'sp500_Close_4977',\\n       'sp500_Close_4978', 'sp500_Close_4979', 'sp500_Close_4980',\\n       'sp500_Close_4981', 'sp500_Close_4982', 'sp500_Close_4983',\\n       'sp500_Close_4984', 'sp500_Close_4985', 'sp500_Close_4986',\\n       'sp500_Close_4987', 'sp500_Close_4988', 'sp500_Close_4989',\\n       'sp500_Close_4990', 'sp500_Close_4991', 'sp500_Close_4992',\\n       'sp500_Close_4993', 'sp500_Close_4994', 'sp500_Close_4995',\\n       'sp500_Close_4996', 'sp500_Close_4997', 'sp500_Close_4998',\\n       'sp500_Close_4999'],\\n      dtype='object')] are in the [columns]\"",
     "output_type": "error",
     "traceback": [
      "\u001b[1;31m---------------------------------------------------------------------------\u001b[0m",
      "\u001b[1;31mKeyError\u001b[0m                                  Traceback (most recent call last)",
      "\u001b[1;32m<ipython-input-23-f6e69ff475d6>\u001b[0m in \u001b[0;36m<module>\u001b[1;34m\u001b[0m\n\u001b[1;32m----> 1\u001b[1;33m \u001b[0mplotDf\u001b[0m \u001b[1;33m=\u001b[0m \u001b[0mplot_diff\u001b[0m\u001b[1;33m(\u001b[0m\u001b[0mtest_prediction\u001b[0m\u001b[1;33m,\u001b[0m\u001b[0mtpsd\u001b[0m\u001b[1;33m.\u001b[0m\u001b[0mdf\u001b[0m\u001b[1;33m,\u001b[0m\u001b[0mtestDate\u001b[0m\u001b[1;33m)\u001b[0m\u001b[1;33m\u001b[0m\u001b[1;33m\u001b[0m\u001b[0m\n\u001b[0m\u001b[0;32m      2\u001b[0m \u001b[0mplotDf\u001b[0m\u001b[1;33m.\u001b[0m\u001b[0mplot\u001b[0m\u001b[1;33m(\u001b[0m\u001b[1;33m)\u001b[0m\u001b[1;33m\u001b[0m\u001b[1;33m\u001b[0m\u001b[0m\n",
      "\u001b[1;32m<ipython-input-17-2b060b40f2d3>\u001b[0m in \u001b[0;36mplot_diff\u001b[1;34m(prcd, resDf, label)\u001b[0m\n\u001b[0;32m      1\u001b[0m \u001b[1;32mdef\u001b[0m \u001b[0mplot_diff\u001b[0m\u001b[1;33m(\u001b[0m\u001b[0mprcd\u001b[0m\u001b[1;33m,\u001b[0m\u001b[0mresDf\u001b[0m\u001b[1;33m,\u001b[0m\u001b[0mlabel\u001b[0m\u001b[1;33m)\u001b[0m\u001b[1;33m:\u001b[0m\u001b[1;33m\u001b[0m\u001b[1;33m\u001b[0m\u001b[0m\n\u001b[1;32m----> 2\u001b[1;33m     \u001b[0mreal\u001b[0m \u001b[1;33m=\u001b[0m \u001b[0mresDf\u001b[0m\u001b[1;33m[\u001b[0m\u001b[0mlist\u001b[0m\u001b[1;33m(\u001b[0m\u001b[0mmap\u001b[0m\u001b[1;33m(\u001b[0m\u001b[1;32mlambda\u001b[0m \u001b[0mx\u001b[0m\u001b[1;33m:\u001b[0m \u001b[1;34mf'sp500_Close_{x}'\u001b[0m\u001b[1;33m,\u001b[0m\u001b[0mlabel\u001b[0m\u001b[1;33m)\u001b[0m\u001b[1;33m)\u001b[0m\u001b[1;33m]\u001b[0m\u001b[1;33m.\u001b[0m\u001b[0mtranspose\u001b[0m\u001b[1;33m(\u001b[0m\u001b[1;33m)\u001b[0m\u001b[1;33m.\u001b[0m\u001b[0mvalues\u001b[0m\u001b[1;33m\u001b[0m\u001b[1;33m\u001b[0m\u001b[0m\n\u001b[0m\u001b[0;32m      3\u001b[0m     \u001b[0mplotDf\u001b[0m \u001b[1;33m=\u001b[0m \u001b[0mpd\u001b[0m\u001b[1;33m.\u001b[0m\u001b[0mDataFrame\u001b[0m\u001b[1;33m(\u001b[0m\u001b[0mreal\u001b[0m\u001b[1;33m)\u001b[0m\u001b[1;33m.\u001b[0m\u001b[0mtail\u001b[0m\u001b[1;33m(\u001b[0m\u001b[0mlen\u001b[0m\u001b[1;33m(\u001b[0m\u001b[0mprcd\u001b[0m\u001b[1;33m)\u001b[0m\u001b[1;33m)\u001b[0m\u001b[1;33m\u001b[0m\u001b[1;33m\u001b[0m\u001b[0m\n\u001b[0;32m      4\u001b[0m     \u001b[0mprint\u001b[0m\u001b[1;33m(\u001b[0m\u001b[0mplotDf\u001b[0m\u001b[1;33m.\u001b[0m\u001b[0mshape\u001b[0m\u001b[1;33m)\u001b[0m\u001b[1;33m\u001b[0m\u001b[1;33m\u001b[0m\u001b[0m\n\u001b[0;32m      5\u001b[0m     \u001b[0mplotDf\u001b[0m\u001b[1;33m[\u001b[0m\u001b[1;34m'prd_Close'\u001b[0m\u001b[1;33m]\u001b[0m \u001b[1;33m=\u001b[0m \u001b[0mprcd\u001b[0m\u001b[1;33m\u001b[0m\u001b[1;33m\u001b[0m\u001b[0m\n",
      "\u001b[1;32m~\\Anaconda3\\lib\\site-packages\\pandas\\core\\frame.py\u001b[0m in \u001b[0;36m__getitem__\u001b[1;34m(self, key)\u001b[0m\n\u001b[0;32m   2804\u001b[0m             \u001b[1;32mif\u001b[0m \u001b[0mis_iterator\u001b[0m\u001b[1;33m(\u001b[0m\u001b[0mkey\u001b[0m\u001b[1;33m)\u001b[0m\u001b[1;33m:\u001b[0m\u001b[1;33m\u001b[0m\u001b[1;33m\u001b[0m\u001b[0m\n\u001b[0;32m   2805\u001b[0m                 \u001b[0mkey\u001b[0m \u001b[1;33m=\u001b[0m \u001b[0mlist\u001b[0m\u001b[1;33m(\u001b[0m\u001b[0mkey\u001b[0m\u001b[1;33m)\u001b[0m\u001b[1;33m\u001b[0m\u001b[1;33m\u001b[0m\u001b[0m\n\u001b[1;32m-> 2806\u001b[1;33m             \u001b[0mindexer\u001b[0m \u001b[1;33m=\u001b[0m \u001b[0mself\u001b[0m\u001b[1;33m.\u001b[0m\u001b[0mloc\u001b[0m\u001b[1;33m.\u001b[0m\u001b[0m_get_listlike_indexer\u001b[0m\u001b[1;33m(\u001b[0m\u001b[0mkey\u001b[0m\u001b[1;33m,\u001b[0m \u001b[0maxis\u001b[0m\u001b[1;33m=\u001b[0m\u001b[1;36m1\u001b[0m\u001b[1;33m,\u001b[0m \u001b[0mraise_missing\u001b[0m\u001b[1;33m=\u001b[0m\u001b[1;32mTrue\u001b[0m\u001b[1;33m)\u001b[0m\u001b[1;33m[\u001b[0m\u001b[1;36m1\u001b[0m\u001b[1;33m]\u001b[0m\u001b[1;33m\u001b[0m\u001b[1;33m\u001b[0m\u001b[0m\n\u001b[0m\u001b[0;32m   2807\u001b[0m \u001b[1;33m\u001b[0m\u001b[0m\n\u001b[0;32m   2808\u001b[0m         \u001b[1;31m# take() does not accept boolean indexers\u001b[0m\u001b[1;33m\u001b[0m\u001b[1;33m\u001b[0m\u001b[1;33m\u001b[0m\u001b[0m\n",
      "\u001b[1;32m~\\Anaconda3\\lib\\site-packages\\pandas\\core\\indexing.py\u001b[0m in \u001b[0;36m_get_listlike_indexer\u001b[1;34m(self, key, axis, raise_missing)\u001b[0m\n\u001b[0;32m   1551\u001b[0m \u001b[1;33m\u001b[0m\u001b[0m\n\u001b[0;32m   1552\u001b[0m         self._validate_read_indexer(\n\u001b[1;32m-> 1553\u001b[1;33m             \u001b[0mkeyarr\u001b[0m\u001b[1;33m,\u001b[0m \u001b[0mindexer\u001b[0m\u001b[1;33m,\u001b[0m \u001b[0mo\u001b[0m\u001b[1;33m.\u001b[0m\u001b[0m_get_axis_number\u001b[0m\u001b[1;33m(\u001b[0m\u001b[0maxis\u001b[0m\u001b[1;33m)\u001b[0m\u001b[1;33m,\u001b[0m \u001b[0mraise_missing\u001b[0m\u001b[1;33m=\u001b[0m\u001b[0mraise_missing\u001b[0m\u001b[1;33m\u001b[0m\u001b[1;33m\u001b[0m\u001b[0m\n\u001b[0m\u001b[0;32m   1554\u001b[0m         )\n\u001b[0;32m   1555\u001b[0m         \u001b[1;32mreturn\u001b[0m \u001b[0mkeyarr\u001b[0m\u001b[1;33m,\u001b[0m \u001b[0mindexer\u001b[0m\u001b[1;33m\u001b[0m\u001b[1;33m\u001b[0m\u001b[0m\n",
      "\u001b[1;32m~\\Anaconda3\\lib\\site-packages\\pandas\\core\\indexing.py\u001b[0m in \u001b[0;36m_validate_read_indexer\u001b[1;34m(self, key, indexer, axis, raise_missing)\u001b[0m\n\u001b[0;32m   1638\u001b[0m             \u001b[1;32mif\u001b[0m \u001b[0mmissing\u001b[0m \u001b[1;33m==\u001b[0m \u001b[0mlen\u001b[0m\u001b[1;33m(\u001b[0m\u001b[0mindexer\u001b[0m\u001b[1;33m)\u001b[0m\u001b[1;33m:\u001b[0m\u001b[1;33m\u001b[0m\u001b[1;33m\u001b[0m\u001b[0m\n\u001b[0;32m   1639\u001b[0m                 \u001b[0maxis_name\u001b[0m \u001b[1;33m=\u001b[0m \u001b[0mself\u001b[0m\u001b[1;33m.\u001b[0m\u001b[0mobj\u001b[0m\u001b[1;33m.\u001b[0m\u001b[0m_get_axis_name\u001b[0m\u001b[1;33m(\u001b[0m\u001b[0maxis\u001b[0m\u001b[1;33m)\u001b[0m\u001b[1;33m\u001b[0m\u001b[1;33m\u001b[0m\u001b[0m\n\u001b[1;32m-> 1640\u001b[1;33m                 \u001b[1;32mraise\u001b[0m \u001b[0mKeyError\u001b[0m\u001b[1;33m(\u001b[0m\u001b[1;34mf\"None of [{key}] are in the [{axis_name}]\"\u001b[0m\u001b[1;33m)\u001b[0m\u001b[1;33m\u001b[0m\u001b[1;33m\u001b[0m\u001b[0m\n\u001b[0m\u001b[0;32m   1641\u001b[0m \u001b[1;33m\u001b[0m\u001b[0m\n\u001b[0;32m   1642\u001b[0m             \u001b[1;31m# We (temporarily) allow for some missing keys with .loc, except in\u001b[0m\u001b[1;33m\u001b[0m\u001b[1;33m\u001b[0m\u001b[1;33m\u001b[0m\u001b[0m\n",
      "\u001b[1;31mKeyError\u001b[0m: \"None of [Index(['sp500_Close_4900', 'sp500_Close_4901', 'sp500_Close_4902',\\n       'sp500_Close_4903', 'sp500_Close_4904', 'sp500_Close_4905',\\n       'sp500_Close_4906', 'sp500_Close_4907', 'sp500_Close_4908',\\n       'sp500_Close_4909', 'sp500_Close_4910', 'sp500_Close_4911',\\n       'sp500_Close_4912', 'sp500_Close_4913', 'sp500_Close_4914',\\n       'sp500_Close_4915', 'sp500_Close_4916', 'sp500_Close_4917',\\n       'sp500_Close_4918', 'sp500_Close_4919', 'sp500_Close_4920',\\n       'sp500_Close_4921', 'sp500_Close_4922', 'sp500_Close_4923',\\n       'sp500_Close_4924', 'sp500_Close_4925', 'sp500_Close_4926',\\n       'sp500_Close_4927', 'sp500_Close_4928', 'sp500_Close_4929',\\n       'sp500_Close_4930', 'sp500_Close_4931', 'sp500_Close_4932',\\n       'sp500_Close_4933', 'sp500_Close_4934', 'sp500_Close_4935',\\n       'sp500_Close_4936', 'sp500_Close_4937', 'sp500_Close_4938',\\n       'sp500_Close_4939', 'sp500_Close_4940', 'sp500_Close_4941',\\n       'sp500_Close_4942', 'sp500_Close_4943', 'sp500_Close_4944',\\n       'sp500_Close_4945', 'sp500_Close_4946', 'sp500_Close_4947',\\n       'sp500_Close_4948', 'sp500_Close_4949', 'sp500_Close_4950',\\n       'sp500_Close_4951', 'sp500_Close_4952', 'sp500_Close_4953',\\n       'sp500_Close_4954', 'sp500_Close_4955', 'sp500_Close_4956',\\n       'sp500_Close_4957', 'sp500_Close_4958', 'sp500_Close_4959',\\n       'sp500_Close_4960', 'sp500_Close_4961', 'sp500_Close_4962',\\n       'sp500_Close_4963', 'sp500_Close_4964', 'sp500_Close_4965',\\n       'sp500_Close_4966', 'sp500_Close_4967', 'sp500_Close_4968',\\n       'sp500_Close_4969', 'sp500_Close_4970', 'sp500_Close_4971',\\n       'sp500_Close_4972', 'sp500_Close_4973', 'sp500_Close_4974',\\n       'sp500_Close_4975', 'sp500_Close_4976', 'sp500_Close_4977',\\n       'sp500_Close_4978', 'sp500_Close_4979', 'sp500_Close_4980',\\n       'sp500_Close_4981', 'sp500_Close_4982', 'sp500_Close_4983',\\n       'sp500_Close_4984', 'sp500_Close_4985', 'sp500_Close_4986',\\n       'sp500_Close_4987', 'sp500_Close_4988', 'sp500_Close_4989',\\n       'sp500_Close_4990', 'sp500_Close_4991', 'sp500_Close_4992',\\n       'sp500_Close_4993', 'sp500_Close_4994', 'sp500_Close_4995',\\n       'sp500_Close_4996', 'sp500_Close_4997', 'sp500_Close_4998',\\n       'sp500_Close_4999'],\\n      dtype='object')] are in the [columns]\""
     ]
    }
   ],
   "source": [
    "plotDf = plot_diff(test_prediction,tpsd.df,testDate)\n",
    "plotDf.plot()"
   ]
  },
  {
   "cell_type": "code",
   "execution_count": 24,
   "metadata": {
    "scrolled": true
   },
   "outputs": [
    {
     "ename": "AttributeError",
     "evalue": "'DataFrame' object has no attribute 'prd_High'",
     "output_type": "error",
     "traceback": [
      "\u001b[1;31m---------------------------------------------------------------------------\u001b[0m",
      "\u001b[1;31mAttributeError\u001b[0m                            Traceback (most recent call last)",
      "\u001b[1;32m<ipython-input-24-e9dfad5372d1>\u001b[0m in \u001b[0;36m<module>\u001b[1;34m\u001b[0m\n\u001b[0;32m      1\u001b[0m \u001b[1;32mfrom\u001b[0m \u001b[0msklearn\u001b[0m\u001b[1;33m.\u001b[0m\u001b[0mmetrics\u001b[0m \u001b[1;32mimport\u001b[0m \u001b[0mmean_squared_error\u001b[0m\u001b[1;33m\u001b[0m\u001b[1;33m\u001b[0m\u001b[0m\n\u001b[1;32m----> 2\u001b[1;33m \u001b[0mnp\u001b[0m\u001b[1;33m.\u001b[0m\u001b[0msqrt\u001b[0m\u001b[1;33m(\u001b[0m\u001b[0mmean_squared_error\u001b[0m\u001b[1;33m(\u001b[0m\u001b[0mplotDf\u001b[0m\u001b[1;33m[\u001b[0m\u001b[1;36m0\u001b[0m\u001b[1;33m]\u001b[0m\u001b[1;33m,\u001b[0m\u001b[0mplotDf\u001b[0m\u001b[1;33m.\u001b[0m\u001b[0mprd_High\u001b[0m\u001b[1;33m)\u001b[0m\u001b[1;33m)\u001b[0m\u001b[1;33m\u001b[0m\u001b[1;33m\u001b[0m\u001b[0m\n\u001b[0m",
      "\u001b[1;32m~\\Anaconda3\\lib\\site-packages\\pandas\\core\\generic.py\u001b[0m in \u001b[0;36m__getattr__\u001b[1;34m(self, name)\u001b[0m\n\u001b[0;32m   5272\u001b[0m             \u001b[1;32mif\u001b[0m \u001b[0mself\u001b[0m\u001b[1;33m.\u001b[0m\u001b[0m_info_axis\u001b[0m\u001b[1;33m.\u001b[0m\u001b[0m_can_hold_identifiers_and_holds_name\u001b[0m\u001b[1;33m(\u001b[0m\u001b[0mname\u001b[0m\u001b[1;33m)\u001b[0m\u001b[1;33m:\u001b[0m\u001b[1;33m\u001b[0m\u001b[1;33m\u001b[0m\u001b[0m\n\u001b[0;32m   5273\u001b[0m                 \u001b[1;32mreturn\u001b[0m \u001b[0mself\u001b[0m\u001b[1;33m[\u001b[0m\u001b[0mname\u001b[0m\u001b[1;33m]\u001b[0m\u001b[1;33m\u001b[0m\u001b[1;33m\u001b[0m\u001b[0m\n\u001b[1;32m-> 5274\u001b[1;33m             \u001b[1;32mreturn\u001b[0m \u001b[0mobject\u001b[0m\u001b[1;33m.\u001b[0m\u001b[0m__getattribute__\u001b[0m\u001b[1;33m(\u001b[0m\u001b[0mself\u001b[0m\u001b[1;33m,\u001b[0m \u001b[0mname\u001b[0m\u001b[1;33m)\u001b[0m\u001b[1;33m\u001b[0m\u001b[1;33m\u001b[0m\u001b[0m\n\u001b[0m\u001b[0;32m   5275\u001b[0m \u001b[1;33m\u001b[0m\u001b[0m\n\u001b[0;32m   5276\u001b[0m     \u001b[1;32mdef\u001b[0m \u001b[0m__setattr__\u001b[0m\u001b[1;33m(\u001b[0m\u001b[0mself\u001b[0m\u001b[1;33m,\u001b[0m \u001b[0mname\u001b[0m\u001b[1;33m:\u001b[0m \u001b[0mstr\u001b[0m\u001b[1;33m,\u001b[0m \u001b[0mvalue\u001b[0m\u001b[1;33m)\u001b[0m \u001b[1;33m->\u001b[0m \u001b[1;32mNone\u001b[0m\u001b[1;33m:\u001b[0m\u001b[1;33m\u001b[0m\u001b[1;33m\u001b[0m\u001b[0m\n",
      "\u001b[1;31mAttributeError\u001b[0m: 'DataFrame' object has no attribute 'prd_High'"
     ]
    }
   ],
   "source": [
    "from sklearn.metrics import mean_squared_error\n",
    "np.sqrt(mean_squared_error(plotDf[0],plotDf.prd_High))"
   ]
  },
  {
   "cell_type": "code",
   "execution_count": null,
   "metadata": {},
   "outputs": [],
   "source": []
  },
  {
   "cell_type": "code",
   "execution_count": null,
   "metadata": {},
   "outputs": [],
   "source": []
  }
 ],
 "metadata": {
  "file_extension": ".py",
  "kernelspec": {
   "display_name": "Python 3",
   "language": "python",
   "name": "python3"
  },
  "language_info": {
   "codemirror_mode": {
    "name": "ipython",
    "version": 3
   },
   "file_extension": ".py",
   "mimetype": "text/x-python",
   "name": "python",
   "nbconvert_exporter": "python",
   "pygments_lexer": "ipython3",
   "version": "3.7.3"
  },
  "mimetype": "text/x-python",
  "name": "python",
  "npconvert_exporter": "python",
  "pygments_lexer": "ipython3",
  "toc": {
   "base_numbering": 1,
   "nav_menu": {},
   "number_sections": true,
   "sideBar": true,
   "skip_h1_title": false,
   "title_cell": "Table of Contents",
   "title_sidebar": "Contents",
   "toc_cell": false,
   "toc_position": {},
   "toc_section_display": true,
   "toc_window_display": false
  },
  "version": 3
 },
 "nbformat": 4,
 "nbformat_minor": 2
}
