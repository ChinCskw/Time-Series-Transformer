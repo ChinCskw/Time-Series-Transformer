{
 "cells": [
  {
   "cell_type": "code",
   "execution_count": 1,
   "metadata": {},
   "outputs": [],
   "source": [
    "from time_series_transform.transform_core_api.time_series_transformer import Time_Series_Transformer\n",
    "from time_series_transform.stock_transform.stock_transfromer import Stock_Transformer\n",
    "import pandas as pd\n",
    "import numpy as np\n",
    "import pandas_ta as ta"
   ]
  },
  {
   "cell_type": "code",
   "execution_count": 2,
   "metadata": {},
   "outputs": [],
   "source": [
    "def up_or_down(current,lead):\n",
    "    if current < lead:\n",
    "        return 'up'\n",
    "    elif current > lead:\n",
    "        return \"down\"\n",
    "    else:\n",
    "        return \"unchange\"\n",
    "def up_down_transform(data):\n",
    "    currentList = data['Close_GOOGL']\n",
    "    leadList = data['Close_GOOGL_lead_1']\n",
    "    res = []\n",
    "    for c,l in zip(currentList,leadList):\n",
    "        res.append(up_or_down(c,l))\n",
    "    return res"
   ]
  },
  {
   "cell_type": "code",
   "execution_count": 3,
   "metadata": {},
   "outputs": [],
   "source": [
    "strategy = ta.Strategy(\n",
    "    name= 'mystrategy',\n",
    "    ta=[\n",
    "        {\"kind\": \"ema\", \"length\": 50},\n",
    "        {\"kind\": \"ema\", \"length\": 7},\n",
    "        {\"kind\": \"ema\", \"length\": 20},\n",
    "        {\"kind\": \"bbands\", \"length\": 20},\n",
    "        {\"kind\": \"bbands\", \"length\": 50},\n",
    "        {\"kind\": \"bbands\", \"length\": 30},\n",
    "        {\"kind\": \"rsi\",\"prefix\":\"rsi\"},\n",
    "        {\"kind\": \"macd\", \"fast\": 8, \"slow\": 21},\n",
    "    ]\n",
    ")"
   ]
  },
  {
   "cell_type": "code",
   "execution_count": 4,
   "metadata": {},
   "outputs": [
    {
     "name": "stderr",
     "output_type": "stream",
     "text": [
      "[Parallel(n_jobs=1)]: Using backend SequentialBackend with 1 concurrent workers.\n",
      "[Parallel(n_jobs=1)]: Done   1 out of   1 | elapsed:    1.4s remaining:    0.0s\n",
      "[Parallel(n_jobs=1)]: Done   2 out of   2 | elapsed:    3.1s remaining:    0.0s\n",
      "[Parallel(n_jobs=1)]: Done   3 out of   3 | elapsed:    4.8s remaining:    0.0s\n",
      "[Parallel(n_jobs=1)]: Done   3 out of   3 | elapsed:    4.8s finished\n"
     ]
    }
   ],
   "source": [
    "st = Stock_Transformer.from_stock_engine_period([\"GOOGL\",\"NDAQ\",\"GOLD\"],'3y','yahoo')\n",
    "st = st.get_technial_indicator(strategy)\n",
    "st = st.dropna()\n",
    "df = st.to_pandas(expandCategory= True, expandTime = False)"
   ]
  },
  {
   "cell_type": "code",
   "execution_count": 5,
   "metadata": {},
   "outputs": [],
   "source": [
    "tst = Time_Series_Transformer.from_pandas(df,'Date',None)\n",
    "tst = tst.make_lead('Close_GOOGL',1,'_lead_')\n",
    "tst = tst.transform(['Close_GOOGL','Close_GOOGL_lead_1'],'change',up_down_transform)\n",
    "tst = tst.make_label(\"change\")\n",
    "X,y = tst.to_pandas(sepLabel = True)"
   ]
  },
  {
   "cell_type": "markdown",
   "metadata": {},
   "source": [
    "# Sklearn"
   ]
  },
  {
   "cell_type": "code",
   "execution_count": 6,
   "metadata": {},
   "outputs": [],
   "source": [
    "from sklearn.metrics import classification_report,confusion_matrix\n",
    "from sklearn.decomposition import PCA\n",
    "from sklearn.model_selection import RandomizedSearchCV,TimeSeriesSplit\n",
    "from sklearn.preprocessing import StandardScaler\n",
    "from sklearn.pipeline import Pipeline\n",
    "from sklearn.impute import SimpleImputer\n",
    "from sklearn.svm import SVC\n",
    "from sklearn.ensemble import RandomForestClassifier\n",
    "from time_series_transform.sklearn.transformer import Lag_Transformer"
   ]
  },
  {
   "cell_type": "code",
   "execution_count": 10,
   "metadata": {},
   "outputs": [],
   "source": [
    "testX,testY = X.tail(60),y.tail(60)\n",
    "trainX,trainY = X.drop(testX.index),y.drop(testY.index)"
   ]
  },
  {
   "cell_type": "code",
   "execution_count": 44,
   "metadata": {},
   "outputs": [],
   "source": [
    "pip = Pipeline(\n",
    "    [\n",
    "        (\"lag\",Lag_Transformer(list(range(1,20)),time_col = 'Date')),\n",
    "        (\"impute\",SimpleImputer(strategy = 'median')),\n",
    "        (\"pca\",PCA()),\n",
    "        ('rf',RandomForestClassifier())\n",
    "     ]\n",
    ")"
   ]
  },
  {
   "cell_type": "code",
   "execution_count": 45,
   "metadata": {},
   "outputs": [],
   "source": [
    "searchParam = {\n",
    "    \"lag__lag_nums\":[list(range(1,20)),list(range(1,50)),list(range(1,100))],\n",
    "#     \"svm__C\":np.arange(0.01,1,0.01),\n",
    "    \"pca__n_components\":list(range(2,30)),\n",
    "    \"rf__n_estimators\":list(range(100,500)),\n",
    "#     \"rf__min_samples_split\":list(range(2,20))\n",
    "}\n",
    "randPip = RandomizedSearchCV(\n",
    "    pip,\n",
    "    searchParam,\n",
    "    cv= TimeSeriesSplit(5),\n",
    "    n_iter=30,\n",
    "    n_jobs = 5\n",
    ")"
   ]
  },
  {
   "cell_type": "code",
   "execution_count": 46,
   "metadata": {
    "scrolled": true
   },
   "outputs": [
    {
     "name": "stderr",
     "output_type": "stream",
     "text": [
      "C:\\Users\\Allen Chiang\\anaconda3\\lib\\site-packages\\sklearn\\pipeline.py:335: DataConversionWarning:\n",
      "\n",
      "A column-vector y was passed when a 1d array was expected. Please change the shape of y to (n_samples,), for example using ravel().\n",
      "\n"
     ]
    }
   ],
   "source": [
    "randPip = randPip.fit(trainX,trainY)\n",
    "prd = randPip.predict(testX)"
   ]
  },
  {
   "cell_type": "code",
   "execution_count": 47,
   "metadata": {},
   "outputs": [
    {
     "name": "stdout",
     "output_type": "stream",
     "text": [
      "              precision    recall  f1-score   support\n",
      "\n",
      "        down       0.53      0.64      0.58        25\n",
      "    unchange       0.00      0.00      0.00         1\n",
      "          up       0.70      0.62      0.66        34\n",
      "\n",
      "    accuracy                           0.62        60\n",
      "   macro avg       0.41      0.42      0.41        60\n",
      "weighted avg       0.62      0.62      0.61        60\n",
      "\n"
     ]
    },
    {
     "name": "stderr",
     "output_type": "stream",
     "text": [
      "C:\\Users\\Allen Chiang\\anaconda3\\lib\\site-packages\\sklearn\\metrics\\_classification.py:1221: UndefinedMetricWarning:\n",
      "\n",
      "Precision and F-score are ill-defined and being set to 0.0 in labels with no predicted samples. Use `zero_division` parameter to control this behavior.\n",
      "\n"
     ]
    }
   ],
   "source": [
    "print(classification_report(testY,prd))"
   ]
  },
  {
   "cell_type": "code",
   "execution_count": 48,
   "metadata": {},
   "outputs": [
    {
     "data": {
      "text/plain": [
       "array([[16,  0,  9],\n",
       "       [ 1,  0,  0],\n",
       "       [13,  0, 21]], dtype=int64)"
      ]
     },
     "execution_count": 48,
     "metadata": {},
     "output_type": "execute_result"
    }
   ],
   "source": [
    "confusion_matrix(testY,prd)"
   ]
  },
  {
   "cell_type": "code",
   "execution_count": 49,
   "metadata": {},
   "outputs": [
    {
     "data": {
      "text/plain": [
       "array(['up', 'up', 'up', 'up', 'up', 'up', 'up', 'down', 'up', 'up', 'up',\n",
       "       'up', 'down', 'down', 'up', 'up', 'up', 'down', 'up', 'down',\n",
       "       'down', 'down', 'up', 'up', 'up', 'down', 'up', 'up', 'down',\n",
       "       'down', 'down', 'down', 'up', 'up', 'up', 'down', 'down', 'down',\n",
       "       'up', 'up', 'up', 'up', 'up', 'up', 'down', 'up', 'down', 'down',\n",
       "       'down', 'down', 'down', 'down', 'down', 'down', 'down', 'down',\n",
       "       'down', 'down', 'down', 'down'], dtype=object)"
      ]
     },
     "execution_count": 49,
     "metadata": {},
     "output_type": "execute_result"
    }
   ],
   "source": [
    "prd"
   ]
  },
  {
   "cell_type": "markdown",
   "metadata": {},
   "source": [
    "# Signal"
   ]
  },
  {
   "cell_type": "code",
   "execution_count": 50,
   "metadata": {},
   "outputs": [],
   "source": [
    "def buy_sell_signal(dataList):\n",
    "    res = []\n",
    "    tmp ='down'\n",
    "    for i in dataList:\n",
    "        if tmp == i or i == 'unchange':\n",
    "            if i == 'unchange':\n",
    "                res.append('hold')\n",
    "                continue\n",
    "            tmp = i\n",
    "            res.append('hold')\n",
    "        else:\n",
    "            tmp = i\n",
    "            res.append(i)\n",
    "    return res"
   ]
  },
  {
   "cell_type": "code",
   "execution_count": 51,
   "metadata": {},
   "outputs": [],
   "source": [
    "det = pd.DataFrame({'prd':buy_sell_signal(prd)})\n",
    "det['Close'] = testX.Close_GOOGL.tolist()\n",
    "det['Date'] = testX.Date.tolist()"
   ]
  },
  {
   "cell_type": "code",
   "execution_count": 52,
   "metadata": {},
   "outputs": [],
   "source": [
    "det['Buy'] = det[['Close','prd']].apply(lambda x: x.Close if x.prd == 'up' else 0,axis =1)\n",
    "det['Sell'] = det[['Close','prd']].apply(lambda x: x.Close if x.prd == 'down' else 0,axis =1)\n",
    "buySignal = det[det.Buy > 0][['Date','Buy']]\n",
    "sellSignal = det[det.Sell > 0][['Date','Sell']]"
   ]
  },
  {
   "cell_type": "code",
   "execution_count": 53,
   "metadata": {},
   "outputs": [
    {
     "data": {
      "application/vnd.plotly.v1+json": {
       "config": {
        "plotlyServerURL": "https://plot.ly"
       },
       "data": [
        {
         "name": "Close",
         "showlegend": true,
         "type": "scatter",
         "x": [
          "2020-10-07",
          "2020-10-08",
          "2020-10-09",
          "2020-10-12",
          "2020-10-13",
          "2020-10-14",
          "2020-10-15",
          "2020-10-16",
          "2020-10-19",
          "2020-10-20",
          "2020-10-21",
          "2020-10-22",
          "2020-10-23",
          "2020-10-26",
          "2020-10-27",
          "2020-10-28",
          "2020-10-29",
          "2020-10-30",
          "2020-11-02",
          "2020-11-03",
          "2020-11-04",
          "2020-11-05",
          "2020-11-06",
          "2020-11-09",
          "2020-11-10",
          "2020-11-11",
          "2020-11-12",
          "2020-11-13",
          "2020-11-16",
          "2020-11-17",
          "2020-11-18",
          "2020-11-19",
          "2020-11-20",
          "2020-11-23",
          "2020-11-24",
          "2020-11-25",
          "2020-11-27",
          "2020-11-30",
          "2020-12-01",
          "2020-12-02",
          "2020-12-03",
          "2020-12-04",
          "2020-12-07",
          "2020-12-08",
          "2020-12-09",
          "2020-12-10",
          "2020-12-11",
          "2020-12-14",
          "2020-12-15",
          "2020-12-16",
          "2020-12-17",
          "2020-12-18",
          "2020-12-21",
          "2020-12-22",
          "2020-12-23",
          "2020-12-24",
          "2020-12-28",
          "2020-12-29",
          "2020-12-30",
          "2020-12-31"
         ],
         "y": [
          1459.1400146484375,
          1483.4300537109375,
          1510.449951171875,
          1564.5899658203125,
          1567.0699462890625,
          1563.43994140625,
          1555.469970703125,
          1567.699951171875,
          1529.949951171875,
          1551.0799560546875,
          1585.989990234375,
          1606.6600341796875,
          1632.97998046875,
          1584.2900390625,
          1598.8800048828125,
          1510.800048828125,
          1556.8800048828125,
          1616.1099853515625,
          1624.3199462890625,
          1645.6600341796875,
          1745.8499755859375,
          1762.5,
          1759.72998046875,
          1761.4200439453125,
          1737.719970703125,
          1747.22998046875,
          1742.8199462890625,
          1772.260009765625,
          1774.030029296875,
          1761.6600341796875,
          1740.6400146484375,
          1758.5699462890625,
          1736.3800048828125,
          1727.56005859375,
          1763.9000244140625,
          1764.1300048828125,
          1787.02001953125,
          1754.4000244140625,
          1795.3599853515625,
          1824.969970703125,
          1821.8399658203125,
          1823.760009765625,
          1817.030029296875,
          1811.3299560546875,
          1777.8599853515625,
          1767.6500244140625,
          1774.800048828125,
          1752.260009765625,
          1761.0799560546875,
          1757.18994140625,
          1740.510009765625,
          1726.219970703125,
          1734.56005859375,
          1720.219970703125,
          1728.22998046875,
          1734.1600341796875,
          1773.9599609375,
          1757.760009765625,
          1736.25,
          1752.6400146484375
         ]
        },
        {
         "marker": {
          "color": "green",
          "symbol": "circle"
         },
         "mode": "markers",
         "name": "Buy",
         "showlegend": true,
         "type": "scatter",
         "x": [
          "2020-10-07",
          "2020-10-19",
          "2020-10-27",
          "2020-11-02",
          "2020-11-06",
          "2020-11-12",
          "2020-11-20",
          "2020-12-01",
          "2020-12-10"
         ],
         "y": [
          1459.1400146484375,
          1529.949951171875,
          1598.8800048828125,
          1624.3199462890625,
          1759.72998046875,
          1742.8199462890625,
          1736.3800048828125,
          1795.3599853515625,
          1767.6500244140625
         ]
        },
        {
         "marker": {
          "color": "red",
          "symbol": "circle"
         },
         "mode": "markers",
         "name": "Sell",
         "showlegend": true,
         "type": "scatter",
         "x": [
          "2020-10-16",
          "2020-10-23",
          "2020-10-30",
          "2020-11-03",
          "2020-11-11",
          "2020-11-16",
          "2020-11-25",
          "2020-12-09",
          "2020-12-11"
         ],
         "y": [
          1567.699951171875,
          1632.97998046875,
          1616.1099853515625,
          1645.6600341796875,
          1747.22998046875,
          1774.030029296875,
          1764.1300048828125,
          1777.8599853515625,
          1774.800048828125
         ]
        }
       ],
       "layout": {
        "legend": {
         "title": {
          "text": "Legend"
         }
        },
        "template": {
         "data": {
          "bar": [
           {
            "error_x": {
             "color": "#2a3f5f"
            },
            "error_y": {
             "color": "#2a3f5f"
            },
            "marker": {
             "line": {
              "color": "#E5ECF6",
              "width": 0.5
             }
            },
            "type": "bar"
           }
          ],
          "barpolar": [
           {
            "marker": {
             "line": {
              "color": "#E5ECF6",
              "width": 0.5
             }
            },
            "type": "barpolar"
           }
          ],
          "carpet": [
           {
            "aaxis": {
             "endlinecolor": "#2a3f5f",
             "gridcolor": "white",
             "linecolor": "white",
             "minorgridcolor": "white",
             "startlinecolor": "#2a3f5f"
            },
            "baxis": {
             "endlinecolor": "#2a3f5f",
             "gridcolor": "white",
             "linecolor": "white",
             "minorgridcolor": "white",
             "startlinecolor": "#2a3f5f"
            },
            "type": "carpet"
           }
          ],
          "choropleth": [
           {
            "colorbar": {
             "outlinewidth": 0,
             "ticks": ""
            },
            "type": "choropleth"
           }
          ],
          "contour": [
           {
            "colorbar": {
             "outlinewidth": 0,
             "ticks": ""
            },
            "colorscale": [
             [
              0,
              "#0d0887"
             ],
             [
              0.1111111111111111,
              "#46039f"
             ],
             [
              0.2222222222222222,
              "#7201a8"
             ],
             [
              0.3333333333333333,
              "#9c179e"
             ],
             [
              0.4444444444444444,
              "#bd3786"
             ],
             [
              0.5555555555555556,
              "#d8576b"
             ],
             [
              0.6666666666666666,
              "#ed7953"
             ],
             [
              0.7777777777777778,
              "#fb9f3a"
             ],
             [
              0.8888888888888888,
              "#fdca26"
             ],
             [
              1,
              "#f0f921"
             ]
            ],
            "type": "contour"
           }
          ],
          "contourcarpet": [
           {
            "colorbar": {
             "outlinewidth": 0,
             "ticks": ""
            },
            "type": "contourcarpet"
           }
          ],
          "heatmap": [
           {
            "colorbar": {
             "outlinewidth": 0,
             "ticks": ""
            },
            "colorscale": [
             [
              0,
              "#0d0887"
             ],
             [
              0.1111111111111111,
              "#46039f"
             ],
             [
              0.2222222222222222,
              "#7201a8"
             ],
             [
              0.3333333333333333,
              "#9c179e"
             ],
             [
              0.4444444444444444,
              "#bd3786"
             ],
             [
              0.5555555555555556,
              "#d8576b"
             ],
             [
              0.6666666666666666,
              "#ed7953"
             ],
             [
              0.7777777777777778,
              "#fb9f3a"
             ],
             [
              0.8888888888888888,
              "#fdca26"
             ],
             [
              1,
              "#f0f921"
             ]
            ],
            "type": "heatmap"
           }
          ],
          "heatmapgl": [
           {
            "colorbar": {
             "outlinewidth": 0,
             "ticks": ""
            },
            "colorscale": [
             [
              0,
              "#0d0887"
             ],
             [
              0.1111111111111111,
              "#46039f"
             ],
             [
              0.2222222222222222,
              "#7201a8"
             ],
             [
              0.3333333333333333,
              "#9c179e"
             ],
             [
              0.4444444444444444,
              "#bd3786"
             ],
             [
              0.5555555555555556,
              "#d8576b"
             ],
             [
              0.6666666666666666,
              "#ed7953"
             ],
             [
              0.7777777777777778,
              "#fb9f3a"
             ],
             [
              0.8888888888888888,
              "#fdca26"
             ],
             [
              1,
              "#f0f921"
             ]
            ],
            "type": "heatmapgl"
           }
          ],
          "histogram": [
           {
            "marker": {
             "colorbar": {
              "outlinewidth": 0,
              "ticks": ""
             }
            },
            "type": "histogram"
           }
          ],
          "histogram2d": [
           {
            "colorbar": {
             "outlinewidth": 0,
             "ticks": ""
            },
            "colorscale": [
             [
              0,
              "#0d0887"
             ],
             [
              0.1111111111111111,
              "#46039f"
             ],
             [
              0.2222222222222222,
              "#7201a8"
             ],
             [
              0.3333333333333333,
              "#9c179e"
             ],
             [
              0.4444444444444444,
              "#bd3786"
             ],
             [
              0.5555555555555556,
              "#d8576b"
             ],
             [
              0.6666666666666666,
              "#ed7953"
             ],
             [
              0.7777777777777778,
              "#fb9f3a"
             ],
             [
              0.8888888888888888,
              "#fdca26"
             ],
             [
              1,
              "#f0f921"
             ]
            ],
            "type": "histogram2d"
           }
          ],
          "histogram2dcontour": [
           {
            "colorbar": {
             "outlinewidth": 0,
             "ticks": ""
            },
            "colorscale": [
             [
              0,
              "#0d0887"
             ],
             [
              0.1111111111111111,
              "#46039f"
             ],
             [
              0.2222222222222222,
              "#7201a8"
             ],
             [
              0.3333333333333333,
              "#9c179e"
             ],
             [
              0.4444444444444444,
              "#bd3786"
             ],
             [
              0.5555555555555556,
              "#d8576b"
             ],
             [
              0.6666666666666666,
              "#ed7953"
             ],
             [
              0.7777777777777778,
              "#fb9f3a"
             ],
             [
              0.8888888888888888,
              "#fdca26"
             ],
             [
              1,
              "#f0f921"
             ]
            ],
            "type": "histogram2dcontour"
           }
          ],
          "mesh3d": [
           {
            "colorbar": {
             "outlinewidth": 0,
             "ticks": ""
            },
            "type": "mesh3d"
           }
          ],
          "parcoords": [
           {
            "line": {
             "colorbar": {
              "outlinewidth": 0,
              "ticks": ""
             }
            },
            "type": "parcoords"
           }
          ],
          "pie": [
           {
            "automargin": true,
            "type": "pie"
           }
          ],
          "scatter": [
           {
            "marker": {
             "colorbar": {
              "outlinewidth": 0,
              "ticks": ""
             }
            },
            "type": "scatter"
           }
          ],
          "scatter3d": [
           {
            "line": {
             "colorbar": {
              "outlinewidth": 0,
              "ticks": ""
             }
            },
            "marker": {
             "colorbar": {
              "outlinewidth": 0,
              "ticks": ""
             }
            },
            "type": "scatter3d"
           }
          ],
          "scattercarpet": [
           {
            "marker": {
             "colorbar": {
              "outlinewidth": 0,
              "ticks": ""
             }
            },
            "type": "scattercarpet"
           }
          ],
          "scattergeo": [
           {
            "marker": {
             "colorbar": {
              "outlinewidth": 0,
              "ticks": ""
             }
            },
            "type": "scattergeo"
           }
          ],
          "scattergl": [
           {
            "marker": {
             "colorbar": {
              "outlinewidth": 0,
              "ticks": ""
             }
            },
            "type": "scattergl"
           }
          ],
          "scattermapbox": [
           {
            "marker": {
             "colorbar": {
              "outlinewidth": 0,
              "ticks": ""
             }
            },
            "type": "scattermapbox"
           }
          ],
          "scatterpolar": [
           {
            "marker": {
             "colorbar": {
              "outlinewidth": 0,
              "ticks": ""
             }
            },
            "type": "scatterpolar"
           }
          ],
          "scatterpolargl": [
           {
            "marker": {
             "colorbar": {
              "outlinewidth": 0,
              "ticks": ""
             }
            },
            "type": "scatterpolargl"
           }
          ],
          "scatterternary": [
           {
            "marker": {
             "colorbar": {
              "outlinewidth": 0,
              "ticks": ""
             }
            },
            "type": "scatterternary"
           }
          ],
          "surface": [
           {
            "colorbar": {
             "outlinewidth": 0,
             "ticks": ""
            },
            "colorscale": [
             [
              0,
              "#0d0887"
             ],
             [
              0.1111111111111111,
              "#46039f"
             ],
             [
              0.2222222222222222,
              "#7201a8"
             ],
             [
              0.3333333333333333,
              "#9c179e"
             ],
             [
              0.4444444444444444,
              "#bd3786"
             ],
             [
              0.5555555555555556,
              "#d8576b"
             ],
             [
              0.6666666666666666,
              "#ed7953"
             ],
             [
              0.7777777777777778,
              "#fb9f3a"
             ],
             [
              0.8888888888888888,
              "#fdca26"
             ],
             [
              1,
              "#f0f921"
             ]
            ],
            "type": "surface"
           }
          ],
          "table": [
           {
            "cells": {
             "fill": {
              "color": "#EBF0F8"
             },
             "line": {
              "color": "white"
             }
            },
            "header": {
             "fill": {
              "color": "#C8D4E3"
             },
             "line": {
              "color": "white"
             }
            },
            "type": "table"
           }
          ]
         },
         "layout": {
          "annotationdefaults": {
           "arrowcolor": "#2a3f5f",
           "arrowhead": 0,
           "arrowwidth": 1
          },
          "autotypenumbers": "strict",
          "coloraxis": {
           "colorbar": {
            "outlinewidth": 0,
            "ticks": ""
           }
          },
          "colorscale": {
           "diverging": [
            [
             0,
             "#8e0152"
            ],
            [
             0.1,
             "#c51b7d"
            ],
            [
             0.2,
             "#de77ae"
            ],
            [
             0.3,
             "#f1b6da"
            ],
            [
             0.4,
             "#fde0ef"
            ],
            [
             0.5,
             "#f7f7f7"
            ],
            [
             0.6,
             "#e6f5d0"
            ],
            [
             0.7,
             "#b8e186"
            ],
            [
             0.8,
             "#7fbc41"
            ],
            [
             0.9,
             "#4d9221"
            ],
            [
             1,
             "#276419"
            ]
           ],
           "sequential": [
            [
             0,
             "#0d0887"
            ],
            [
             0.1111111111111111,
             "#46039f"
            ],
            [
             0.2222222222222222,
             "#7201a8"
            ],
            [
             0.3333333333333333,
             "#9c179e"
            ],
            [
             0.4444444444444444,
             "#bd3786"
            ],
            [
             0.5555555555555556,
             "#d8576b"
            ],
            [
             0.6666666666666666,
             "#ed7953"
            ],
            [
             0.7777777777777778,
             "#fb9f3a"
            ],
            [
             0.8888888888888888,
             "#fdca26"
            ],
            [
             1,
             "#f0f921"
            ]
           ],
           "sequentialminus": [
            [
             0,
             "#0d0887"
            ],
            [
             0.1111111111111111,
             "#46039f"
            ],
            [
             0.2222222222222222,
             "#7201a8"
            ],
            [
             0.3333333333333333,
             "#9c179e"
            ],
            [
             0.4444444444444444,
             "#bd3786"
            ],
            [
             0.5555555555555556,
             "#d8576b"
            ],
            [
             0.6666666666666666,
             "#ed7953"
            ],
            [
             0.7777777777777778,
             "#fb9f3a"
            ],
            [
             0.8888888888888888,
             "#fdca26"
            ],
            [
             1,
             "#f0f921"
            ]
           ]
          },
          "colorway": [
           "#636efa",
           "#EF553B",
           "#00cc96",
           "#ab63fa",
           "#FFA15A",
           "#19d3f3",
           "#FF6692",
           "#B6E880",
           "#FF97FF",
           "#FECB52"
          ],
          "font": {
           "color": "#2a3f5f"
          },
          "geo": {
           "bgcolor": "white",
           "lakecolor": "white",
           "landcolor": "#E5ECF6",
           "showlakes": true,
           "showland": true,
           "subunitcolor": "white"
          },
          "hoverlabel": {
           "align": "left"
          },
          "hovermode": "closest",
          "mapbox": {
           "style": "light"
          },
          "paper_bgcolor": "white",
          "plot_bgcolor": "#E5ECF6",
          "polar": {
           "angularaxis": {
            "gridcolor": "white",
            "linecolor": "white",
            "ticks": ""
           },
           "bgcolor": "#E5ECF6",
           "radialaxis": {
            "gridcolor": "white",
            "linecolor": "white",
            "ticks": ""
           }
          },
          "scene": {
           "xaxis": {
            "backgroundcolor": "#E5ECF6",
            "gridcolor": "white",
            "gridwidth": 2,
            "linecolor": "white",
            "showbackground": true,
            "ticks": "",
            "zerolinecolor": "white"
           },
           "yaxis": {
            "backgroundcolor": "#E5ECF6",
            "gridcolor": "white",
            "gridwidth": 2,
            "linecolor": "white",
            "showbackground": true,
            "ticks": "",
            "zerolinecolor": "white"
           },
           "zaxis": {
            "backgroundcolor": "#E5ECF6",
            "gridcolor": "white",
            "gridwidth": 2,
            "linecolor": "white",
            "showbackground": true,
            "ticks": "",
            "zerolinecolor": "white"
           }
          },
          "shapedefaults": {
           "line": {
            "color": "#2a3f5f"
           }
          },
          "ternary": {
           "aaxis": {
            "gridcolor": "white",
            "linecolor": "white",
            "ticks": ""
           },
           "baxis": {
            "gridcolor": "white",
            "linecolor": "white",
            "ticks": ""
           },
           "bgcolor": "#E5ECF6",
           "caxis": {
            "gridcolor": "white",
            "linecolor": "white",
            "ticks": ""
           }
          },
          "title": {
           "x": 0.05
          },
          "xaxis": {
           "automargin": true,
           "gridcolor": "white",
           "linecolor": "white",
           "ticks": "",
           "title": {
            "standoff": 15
           },
           "zerolinecolor": "white",
           "zerolinewidth": 2
          },
          "yaxis": {
           "automargin": true,
           "gridcolor": "white",
           "linecolor": "white",
           "ticks": "",
           "title": {
            "standoff": 15
           },
           "zerolinecolor": "white",
           "zerolinewidth": 2
          }
         }
        },
        "title": {
         "text": "info"
        },
        "xaxis": {
         "title": {
          "text": "Date"
         }
        },
        "yaxis": {
         "title": {
          "text": "value"
         }
        }
       }
      },
      "text/html": [
       "<div>                            <div id=\"287813f0-e8bc-4c7d-ae10-2477d3411e88\" class=\"plotly-graph-div\" style=\"height:525px; width:100%;\"></div>            <script type=\"text/javascript\">                require([\"plotly\"], function(Plotly) {                    window.PLOTLYENV=window.PLOTLYENV || {};                                    if (document.getElementById(\"287813f0-e8bc-4c7d-ae10-2477d3411e88\")) {                    Plotly.newPlot(                        \"287813f0-e8bc-4c7d-ae10-2477d3411e88\",                        [{\"name\": \"Close\", \"showlegend\": true, \"type\": \"scatter\", \"x\": [\"2020-10-07\", \"2020-10-08\", \"2020-10-09\", \"2020-10-12\", \"2020-10-13\", \"2020-10-14\", \"2020-10-15\", \"2020-10-16\", \"2020-10-19\", \"2020-10-20\", \"2020-10-21\", \"2020-10-22\", \"2020-10-23\", \"2020-10-26\", \"2020-10-27\", \"2020-10-28\", \"2020-10-29\", \"2020-10-30\", \"2020-11-02\", \"2020-11-03\", \"2020-11-04\", \"2020-11-05\", \"2020-11-06\", \"2020-11-09\", \"2020-11-10\", \"2020-11-11\", \"2020-11-12\", \"2020-11-13\", \"2020-11-16\", \"2020-11-17\", \"2020-11-18\", \"2020-11-19\", \"2020-11-20\", \"2020-11-23\", \"2020-11-24\", \"2020-11-25\", \"2020-11-27\", \"2020-11-30\", \"2020-12-01\", \"2020-12-02\", \"2020-12-03\", \"2020-12-04\", \"2020-12-07\", \"2020-12-08\", \"2020-12-09\", \"2020-12-10\", \"2020-12-11\", \"2020-12-14\", \"2020-12-15\", \"2020-12-16\", \"2020-12-17\", \"2020-12-18\", \"2020-12-21\", \"2020-12-22\", \"2020-12-23\", \"2020-12-24\", \"2020-12-28\", \"2020-12-29\", \"2020-12-30\", \"2020-12-31\"], \"y\": [1459.1400146484375, 1483.4300537109375, 1510.449951171875, 1564.5899658203125, 1567.0699462890625, 1563.43994140625, 1555.469970703125, 1567.699951171875, 1529.949951171875, 1551.0799560546875, 1585.989990234375, 1606.6600341796875, 1632.97998046875, 1584.2900390625, 1598.8800048828125, 1510.800048828125, 1556.8800048828125, 1616.1099853515625, 1624.3199462890625, 1645.6600341796875, 1745.8499755859375, 1762.5, 1759.72998046875, 1761.4200439453125, 1737.719970703125, 1747.22998046875, 1742.8199462890625, 1772.260009765625, 1774.030029296875, 1761.6600341796875, 1740.6400146484375, 1758.5699462890625, 1736.3800048828125, 1727.56005859375, 1763.9000244140625, 1764.1300048828125, 1787.02001953125, 1754.4000244140625, 1795.3599853515625, 1824.969970703125, 1821.8399658203125, 1823.760009765625, 1817.030029296875, 1811.3299560546875, 1777.8599853515625, 1767.6500244140625, 1774.800048828125, 1752.260009765625, 1761.0799560546875, 1757.18994140625, 1740.510009765625, 1726.219970703125, 1734.56005859375, 1720.219970703125, 1728.22998046875, 1734.1600341796875, 1773.9599609375, 1757.760009765625, 1736.25, 1752.6400146484375]}, {\"marker\": {\"color\": \"green\", \"symbol\": \"circle\"}, \"mode\": \"markers\", \"name\": \"Buy\", \"showlegend\": true, \"type\": \"scatter\", \"x\": [\"2020-10-07\", \"2020-10-19\", \"2020-10-27\", \"2020-11-02\", \"2020-11-06\", \"2020-11-12\", \"2020-11-20\", \"2020-12-01\", \"2020-12-10\"], \"y\": [1459.1400146484375, 1529.949951171875, 1598.8800048828125, 1624.3199462890625, 1759.72998046875, 1742.8199462890625, 1736.3800048828125, 1795.3599853515625, 1767.6500244140625]}, {\"marker\": {\"color\": \"red\", \"symbol\": \"circle\"}, \"mode\": \"markers\", \"name\": \"Sell\", \"showlegend\": true, \"type\": \"scatter\", \"x\": [\"2020-10-16\", \"2020-10-23\", \"2020-10-30\", \"2020-11-03\", \"2020-11-11\", \"2020-11-16\", \"2020-11-25\", \"2020-12-09\", \"2020-12-11\"], \"y\": [1567.699951171875, 1632.97998046875, 1616.1099853515625, 1645.6600341796875, 1747.22998046875, 1774.030029296875, 1764.1300048828125, 1777.8599853515625, 1774.800048828125]}],                        {\"legend\": {\"title\": {\"text\": \"Legend\"}}, \"template\": {\"data\": {\"bar\": [{\"error_x\": {\"color\": \"#2a3f5f\"}, \"error_y\": {\"color\": \"#2a3f5f\"}, \"marker\": {\"line\": {\"color\": \"#E5ECF6\", \"width\": 0.5}}, \"type\": \"bar\"}], \"barpolar\": [{\"marker\": {\"line\": {\"color\": \"#E5ECF6\", \"width\": 0.5}}, \"type\": \"barpolar\"}], \"carpet\": [{\"aaxis\": {\"endlinecolor\": \"#2a3f5f\", \"gridcolor\": \"white\", \"linecolor\": \"white\", \"minorgridcolor\": \"white\", \"startlinecolor\": \"#2a3f5f\"}, \"baxis\": {\"endlinecolor\": \"#2a3f5f\", \"gridcolor\": \"white\", \"linecolor\": \"white\", \"minorgridcolor\": \"white\", \"startlinecolor\": \"#2a3f5f\"}, \"type\": \"carpet\"}], \"choropleth\": [{\"colorbar\": {\"outlinewidth\": 0, \"ticks\": \"\"}, \"type\": \"choropleth\"}], \"contour\": [{\"colorbar\": {\"outlinewidth\": 0, \"ticks\": \"\"}, \"colorscale\": [[0.0, \"#0d0887\"], [0.1111111111111111, \"#46039f\"], [0.2222222222222222, \"#7201a8\"], [0.3333333333333333, \"#9c179e\"], [0.4444444444444444, \"#bd3786\"], [0.5555555555555556, \"#d8576b\"], [0.6666666666666666, \"#ed7953\"], [0.7777777777777778, \"#fb9f3a\"], [0.8888888888888888, \"#fdca26\"], [1.0, \"#f0f921\"]], \"type\": \"contour\"}], \"contourcarpet\": [{\"colorbar\": {\"outlinewidth\": 0, \"ticks\": \"\"}, \"type\": \"contourcarpet\"}], \"heatmap\": [{\"colorbar\": {\"outlinewidth\": 0, \"ticks\": \"\"}, \"colorscale\": [[0.0, \"#0d0887\"], [0.1111111111111111, \"#46039f\"], [0.2222222222222222, \"#7201a8\"], [0.3333333333333333, \"#9c179e\"], [0.4444444444444444, \"#bd3786\"], [0.5555555555555556, \"#d8576b\"], [0.6666666666666666, \"#ed7953\"], [0.7777777777777778, \"#fb9f3a\"], [0.8888888888888888, \"#fdca26\"], [1.0, \"#f0f921\"]], \"type\": \"heatmap\"}], \"heatmapgl\": [{\"colorbar\": {\"outlinewidth\": 0, \"ticks\": \"\"}, \"colorscale\": [[0.0, \"#0d0887\"], [0.1111111111111111, \"#46039f\"], [0.2222222222222222, \"#7201a8\"], [0.3333333333333333, \"#9c179e\"], [0.4444444444444444, \"#bd3786\"], [0.5555555555555556, \"#d8576b\"], [0.6666666666666666, \"#ed7953\"], [0.7777777777777778, \"#fb9f3a\"], [0.8888888888888888, \"#fdca26\"], [1.0, \"#f0f921\"]], \"type\": \"heatmapgl\"}], \"histogram\": [{\"marker\": {\"colorbar\": {\"outlinewidth\": 0, \"ticks\": \"\"}}, \"type\": \"histogram\"}], \"histogram2d\": [{\"colorbar\": {\"outlinewidth\": 0, \"ticks\": \"\"}, \"colorscale\": [[0.0, \"#0d0887\"], [0.1111111111111111, \"#46039f\"], [0.2222222222222222, \"#7201a8\"], [0.3333333333333333, \"#9c179e\"], [0.4444444444444444, \"#bd3786\"], [0.5555555555555556, \"#d8576b\"], [0.6666666666666666, \"#ed7953\"], [0.7777777777777778, \"#fb9f3a\"], [0.8888888888888888, \"#fdca26\"], [1.0, \"#f0f921\"]], \"type\": \"histogram2d\"}], \"histogram2dcontour\": [{\"colorbar\": {\"outlinewidth\": 0, \"ticks\": \"\"}, \"colorscale\": [[0.0, \"#0d0887\"], [0.1111111111111111, \"#46039f\"], [0.2222222222222222, \"#7201a8\"], [0.3333333333333333, \"#9c179e\"], [0.4444444444444444, \"#bd3786\"], [0.5555555555555556, \"#d8576b\"], [0.6666666666666666, \"#ed7953\"], [0.7777777777777778, \"#fb9f3a\"], [0.8888888888888888, \"#fdca26\"], [1.0, \"#f0f921\"]], \"type\": \"histogram2dcontour\"}], \"mesh3d\": [{\"colorbar\": {\"outlinewidth\": 0, \"ticks\": \"\"}, \"type\": \"mesh3d\"}], \"parcoords\": [{\"line\": {\"colorbar\": {\"outlinewidth\": 0, \"ticks\": \"\"}}, \"type\": \"parcoords\"}], \"pie\": [{\"automargin\": true, \"type\": \"pie\"}], \"scatter\": [{\"marker\": {\"colorbar\": {\"outlinewidth\": 0, \"ticks\": \"\"}}, \"type\": \"scatter\"}], \"scatter3d\": [{\"line\": {\"colorbar\": {\"outlinewidth\": 0, \"ticks\": \"\"}}, \"marker\": {\"colorbar\": {\"outlinewidth\": 0, \"ticks\": \"\"}}, \"type\": \"scatter3d\"}], \"scattercarpet\": [{\"marker\": {\"colorbar\": {\"outlinewidth\": 0, \"ticks\": \"\"}}, \"type\": \"scattercarpet\"}], \"scattergeo\": [{\"marker\": {\"colorbar\": {\"outlinewidth\": 0, \"ticks\": \"\"}}, \"type\": \"scattergeo\"}], \"scattergl\": [{\"marker\": {\"colorbar\": {\"outlinewidth\": 0, \"ticks\": \"\"}}, \"type\": \"scattergl\"}], \"scattermapbox\": [{\"marker\": {\"colorbar\": {\"outlinewidth\": 0, \"ticks\": \"\"}}, \"type\": \"scattermapbox\"}], \"scatterpolar\": [{\"marker\": {\"colorbar\": {\"outlinewidth\": 0, \"ticks\": \"\"}}, \"type\": \"scatterpolar\"}], \"scatterpolargl\": [{\"marker\": {\"colorbar\": {\"outlinewidth\": 0, \"ticks\": \"\"}}, \"type\": \"scatterpolargl\"}], \"scatterternary\": [{\"marker\": {\"colorbar\": {\"outlinewidth\": 0, \"ticks\": \"\"}}, \"type\": \"scatterternary\"}], \"surface\": [{\"colorbar\": {\"outlinewidth\": 0, \"ticks\": \"\"}, \"colorscale\": [[0.0, \"#0d0887\"], [0.1111111111111111, \"#46039f\"], [0.2222222222222222, \"#7201a8\"], [0.3333333333333333, \"#9c179e\"], [0.4444444444444444, \"#bd3786\"], [0.5555555555555556, \"#d8576b\"], [0.6666666666666666, \"#ed7953\"], [0.7777777777777778, \"#fb9f3a\"], [0.8888888888888888, \"#fdca26\"], [1.0, \"#f0f921\"]], \"type\": \"surface\"}], \"table\": [{\"cells\": {\"fill\": {\"color\": \"#EBF0F8\"}, \"line\": {\"color\": \"white\"}}, \"header\": {\"fill\": {\"color\": \"#C8D4E3\"}, \"line\": {\"color\": \"white\"}}, \"type\": \"table\"}]}, \"layout\": {\"annotationdefaults\": {\"arrowcolor\": \"#2a3f5f\", \"arrowhead\": 0, \"arrowwidth\": 1}, \"autotypenumbers\": \"strict\", \"coloraxis\": {\"colorbar\": {\"outlinewidth\": 0, \"ticks\": \"\"}}, \"colorscale\": {\"diverging\": [[0, \"#8e0152\"], [0.1, \"#c51b7d\"], [0.2, \"#de77ae\"], [0.3, \"#f1b6da\"], [0.4, \"#fde0ef\"], [0.5, \"#f7f7f7\"], [0.6, \"#e6f5d0\"], [0.7, \"#b8e186\"], [0.8, \"#7fbc41\"], [0.9, \"#4d9221\"], [1, \"#276419\"]], \"sequential\": [[0.0, \"#0d0887\"], [0.1111111111111111, \"#46039f\"], [0.2222222222222222, \"#7201a8\"], [0.3333333333333333, \"#9c179e\"], [0.4444444444444444, \"#bd3786\"], [0.5555555555555556, \"#d8576b\"], [0.6666666666666666, \"#ed7953\"], [0.7777777777777778, \"#fb9f3a\"], [0.8888888888888888, \"#fdca26\"], [1.0, \"#f0f921\"]], \"sequentialminus\": [[0.0, \"#0d0887\"], [0.1111111111111111, \"#46039f\"], [0.2222222222222222, \"#7201a8\"], [0.3333333333333333, \"#9c179e\"], [0.4444444444444444, \"#bd3786\"], [0.5555555555555556, \"#d8576b\"], [0.6666666666666666, \"#ed7953\"], [0.7777777777777778, \"#fb9f3a\"], [0.8888888888888888, \"#fdca26\"], [1.0, \"#f0f921\"]]}, \"colorway\": [\"#636efa\", \"#EF553B\", \"#00cc96\", \"#ab63fa\", \"#FFA15A\", \"#19d3f3\", \"#FF6692\", \"#B6E880\", \"#FF97FF\", \"#FECB52\"], \"font\": {\"color\": \"#2a3f5f\"}, \"geo\": {\"bgcolor\": \"white\", \"lakecolor\": \"white\", \"landcolor\": \"#E5ECF6\", \"showlakes\": true, \"showland\": true, \"subunitcolor\": \"white\"}, \"hoverlabel\": {\"align\": \"left\"}, \"hovermode\": \"closest\", \"mapbox\": {\"style\": \"light\"}, \"paper_bgcolor\": \"white\", \"plot_bgcolor\": \"#E5ECF6\", \"polar\": {\"angularaxis\": {\"gridcolor\": \"white\", \"linecolor\": \"white\", \"ticks\": \"\"}, \"bgcolor\": \"#E5ECF6\", \"radialaxis\": {\"gridcolor\": \"white\", \"linecolor\": \"white\", \"ticks\": \"\"}}, \"scene\": {\"xaxis\": {\"backgroundcolor\": \"#E5ECF6\", \"gridcolor\": \"white\", \"gridwidth\": 2, \"linecolor\": \"white\", \"showbackground\": true, \"ticks\": \"\", \"zerolinecolor\": \"white\"}, \"yaxis\": {\"backgroundcolor\": \"#E5ECF6\", \"gridcolor\": \"white\", \"gridwidth\": 2, \"linecolor\": \"white\", \"showbackground\": true, \"ticks\": \"\", \"zerolinecolor\": \"white\"}, \"zaxis\": {\"backgroundcolor\": \"#E5ECF6\", \"gridcolor\": \"white\", \"gridwidth\": 2, \"linecolor\": \"white\", \"showbackground\": true, \"ticks\": \"\", \"zerolinecolor\": \"white\"}}, \"shapedefaults\": {\"line\": {\"color\": \"#2a3f5f\"}}, \"ternary\": {\"aaxis\": {\"gridcolor\": \"white\", \"linecolor\": \"white\", \"ticks\": \"\"}, \"baxis\": {\"gridcolor\": \"white\", \"linecolor\": \"white\", \"ticks\": \"\"}, \"bgcolor\": \"#E5ECF6\", \"caxis\": {\"gridcolor\": \"white\", \"linecolor\": \"white\", \"ticks\": \"\"}}, \"title\": {\"x\": 0.05}, \"xaxis\": {\"automargin\": true, \"gridcolor\": \"white\", \"linecolor\": \"white\", \"ticks\": \"\", \"title\": {\"standoff\": 15}, \"zerolinecolor\": \"white\", \"zerolinewidth\": 2}, \"yaxis\": {\"automargin\": true, \"gridcolor\": \"white\", \"linecolor\": \"white\", \"ticks\": \"\", \"title\": {\"standoff\": 15}, \"zerolinecolor\": \"white\", \"zerolinewidth\": 2}}}, \"title\": {\"text\": \"info\"}, \"xaxis\": {\"title\": {\"text\": \"Date\"}}, \"yaxis\": {\"title\": {\"text\": \"value\"}}},                        {\"responsive\": true}                    ).then(function(){\n",
       "                            \n",
       "var gd = document.getElementById('287813f0-e8bc-4c7d-ae10-2477d3411e88');\n",
       "var x = new MutationObserver(function (mutations, observer) {{\n",
       "        var display = window.getComputedStyle(gd).display;\n",
       "        if (!display || display === 'none') {{\n",
       "            console.log([gd, 'removed!']);\n",
       "            Plotly.purge(gd);\n",
       "            observer.disconnect();\n",
       "        }}\n",
       "}});\n",
       "\n",
       "// Listen for the removal of the full notebook cells\n",
       "var notebookContainer = gd.closest('#notebook-container');\n",
       "if (notebookContainer) {{\n",
       "    x.observe(notebookContainer, {childList: true});\n",
       "}}\n",
       "\n",
       "// Listen for the clearing of the current output cell\n",
       "var outputEl = gd.closest('.output');\n",
       "if (outputEl) {{\n",
       "    x.observe(outputEl, {childList: true});\n",
       "}}\n",
       "\n",
       "                        })                };                });            </script>        </div>"
      ]
     },
     "metadata": {},
     "output_type": "display_data"
    },
    {
     "data": {
      "text/plain": []
     },
     "execution_count": 53,
     "metadata": {},
     "output_type": "execute_result"
    }
   ],
   "source": [
    "det_tst = Time_Series_Transformer.from_pandas(det,'Date',None)\n",
    "det_tst.plot([\"Close\"],'info').add_marker(\n",
    "    x = buySignal['Date'],\n",
    "    y = buySignal['Buy'],color = 'green',\n",
    "    legendName = 'Buy').add_marker(\n",
    "    x = sellSignal['Date'],\n",
    "    y = sellSignal['Sell'],color = 'red',\n",
    "    legendName = 'Sell')"
   ]
  },
  {
   "cell_type": "code",
   "execution_count": 55,
   "metadata": {},
   "outputs": [
    {
     "data": {
      "text/plain": [
       "286.2701416015625"
      ]
     },
     "execution_count": 55,
     "metadata": {},
     "output_type": "execute_result"
    }
   ],
   "source": [
    "det.Sell.sum() - det.Buy.sum()"
   ]
  },
  {
   "cell_type": "markdown",
   "metadata": {},
   "source": [
    "# Intra-Day Trade"
   ]
  },
  {
   "cell_type": "code",
   "execution_count": 7,
   "metadata": {},
   "outputs": [],
   "source": [
    "strategy = ta.Strategy(\n",
    "    name= 'mystrategy',\n",
    "    ta=[\n",
    "        {\"kind\": \"ema\", \"length\": 50},\n",
    "        {\"kind\": \"ema\", \"length\": 7},\n",
    "        {\"kind\": \"ema\", \"length\": 20},\n",
    "        {\"kind\": \"ema\", \"length\": 3},\n",
    "        {\"kind\": \"bbands\", \"length\": 20},\n",
    "        {\"kind\": \"bbands\", \"length\": 50},\n",
    "        {\"kind\": \"bbands\", \"length\": 30},\n",
    "        {\"kind\": \"rsi\",\"prefix\":\"rsi\"},\n",
    "        {\"kind\": \"macd\", \"fast\": 8, \"slow\": 21},\n",
    "    ]\n",
    ")"
   ]
  },
  {
   "cell_type": "code",
   "execution_count": 8,
   "metadata": {},
   "outputs": [
    {
     "name": "stderr",
     "output_type": "stream",
     "text": [
      "[Parallel(n_jobs=1)]: Using backend SequentialBackend with 1 concurrent workers.\n"
     ]
    },
    {
     "ename": "IndexError",
     "evalue": "iloc cannot enlarge its target object",
     "output_type": "error",
     "traceback": [
      "\u001b[1;31m---------------------------------------------------------------------------\u001b[0m",
      "\u001b[1;31mRemoteTraceback\u001b[0m                           Traceback (most recent call last)",
      "\u001b[1;31mRemoteTraceback\u001b[0m: \n\"\"\"\nTraceback (most recent call last):\n  File \"C:\\Users\\Allen Chiang\\anaconda3\\lib\\multiprocessing\\pool.py\", line 125, in worker\n    result = (True, func(*args, **kwds))\n  File \"C:\\Users\\Allen Chiang\\anaconda3\\lib\\multiprocessing\\pool.py\", line 48, in mapstar\n    return list(map(*args))\n  File \"C:\\Users\\Allen Chiang\\anaconda3\\lib\\site-packages\\pandas_ta\\core.py\", line 430, in _mp_worker\n    return getattr(self, method)(*args, **kwargs)\n  File \"C:\\Users\\Allen Chiang\\anaconda3\\lib\\site-packages\\pandas_ta\\core.py\", line 957, in ema\n    result = ema(close=close, length=length, offset=offset, **kwargs)\n  File \"C:\\Users\\Allen Chiang\\anaconda3\\lib\\site-packages\\pandas_ta\\overlap\\ema.py\", line 22, in ema\n    close.iloc[length - 1] = sma_nth\n  File \"C:\\Users\\Allen Chiang\\anaconda3\\lib\\site-packages\\pandas\\core\\indexing.py\", line 667, in __setitem__\n    self._has_valid_setitem_indexer(key)\n  File \"C:\\Users\\Allen Chiang\\anaconda3\\lib\\site-packages\\pandas\\core\\indexing.py\", line 1394, in _has_valid_setitem_indexer\n    raise IndexError(\"iloc cannot enlarge its target object\")\nIndexError: iloc cannot enlarge its target object\n\"\"\"",
      "\nThe above exception was the direct cause of the following exception:\n",
      "\u001b[1;31mIndexError\u001b[0m                                Traceback (most recent call last)",
      "\u001b[1;32m<ipython-input-8-b6adaa92c8ab>\u001b[0m in \u001b[0;36m<module>\u001b[1;34m\u001b[0m\n\u001b[0;32m      1\u001b[0m \u001b[0mst\u001b[0m \u001b[1;33m=\u001b[0m \u001b[0mStock_Transformer\u001b[0m\u001b[1;33m.\u001b[0m\u001b[0mfrom_stock_engine_intraday\u001b[0m\u001b[1;33m(\u001b[0m\u001b[1;33m[\u001b[0m\u001b[1;34m\"GOOGL\"\u001b[0m\u001b[1;33m,\u001b[0m\u001b[1;34m\"NDAQ\"\u001b[0m\u001b[1;33m,\u001b[0m\u001b[1;34m\"GOLD\"\u001b[0m\u001b[1;33m]\u001b[0m\u001b[1;33m,\u001b[0m\u001b[1;34m'2020-12-27'\u001b[0m\u001b[1;33m,\u001b[0m\u001b[1;34m'2020-12-31'\u001b[0m\u001b[1;33m,\u001b[0m\u001b[1;34m'yahoo'\u001b[0m\u001b[1;33m,\u001b[0m\u001b[0minterval\u001b[0m\u001b[1;33m=\u001b[0m\u001b[1;34m'30m'\u001b[0m\u001b[1;33m)\u001b[0m\u001b[1;33m\u001b[0m\u001b[1;33m\u001b[0m\u001b[0m\n\u001b[1;32m----> 2\u001b[1;33m \u001b[0mst\u001b[0m \u001b[1;33m=\u001b[0m \u001b[0mst\u001b[0m\u001b[1;33m.\u001b[0m\u001b[0mget_technial_indicator\u001b[0m\u001b[1;33m(\u001b[0m\u001b[0mstrategy\u001b[0m\u001b[1;33m)\u001b[0m\u001b[1;33m\u001b[0m\u001b[1;33m\u001b[0m\u001b[0m\n\u001b[0m\u001b[0;32m      3\u001b[0m \u001b[0mst\u001b[0m \u001b[1;33m=\u001b[0m \u001b[0mst\u001b[0m\u001b[1;33m.\u001b[0m\u001b[0mdropna\u001b[0m\u001b[1;33m(\u001b[0m\u001b[1;33m)\u001b[0m\u001b[1;33m\u001b[0m\u001b[1;33m\u001b[0m\u001b[0m\n\u001b[0;32m      4\u001b[0m \u001b[0mdf\u001b[0m \u001b[1;33m=\u001b[0m \u001b[0mst\u001b[0m\u001b[1;33m.\u001b[0m\u001b[0mto_pandas\u001b[0m\u001b[1;33m(\u001b[0m\u001b[0mexpandCategory\u001b[0m\u001b[1;33m=\u001b[0m \u001b[1;32mTrue\u001b[0m\u001b[1;33m,\u001b[0m \u001b[0mexpandTime\u001b[0m \u001b[1;33m=\u001b[0m \u001b[1;32mFalse\u001b[0m\u001b[1;33m,\u001b[0m\u001b[0mpreprocessType\u001b[0m \u001b[1;33m=\u001b[0m \u001b[1;34m'remove'\u001b[0m\u001b[1;33m)\u001b[0m\u001b[1;33m\u001b[0m\u001b[1;33m\u001b[0m\u001b[0m\n",
      "\u001b[1;32mc:\\users\\allen chiang\\documents\\studio\\time-series-transformer\\time_series_transform\\stock_transform\\stock_transfromer.py\u001b[0m in \u001b[0;36mget_technial_indicator\u001b[1;34m(self, strategy, n_jobs, verbose, backend)\u001b[0m\n\u001b[0;32m    440\u001b[0m         \"\"\"\n\u001b[0;32m    441\u001b[0m         \u001b[1;32mif\u001b[0m \u001b[0misinstance\u001b[0m\u001b[1;33m(\u001b[0m\u001b[0mself\u001b[0m\u001b[1;33m.\u001b[0m\u001b[0mtime_series_data\u001b[0m\u001b[1;33m,\u001b[0m\u001b[0mPortfolio\u001b[0m\u001b[1;33m)\u001b[0m\u001b[1;33m:\u001b[0m\u001b[1;33m\u001b[0m\u001b[1;33m\u001b[0m\u001b[0m\n\u001b[1;32m--> 442\u001b[1;33m             self.time_series_data= self.time_series_data.get_technical_indicator(\n\u001b[0m\u001b[0;32m    443\u001b[0m                 \u001b[0mstrategy\u001b[0m\u001b[1;33m,\u001b[0m\u001b[1;33m\u001b[0m\u001b[1;33m\u001b[0m\u001b[0m\n\u001b[0;32m    444\u001b[0m                 \u001b[0mn_jobs\u001b[0m\u001b[1;33m=\u001b[0m\u001b[0mn_jobs\u001b[0m\u001b[1;33m,\u001b[0m\u001b[1;33m\u001b[0m\u001b[1;33m\u001b[0m\u001b[0m\n",
      "\u001b[1;32mc:\\users\\allen chiang\\documents\\studio\\time-series-transformer\\time_series_transform\\stock_transform\\base.py\u001b[0m in \u001b[0;36mget_technical_indicator\u001b[1;34m(self, strategy, n_jobs, verbose, backend, *args, **kwargs)\u001b[0m\n\u001b[0;32m    201\u001b[0m         \u001b[0mself\u001b[0m\u001b[1;33m\u001b[0m\u001b[1;33m\u001b[0m\u001b[0m\n\u001b[0;32m    202\u001b[0m         \"\"\"\n\u001b[1;32m--> 203\u001b[1;33m         dctList = Parallel(n_jobs = n_jobs,backend=backend,verbose=verbose)(delayed(self._get_techinal_indicator)(\n\u001b[0m\u001b[0;32m    204\u001b[0m             \u001b[0mc\u001b[0m\u001b[1;33m,\u001b[0m\u001b[1;33m\u001b[0m\u001b[1;33m\u001b[0m\u001b[0m\n\u001b[0;32m    205\u001b[0m             \u001b[0mself\u001b[0m\u001b[1;33m.\u001b[0m\u001b[0m_time_series_data_collection\u001b[0m\u001b[1;33m[\u001b[0m\u001b[0mc\u001b[0m\u001b[1;33m]\u001b[0m\u001b[1;33m,\u001b[0m\u001b[1;33m\u001b[0m\u001b[1;33m\u001b[0m\u001b[0m\n",
      "\u001b[1;32m~\\anaconda3\\lib\\site-packages\\joblib\\parallel.py\u001b[0m in \u001b[0;36m__call__\u001b[1;34m(self, iterable)\u001b[0m\n\u001b[0;32m   1046\u001b[0m             \u001b[1;31m# remaining jobs.\u001b[0m\u001b[1;33m\u001b[0m\u001b[1;33m\u001b[0m\u001b[1;33m\u001b[0m\u001b[0m\n\u001b[0;32m   1047\u001b[0m             \u001b[0mself\u001b[0m\u001b[1;33m.\u001b[0m\u001b[0m_iterating\u001b[0m \u001b[1;33m=\u001b[0m \u001b[1;32mFalse\u001b[0m\u001b[1;33m\u001b[0m\u001b[1;33m\u001b[0m\u001b[0m\n\u001b[1;32m-> 1048\u001b[1;33m             \u001b[1;32mif\u001b[0m \u001b[0mself\u001b[0m\u001b[1;33m.\u001b[0m\u001b[0mdispatch_one_batch\u001b[0m\u001b[1;33m(\u001b[0m\u001b[0miterator\u001b[0m\u001b[1;33m)\u001b[0m\u001b[1;33m:\u001b[0m\u001b[1;33m\u001b[0m\u001b[1;33m\u001b[0m\u001b[0m\n\u001b[0m\u001b[0;32m   1049\u001b[0m                 \u001b[0mself\u001b[0m\u001b[1;33m.\u001b[0m\u001b[0m_iterating\u001b[0m \u001b[1;33m=\u001b[0m \u001b[0mself\u001b[0m\u001b[1;33m.\u001b[0m\u001b[0m_original_iterator\u001b[0m \u001b[1;32mis\u001b[0m \u001b[1;32mnot\u001b[0m \u001b[1;32mNone\u001b[0m\u001b[1;33m\u001b[0m\u001b[1;33m\u001b[0m\u001b[0m\n\u001b[0;32m   1050\u001b[0m \u001b[1;33m\u001b[0m\u001b[0m\n",
      "\u001b[1;32m~\\anaconda3\\lib\\site-packages\\joblib\\parallel.py\u001b[0m in \u001b[0;36mdispatch_one_batch\u001b[1;34m(self, iterator)\u001b[0m\n\u001b[0;32m    864\u001b[0m                 \u001b[1;32mreturn\u001b[0m \u001b[1;32mFalse\u001b[0m\u001b[1;33m\u001b[0m\u001b[1;33m\u001b[0m\u001b[0m\n\u001b[0;32m    865\u001b[0m             \u001b[1;32melse\u001b[0m\u001b[1;33m:\u001b[0m\u001b[1;33m\u001b[0m\u001b[1;33m\u001b[0m\u001b[0m\n\u001b[1;32m--> 866\u001b[1;33m                 \u001b[0mself\u001b[0m\u001b[1;33m.\u001b[0m\u001b[0m_dispatch\u001b[0m\u001b[1;33m(\u001b[0m\u001b[0mtasks\u001b[0m\u001b[1;33m)\u001b[0m\u001b[1;33m\u001b[0m\u001b[1;33m\u001b[0m\u001b[0m\n\u001b[0m\u001b[0;32m    867\u001b[0m                 \u001b[1;32mreturn\u001b[0m \u001b[1;32mTrue\u001b[0m\u001b[1;33m\u001b[0m\u001b[1;33m\u001b[0m\u001b[0m\n\u001b[0;32m    868\u001b[0m \u001b[1;33m\u001b[0m\u001b[0m\n",
      "\u001b[1;32m~\\anaconda3\\lib\\site-packages\\joblib\\parallel.py\u001b[0m in \u001b[0;36m_dispatch\u001b[1;34m(self, batch)\u001b[0m\n\u001b[0;32m    782\u001b[0m         \u001b[1;32mwith\u001b[0m \u001b[0mself\u001b[0m\u001b[1;33m.\u001b[0m\u001b[0m_lock\u001b[0m\u001b[1;33m:\u001b[0m\u001b[1;33m\u001b[0m\u001b[1;33m\u001b[0m\u001b[0m\n\u001b[0;32m    783\u001b[0m             \u001b[0mjob_idx\u001b[0m \u001b[1;33m=\u001b[0m \u001b[0mlen\u001b[0m\u001b[1;33m(\u001b[0m\u001b[0mself\u001b[0m\u001b[1;33m.\u001b[0m\u001b[0m_jobs\u001b[0m\u001b[1;33m)\u001b[0m\u001b[1;33m\u001b[0m\u001b[1;33m\u001b[0m\u001b[0m\n\u001b[1;32m--> 784\u001b[1;33m             \u001b[0mjob\u001b[0m \u001b[1;33m=\u001b[0m \u001b[0mself\u001b[0m\u001b[1;33m.\u001b[0m\u001b[0m_backend\u001b[0m\u001b[1;33m.\u001b[0m\u001b[0mapply_async\u001b[0m\u001b[1;33m(\u001b[0m\u001b[0mbatch\u001b[0m\u001b[1;33m,\u001b[0m \u001b[0mcallback\u001b[0m\u001b[1;33m=\u001b[0m\u001b[0mcb\u001b[0m\u001b[1;33m)\u001b[0m\u001b[1;33m\u001b[0m\u001b[1;33m\u001b[0m\u001b[0m\n\u001b[0m\u001b[0;32m    785\u001b[0m             \u001b[1;31m# A job can complete so quickly than its callback is\u001b[0m\u001b[1;33m\u001b[0m\u001b[1;33m\u001b[0m\u001b[1;33m\u001b[0m\u001b[0m\n\u001b[0;32m    786\u001b[0m             \u001b[1;31m# called before we get here, causing self._jobs to\u001b[0m\u001b[1;33m\u001b[0m\u001b[1;33m\u001b[0m\u001b[1;33m\u001b[0m\u001b[0m\n",
      "\u001b[1;32m~\\anaconda3\\lib\\site-packages\\joblib\\_parallel_backends.py\u001b[0m in \u001b[0;36mapply_async\u001b[1;34m(self, func, callback)\u001b[0m\n\u001b[0;32m    206\u001b[0m     \u001b[1;32mdef\u001b[0m \u001b[0mapply_async\u001b[0m\u001b[1;33m(\u001b[0m\u001b[0mself\u001b[0m\u001b[1;33m,\u001b[0m \u001b[0mfunc\u001b[0m\u001b[1;33m,\u001b[0m \u001b[0mcallback\u001b[0m\u001b[1;33m=\u001b[0m\u001b[1;32mNone\u001b[0m\u001b[1;33m)\u001b[0m\u001b[1;33m:\u001b[0m\u001b[1;33m\u001b[0m\u001b[1;33m\u001b[0m\u001b[0m\n\u001b[0;32m    207\u001b[0m         \u001b[1;34m\"\"\"Schedule a func to be run\"\"\"\u001b[0m\u001b[1;33m\u001b[0m\u001b[1;33m\u001b[0m\u001b[0m\n\u001b[1;32m--> 208\u001b[1;33m         \u001b[0mresult\u001b[0m \u001b[1;33m=\u001b[0m \u001b[0mImmediateResult\u001b[0m\u001b[1;33m(\u001b[0m\u001b[0mfunc\u001b[0m\u001b[1;33m)\u001b[0m\u001b[1;33m\u001b[0m\u001b[1;33m\u001b[0m\u001b[0m\n\u001b[0m\u001b[0;32m    209\u001b[0m         \u001b[1;32mif\u001b[0m \u001b[0mcallback\u001b[0m\u001b[1;33m:\u001b[0m\u001b[1;33m\u001b[0m\u001b[1;33m\u001b[0m\u001b[0m\n\u001b[0;32m    210\u001b[0m             \u001b[0mcallback\u001b[0m\u001b[1;33m(\u001b[0m\u001b[0mresult\u001b[0m\u001b[1;33m)\u001b[0m\u001b[1;33m\u001b[0m\u001b[1;33m\u001b[0m\u001b[0m\n",
      "\u001b[1;32m~\\anaconda3\\lib\\site-packages\\joblib\\_parallel_backends.py\u001b[0m in \u001b[0;36m__init__\u001b[1;34m(self, batch)\u001b[0m\n\u001b[0;32m    570\u001b[0m         \u001b[1;31m# Don't delay the application, to avoid keeping the input\u001b[0m\u001b[1;33m\u001b[0m\u001b[1;33m\u001b[0m\u001b[1;33m\u001b[0m\u001b[0m\n\u001b[0;32m    571\u001b[0m         \u001b[1;31m# arguments in memory\u001b[0m\u001b[1;33m\u001b[0m\u001b[1;33m\u001b[0m\u001b[1;33m\u001b[0m\u001b[0m\n\u001b[1;32m--> 572\u001b[1;33m         \u001b[0mself\u001b[0m\u001b[1;33m.\u001b[0m\u001b[0mresults\u001b[0m \u001b[1;33m=\u001b[0m \u001b[0mbatch\u001b[0m\u001b[1;33m(\u001b[0m\u001b[1;33m)\u001b[0m\u001b[1;33m\u001b[0m\u001b[1;33m\u001b[0m\u001b[0m\n\u001b[0m\u001b[0;32m    573\u001b[0m \u001b[1;33m\u001b[0m\u001b[0m\n\u001b[0;32m    574\u001b[0m     \u001b[1;32mdef\u001b[0m \u001b[0mget\u001b[0m\u001b[1;33m(\u001b[0m\u001b[0mself\u001b[0m\u001b[1;33m)\u001b[0m\u001b[1;33m:\u001b[0m\u001b[1;33m\u001b[0m\u001b[1;33m\u001b[0m\u001b[0m\n",
      "\u001b[1;32m~\\anaconda3\\lib\\site-packages\\joblib\\parallel.py\u001b[0m in \u001b[0;36m__call__\u001b[1;34m(self)\u001b[0m\n\u001b[0;32m    260\u001b[0m         \u001b[1;31m# change the default number of processes to -1\u001b[0m\u001b[1;33m\u001b[0m\u001b[1;33m\u001b[0m\u001b[1;33m\u001b[0m\u001b[0m\n\u001b[0;32m    261\u001b[0m         \u001b[1;32mwith\u001b[0m \u001b[0mparallel_backend\u001b[0m\u001b[1;33m(\u001b[0m\u001b[0mself\u001b[0m\u001b[1;33m.\u001b[0m\u001b[0m_backend\u001b[0m\u001b[1;33m,\u001b[0m \u001b[0mn_jobs\u001b[0m\u001b[1;33m=\u001b[0m\u001b[0mself\u001b[0m\u001b[1;33m.\u001b[0m\u001b[0m_n_jobs\u001b[0m\u001b[1;33m)\u001b[0m\u001b[1;33m:\u001b[0m\u001b[1;33m\u001b[0m\u001b[1;33m\u001b[0m\u001b[0m\n\u001b[1;32m--> 262\u001b[1;33m             return [func(*args, **kwargs)\n\u001b[0m\u001b[0;32m    263\u001b[0m                     for func, args, kwargs in self.items]\n\u001b[0;32m    264\u001b[0m \u001b[1;33m\u001b[0m\u001b[0m\n",
      "\u001b[1;32m~\\anaconda3\\lib\\site-packages\\joblib\\parallel.py\u001b[0m in \u001b[0;36m<listcomp>\u001b[1;34m(.0)\u001b[0m\n\u001b[0;32m    260\u001b[0m         \u001b[1;31m# change the default number of processes to -1\u001b[0m\u001b[1;33m\u001b[0m\u001b[1;33m\u001b[0m\u001b[1;33m\u001b[0m\u001b[0m\n\u001b[0;32m    261\u001b[0m         \u001b[1;32mwith\u001b[0m \u001b[0mparallel_backend\u001b[0m\u001b[1;33m(\u001b[0m\u001b[0mself\u001b[0m\u001b[1;33m.\u001b[0m\u001b[0m_backend\u001b[0m\u001b[1;33m,\u001b[0m \u001b[0mn_jobs\u001b[0m\u001b[1;33m=\u001b[0m\u001b[0mself\u001b[0m\u001b[1;33m.\u001b[0m\u001b[0m_n_jobs\u001b[0m\u001b[1;33m)\u001b[0m\u001b[1;33m:\u001b[0m\u001b[1;33m\u001b[0m\u001b[1;33m\u001b[0m\u001b[0m\n\u001b[1;32m--> 262\u001b[1;33m             return [func(*args, **kwargs)\n\u001b[0m\u001b[0;32m    263\u001b[0m                     for func, args, kwargs in self.items]\n\u001b[0;32m    264\u001b[0m \u001b[1;33m\u001b[0m\u001b[0m\n",
      "\u001b[1;32mc:\\users\\allen chiang\\documents\\studio\\time-series-transformer\\time_series_transform\\stock_transform\\base.py\u001b[0m in \u001b[0;36m_get_techinal_indicator\u001b[1;34m(self, category, time_series_data, strategy, *args, **kwargs)\u001b[0m\n\u001b[0;32m    175\u001b[0m \u001b[1;33m\u001b[0m\u001b[0m\n\u001b[0;32m    176\u001b[0m     \u001b[1;32mdef\u001b[0m \u001b[0m_get_techinal_indicator\u001b[0m\u001b[1;33m(\u001b[0m\u001b[0mself\u001b[0m\u001b[1;33m,\u001b[0m\u001b[0mcategory\u001b[0m\u001b[1;33m,\u001b[0m\u001b[0mtime_series_data\u001b[0m\u001b[1;33m,\u001b[0m\u001b[0mstrategy\u001b[0m\u001b[1;33m,\u001b[0m\u001b[1;33m*\u001b[0m\u001b[0margs\u001b[0m\u001b[1;33m,\u001b[0m\u001b[1;33m**\u001b[0m\u001b[0mkwargs\u001b[0m\u001b[1;33m)\u001b[0m\u001b[1;33m:\u001b[0m\u001b[1;33m\u001b[0m\u001b[1;33m\u001b[0m\u001b[0m\n\u001b[1;32m--> 177\u001b[1;33m         \u001b[1;32mreturn\u001b[0m \u001b[1;33m{\u001b[0m\u001b[0mcategory\u001b[0m\u001b[1;33m:\u001b[0m\u001b[0mtime_series_data\u001b[0m\u001b[1;33m.\u001b[0m\u001b[0mget_technical_indicator\u001b[0m\u001b[1;33m(\u001b[0m\u001b[0mstrategy\u001b[0m\u001b[1;33m)\u001b[0m\u001b[1;33m}\u001b[0m\u001b[1;33m\u001b[0m\u001b[1;33m\u001b[0m\u001b[0m\n\u001b[0m\u001b[0;32m    178\u001b[0m \u001b[1;33m\u001b[0m\u001b[0m\n\u001b[0;32m    179\u001b[0m \u001b[1;33m\u001b[0m\u001b[0m\n",
      "\u001b[1;32mc:\\users\\allen chiang\\documents\\studio\\time-series-transformer\\time_series_transform\\stock_transform\\base.py\u001b[0m in \u001b[0;36mget_technical_indicator\u001b[1;34m(self, strategy)\u001b[0m\n\u001b[0;32m     71\u001b[0m             \u001b[0mdct\u001b[0m\u001b[1;33m[\u001b[0m\u001b[0mi\u001b[0m\u001b[1;33m]\u001b[0m \u001b[1;33m=\u001b[0m \u001b[0mall_info\u001b[0m\u001b[1;33m[\u001b[0m\u001b[0mself\u001b[0m\u001b[1;33m.\u001b[0m\u001b[0mohlcva\u001b[0m\u001b[1;33m[\u001b[0m\u001b[0mi\u001b[0m\u001b[1;33m]\u001b[0m\u001b[1;33m]\u001b[0m\u001b[1;33m\u001b[0m\u001b[1;33m\u001b[0m\u001b[0m\n\u001b[0;32m     72\u001b[0m         \u001b[0mdf\u001b[0m \u001b[1;33m=\u001b[0m \u001b[0mpd\u001b[0m\u001b[1;33m.\u001b[0m\u001b[0mDataFrame\u001b[0m\u001b[1;33m(\u001b[0m\u001b[0mdct\u001b[0m\u001b[1;33m)\u001b[0m\u001b[1;33m\u001b[0m\u001b[1;33m\u001b[0m\u001b[0m\n\u001b[1;32m---> 73\u001b[1;33m         \u001b[0mdf\u001b[0m\u001b[1;33m.\u001b[0m\u001b[0mta\u001b[0m\u001b[1;33m.\u001b[0m\u001b[0mstrategy\u001b[0m\u001b[1;33m(\u001b[0m\u001b[0mstrategy\u001b[0m\u001b[1;33m)\u001b[0m\u001b[1;33m\u001b[0m\u001b[1;33m\u001b[0m\u001b[0m\n\u001b[0m\u001b[0;32m     74\u001b[0m         \u001b[0mkeys\u001b[0m \u001b[1;33m=\u001b[0m \u001b[0mlist\u001b[0m\u001b[1;33m(\u001b[0m\u001b[0mmap\u001b[0m\u001b[1;33m(\u001b[0m\u001b[1;32mlambda\u001b[0m \u001b[0mx\u001b[0m\u001b[1;33m:\u001b[0m \u001b[0mx\u001b[0m\u001b[1;33m.\u001b[0m\u001b[0mlower\u001b[0m\u001b[1;33m(\u001b[0m\u001b[1;33m)\u001b[0m\u001b[1;33m,\u001b[0m\u001b[0mlist\u001b[0m\u001b[1;33m(\u001b[0m\u001b[0mself\u001b[0m\u001b[1;33m.\u001b[0m\u001b[0m_get_all_info\u001b[0m\u001b[1;33m(\u001b[0m\u001b[1;33m)\u001b[0m\u001b[1;33m.\u001b[0m\u001b[0mkeys\u001b[0m\u001b[1;33m(\u001b[0m\u001b[1;33m)\u001b[0m\u001b[1;33m)\u001b[0m\u001b[1;33m)\u001b[0m\u001b[1;33m)\u001b[0m\u001b[1;33m\u001b[0m\u001b[1;33m\u001b[0m\u001b[0m\n\u001b[0;32m     75\u001b[0m         \u001b[1;32mfor\u001b[0m \u001b[0mi\u001b[0m \u001b[1;32min\u001b[0m \u001b[0mself\u001b[0m\u001b[1;33m.\u001b[0m\u001b[0mohlcva\u001b[0m\u001b[1;33m:\u001b[0m\u001b[1;33m\u001b[0m\u001b[1;33m\u001b[0m\u001b[0m\n",
      "\u001b[1;32m~\\anaconda3\\lib\\site-packages\\pandas_ta\\core.py\u001b[0m in \u001b[0;36mstrategy\u001b[1;34m(self, *args, **kwargs)\u001b[0m\n\u001b[0;32m    682\u001b[0m         \u001b[1;31m# Apply prefixes/suffixes and appends indicator results to the\u001b[0m\u001b[1;33m\u001b[0m\u001b[1;33m\u001b[0m\u001b[1;33m\u001b[0m\u001b[0m\n\u001b[0;32m    683\u001b[0m         \u001b[1;31m# DataFrame\u001b[0m\u001b[1;33m\u001b[0m\u001b[1;33m\u001b[0m\u001b[1;33m\u001b[0m\u001b[0m\n\u001b[1;32m--> 684\u001b[1;33m         \u001b[1;33m[\u001b[0m\u001b[0mself\u001b[0m\u001b[1;33m.\u001b[0m\u001b[0m_post_process\u001b[0m\u001b[1;33m(\u001b[0m\u001b[0mr\u001b[0m\u001b[1;33m,\u001b[0m \u001b[1;33m**\u001b[0m\u001b[0mkwargs\u001b[0m\u001b[1;33m)\u001b[0m \u001b[1;32mfor\u001b[0m \u001b[0mr\u001b[0m \u001b[1;32min\u001b[0m \u001b[0mresults\u001b[0m\u001b[1;33m]\u001b[0m\u001b[1;33m\u001b[0m\u001b[1;33m\u001b[0m\u001b[0m\n\u001b[0m\u001b[0;32m    685\u001b[0m \u001b[1;33m\u001b[0m\u001b[0m\n\u001b[0;32m    686\u001b[0m         \u001b[1;32mif\u001b[0m \u001b[0mtimed\u001b[0m\u001b[1;33m:\u001b[0m\u001b[1;33m\u001b[0m\u001b[1;33m\u001b[0m\u001b[0m\n",
      "\u001b[1;32m~\\anaconda3\\lib\\site-packages\\pandas_ta\\core.py\u001b[0m in \u001b[0;36m<listcomp>\u001b[1;34m(.0)\u001b[0m\n\u001b[0;32m    682\u001b[0m         \u001b[1;31m# Apply prefixes/suffixes and appends indicator results to the\u001b[0m\u001b[1;33m\u001b[0m\u001b[1;33m\u001b[0m\u001b[1;33m\u001b[0m\u001b[0m\n\u001b[0;32m    683\u001b[0m         \u001b[1;31m# DataFrame\u001b[0m\u001b[1;33m\u001b[0m\u001b[1;33m\u001b[0m\u001b[1;33m\u001b[0m\u001b[0m\n\u001b[1;32m--> 684\u001b[1;33m         \u001b[1;33m[\u001b[0m\u001b[0mself\u001b[0m\u001b[1;33m.\u001b[0m\u001b[0m_post_process\u001b[0m\u001b[1;33m(\u001b[0m\u001b[0mr\u001b[0m\u001b[1;33m,\u001b[0m \u001b[1;33m**\u001b[0m\u001b[0mkwargs\u001b[0m\u001b[1;33m)\u001b[0m \u001b[1;32mfor\u001b[0m \u001b[0mr\u001b[0m \u001b[1;32min\u001b[0m \u001b[0mresults\u001b[0m\u001b[1;33m]\u001b[0m\u001b[1;33m\u001b[0m\u001b[1;33m\u001b[0m\u001b[0m\n\u001b[0m\u001b[0;32m    685\u001b[0m \u001b[1;33m\u001b[0m\u001b[0m\n\u001b[0;32m    686\u001b[0m         \u001b[1;32mif\u001b[0m \u001b[0mtimed\u001b[0m\u001b[1;33m:\u001b[0m\u001b[1;33m\u001b[0m\u001b[1;33m\u001b[0m\u001b[0m\n",
      "\u001b[1;32m~\\anaconda3\\lib\\multiprocessing\\pool.py\u001b[0m in \u001b[0;36m<genexpr>\u001b[1;34m(.0)\u001b[0m\n\u001b[0;32m    418\u001b[0m                     \u001b[0mresult\u001b[0m\u001b[1;33m.\u001b[0m\u001b[0m_set_length\u001b[0m\u001b[1;33m\u001b[0m\u001b[1;33m\u001b[0m\u001b[0m\n\u001b[0;32m    419\u001b[0m                 ))\n\u001b[1;32m--> 420\u001b[1;33m             \u001b[1;32mreturn\u001b[0m \u001b[1;33m(\u001b[0m\u001b[0mitem\u001b[0m \u001b[1;32mfor\u001b[0m \u001b[0mchunk\u001b[0m \u001b[1;32min\u001b[0m \u001b[0mresult\u001b[0m \u001b[1;32mfor\u001b[0m \u001b[0mitem\u001b[0m \u001b[1;32min\u001b[0m \u001b[0mchunk\u001b[0m\u001b[1;33m)\u001b[0m\u001b[1;33m\u001b[0m\u001b[1;33m\u001b[0m\u001b[0m\n\u001b[0m\u001b[0;32m    421\u001b[0m \u001b[1;33m\u001b[0m\u001b[0m\n\u001b[0;32m    422\u001b[0m     \u001b[1;32mdef\u001b[0m \u001b[0mimap_unordered\u001b[0m\u001b[1;33m(\u001b[0m\u001b[0mself\u001b[0m\u001b[1;33m,\u001b[0m \u001b[0mfunc\u001b[0m\u001b[1;33m,\u001b[0m \u001b[0miterable\u001b[0m\u001b[1;33m,\u001b[0m \u001b[0mchunksize\u001b[0m\u001b[1;33m=\u001b[0m\u001b[1;36m1\u001b[0m\u001b[1;33m)\u001b[0m\u001b[1;33m:\u001b[0m\u001b[1;33m\u001b[0m\u001b[1;33m\u001b[0m\u001b[0m\n",
      "\u001b[1;32m~\\anaconda3\\lib\\multiprocessing\\pool.py\u001b[0m in \u001b[0;36mnext\u001b[1;34m(self, timeout)\u001b[0m\n\u001b[0;32m    866\u001b[0m         \u001b[1;32mif\u001b[0m \u001b[0msuccess\u001b[0m\u001b[1;33m:\u001b[0m\u001b[1;33m\u001b[0m\u001b[1;33m\u001b[0m\u001b[0m\n\u001b[0;32m    867\u001b[0m             \u001b[1;32mreturn\u001b[0m \u001b[0mvalue\u001b[0m\u001b[1;33m\u001b[0m\u001b[1;33m\u001b[0m\u001b[0m\n\u001b[1;32m--> 868\u001b[1;33m         \u001b[1;32mraise\u001b[0m \u001b[0mvalue\u001b[0m\u001b[1;33m\u001b[0m\u001b[1;33m\u001b[0m\u001b[0m\n\u001b[0m\u001b[0;32m    869\u001b[0m \u001b[1;33m\u001b[0m\u001b[0m\n\u001b[0;32m    870\u001b[0m     \u001b[0m__next__\u001b[0m \u001b[1;33m=\u001b[0m \u001b[0mnext\u001b[0m                    \u001b[1;31m# XXX\u001b[0m\u001b[1;33m\u001b[0m\u001b[1;33m\u001b[0m\u001b[0m\n",
      "\u001b[1;31mIndexError\u001b[0m: iloc cannot enlarge its target object"
     ]
    }
   ],
   "source": [
    "st = Stock_Transformer.from_stock_engine_intraday([\"GOOGL\",\"NDAQ\",\"GOLD\"],'2020-12-27','2020-12-31','yahoo',interval='30m')\n",
    "st = st.get_technial_indicator(strategy)\n",
    "st = st.dropna()\n",
    "df = st.to_pandas(expandCategory= True, expandTime = False,preprocessType = 'remove')"
   ]
  },
  {
   "cell_type": "code",
   "execution_count": 120,
   "metadata": {},
   "outputs": [],
   "source": [
    "tst = Time_Series_Transformer.from_pandas(df,'Datetime',None)\n",
    "tst = tst.make_lead('Close_GOOGL',1,'_lead_')\n",
    "tst = tst.transform(['Close_GOOGL','Close_GOOGL_lead_1'],'change',up_down_transform)\n",
    "tst = tst.make_label(\"change\")\n",
    "X,y = tst.to_pandas(sepLabel = True)"
   ]
  },
  {
   "cell_type": "code",
   "execution_count": 121,
   "metadata": {},
   "outputs": [],
   "source": [
    "testX,testY = X.tail(500),y.tail(500)\n",
    "trainX,trainY = X.drop(testX.index),y.drop(testY.index)"
   ]
  },
  {
   "cell_type": "code",
   "execution_count": 122,
   "metadata": {},
   "outputs": [],
   "source": [
    "pip = Pipeline(\n",
    "    [\n",
    "        (\"lag\",Lag_Transformer(list(range(1,20)),time_col = 'Datetime')),\n",
    "        (\"impute\",SimpleImputer(strategy = 'median')),\n",
    "        (\"pca\",PCA()),\n",
    "        ('rf',RandomForestClassifier())\n",
    "     ]\n",
    ")"
   ]
  },
  {
   "cell_type": "code",
   "execution_count": 123,
   "metadata": {},
   "outputs": [],
   "source": [
    "searchParam = {\n",
    "    \"lag__lag_nums\":[list(range(1,20)),list(range(1,50)),list(range(1,100))],\n",
    "    \"pca__n_components\":list(range(2,30)),\n",
    "    \"rf__n_estimators\":list(range(100,500)),\n",
    "}\n",
    "randPip = RandomizedSearchCV(\n",
    "    pip,\n",
    "    searchParam,\n",
    "    cv= TimeSeriesSplit(5),\n",
    "    n_iter=30,\n",
    "    n_jobs = 5\n",
    ")"
   ]
  },
  {
   "cell_type": "code",
   "execution_count": 124,
   "metadata": {},
   "outputs": [
    {
     "name": "stderr",
     "output_type": "stream",
     "text": [
      "C:\\Users\\Allen Chiang\\anaconda3\\lib\\site-packages\\sklearn\\pipeline.py:335: DataConversionWarning:\n",
      "\n",
      "A column-vector y was passed when a 1d array was expected. Please change the shape of y to (n_samples,), for example using ravel().\n",
      "\n"
     ]
    }
   ],
   "source": [
    "randPip = randPip.fit(trainX,trainY)\n",
    "prd = randPip.predict(testX)"
   ]
  },
  {
   "cell_type": "code",
   "execution_count": 125,
   "metadata": {},
   "outputs": [
    {
     "name": "stdout",
     "output_type": "stream",
     "text": [
      "              precision    recall  f1-score   support\n",
      "\n",
      "        down       0.55      0.49      0.52       264\n",
      "    unchange       0.00      0.00      0.00         2\n",
      "          up       0.48      0.55      0.51       234\n",
      "\n",
      "    accuracy                           0.51       500\n",
      "   macro avg       0.34      0.35      0.34       500\n",
      "weighted avg       0.52      0.51      0.51       500\n",
      "\n"
     ]
    },
    {
     "name": "stderr",
     "output_type": "stream",
     "text": [
      "C:\\Users\\Allen Chiang\\anaconda3\\lib\\site-packages\\sklearn\\metrics\\_classification.py:1221: UndefinedMetricWarning:\n",
      "\n",
      "Precision and F-score are ill-defined and being set to 0.0 in labels with no predicted samples. Use `zero_division` parameter to control this behavior.\n",
      "\n"
     ]
    }
   ],
   "source": [
    "print(classification_report(testY,prd))"
   ]
  },
  {
   "cell_type": "code",
   "execution_count": 126,
   "metadata": {},
   "outputs": [
    {
     "data": {
      "text/plain": [
       "array([[129,   0, 135],\n",
       "       [  0,   0,   2],\n",
       "       [106,   0, 128]], dtype=int64)"
      ]
     },
     "execution_count": 126,
     "metadata": {},
     "output_type": "execute_result"
    }
   ],
   "source": [
    "confusion_matrix(testY,prd)"
   ]
  },
  {
   "cell_type": "code",
   "execution_count": 127,
   "metadata": {},
   "outputs": [],
   "source": [
    "det = pd.DataFrame({'prd':buy_sell_signal(prd)})\n",
    "det['Close'] = testX.Close_GOOGL.tolist()\n",
    "det['Datetime'] = testX.Datetime.tolist()"
   ]
  },
  {
   "cell_type": "code",
   "execution_count": 128,
   "metadata": {},
   "outputs": [],
   "source": [
    "det['Buy'] = det[['Close','prd']].apply(lambda x: x.Close if x.prd == 'up' else 0,axis =1)\n",
    "det['Sell'] = det[['Close','prd']].apply(lambda x: x.Close if x.prd == 'down' else 0,axis =1)\n",
    "buySignal = det[det.Buy > 0][['Datetime','Buy']]\n",
    "sellSignal = det[det.Sell > 0][['Datetime','Sell']]"
   ]
  },
  {
   "cell_type": "code",
   "execution_count": 129,
   "metadata": {},
   "outputs": [
    {
     "data": {
      "application/vnd.plotly.v1+json": {
       "config": {
        "plotlyServerURL": "https://plot.ly"
       },
       "data": [
        {
         "name": "Close",
         "showlegend": true,
         "type": "scatter",
         "x": [
          "2020-12-29 17:38:00",
          "2020-12-29 17:40:00",
          "2020-12-29 17:41:00",
          "2020-12-29 17:42:00",
          "2020-12-29 17:43:00",
          "2020-12-29 17:44:00",
          "2020-12-29 17:45:00",
          "2020-12-29 17:47:00",
          "2020-12-29 17:48:00",
          "2020-12-29 17:50:00",
          "2020-12-29 17:51:00",
          "2020-12-29 17:53:00",
          "2020-12-29 17:56:00",
          "2020-12-29 17:57:00",
          "2020-12-29 17:58:00",
          "2020-12-29 18:00:00",
          "2020-12-29 18:01:00",
          "2020-12-29 18:02:00",
          "2020-12-29 18:03:00",
          "2020-12-29 18:05:00",
          "2020-12-29 18:08:00",
          "2020-12-29 18:09:00",
          "2020-12-29 18:10:00",
          "2020-12-29 18:11:00",
          "2020-12-29 18:12:00",
          "2020-12-29 18:13:00",
          "2020-12-29 18:17:00",
          "2020-12-29 18:18:00",
          "2020-12-29 18:20:00",
          "2020-12-29 18:23:00",
          "2020-12-29 18:31:00",
          "2020-12-29 18:35:00",
          "2020-12-29 18:37:00",
          "2020-12-29 18:39:00",
          "2020-12-29 18:40:00",
          "2020-12-29 18:42:00",
          "2020-12-29 18:43:00",
          "2020-12-29 18:50:00",
          "2020-12-29 18:51:00",
          "2020-12-29 18:53:00",
          "2020-12-29 18:54:00",
          "2020-12-29 18:56:00",
          "2020-12-29 18:57:00",
          "2020-12-29 18:59:00",
          "2020-12-29 19:00:00",
          "2020-12-29 19:01:00",
          "2020-12-29 19:03:00",
          "2020-12-29 19:05:00",
          "2020-12-29 19:07:00",
          "2020-12-29 19:08:00",
          "2020-12-29 19:09:00",
          "2020-12-29 19:10:00",
          "2020-12-29 19:11:00",
          "2020-12-29 19:12:00",
          "2020-12-29 19:13:00",
          "2020-12-29 19:14:00",
          "2020-12-29 19:15:00",
          "2020-12-29 19:16:00",
          "2020-12-29 19:21:00",
          "2020-12-29 19:23:00",
          "2020-12-29 19:25:00",
          "2020-12-29 19:26:00",
          "2020-12-29 19:27:00",
          "2020-12-29 19:29:00",
          "2020-12-29 19:31:00",
          "2020-12-29 19:33:00",
          "2020-12-29 19:34:00",
          "2020-12-29 19:35:00",
          "2020-12-29 19:36:00",
          "2020-12-29 19:37:00",
          "2020-12-29 19:38:00",
          "2020-12-29 19:39:00",
          "2020-12-29 19:40:00",
          "2020-12-29 19:41:00",
          "2020-12-29 19:42:00",
          "2020-12-29 19:43:00",
          "2020-12-29 19:44:00",
          "2020-12-29 19:45:00",
          "2020-12-29 19:46:00",
          "2020-12-29 19:47:00",
          "2020-12-29 19:49:00",
          "2020-12-29 19:50:00",
          "2020-12-29 19:51:00",
          "2020-12-29 19:52:00",
          "2020-12-29 19:55:00",
          "2020-12-29 19:57:00",
          "2020-12-29 19:58:00",
          "2020-12-29 19:59:00",
          "2020-12-29 20:00:00",
          "2020-12-29 20:02:00",
          "2020-12-29 20:04:00",
          "2020-12-29 20:05:00",
          "2020-12-29 20:06:00",
          "2020-12-29 20:08:00",
          "2020-12-29 20:09:00",
          "2020-12-29 20:10:00",
          "2020-12-29 20:11:00",
          "2020-12-29 20:12:00",
          "2020-12-29 20:15:00",
          "2020-12-29 20:16:00",
          "2020-12-29 20:17:00",
          "2020-12-29 20:18:00",
          "2020-12-29 20:19:00",
          "2020-12-29 20:20:00",
          "2020-12-29 20:22:00",
          "2020-12-29 20:23:00",
          "2020-12-29 20:24:00",
          "2020-12-29 20:25:00",
          "2020-12-29 20:26:00",
          "2020-12-29 20:27:00",
          "2020-12-29 20:28:00",
          "2020-12-29 20:29:00",
          "2020-12-29 20:30:00",
          "2020-12-29 20:31:00",
          "2020-12-29 20:32:00",
          "2020-12-29 20:33:00",
          "2020-12-29 20:34:00",
          "2020-12-29 20:35:00",
          "2020-12-29 20:36:00",
          "2020-12-29 20:37:00",
          "2020-12-29 20:38:00",
          "2020-12-29 20:39:00",
          "2020-12-29 20:40:00",
          "2020-12-29 20:41:00",
          "2020-12-29 20:42:00",
          "2020-12-29 20:43:00",
          "2020-12-29 20:44:00",
          "2020-12-29 20:45:00",
          "2020-12-29 20:46:00",
          "2020-12-29 20:47:00",
          "2020-12-29 20:48:00",
          "2020-12-29 20:49:00",
          "2020-12-29 20:50:00",
          "2020-12-29 20:51:00",
          "2020-12-29 20:52:00",
          "2020-12-29 20:53:00",
          "2020-12-29 20:54:00",
          "2020-12-29 20:55:00",
          "2020-12-29 20:56:00",
          "2020-12-29 20:57:00",
          "2020-12-29 20:58:00",
          "2020-12-29 20:59:00",
          "2020-12-30 14:30:00",
          "2020-12-30 14:31:00",
          "2020-12-30 14:32:00",
          "2020-12-30 14:33:00",
          "2020-12-30 14:34:00",
          "2020-12-30 14:35:00",
          "2020-12-30 14:36:00",
          "2020-12-30 14:40:00",
          "2020-12-30 14:41:00",
          "2020-12-30 14:42:00",
          "2020-12-30 14:43:00",
          "2020-12-30 14:44:00",
          "2020-12-30 14:45:00",
          "2020-12-30 14:46:00",
          "2020-12-30 14:47:00",
          "2020-12-30 14:49:00",
          "2020-12-30 14:50:00",
          "2020-12-30 14:51:00",
          "2020-12-30 14:53:00",
          "2020-12-30 14:54:00",
          "2020-12-30 14:55:00",
          "2020-12-30 14:56:00",
          "2020-12-30 14:57:00",
          "2020-12-30 15:00:00",
          "2020-12-30 15:01:00",
          "2020-12-30 15:04:00",
          "2020-12-30 15:06:00",
          "2020-12-30 15:07:00",
          "2020-12-30 15:08:00",
          "2020-12-30 15:09:00",
          "2020-12-30 15:10:00",
          "2020-12-30 15:12:00",
          "2020-12-30 15:13:00",
          "2020-12-30 15:14:00",
          "2020-12-30 15:15:00",
          "2020-12-30 15:16:00",
          "2020-12-30 15:17:00",
          "2020-12-30 15:18:00",
          "2020-12-30 15:19:00",
          "2020-12-30 15:20:00",
          "2020-12-30 15:21:00",
          "2020-12-30 15:22:00",
          "2020-12-30 15:23:00",
          "2020-12-30 15:24:00",
          "2020-12-30 15:25:00",
          "2020-12-30 15:26:00",
          "2020-12-30 15:28:00",
          "2020-12-30 15:30:00",
          "2020-12-30 15:31:00",
          "2020-12-30 15:32:00",
          "2020-12-30 15:33:00",
          "2020-12-30 15:34:00",
          "2020-12-30 15:35:00",
          "2020-12-30 15:36:00",
          "2020-12-30 15:38:00",
          "2020-12-30 15:39:00",
          "2020-12-30 15:40:00",
          "2020-12-30 15:41:00",
          "2020-12-30 15:42:00",
          "2020-12-30 15:43:00",
          "2020-12-30 15:44:00",
          "2020-12-30 15:46:00",
          "2020-12-30 15:47:00",
          "2020-12-30 15:48:00",
          "2020-12-30 15:50:00",
          "2020-12-30 15:51:00",
          "2020-12-30 15:52:00",
          "2020-12-30 15:53:00",
          "2020-12-30 15:54:00",
          "2020-12-30 15:55:00",
          "2020-12-30 15:56:00",
          "2020-12-30 15:59:00",
          "2020-12-30 16:02:00",
          "2020-12-30 16:04:00",
          "2020-12-30 16:05:00",
          "2020-12-30 16:06:00",
          "2020-12-30 16:07:00",
          "2020-12-30 16:08:00",
          "2020-12-30 16:09:00",
          "2020-12-30 16:10:00",
          "2020-12-30 16:11:00",
          "2020-12-30 16:13:00",
          "2020-12-30 16:14:00",
          "2020-12-30 16:15:00",
          "2020-12-30 16:16:00",
          "2020-12-30 16:18:00",
          "2020-12-30 16:19:00",
          "2020-12-30 16:21:00",
          "2020-12-30 16:22:00",
          "2020-12-30 16:24:00",
          "2020-12-30 16:25:00",
          "2020-12-30 16:26:00",
          "2020-12-30 16:28:00",
          "2020-12-30 16:29:00",
          "2020-12-30 16:31:00",
          "2020-12-30 16:33:00",
          "2020-12-30 16:34:00",
          "2020-12-30 16:37:00",
          "2020-12-30 16:38:00",
          "2020-12-30 16:39:00",
          "2020-12-30 16:40:00",
          "2020-12-30 16:43:00",
          "2020-12-30 16:44:00",
          "2020-12-30 16:46:00",
          "2020-12-30 16:47:00",
          "2020-12-30 16:48:00",
          "2020-12-30 16:49:00",
          "2020-12-30 16:50:00",
          "2020-12-30 16:53:00",
          "2020-12-30 16:54:00",
          "2020-12-30 16:55:00",
          "2020-12-30 16:56:00",
          "2020-12-30 16:57:00",
          "2020-12-30 16:58:00",
          "2020-12-30 16:59:00",
          "2020-12-30 17:00:00",
          "2020-12-30 17:01:00",
          "2020-12-30 17:02:00",
          "2020-12-30 17:03:00",
          "2020-12-30 17:04:00",
          "2020-12-30 17:05:00",
          "2020-12-30 17:07:00",
          "2020-12-30 17:08:00",
          "2020-12-30 17:09:00",
          "2020-12-30 17:10:00",
          "2020-12-30 17:11:00",
          "2020-12-30 17:13:00",
          "2020-12-30 17:14:00",
          "2020-12-30 17:15:00",
          "2020-12-30 17:17:00",
          "2020-12-30 17:18:00",
          "2020-12-30 17:19:00",
          "2020-12-30 17:22:00",
          "2020-12-30 17:23:00",
          "2020-12-30 17:24:00",
          "2020-12-30 17:25:00",
          "2020-12-30 17:26:00",
          "2020-12-30 17:27:00",
          "2020-12-30 17:28:00",
          "2020-12-30 17:29:00",
          "2020-12-30 17:30:00",
          "2020-12-30 17:34:00",
          "2020-12-30 17:35:00",
          "2020-12-30 17:36:00",
          "2020-12-30 17:37:00",
          "2020-12-30 17:39:00",
          "2020-12-30 17:40:00",
          "2020-12-30 17:41:00",
          "2020-12-30 17:42:00",
          "2020-12-30 17:43:00",
          "2020-12-30 17:44:00",
          "2020-12-30 17:45:00",
          "2020-12-30 17:46:00",
          "2020-12-30 17:47:00",
          "2020-12-30 17:48:00",
          "2020-12-30 17:50:00",
          "2020-12-30 17:51:00",
          "2020-12-30 17:52:00",
          "2020-12-30 17:53:00",
          "2020-12-30 17:54:00",
          "2020-12-30 17:55:00",
          "2020-12-30 17:56:00",
          "2020-12-30 17:58:00",
          "2020-12-30 17:59:00",
          "2020-12-30 18:00:00",
          "2020-12-30 18:01:00",
          "2020-12-30 18:04:00",
          "2020-12-30 18:08:00",
          "2020-12-30 18:09:00",
          "2020-12-30 18:10:00",
          "2020-12-30 18:11:00",
          "2020-12-30 18:12:00",
          "2020-12-30 18:17:00",
          "2020-12-30 18:18:00",
          "2020-12-30 18:20:00",
          "2020-12-30 18:21:00",
          "2020-12-30 18:22:00",
          "2020-12-30 18:23:00",
          "2020-12-30 18:24:00",
          "2020-12-30 18:25:00",
          "2020-12-30 18:29:00",
          "2020-12-30 18:30:00",
          "2020-12-30 18:33:00",
          "2020-12-30 18:34:00",
          "2020-12-30 18:35:00",
          "2020-12-30 18:37:00",
          "2020-12-30 18:38:00",
          "2020-12-30 18:39:00",
          "2020-12-30 18:41:00",
          "2020-12-30 18:43:00",
          "2020-12-30 18:44:00",
          "2020-12-30 18:45:00",
          "2020-12-30 18:46:00",
          "2020-12-30 18:47:00",
          "2020-12-30 18:49:00",
          "2020-12-30 18:50:00",
          "2020-12-30 18:52:00",
          "2020-12-30 18:53:00",
          "2020-12-30 18:55:00",
          "2020-12-30 18:57:00",
          "2020-12-30 18:58:00",
          "2020-12-30 18:59:00",
          "2020-12-30 19:00:00",
          "2020-12-30 19:01:00",
          "2020-12-30 19:02:00",
          "2020-12-30 19:03:00",
          "2020-12-30 19:04:00",
          "2020-12-30 19:05:00",
          "2020-12-30 19:06:00",
          "2020-12-30 19:07:00",
          "2020-12-30 19:09:00",
          "2020-12-30 19:11:00",
          "2020-12-30 19:12:00",
          "2020-12-30 19:13:00",
          "2020-12-30 19:14:00",
          "2020-12-30 19:15:00",
          "2020-12-30 19:16:00",
          "2020-12-30 19:17:00",
          "2020-12-30 19:18:00",
          "2020-12-30 19:20:00",
          "2020-12-30 19:21:00",
          "2020-12-30 19:22:00",
          "2020-12-30 19:23:00",
          "2020-12-30 19:25:00",
          "2020-12-30 19:26:00",
          "2020-12-30 19:29:00",
          "2020-12-30 19:30:00",
          "2020-12-30 19:31:00",
          "2020-12-30 19:32:00",
          "2020-12-30 19:33:00",
          "2020-12-30 19:34:00",
          "2020-12-30 19:35:00",
          "2020-12-30 19:36:00",
          "2020-12-30 19:38:00",
          "2020-12-30 19:39:00",
          "2020-12-30 19:40:00",
          "2020-12-30 19:41:00",
          "2020-12-30 19:42:00",
          "2020-12-30 19:43:00",
          "2020-12-30 19:44:00",
          "2020-12-30 19:45:00",
          "2020-12-30 19:46:00",
          "2020-12-30 19:48:00",
          "2020-12-30 19:49:00",
          "2020-12-30 19:50:00",
          "2020-12-30 19:51:00",
          "2020-12-30 19:52:00",
          "2020-12-30 19:53:00",
          "2020-12-30 19:54:00",
          "2020-12-30 19:55:00",
          "2020-12-30 19:56:00",
          "2020-12-30 19:57:00",
          "2020-12-30 19:58:00",
          "2020-12-30 19:59:00",
          "2020-12-30 20:00:00",
          "2020-12-30 20:01:00",
          "2020-12-30 20:02:00",
          "2020-12-30 20:03:00",
          "2020-12-30 20:04:00",
          "2020-12-30 20:05:00",
          "2020-12-30 20:06:00",
          "2020-12-30 20:07:00",
          "2020-12-30 20:08:00",
          "2020-12-30 20:09:00",
          "2020-12-30 20:10:00",
          "2020-12-30 20:11:00",
          "2020-12-30 20:12:00",
          "2020-12-30 20:13:00",
          "2020-12-30 20:14:00",
          "2020-12-30 20:15:00",
          "2020-12-30 20:16:00",
          "2020-12-30 20:18:00",
          "2020-12-30 20:20:00",
          "2020-12-30 20:21:00",
          "2020-12-30 20:22:00",
          "2020-12-30 20:24:00",
          "2020-12-30 20:25:00",
          "2020-12-30 20:26:00",
          "2020-12-30 20:27:00",
          "2020-12-30 20:29:00",
          "2020-12-30 20:30:00",
          "2020-12-30 20:32:00",
          "2020-12-30 20:33:00",
          "2020-12-30 20:35:00",
          "2020-12-30 20:36:00",
          "2020-12-30 20:38:00",
          "2020-12-30 20:39:00",
          "2020-12-30 20:40:00",
          "2020-12-30 20:41:00",
          "2020-12-30 20:42:00",
          "2020-12-30 20:43:00",
          "2020-12-30 20:44:00",
          "2020-12-30 20:45:00",
          "2020-12-30 20:46:00",
          "2020-12-30 20:47:00",
          "2020-12-30 20:48:00",
          "2020-12-30 20:49:00",
          "2020-12-30 20:50:00",
          "2020-12-30 20:51:00",
          "2020-12-30 20:52:00",
          "2020-12-30 20:53:00",
          "2020-12-30 20:54:00",
          "2020-12-30 20:55:00",
          "2020-12-30 20:56:00",
          "2020-12-30 20:57:00",
          "2020-12-30 20:58:00",
          "2020-12-30 20:59:00",
          "2020-12-31 14:30:00",
          "2020-12-31 14:32:00",
          "2020-12-31 14:33:00",
          "2020-12-31 14:35:00",
          "2020-12-31 14:37:00",
          "2020-12-31 14:38:00",
          "2020-12-31 14:39:00",
          "2020-12-31 14:40:00",
          "2020-12-31 14:41:00",
          "2020-12-31 14:45:00",
          "2020-12-31 14:50:00",
          "2020-12-31 14:51:00",
          "2020-12-31 14:53:00",
          "2020-12-31 14:55:00",
          "2020-12-31 14:56:00",
          "2020-12-31 14:57:00",
          "2020-12-31 15:00:00",
          "2020-12-31 15:02:00",
          "2020-12-31 15:03:00",
          "2020-12-31 15:04:00",
          "2020-12-31 15:05:00",
          "2020-12-31 15:07:00",
          "2020-12-31 15:08:00",
          "2020-12-31 15:09:00",
          "2020-12-31 15:10:00",
          "2020-12-31 15:12:00",
          "2020-12-31 15:13:00",
          "2020-12-31 15:14:00",
          "2020-12-31 15:15:00",
          "2020-12-31 15:16:00",
          "2020-12-31 15:21:00",
          "2020-12-31 15:23:00",
          "2020-12-31 15:25:00",
          "2020-12-31 15:27:00",
          "2020-12-31 15:28:00",
          "2020-12-31 15:30:00",
          "2020-12-31 15:31:00",
          "2020-12-31 15:37:00",
          "2020-12-31 15:38:00",
          "2020-12-31 15:40:00",
          "2020-12-31 15:42:00",
          "2020-12-31 15:44:00",
          "2020-12-31 15:45:00",
          "2020-12-31 15:46:00",
          "2020-12-31 15:47:00",
          "2020-12-31 15:51:00",
          "2020-12-31 15:52:00",
          "2020-12-31 15:54:00",
          "2020-12-31 15:55:00",
          "2020-12-31 15:56:00",
          "2020-12-31 15:57:00"
         ],
         "y": [
          1761.0699462890625,
          1761.5699462890625,
          1759.5699462890625,
          1759.8299560546875,
          1758.97998046875,
          1759.458251953125,
          1758.4100341796875,
          1757.260009765625,
          1756.77001953125,
          1757.72998046875,
          1756.8800048828125,
          1758.0699462890625,
          1759.4110107421875,
          1761.8699951171875,
          1762.3399658203125,
          1761.9100341796875,
          1762.123779296875,
          1762.2550048828125,
          1761.5,
          1760.977783203125,
          1759.5999755859375,
          1759.9849853515625,
          1759.5699462890625,
          1761.699951171875,
          1762.280029296875,
          1761.75,
          1760.9200439453125,
          1759.8900146484375,
          1759.8590087890625,
          1759.949951171875,
          1761.3599853515625,
          1761,
          1760.5400390625,
          1759.77001953125,
          1759.47998046875,
          1759.114990234375,
          1758.720458984375,
          1760.9200439453125,
          1761.010009765625,
          1761.405029296875,
          1761.0400390625,
          1762.449951171875,
          1761.510009765625,
          1762.4000244140625,
          1761.8900146484375,
          1760.428955078125,
          1761.0799560546875,
          1761.2249755859375,
          1760.77001953125,
          1760.3599853515625,
          1760.56494140625,
          1760.699951171875,
          1760.7750244140625,
          1761.0849609375,
          1761.2049560546875,
          1760.27001953125,
          1760.97998046875,
          1759.75,
          1760.280029296875,
          1759.0899658203125,
          1758.4100341796875,
          1758.34423828125,
          1758.02001953125,
          1757.6400146484375,
          1757.2449951171875,
          1756.8900146484375,
          1756.5699462890625,
          1756.6199951171875,
          1756.510009765625,
          1758.3699951171875,
          1759.074951171875,
          1759.010009765625,
          1757.5030517578125,
          1758.2049560546875,
          1757.8900146484375,
          1757.2900390625,
          1757.8299560546875,
          1758.1099853515625,
          1756.8399658203125,
          1756.52001953125,
          1756.844970703125,
          1758.699951171875,
          1759.8199462890625,
          1759.719970703125,
          1759.3599853515625,
          1759.3900146484375,
          1759.3800048828125,
          1758.68994140625,
          1758.300048828125,
          1756.75,
          1757.27001953125,
          1756.9599609375,
          1756.02001953125,
          1757.010009765625,
          1756.030029296875,
          1756.97998046875,
          1758.3499755859375,
          1758.1800537109375,
          1757.8800048828125,
          1757.989990234375,
          1758,
          1758.3199462890625,
          1758.7900390625,
          1759.1099853515625,
          1761.030029296875,
          1760.469970703125,
          1760.47998046875,
          1760.56005859375,
          1761.3499755859375,
          1759.7850341796875,
          1759.8599853515625,
          1759.9300537109375,
          1759.8599853515625,
          1759.68994140625,
          1759.6500244140625,
          1759.22998046875,
          1759.4000244140625,
          1758.6209716796875,
          1758.0799560546875,
          1758.574951171875,
          1759.1300048828125,
          1759,
          1759.56005859375,
          1758.4599609375,
          1758.3800048828125,
          1758.6800537109375,
          1759.1500244140625,
          1759.9599609375,
          1759.66748046875,
          1759.1600341796875,
          1758.6634521484375,
          1759.219970703125,
          1759.8299560546875,
          1759.614990234375,
          1758.8499755859375,
          1758.9300537109375,
          1757.324951171875,
          1756.72998046875,
          1755.8199462890625,
          1756.02001953125,
          1755.43994140625,
          1756.5400390625,
          1763.1099853515625,
          1765.6500244140625,
          1760.550048828125,
          1759.280029296875,
          1757,
          1755.3740234375,
          1755.2550048828125,
          1752.7449951171875,
          1755.06884765625,
          1753.06005859375,
          1752.29736328125,
          1752.010009765625,
          1751.3699951171875,
          1750.9649658203125,
          1751.3900146484375,
          1752.280029296875,
          1751.1527099609375,
          1750.760009765625,
          1750.5699462890625,
          1749.800048828125,
          1752.189453125,
          1751.7099609375,
          1749.9000244140625,
          1746.772705078125,
          1747.905029296875,
          1747.239990234375,
          1748.0999755859375,
          1747.4599609375,
          1747.231201171875,
          1745.655029296875,
          1745.6949462890625,
          1743.81005859375,
          1743.9100341796875,
          1744.8900146484375,
          1746.219970703125,
          1745.6400146484375,
          1745.280029296875,
          1746.3699951171875,
          1747.31005859375,
          1747.7535400390625,
          1744.905517578125,
          1745.2000732421875,
          1747.52001953125,
          1747.510009765625,
          1745.449951171875,
          1747.1199951171875,
          1746.7900390625,
          1747.4000244140625,
          1747.239990234375,
          1746.3299560546875,
          1745.199951171875,
          1746.4200439453125,
          1744.5400390625,
          1744.050048828125,
          1742.9300537109375,
          1743.93994140625,
          1743.800048828125,
          1743.56494140625,
          1743.8900146484375,
          1744.3599853515625,
          1744.4300537109375,
          1745.719970703125,
          1746.1400146484375,
          1746.8900146484375,
          1748.22998046875,
          1747.3299560546875,
          1747.5849609375,
          1747.18505859375,
          1747.60302734375,
          1748.3699951171875,
          1747.9200439453125,
          1749.4649658203125,
          1747.719970703125,
          1746.8804931640625,
          1748.2099609375,
          1748.010009765625,
          1748.5699462890625,
          1748.43994140625,
          1748.989990234375,
          1748.6099853515625,
          1748.75,
          1748.6099853515625,
          1749.0699462890625,
          1748.97998046875,
          1749.199951171875,
          1748.800048828125,
          1749.050048828125,
          1748.7950439453125,
          1748.99755859375,
          1748.2373046875,
          1748.239990234375,
          1748.4849853515625,
          1747.030029296875,
          1746.43994140625,
          1747.6300048828125,
          1747.966552734375,
          1748.6600341796875,
          1746.9432373046875,
          1746.77001953125,
          1746.8800048828125,
          1746.699951171875,
          1747.1400146484375,
          1746.800048828125,
          1745.1700439453125,
          1745.5,
          1745.0799560546875,
          1745.4599609375,
          1745,
          1745.3599853515625,
          1745.7049560546875,
          1745.780029296875,
          1745.7449951171875,
          1745.5550537109375,
          1745.97998046875,
          1745.75,
          1745.6300048828125,
          1745.199951171875,
          1744.6400146484375,
          1744,
          1743.5400390625,
          1743.02001953125,
          1743.364990234375,
          1743.0799560546875,
          1743.1700439453125,
          1742.625,
          1741.6600341796875,
          1741.760009765625,
          1740.405029296875,
          1740.300048828125,
          1741.3499755859375,
          1738.93994140625,
          1738.22998046875,
          1736.97998046875,
          1736.405029296875,
          1736.6300048828125,
          1733.280029296875,
          1736.6600341796875,
          1737.14501953125,
          1737.6500244140625,
          1737.510009765625,
          1737.280029296875,
          1734.949951171875,
          1734,
          1734.72998046875,
          1734.68994140625,
          1733.1019287109375,
          1732.8699951171875,
          1731.7850341796875,
          1731.4599609375,
          1731.6099853515625,
          1730.4346923828125,
          1730.0899658203125,
          1730.56005859375,
          1732.6600341796875,
          1732.25,
          1731.989990234375,
          1731.22998046875,
          1730.3900146484375,
          1729.2830810546875,
          1729.0699462890625,
          1728.52001953125,
          1729.4100341796875,
          1728.22998046875,
          1729.3599853515625,
          1731.0899658203125,
          1731.655029296875,
          1733.5899658203125,
          1735.050048828125,
          1734.6099853515625,
          1733.8900146484375,
          1731.5899658203125,
          1731.6500244140625,
          1732.0400390625,
          1732.6300048828125,
          1732.8499755859375,
          1732.949951171875,
          1734.3699951171875,
          1732.699951171875,
          1733.9100341796875,
          1734.5,
          1735.1199951171875,
          1735.9100341796875,
          1736.18994140625,
          1736.52001953125,
          1735.5,
          1735.2099609375,
          1735.10498046875,
          1734.5899658203125,
          1734.1298828125,
          1733.81494140625,
          1735.1099853515625,
          1734.8199462890625,
          1735.300048828125,
          1735.18994140625,
          1735.260009765625,
          1735.22998046875,
          1733.8360595703125,
          1734.31494140625,
          1733.905029296875,
          1734.5400390625,
          1734.5400390625,
          1734.60498046875,
          1735.18505859375,
          1734.462646484375,
          1734.219970703125,
          1733.5350341796875,
          1733.4478759765625,
          1733.385009765625,
          1733,
          1732.7850341796875,
          1731.9200439453125,
          1732.364990234375,
          1731.9000244140625,
          1731.8349609375,
          1731.5699462890625,
          1731.1600341796875,
          1731.4849853515625,
          1730.8599853515625,
          1731.06005859375,
          1731.0400390625,
          1730.9599609375,
          1732.050048828125,
          1732.31005859375,
          1732,
          1731.6409912109375,
          1732.4547119140625,
          1733.1800537109375,
          1732.260009765625,
          1731.9200439453125,
          1731.719970703125,
          1730.9200439453125,
          1732.0875244140625,
          1731.0999755859375,
          1732.3499755859375,
          1733.0592041015625,
          1733.4000244140625,
          1733.9000244140625,
          1734.1700439453125,
          1734.010009765625,
          1734.780029296875,
          1734.9549560546875,
          1733.510009765625,
          1734.43994140625,
          1734.5,
          1733.6800537109375,
          1733.8299560546875,
          1735.510009765625,
          1734.75,
          1733.8299560546875,
          1734.8800048828125,
          1734.219970703125,
          1734.989990234375,
          1735.39501953125,
          1736.0999755859375,
          1736.125,
          1735.7550048828125,
          1734.64501953125,
          1734.8699951171875,
          1735.6400146484375,
          1734.510009765625,
          1734.43994140625,
          1735.3399658203125,
          1737.02001953125,
          1736.550048828125,
          1736.699951171875,
          1735.93994140625,
          1736.1700439453125,
          1735.780029296875,
          1735.9000244140625,
          1736.0799560546875,
          1735.3699951171875,
          1734.68994140625,
          1735.280029296875,
          1735.6600341796875,
          1736,
          1736.1099853515625,
          1737.199951171875,
          1736.4599609375,
          1736.81005859375,
          1736.31005859375,
          1736.0699462890625,
          1736.4599609375,
          1736.25,
          1736.0400390625,
          1735.4599609375,
          1736.2550048828125,
          1736.0400390625,
          1736.5899658203125,
          1736.7650146484375,
          1737.02001953125,
          1738.489990234375,
          1738.3349609375,
          1738.1099853515625,
          1737.3199462890625,
          1737.4150390625,
          1737.300048828125,
          1736.800048828125,
          1738.237548828125,
          1738.3575439453125,
          1739.550048828125,
          1740.030029296875,
          1736.3599853515625,
          1737.9200439453125,
          1737.4200439453125,
          1737.219970703125,
          1738.02001953125,
          1736.239990234375,
          1739.9599609375,
          1742.577392578125,
          1746.8599853515625,
          1751.9449462890625,
          1750.31005859375,
          1753.340087890625,
          1754.199951171875,
          1757.5,
          1754,
          1754.85498046875,
          1752.8790283203125,
          1750.2650146484375,
          1750,
          1746.4375,
          1746.1500244140625,
          1744.5799560546875,
          1747.989990234375,
          1753.219970703125,
          1753.0849609375,
          1751.1099853515625,
          1752.280029296875,
          1749.3199462890625,
          1746.2900390625,
          1747.449951171875,
          1746.1500244140625,
          1746.219970703125,
          1746.969970703125,
          1745.8199462890625,
          1747.6099853515625,
          1747.7049560546875,
          1746.198974609375,
          1746.8900146484375,
          1746.97998046875,
          1746.6600341796875,
          1746,
          1745.907470703125,
          1746.6700439453125,
          1744.08251953125,
          1742.2750244140625,
          1743.72998046875,
          1742.1700439453125,
          1742.77001953125,
          1743.989990234375,
          1744.5400390625,
          1743.2449951171875,
          1745.5450439453125,
          1745.1650390625,
          1744.6650390625,
          1744.8299560546875,
          1746.9849853515625,
          1747.89501953125
         ]
        },
        {
         "marker": {
          "color": "green",
          "symbol": "circle"
         },
         "mode": "markers",
         "name": "Buy",
         "showlegend": true,
         "type": "scatter",
         "x": [
          "2020-12-29 17:38:00",
          "2020-12-29 17:43:00",
          "2020-12-29 17:50:00",
          "2020-12-29 17:57:00",
          "2020-12-29 18:08:00",
          "2020-12-29 18:12:00",
          "2020-12-29 18:42:00",
          "2020-12-29 18:56:00",
          "2020-12-29 19:03:00",
          "2020-12-29 19:07:00",
          "2020-12-29 19:21:00",
          "2020-12-29 19:27:00",
          "2020-12-29 19:38:00",
          "2020-12-29 19:42:00",
          "2020-12-29 19:44:00",
          "2020-12-29 19:47:00",
          "2020-12-29 19:52:00",
          "2020-12-29 20:04:00",
          "2020-12-29 20:12:00",
          "2020-12-29 20:16:00",
          "2020-12-29 20:18:00",
          "2020-12-29 20:33:00",
          "2020-12-29 20:37:00",
          "2020-12-29 20:41:00",
          "2020-12-29 20:52:00",
          "2020-12-30 14:34:00",
          "2020-12-30 14:55:00",
          "2020-12-30 15:19:00",
          "2020-12-30 15:39:00",
          "2020-12-30 15:43:00",
          "2020-12-30 15:52:00",
          "2020-12-30 15:59:00",
          "2020-12-30 16:04:00",
          "2020-12-30 16:06:00",
          "2020-12-30 16:10:00",
          "2020-12-30 16:18:00",
          "2020-12-30 16:21:00",
          "2020-12-30 16:28:00",
          "2020-12-30 16:54:00",
          "2020-12-30 16:58:00",
          "2020-12-30 17:00:00",
          "2020-12-30 17:03:00",
          "2020-12-30 17:10:00",
          "2020-12-30 17:14:00",
          "2020-12-30 17:24:00",
          "2020-12-30 17:36:00",
          "2020-12-30 17:46:00",
          "2020-12-30 17:54:00",
          "2020-12-30 18:11:00",
          "2020-12-30 18:20:00",
          "2020-12-30 18:23:00",
          "2020-12-30 18:29:00",
          "2020-12-30 18:34:00",
          "2020-12-30 18:38:00",
          "2020-12-30 18:41:00",
          "2020-12-30 18:47:00",
          "2020-12-30 18:57:00",
          "2020-12-30 19:06:00",
          "2020-12-30 19:09:00",
          "2020-12-30 19:35:00",
          "2020-12-30 19:40:00",
          "2020-12-30 19:43:00",
          "2020-12-30 19:50:00",
          "2020-12-30 19:53:00",
          "2020-12-30 19:55:00",
          "2020-12-30 20:09:00",
          "2020-12-30 20:14:00",
          "2020-12-30 20:32:00",
          "2020-12-30 20:39:00",
          "2020-12-30 20:42:00",
          "2020-12-30 20:52:00",
          "2020-12-30 20:59:00",
          "2020-12-31 14:32:00",
          "2020-12-31 14:41:00",
          "2020-12-31 14:53:00",
          "2020-12-31 15:03:00",
          "2020-12-31 15:10:00",
          "2020-12-31 15:30:00",
          "2020-12-31 15:46:00",
          "2020-12-31 15:55:00"
         ],
         "y": [
          1761.0699462890625,
          1758.97998046875,
          1757.72998046875,
          1761.8699951171875,
          1759.5999755859375,
          1762.280029296875,
          1759.114990234375,
          1762.449951171875,
          1761.0799560546875,
          1760.77001953125,
          1760.280029296875,
          1758.02001953125,
          1759.074951171875,
          1757.8900146484375,
          1757.8299560546875,
          1756.52001953125,
          1759.719970703125,
          1757.27001953125,
          1758.1800537109375,
          1757.989990234375,
          1758.3199462890625,
          1759.22998046875,
          1758.574951171875,
          1758.4599609375,
          1758.8499755859375,
          1757,
          1752.189453125,
          1747.31005859375,
          1743.93994140625,
          1744.3599853515625,
          1747.5849609375,
          1749.4649658203125,
          1746.8804931640625,
          1748.010009765625,
          1748.6099853515625,
          1748.800048828125,
          1748.7950439453125,
          1747.030029296875,
          1745.7049560546875,
          1745.97998046875,
          1745.6300048828125,
          1744,
          1742.625,
          1740.405029296875,
          1736.6300048828125,
          1734.72998046875,
          1730.56005859375,
          1729.0699462890625,
          1731.5899658203125,
          1732.8499755859375,
          1732.699951171875,
          1735.1199951171875,
          1736.52001953125,
          1735.10498046875,
          1734.1298828125,
          1735.18994140625,
          1734.5400390625,
          1733,
          1731.9200439453125,
          1732.0875244140625,
          1733.4000244140625,
          1734.010009765625,
          1733.6800537109375,
          1734.75,
          1734.8800048828125,
          1736.550048828125,
          1735.9000244140625,
          1736.4599609375,
          1736.0400390625,
          1737.02001953125,
          1739.550048828125,
          1736.239990234375,
          1742.577392578125,
          1754,
          1750,
          1753.0849609375,
          1746.1500244140625,
          1745.907470703125,
          1744.5400390625,
          1744.8299560546875
         ]
        },
        {
         "marker": {
          "color": "red",
          "symbol": "circle"
         },
         "mode": "markers",
         "name": "Sell",
         "showlegend": true,
         "type": "scatter",
         "x": [
          "2020-12-29 17:42:00",
          "2020-12-29 17:44:00",
          "2020-12-29 17:53:00",
          "2020-12-29 18:03:00",
          "2020-12-29 18:10:00",
          "2020-12-29 18:39:00",
          "2020-12-29 18:43:00",
          "2020-12-29 18:57:00",
          "2020-12-29 19:05:00",
          "2020-12-29 19:08:00",
          "2020-12-29 19:26:00",
          "2020-12-29 19:37:00",
          "2020-12-29 19:41:00",
          "2020-12-29 19:43:00",
          "2020-12-29 19:45:00",
          "2020-12-29 19:49:00",
          "2020-12-29 20:02:00",
          "2020-12-29 20:06:00",
          "2020-12-29 20:15:00",
          "2020-12-29 20:17:00",
          "2020-12-29 20:29:00",
          "2020-12-29 20:34:00",
          "2020-12-29 20:38:00",
          "2020-12-29 20:42:00",
          "2020-12-29 20:53:00",
          "2020-12-30 14:41:00",
          "2020-12-30 15:07:00",
          "2020-12-30 15:36:00",
          "2020-12-30 15:42:00",
          "2020-12-30 15:48:00",
          "2020-12-30 15:56:00",
          "2020-12-30 16:02:00",
          "2020-12-30 16:05:00",
          "2020-12-30 16:09:00",
          "2020-12-30 16:16:00",
          "2020-12-30 16:19:00",
          "2020-12-30 16:22:00",
          "2020-12-30 16:53:00",
          "2020-12-30 16:55:00",
          "2020-12-30 16:59:00",
          "2020-12-30 17:01:00",
          "2020-12-30 17:04:00",
          "2020-12-30 17:13:00",
          "2020-12-30 17:17:00",
          "2020-12-30 17:27:00",
          "2020-12-30 17:44:00",
          "2020-12-30 17:53:00",
          "2020-12-30 18:00:00",
          "2020-12-30 18:12:00",
          "2020-12-30 18:21:00",
          "2020-12-30 18:24:00",
          "2020-12-30 18:33:00",
          "2020-12-30 18:35:00",
          "2020-12-30 18:39:00",
          "2020-12-30 18:44:00",
          "2020-12-30 18:53:00",
          "2020-12-30 19:02:00",
          "2020-12-30 19:07:00",
          "2020-12-30 19:32:00",
          "2020-12-30 19:38:00",
          "2020-12-30 19:42:00",
          "2020-12-30 19:46:00",
          "2020-12-30 19:52:00",
          "2020-12-30 19:54:00",
          "2020-12-30 20:08:00",
          "2020-12-30 20:12:00",
          "2020-12-30 20:27:00",
          "2020-12-30 20:36:00",
          "2020-12-30 20:41:00",
          "2020-12-30 20:44:00",
          "2020-12-30 20:53:00",
          "2020-12-31 14:30:00",
          "2020-12-31 14:40:00",
          "2020-12-31 14:50:00",
          "2020-12-31 14:57:00",
          "2020-12-31 15:04:00",
          "2020-12-31 15:12:00",
          "2020-12-31 15:38:00",
          "2020-12-31 15:54:00"
         ],
         "y": [
          1759.8299560546875,
          1759.458251953125,
          1758.0699462890625,
          1761.5,
          1759.5699462890625,
          1759.77001953125,
          1758.720458984375,
          1761.510009765625,
          1761.2249755859375,
          1760.3599853515625,
          1758.34423828125,
          1758.3699951171875,
          1758.2049560546875,
          1757.2900390625,
          1758.1099853515625,
          1756.844970703125,
          1756.75,
          1756.02001953125,
          1757.8800048828125,
          1758,
          1759.9300537109375,
          1759.4000244140625,
          1759.1300048828125,
          1758.3800048828125,
          1758.9300537109375,
          1755.06884765625,
          1747.4599609375,
          1744.050048828125,
          1743.8900146484375,
          1746.8900146484375,
          1747.9200439453125,
          1747.719970703125,
          1748.2099609375,
          1748.989990234375,
          1749.199951171875,
          1749.050048828125,
          1748.99755859375,
          1745.3599853515625,
          1745.780029296875,
          1745.75,
          1745.199951171875,
          1743.5400390625,
          1741.760009765625,
          1741.3499755859375,
          1737.14501953125,
          1730.4346923828125,
          1729.2830810546875,
          1731.0899658203125,
          1731.6500244140625,
          1732.949951171875,
          1733.9100341796875,
          1736.18994140625,
          1735.5,
          1734.5899658203125,
          1735.1099853515625,
          1734.31494140625,
          1734.219970703125,
          1732.7850341796875,
          1731.9200439453125,
          1732.3499755859375,
          1734.1700439453125,
          1733.510009765625,
          1735.510009765625,
          1733.8299560546875,
          1737.02001953125,
          1736.1700439453125,
          1736.81005859375,
          1735.4599609375,
          1736.7650146484375,
          1738.3349609375,
          1740.030029296875,
          1739.9599609375,
          1757.5,
          1752.8790283203125,
          1744.5799560546875,
          1751.1099853515625,
          1746.219970703125,
          1742.2750244140625,
          1744.6650390625
         ]
        }
       ],
       "layout": {
        "legend": {
         "title": {
          "text": "Legend"
         }
        },
        "template": {
         "data": {
          "bar": [
           {
            "error_x": {
             "color": "#2a3f5f"
            },
            "error_y": {
             "color": "#2a3f5f"
            },
            "marker": {
             "line": {
              "color": "#E5ECF6",
              "width": 0.5
             }
            },
            "type": "bar"
           }
          ],
          "barpolar": [
           {
            "marker": {
             "line": {
              "color": "#E5ECF6",
              "width": 0.5
             }
            },
            "type": "barpolar"
           }
          ],
          "carpet": [
           {
            "aaxis": {
             "endlinecolor": "#2a3f5f",
             "gridcolor": "white",
             "linecolor": "white",
             "minorgridcolor": "white",
             "startlinecolor": "#2a3f5f"
            },
            "baxis": {
             "endlinecolor": "#2a3f5f",
             "gridcolor": "white",
             "linecolor": "white",
             "minorgridcolor": "white",
             "startlinecolor": "#2a3f5f"
            },
            "type": "carpet"
           }
          ],
          "choropleth": [
           {
            "colorbar": {
             "outlinewidth": 0,
             "ticks": ""
            },
            "type": "choropleth"
           }
          ],
          "contour": [
           {
            "colorbar": {
             "outlinewidth": 0,
             "ticks": ""
            },
            "colorscale": [
             [
              0,
              "#0d0887"
             ],
             [
              0.1111111111111111,
              "#46039f"
             ],
             [
              0.2222222222222222,
              "#7201a8"
             ],
             [
              0.3333333333333333,
              "#9c179e"
             ],
             [
              0.4444444444444444,
              "#bd3786"
             ],
             [
              0.5555555555555556,
              "#d8576b"
             ],
             [
              0.6666666666666666,
              "#ed7953"
             ],
             [
              0.7777777777777778,
              "#fb9f3a"
             ],
             [
              0.8888888888888888,
              "#fdca26"
             ],
             [
              1,
              "#f0f921"
             ]
            ],
            "type": "contour"
           }
          ],
          "contourcarpet": [
           {
            "colorbar": {
             "outlinewidth": 0,
             "ticks": ""
            },
            "type": "contourcarpet"
           }
          ],
          "heatmap": [
           {
            "colorbar": {
             "outlinewidth": 0,
             "ticks": ""
            },
            "colorscale": [
             [
              0,
              "#0d0887"
             ],
             [
              0.1111111111111111,
              "#46039f"
             ],
             [
              0.2222222222222222,
              "#7201a8"
             ],
             [
              0.3333333333333333,
              "#9c179e"
             ],
             [
              0.4444444444444444,
              "#bd3786"
             ],
             [
              0.5555555555555556,
              "#d8576b"
             ],
             [
              0.6666666666666666,
              "#ed7953"
             ],
             [
              0.7777777777777778,
              "#fb9f3a"
             ],
             [
              0.8888888888888888,
              "#fdca26"
             ],
             [
              1,
              "#f0f921"
             ]
            ],
            "type": "heatmap"
           }
          ],
          "heatmapgl": [
           {
            "colorbar": {
             "outlinewidth": 0,
             "ticks": ""
            },
            "colorscale": [
             [
              0,
              "#0d0887"
             ],
             [
              0.1111111111111111,
              "#46039f"
             ],
             [
              0.2222222222222222,
              "#7201a8"
             ],
             [
              0.3333333333333333,
              "#9c179e"
             ],
             [
              0.4444444444444444,
              "#bd3786"
             ],
             [
              0.5555555555555556,
              "#d8576b"
             ],
             [
              0.6666666666666666,
              "#ed7953"
             ],
             [
              0.7777777777777778,
              "#fb9f3a"
             ],
             [
              0.8888888888888888,
              "#fdca26"
             ],
             [
              1,
              "#f0f921"
             ]
            ],
            "type": "heatmapgl"
           }
          ],
          "histogram": [
           {
            "marker": {
             "colorbar": {
              "outlinewidth": 0,
              "ticks": ""
             }
            },
            "type": "histogram"
           }
          ],
          "histogram2d": [
           {
            "colorbar": {
             "outlinewidth": 0,
             "ticks": ""
            },
            "colorscale": [
             [
              0,
              "#0d0887"
             ],
             [
              0.1111111111111111,
              "#46039f"
             ],
             [
              0.2222222222222222,
              "#7201a8"
             ],
             [
              0.3333333333333333,
              "#9c179e"
             ],
             [
              0.4444444444444444,
              "#bd3786"
             ],
             [
              0.5555555555555556,
              "#d8576b"
             ],
             [
              0.6666666666666666,
              "#ed7953"
             ],
             [
              0.7777777777777778,
              "#fb9f3a"
             ],
             [
              0.8888888888888888,
              "#fdca26"
             ],
             [
              1,
              "#f0f921"
             ]
            ],
            "type": "histogram2d"
           }
          ],
          "histogram2dcontour": [
           {
            "colorbar": {
             "outlinewidth": 0,
             "ticks": ""
            },
            "colorscale": [
             [
              0,
              "#0d0887"
             ],
             [
              0.1111111111111111,
              "#46039f"
             ],
             [
              0.2222222222222222,
              "#7201a8"
             ],
             [
              0.3333333333333333,
              "#9c179e"
             ],
             [
              0.4444444444444444,
              "#bd3786"
             ],
             [
              0.5555555555555556,
              "#d8576b"
             ],
             [
              0.6666666666666666,
              "#ed7953"
             ],
             [
              0.7777777777777778,
              "#fb9f3a"
             ],
             [
              0.8888888888888888,
              "#fdca26"
             ],
             [
              1,
              "#f0f921"
             ]
            ],
            "type": "histogram2dcontour"
           }
          ],
          "mesh3d": [
           {
            "colorbar": {
             "outlinewidth": 0,
             "ticks": ""
            },
            "type": "mesh3d"
           }
          ],
          "parcoords": [
           {
            "line": {
             "colorbar": {
              "outlinewidth": 0,
              "ticks": ""
             }
            },
            "type": "parcoords"
           }
          ],
          "pie": [
           {
            "automargin": true,
            "type": "pie"
           }
          ],
          "scatter": [
           {
            "marker": {
             "colorbar": {
              "outlinewidth": 0,
              "ticks": ""
             }
            },
            "type": "scatter"
           }
          ],
          "scatter3d": [
           {
            "line": {
             "colorbar": {
              "outlinewidth": 0,
              "ticks": ""
             }
            },
            "marker": {
             "colorbar": {
              "outlinewidth": 0,
              "ticks": ""
             }
            },
            "type": "scatter3d"
           }
          ],
          "scattercarpet": [
           {
            "marker": {
             "colorbar": {
              "outlinewidth": 0,
              "ticks": ""
             }
            },
            "type": "scattercarpet"
           }
          ],
          "scattergeo": [
           {
            "marker": {
             "colorbar": {
              "outlinewidth": 0,
              "ticks": ""
             }
            },
            "type": "scattergeo"
           }
          ],
          "scattergl": [
           {
            "marker": {
             "colorbar": {
              "outlinewidth": 0,
              "ticks": ""
             }
            },
            "type": "scattergl"
           }
          ],
          "scattermapbox": [
           {
            "marker": {
             "colorbar": {
              "outlinewidth": 0,
              "ticks": ""
             }
            },
            "type": "scattermapbox"
           }
          ],
          "scatterpolar": [
           {
            "marker": {
             "colorbar": {
              "outlinewidth": 0,
              "ticks": ""
             }
            },
            "type": "scatterpolar"
           }
          ],
          "scatterpolargl": [
           {
            "marker": {
             "colorbar": {
              "outlinewidth": 0,
              "ticks": ""
             }
            },
            "type": "scatterpolargl"
           }
          ],
          "scatterternary": [
           {
            "marker": {
             "colorbar": {
              "outlinewidth": 0,
              "ticks": ""
             }
            },
            "type": "scatterternary"
           }
          ],
          "surface": [
           {
            "colorbar": {
             "outlinewidth": 0,
             "ticks": ""
            },
            "colorscale": [
             [
              0,
              "#0d0887"
             ],
             [
              0.1111111111111111,
              "#46039f"
             ],
             [
              0.2222222222222222,
              "#7201a8"
             ],
             [
              0.3333333333333333,
              "#9c179e"
             ],
             [
              0.4444444444444444,
              "#bd3786"
             ],
             [
              0.5555555555555556,
              "#d8576b"
             ],
             [
              0.6666666666666666,
              "#ed7953"
             ],
             [
              0.7777777777777778,
              "#fb9f3a"
             ],
             [
              0.8888888888888888,
              "#fdca26"
             ],
             [
              1,
              "#f0f921"
             ]
            ],
            "type": "surface"
           }
          ],
          "table": [
           {
            "cells": {
             "fill": {
              "color": "#EBF0F8"
             },
             "line": {
              "color": "white"
             }
            },
            "header": {
             "fill": {
              "color": "#C8D4E3"
             },
             "line": {
              "color": "white"
             }
            },
            "type": "table"
           }
          ]
         },
         "layout": {
          "annotationdefaults": {
           "arrowcolor": "#2a3f5f",
           "arrowhead": 0,
           "arrowwidth": 1
          },
          "autotypenumbers": "strict",
          "coloraxis": {
           "colorbar": {
            "outlinewidth": 0,
            "ticks": ""
           }
          },
          "colorscale": {
           "diverging": [
            [
             0,
             "#8e0152"
            ],
            [
             0.1,
             "#c51b7d"
            ],
            [
             0.2,
             "#de77ae"
            ],
            [
             0.3,
             "#f1b6da"
            ],
            [
             0.4,
             "#fde0ef"
            ],
            [
             0.5,
             "#f7f7f7"
            ],
            [
             0.6,
             "#e6f5d0"
            ],
            [
             0.7,
             "#b8e186"
            ],
            [
             0.8,
             "#7fbc41"
            ],
            [
             0.9,
             "#4d9221"
            ],
            [
             1,
             "#276419"
            ]
           ],
           "sequential": [
            [
             0,
             "#0d0887"
            ],
            [
             0.1111111111111111,
             "#46039f"
            ],
            [
             0.2222222222222222,
             "#7201a8"
            ],
            [
             0.3333333333333333,
             "#9c179e"
            ],
            [
             0.4444444444444444,
             "#bd3786"
            ],
            [
             0.5555555555555556,
             "#d8576b"
            ],
            [
             0.6666666666666666,
             "#ed7953"
            ],
            [
             0.7777777777777778,
             "#fb9f3a"
            ],
            [
             0.8888888888888888,
             "#fdca26"
            ],
            [
             1,
             "#f0f921"
            ]
           ],
           "sequentialminus": [
            [
             0,
             "#0d0887"
            ],
            [
             0.1111111111111111,
             "#46039f"
            ],
            [
             0.2222222222222222,
             "#7201a8"
            ],
            [
             0.3333333333333333,
             "#9c179e"
            ],
            [
             0.4444444444444444,
             "#bd3786"
            ],
            [
             0.5555555555555556,
             "#d8576b"
            ],
            [
             0.6666666666666666,
             "#ed7953"
            ],
            [
             0.7777777777777778,
             "#fb9f3a"
            ],
            [
             0.8888888888888888,
             "#fdca26"
            ],
            [
             1,
             "#f0f921"
            ]
           ]
          },
          "colorway": [
           "#636efa",
           "#EF553B",
           "#00cc96",
           "#ab63fa",
           "#FFA15A",
           "#19d3f3",
           "#FF6692",
           "#B6E880",
           "#FF97FF",
           "#FECB52"
          ],
          "font": {
           "color": "#2a3f5f"
          },
          "geo": {
           "bgcolor": "white",
           "lakecolor": "white",
           "landcolor": "#E5ECF6",
           "showlakes": true,
           "showland": true,
           "subunitcolor": "white"
          },
          "hoverlabel": {
           "align": "left"
          },
          "hovermode": "closest",
          "mapbox": {
           "style": "light"
          },
          "paper_bgcolor": "white",
          "plot_bgcolor": "#E5ECF6",
          "polar": {
           "angularaxis": {
            "gridcolor": "white",
            "linecolor": "white",
            "ticks": ""
           },
           "bgcolor": "#E5ECF6",
           "radialaxis": {
            "gridcolor": "white",
            "linecolor": "white",
            "ticks": ""
           }
          },
          "scene": {
           "xaxis": {
            "backgroundcolor": "#E5ECF6",
            "gridcolor": "white",
            "gridwidth": 2,
            "linecolor": "white",
            "showbackground": true,
            "ticks": "",
            "zerolinecolor": "white"
           },
           "yaxis": {
            "backgroundcolor": "#E5ECF6",
            "gridcolor": "white",
            "gridwidth": 2,
            "linecolor": "white",
            "showbackground": true,
            "ticks": "",
            "zerolinecolor": "white"
           },
           "zaxis": {
            "backgroundcolor": "#E5ECF6",
            "gridcolor": "white",
            "gridwidth": 2,
            "linecolor": "white",
            "showbackground": true,
            "ticks": "",
            "zerolinecolor": "white"
           }
          },
          "shapedefaults": {
           "line": {
            "color": "#2a3f5f"
           }
          },
          "ternary": {
           "aaxis": {
            "gridcolor": "white",
            "linecolor": "white",
            "ticks": ""
           },
           "baxis": {
            "gridcolor": "white",
            "linecolor": "white",
            "ticks": ""
           },
           "bgcolor": "#E5ECF6",
           "caxis": {
            "gridcolor": "white",
            "linecolor": "white",
            "ticks": ""
           }
          },
          "title": {
           "x": 0.05
          },
          "xaxis": {
           "automargin": true,
           "gridcolor": "white",
           "linecolor": "white",
           "ticks": "",
           "title": {
            "standoff": 15
           },
           "zerolinecolor": "white",
           "zerolinewidth": 2
          },
          "yaxis": {
           "automargin": true,
           "gridcolor": "white",
           "linecolor": "white",
           "ticks": "",
           "title": {
            "standoff": 15
           },
           "zerolinecolor": "white",
           "zerolinewidth": 2
          }
         }
        },
        "title": {
         "text": "info"
        },
        "xaxis": {
         "title": {
          "text": "Datetime"
         }
        },
        "yaxis": {
         "title": {
          "text": "value"
         }
        }
       }
      },
      "text/html": [
       "<div>                            <div id=\"83574cfd-44ae-4296-be88-0076704a1e07\" class=\"plotly-graph-div\" style=\"height:525px; width:100%;\"></div>            <script type=\"text/javascript\">                require([\"plotly\"], function(Plotly) {                    window.PLOTLYENV=window.PLOTLYENV || {};                                    if (document.getElementById(\"83574cfd-44ae-4296-be88-0076704a1e07\")) {                    Plotly.newPlot(                        \"83574cfd-44ae-4296-be88-0076704a1e07\",                        [{\"name\": \"Close\", \"showlegend\": true, \"type\": \"scatter\", \"x\": [\"2020-12-29 17:38:00\", \"2020-12-29 17:40:00\", \"2020-12-29 17:41:00\", \"2020-12-29 17:42:00\", \"2020-12-29 17:43:00\", \"2020-12-29 17:44:00\", \"2020-12-29 17:45:00\", \"2020-12-29 17:47:00\", \"2020-12-29 17:48:00\", \"2020-12-29 17:50:00\", \"2020-12-29 17:51:00\", \"2020-12-29 17:53:00\", \"2020-12-29 17:56:00\", \"2020-12-29 17:57:00\", \"2020-12-29 17:58:00\", \"2020-12-29 18:00:00\", \"2020-12-29 18:01:00\", \"2020-12-29 18:02:00\", \"2020-12-29 18:03:00\", \"2020-12-29 18:05:00\", \"2020-12-29 18:08:00\", \"2020-12-29 18:09:00\", \"2020-12-29 18:10:00\", \"2020-12-29 18:11:00\", \"2020-12-29 18:12:00\", \"2020-12-29 18:13:00\", \"2020-12-29 18:17:00\", \"2020-12-29 18:18:00\", \"2020-12-29 18:20:00\", \"2020-12-29 18:23:00\", \"2020-12-29 18:31:00\", \"2020-12-29 18:35:00\", \"2020-12-29 18:37:00\", \"2020-12-29 18:39:00\", \"2020-12-29 18:40:00\", \"2020-12-29 18:42:00\", \"2020-12-29 18:43:00\", \"2020-12-29 18:50:00\", \"2020-12-29 18:51:00\", \"2020-12-29 18:53:00\", \"2020-12-29 18:54:00\", \"2020-12-29 18:56:00\", \"2020-12-29 18:57:00\", \"2020-12-29 18:59:00\", \"2020-12-29 19:00:00\", \"2020-12-29 19:01:00\", \"2020-12-29 19:03:00\", \"2020-12-29 19:05:00\", \"2020-12-29 19:07:00\", \"2020-12-29 19:08:00\", \"2020-12-29 19:09:00\", \"2020-12-29 19:10:00\", \"2020-12-29 19:11:00\", \"2020-12-29 19:12:00\", \"2020-12-29 19:13:00\", \"2020-12-29 19:14:00\", \"2020-12-29 19:15:00\", \"2020-12-29 19:16:00\", \"2020-12-29 19:21:00\", \"2020-12-29 19:23:00\", \"2020-12-29 19:25:00\", \"2020-12-29 19:26:00\", \"2020-12-29 19:27:00\", \"2020-12-29 19:29:00\", \"2020-12-29 19:31:00\", \"2020-12-29 19:33:00\", \"2020-12-29 19:34:00\", \"2020-12-29 19:35:00\", \"2020-12-29 19:36:00\", \"2020-12-29 19:37:00\", \"2020-12-29 19:38:00\", \"2020-12-29 19:39:00\", \"2020-12-29 19:40:00\", \"2020-12-29 19:41:00\", \"2020-12-29 19:42:00\", \"2020-12-29 19:43:00\", \"2020-12-29 19:44:00\", \"2020-12-29 19:45:00\", \"2020-12-29 19:46:00\", \"2020-12-29 19:47:00\", \"2020-12-29 19:49:00\", \"2020-12-29 19:50:00\", \"2020-12-29 19:51:00\", \"2020-12-29 19:52:00\", \"2020-12-29 19:55:00\", \"2020-12-29 19:57:00\", \"2020-12-29 19:58:00\", \"2020-12-29 19:59:00\", \"2020-12-29 20:00:00\", \"2020-12-29 20:02:00\", \"2020-12-29 20:04:00\", \"2020-12-29 20:05:00\", \"2020-12-29 20:06:00\", \"2020-12-29 20:08:00\", \"2020-12-29 20:09:00\", \"2020-12-29 20:10:00\", \"2020-12-29 20:11:00\", \"2020-12-29 20:12:00\", \"2020-12-29 20:15:00\", \"2020-12-29 20:16:00\", \"2020-12-29 20:17:00\", \"2020-12-29 20:18:00\", \"2020-12-29 20:19:00\", \"2020-12-29 20:20:00\", \"2020-12-29 20:22:00\", \"2020-12-29 20:23:00\", \"2020-12-29 20:24:00\", \"2020-12-29 20:25:00\", \"2020-12-29 20:26:00\", \"2020-12-29 20:27:00\", \"2020-12-29 20:28:00\", \"2020-12-29 20:29:00\", \"2020-12-29 20:30:00\", \"2020-12-29 20:31:00\", \"2020-12-29 20:32:00\", \"2020-12-29 20:33:00\", \"2020-12-29 20:34:00\", \"2020-12-29 20:35:00\", \"2020-12-29 20:36:00\", \"2020-12-29 20:37:00\", \"2020-12-29 20:38:00\", \"2020-12-29 20:39:00\", \"2020-12-29 20:40:00\", \"2020-12-29 20:41:00\", \"2020-12-29 20:42:00\", \"2020-12-29 20:43:00\", \"2020-12-29 20:44:00\", \"2020-12-29 20:45:00\", \"2020-12-29 20:46:00\", \"2020-12-29 20:47:00\", \"2020-12-29 20:48:00\", \"2020-12-29 20:49:00\", \"2020-12-29 20:50:00\", \"2020-12-29 20:51:00\", \"2020-12-29 20:52:00\", \"2020-12-29 20:53:00\", \"2020-12-29 20:54:00\", \"2020-12-29 20:55:00\", \"2020-12-29 20:56:00\", \"2020-12-29 20:57:00\", \"2020-12-29 20:58:00\", \"2020-12-29 20:59:00\", \"2020-12-30 14:30:00\", \"2020-12-30 14:31:00\", \"2020-12-30 14:32:00\", \"2020-12-30 14:33:00\", \"2020-12-30 14:34:00\", \"2020-12-30 14:35:00\", \"2020-12-30 14:36:00\", \"2020-12-30 14:40:00\", \"2020-12-30 14:41:00\", \"2020-12-30 14:42:00\", \"2020-12-30 14:43:00\", \"2020-12-30 14:44:00\", \"2020-12-30 14:45:00\", \"2020-12-30 14:46:00\", \"2020-12-30 14:47:00\", \"2020-12-30 14:49:00\", \"2020-12-30 14:50:00\", \"2020-12-30 14:51:00\", \"2020-12-30 14:53:00\", \"2020-12-30 14:54:00\", \"2020-12-30 14:55:00\", \"2020-12-30 14:56:00\", \"2020-12-30 14:57:00\", \"2020-12-30 15:00:00\", \"2020-12-30 15:01:00\", \"2020-12-30 15:04:00\", \"2020-12-30 15:06:00\", \"2020-12-30 15:07:00\", \"2020-12-30 15:08:00\", \"2020-12-30 15:09:00\", \"2020-12-30 15:10:00\", \"2020-12-30 15:12:00\", \"2020-12-30 15:13:00\", \"2020-12-30 15:14:00\", \"2020-12-30 15:15:00\", \"2020-12-30 15:16:00\", \"2020-12-30 15:17:00\", \"2020-12-30 15:18:00\", \"2020-12-30 15:19:00\", \"2020-12-30 15:20:00\", \"2020-12-30 15:21:00\", \"2020-12-30 15:22:00\", \"2020-12-30 15:23:00\", \"2020-12-30 15:24:00\", \"2020-12-30 15:25:00\", \"2020-12-30 15:26:00\", \"2020-12-30 15:28:00\", \"2020-12-30 15:30:00\", \"2020-12-30 15:31:00\", \"2020-12-30 15:32:00\", \"2020-12-30 15:33:00\", \"2020-12-30 15:34:00\", \"2020-12-30 15:35:00\", \"2020-12-30 15:36:00\", \"2020-12-30 15:38:00\", \"2020-12-30 15:39:00\", \"2020-12-30 15:40:00\", \"2020-12-30 15:41:00\", \"2020-12-30 15:42:00\", \"2020-12-30 15:43:00\", \"2020-12-30 15:44:00\", \"2020-12-30 15:46:00\", \"2020-12-30 15:47:00\", \"2020-12-30 15:48:00\", \"2020-12-30 15:50:00\", \"2020-12-30 15:51:00\", \"2020-12-30 15:52:00\", \"2020-12-30 15:53:00\", \"2020-12-30 15:54:00\", \"2020-12-30 15:55:00\", \"2020-12-30 15:56:00\", \"2020-12-30 15:59:00\", \"2020-12-30 16:02:00\", \"2020-12-30 16:04:00\", \"2020-12-30 16:05:00\", \"2020-12-30 16:06:00\", \"2020-12-30 16:07:00\", \"2020-12-30 16:08:00\", \"2020-12-30 16:09:00\", \"2020-12-30 16:10:00\", \"2020-12-30 16:11:00\", \"2020-12-30 16:13:00\", \"2020-12-30 16:14:00\", \"2020-12-30 16:15:00\", \"2020-12-30 16:16:00\", \"2020-12-30 16:18:00\", \"2020-12-30 16:19:00\", \"2020-12-30 16:21:00\", \"2020-12-30 16:22:00\", \"2020-12-30 16:24:00\", \"2020-12-30 16:25:00\", \"2020-12-30 16:26:00\", \"2020-12-30 16:28:00\", \"2020-12-30 16:29:00\", \"2020-12-30 16:31:00\", \"2020-12-30 16:33:00\", \"2020-12-30 16:34:00\", \"2020-12-30 16:37:00\", \"2020-12-30 16:38:00\", \"2020-12-30 16:39:00\", \"2020-12-30 16:40:00\", \"2020-12-30 16:43:00\", \"2020-12-30 16:44:00\", \"2020-12-30 16:46:00\", \"2020-12-30 16:47:00\", \"2020-12-30 16:48:00\", \"2020-12-30 16:49:00\", \"2020-12-30 16:50:00\", \"2020-12-30 16:53:00\", \"2020-12-30 16:54:00\", \"2020-12-30 16:55:00\", \"2020-12-30 16:56:00\", \"2020-12-30 16:57:00\", \"2020-12-30 16:58:00\", \"2020-12-30 16:59:00\", \"2020-12-30 17:00:00\", \"2020-12-30 17:01:00\", \"2020-12-30 17:02:00\", \"2020-12-30 17:03:00\", \"2020-12-30 17:04:00\", \"2020-12-30 17:05:00\", \"2020-12-30 17:07:00\", \"2020-12-30 17:08:00\", \"2020-12-30 17:09:00\", \"2020-12-30 17:10:00\", \"2020-12-30 17:11:00\", \"2020-12-30 17:13:00\", \"2020-12-30 17:14:00\", \"2020-12-30 17:15:00\", \"2020-12-30 17:17:00\", \"2020-12-30 17:18:00\", \"2020-12-30 17:19:00\", \"2020-12-30 17:22:00\", \"2020-12-30 17:23:00\", \"2020-12-30 17:24:00\", \"2020-12-30 17:25:00\", \"2020-12-30 17:26:00\", \"2020-12-30 17:27:00\", \"2020-12-30 17:28:00\", \"2020-12-30 17:29:00\", \"2020-12-30 17:30:00\", \"2020-12-30 17:34:00\", \"2020-12-30 17:35:00\", \"2020-12-30 17:36:00\", \"2020-12-30 17:37:00\", \"2020-12-30 17:39:00\", \"2020-12-30 17:40:00\", \"2020-12-30 17:41:00\", \"2020-12-30 17:42:00\", \"2020-12-30 17:43:00\", \"2020-12-30 17:44:00\", \"2020-12-30 17:45:00\", \"2020-12-30 17:46:00\", \"2020-12-30 17:47:00\", \"2020-12-30 17:48:00\", \"2020-12-30 17:50:00\", \"2020-12-30 17:51:00\", \"2020-12-30 17:52:00\", \"2020-12-30 17:53:00\", \"2020-12-30 17:54:00\", \"2020-12-30 17:55:00\", \"2020-12-30 17:56:00\", \"2020-12-30 17:58:00\", \"2020-12-30 17:59:00\", \"2020-12-30 18:00:00\", \"2020-12-30 18:01:00\", \"2020-12-30 18:04:00\", \"2020-12-30 18:08:00\", \"2020-12-30 18:09:00\", \"2020-12-30 18:10:00\", \"2020-12-30 18:11:00\", \"2020-12-30 18:12:00\", \"2020-12-30 18:17:00\", \"2020-12-30 18:18:00\", \"2020-12-30 18:20:00\", \"2020-12-30 18:21:00\", \"2020-12-30 18:22:00\", \"2020-12-30 18:23:00\", \"2020-12-30 18:24:00\", \"2020-12-30 18:25:00\", \"2020-12-30 18:29:00\", \"2020-12-30 18:30:00\", \"2020-12-30 18:33:00\", \"2020-12-30 18:34:00\", \"2020-12-30 18:35:00\", \"2020-12-30 18:37:00\", \"2020-12-30 18:38:00\", \"2020-12-30 18:39:00\", \"2020-12-30 18:41:00\", \"2020-12-30 18:43:00\", \"2020-12-30 18:44:00\", \"2020-12-30 18:45:00\", \"2020-12-30 18:46:00\", \"2020-12-30 18:47:00\", \"2020-12-30 18:49:00\", \"2020-12-30 18:50:00\", \"2020-12-30 18:52:00\", \"2020-12-30 18:53:00\", \"2020-12-30 18:55:00\", \"2020-12-30 18:57:00\", \"2020-12-30 18:58:00\", \"2020-12-30 18:59:00\", \"2020-12-30 19:00:00\", \"2020-12-30 19:01:00\", \"2020-12-30 19:02:00\", \"2020-12-30 19:03:00\", \"2020-12-30 19:04:00\", \"2020-12-30 19:05:00\", \"2020-12-30 19:06:00\", \"2020-12-30 19:07:00\", \"2020-12-30 19:09:00\", \"2020-12-30 19:11:00\", \"2020-12-30 19:12:00\", \"2020-12-30 19:13:00\", \"2020-12-30 19:14:00\", \"2020-12-30 19:15:00\", \"2020-12-30 19:16:00\", \"2020-12-30 19:17:00\", \"2020-12-30 19:18:00\", \"2020-12-30 19:20:00\", \"2020-12-30 19:21:00\", \"2020-12-30 19:22:00\", \"2020-12-30 19:23:00\", \"2020-12-30 19:25:00\", \"2020-12-30 19:26:00\", \"2020-12-30 19:29:00\", \"2020-12-30 19:30:00\", \"2020-12-30 19:31:00\", \"2020-12-30 19:32:00\", \"2020-12-30 19:33:00\", \"2020-12-30 19:34:00\", \"2020-12-30 19:35:00\", \"2020-12-30 19:36:00\", \"2020-12-30 19:38:00\", \"2020-12-30 19:39:00\", \"2020-12-30 19:40:00\", \"2020-12-30 19:41:00\", \"2020-12-30 19:42:00\", \"2020-12-30 19:43:00\", \"2020-12-30 19:44:00\", \"2020-12-30 19:45:00\", \"2020-12-30 19:46:00\", \"2020-12-30 19:48:00\", \"2020-12-30 19:49:00\", \"2020-12-30 19:50:00\", \"2020-12-30 19:51:00\", \"2020-12-30 19:52:00\", \"2020-12-30 19:53:00\", \"2020-12-30 19:54:00\", \"2020-12-30 19:55:00\", \"2020-12-30 19:56:00\", \"2020-12-30 19:57:00\", \"2020-12-30 19:58:00\", \"2020-12-30 19:59:00\", \"2020-12-30 20:00:00\", \"2020-12-30 20:01:00\", \"2020-12-30 20:02:00\", \"2020-12-30 20:03:00\", \"2020-12-30 20:04:00\", \"2020-12-30 20:05:00\", \"2020-12-30 20:06:00\", \"2020-12-30 20:07:00\", \"2020-12-30 20:08:00\", \"2020-12-30 20:09:00\", \"2020-12-30 20:10:00\", \"2020-12-30 20:11:00\", \"2020-12-30 20:12:00\", \"2020-12-30 20:13:00\", \"2020-12-30 20:14:00\", \"2020-12-30 20:15:00\", \"2020-12-30 20:16:00\", \"2020-12-30 20:18:00\", \"2020-12-30 20:20:00\", \"2020-12-30 20:21:00\", \"2020-12-30 20:22:00\", \"2020-12-30 20:24:00\", \"2020-12-30 20:25:00\", \"2020-12-30 20:26:00\", \"2020-12-30 20:27:00\", \"2020-12-30 20:29:00\", \"2020-12-30 20:30:00\", \"2020-12-30 20:32:00\", \"2020-12-30 20:33:00\", \"2020-12-30 20:35:00\", \"2020-12-30 20:36:00\", \"2020-12-30 20:38:00\", \"2020-12-30 20:39:00\", \"2020-12-30 20:40:00\", \"2020-12-30 20:41:00\", \"2020-12-30 20:42:00\", \"2020-12-30 20:43:00\", \"2020-12-30 20:44:00\", \"2020-12-30 20:45:00\", \"2020-12-30 20:46:00\", \"2020-12-30 20:47:00\", \"2020-12-30 20:48:00\", \"2020-12-30 20:49:00\", \"2020-12-30 20:50:00\", \"2020-12-30 20:51:00\", \"2020-12-30 20:52:00\", \"2020-12-30 20:53:00\", \"2020-12-30 20:54:00\", \"2020-12-30 20:55:00\", \"2020-12-30 20:56:00\", \"2020-12-30 20:57:00\", \"2020-12-30 20:58:00\", \"2020-12-30 20:59:00\", \"2020-12-31 14:30:00\", \"2020-12-31 14:32:00\", \"2020-12-31 14:33:00\", \"2020-12-31 14:35:00\", \"2020-12-31 14:37:00\", \"2020-12-31 14:38:00\", \"2020-12-31 14:39:00\", \"2020-12-31 14:40:00\", \"2020-12-31 14:41:00\", \"2020-12-31 14:45:00\", \"2020-12-31 14:50:00\", \"2020-12-31 14:51:00\", \"2020-12-31 14:53:00\", \"2020-12-31 14:55:00\", \"2020-12-31 14:56:00\", \"2020-12-31 14:57:00\", \"2020-12-31 15:00:00\", \"2020-12-31 15:02:00\", \"2020-12-31 15:03:00\", \"2020-12-31 15:04:00\", \"2020-12-31 15:05:00\", \"2020-12-31 15:07:00\", \"2020-12-31 15:08:00\", \"2020-12-31 15:09:00\", \"2020-12-31 15:10:00\", \"2020-12-31 15:12:00\", \"2020-12-31 15:13:00\", \"2020-12-31 15:14:00\", \"2020-12-31 15:15:00\", \"2020-12-31 15:16:00\", \"2020-12-31 15:21:00\", \"2020-12-31 15:23:00\", \"2020-12-31 15:25:00\", \"2020-12-31 15:27:00\", \"2020-12-31 15:28:00\", \"2020-12-31 15:30:00\", \"2020-12-31 15:31:00\", \"2020-12-31 15:37:00\", \"2020-12-31 15:38:00\", \"2020-12-31 15:40:00\", \"2020-12-31 15:42:00\", \"2020-12-31 15:44:00\", \"2020-12-31 15:45:00\", \"2020-12-31 15:46:00\", \"2020-12-31 15:47:00\", \"2020-12-31 15:51:00\", \"2020-12-31 15:52:00\", \"2020-12-31 15:54:00\", \"2020-12-31 15:55:00\", \"2020-12-31 15:56:00\", \"2020-12-31 15:57:00\"], \"y\": [1761.0699462890625, 1761.5699462890625, 1759.5699462890625, 1759.8299560546875, 1758.97998046875, 1759.458251953125, 1758.4100341796875, 1757.260009765625, 1756.77001953125, 1757.72998046875, 1756.8800048828125, 1758.0699462890625, 1759.4110107421875, 1761.8699951171875, 1762.3399658203125, 1761.9100341796875, 1762.123779296875, 1762.2550048828125, 1761.5, 1760.977783203125, 1759.5999755859375, 1759.9849853515625, 1759.5699462890625, 1761.699951171875, 1762.280029296875, 1761.75, 1760.9200439453125, 1759.8900146484375, 1759.8590087890625, 1759.949951171875, 1761.3599853515625, 1761.0, 1760.5400390625, 1759.77001953125, 1759.47998046875, 1759.114990234375, 1758.720458984375, 1760.9200439453125, 1761.010009765625, 1761.405029296875, 1761.0400390625, 1762.449951171875, 1761.510009765625, 1762.4000244140625, 1761.8900146484375, 1760.428955078125, 1761.0799560546875, 1761.2249755859375, 1760.77001953125, 1760.3599853515625, 1760.56494140625, 1760.699951171875, 1760.7750244140625, 1761.0849609375, 1761.2049560546875, 1760.27001953125, 1760.97998046875, 1759.75, 1760.280029296875, 1759.0899658203125, 1758.4100341796875, 1758.34423828125, 1758.02001953125, 1757.6400146484375, 1757.2449951171875, 1756.8900146484375, 1756.5699462890625, 1756.6199951171875, 1756.510009765625, 1758.3699951171875, 1759.074951171875, 1759.010009765625, 1757.5030517578125, 1758.2049560546875, 1757.8900146484375, 1757.2900390625, 1757.8299560546875, 1758.1099853515625, 1756.8399658203125, 1756.52001953125, 1756.844970703125, 1758.699951171875, 1759.8199462890625, 1759.719970703125, 1759.3599853515625, 1759.3900146484375, 1759.3800048828125, 1758.68994140625, 1758.300048828125, 1756.75, 1757.27001953125, 1756.9599609375, 1756.02001953125, 1757.010009765625, 1756.030029296875, 1756.97998046875, 1758.3499755859375, 1758.1800537109375, 1757.8800048828125, 1757.989990234375, 1758.0, 1758.3199462890625, 1758.7900390625, 1759.1099853515625, 1761.030029296875, 1760.469970703125, 1760.47998046875, 1760.56005859375, 1761.3499755859375, 1759.7850341796875, 1759.8599853515625, 1759.9300537109375, 1759.8599853515625, 1759.68994140625, 1759.6500244140625, 1759.22998046875, 1759.4000244140625, 1758.6209716796875, 1758.0799560546875, 1758.574951171875, 1759.1300048828125, 1759.0, 1759.56005859375, 1758.4599609375, 1758.3800048828125, 1758.6800537109375, 1759.1500244140625, 1759.9599609375, 1759.66748046875, 1759.1600341796875, 1758.6634521484375, 1759.219970703125, 1759.8299560546875, 1759.614990234375, 1758.8499755859375, 1758.9300537109375, 1757.324951171875, 1756.72998046875, 1755.8199462890625, 1756.02001953125, 1755.43994140625, 1756.5400390625, 1763.1099853515625, 1765.6500244140625, 1760.550048828125, 1759.280029296875, 1757.0, 1755.3740234375, 1755.2550048828125, 1752.7449951171875, 1755.06884765625, 1753.06005859375, 1752.29736328125, 1752.010009765625, 1751.3699951171875, 1750.9649658203125, 1751.3900146484375, 1752.280029296875, 1751.1527099609375, 1750.760009765625, 1750.5699462890625, 1749.800048828125, 1752.189453125, 1751.7099609375, 1749.9000244140625, 1746.772705078125, 1747.905029296875, 1747.239990234375, 1748.0999755859375, 1747.4599609375, 1747.231201171875, 1745.655029296875, 1745.6949462890625, 1743.81005859375, 1743.9100341796875, 1744.8900146484375, 1746.219970703125, 1745.6400146484375, 1745.280029296875, 1746.3699951171875, 1747.31005859375, 1747.7535400390625, 1744.905517578125, 1745.2000732421875, 1747.52001953125, 1747.510009765625, 1745.449951171875, 1747.1199951171875, 1746.7900390625, 1747.4000244140625, 1747.239990234375, 1746.3299560546875, 1745.199951171875, 1746.4200439453125, 1744.5400390625, 1744.050048828125, 1742.9300537109375, 1743.93994140625, 1743.800048828125, 1743.56494140625, 1743.8900146484375, 1744.3599853515625, 1744.4300537109375, 1745.719970703125, 1746.1400146484375, 1746.8900146484375, 1748.22998046875, 1747.3299560546875, 1747.5849609375, 1747.18505859375, 1747.60302734375, 1748.3699951171875, 1747.9200439453125, 1749.4649658203125, 1747.719970703125, 1746.8804931640625, 1748.2099609375, 1748.010009765625, 1748.5699462890625, 1748.43994140625, 1748.989990234375, 1748.6099853515625, 1748.75, 1748.6099853515625, 1749.0699462890625, 1748.97998046875, 1749.199951171875, 1748.800048828125, 1749.050048828125, 1748.7950439453125, 1748.99755859375, 1748.2373046875, 1748.239990234375, 1748.4849853515625, 1747.030029296875, 1746.43994140625, 1747.6300048828125, 1747.966552734375, 1748.6600341796875, 1746.9432373046875, 1746.77001953125, 1746.8800048828125, 1746.699951171875, 1747.1400146484375, 1746.800048828125, 1745.1700439453125, 1745.5, 1745.0799560546875, 1745.4599609375, 1745.0, 1745.3599853515625, 1745.7049560546875, 1745.780029296875, 1745.7449951171875, 1745.5550537109375, 1745.97998046875, 1745.75, 1745.6300048828125, 1745.199951171875, 1744.6400146484375, 1744.0, 1743.5400390625, 1743.02001953125, 1743.364990234375, 1743.0799560546875, 1743.1700439453125, 1742.625, 1741.6600341796875, 1741.760009765625, 1740.405029296875, 1740.300048828125, 1741.3499755859375, 1738.93994140625, 1738.22998046875, 1736.97998046875, 1736.405029296875, 1736.6300048828125, 1733.280029296875, 1736.6600341796875, 1737.14501953125, 1737.6500244140625, 1737.510009765625, 1737.280029296875, 1734.949951171875, 1734.0, 1734.72998046875, 1734.68994140625, 1733.1019287109375, 1732.8699951171875, 1731.7850341796875, 1731.4599609375, 1731.6099853515625, 1730.4346923828125, 1730.0899658203125, 1730.56005859375, 1732.6600341796875, 1732.25, 1731.989990234375, 1731.22998046875, 1730.3900146484375, 1729.2830810546875, 1729.0699462890625, 1728.52001953125, 1729.4100341796875, 1728.22998046875, 1729.3599853515625, 1731.0899658203125, 1731.655029296875, 1733.5899658203125, 1735.050048828125, 1734.6099853515625, 1733.8900146484375, 1731.5899658203125, 1731.6500244140625, 1732.0400390625, 1732.6300048828125, 1732.8499755859375, 1732.949951171875, 1734.3699951171875, 1732.699951171875, 1733.9100341796875, 1734.5, 1735.1199951171875, 1735.9100341796875, 1736.18994140625, 1736.52001953125, 1735.5, 1735.2099609375, 1735.10498046875, 1734.5899658203125, 1734.1298828125, 1733.81494140625, 1735.1099853515625, 1734.8199462890625, 1735.300048828125, 1735.18994140625, 1735.260009765625, 1735.22998046875, 1733.8360595703125, 1734.31494140625, 1733.905029296875, 1734.5400390625, 1734.5400390625, 1734.60498046875, 1735.18505859375, 1734.462646484375, 1734.219970703125, 1733.5350341796875, 1733.4478759765625, 1733.385009765625, 1733.0, 1732.7850341796875, 1731.9200439453125, 1732.364990234375, 1731.9000244140625, 1731.8349609375, 1731.5699462890625, 1731.1600341796875, 1731.4849853515625, 1730.8599853515625, 1731.06005859375, 1731.0400390625, 1730.9599609375, 1732.050048828125, 1732.31005859375, 1732.0, 1731.6409912109375, 1732.4547119140625, 1733.1800537109375, 1732.260009765625, 1731.9200439453125, 1731.719970703125, 1730.9200439453125, 1732.0875244140625, 1731.0999755859375, 1732.3499755859375, 1733.0592041015625, 1733.4000244140625, 1733.9000244140625, 1734.1700439453125, 1734.010009765625, 1734.780029296875, 1734.9549560546875, 1733.510009765625, 1734.43994140625, 1734.5, 1733.6800537109375, 1733.8299560546875, 1735.510009765625, 1734.75, 1733.8299560546875, 1734.8800048828125, 1734.219970703125, 1734.989990234375, 1735.39501953125, 1736.0999755859375, 1736.125, 1735.7550048828125, 1734.64501953125, 1734.8699951171875, 1735.6400146484375, 1734.510009765625, 1734.43994140625, 1735.3399658203125, 1737.02001953125, 1736.550048828125, 1736.699951171875, 1735.93994140625, 1736.1700439453125, 1735.780029296875, 1735.9000244140625, 1736.0799560546875, 1735.3699951171875, 1734.68994140625, 1735.280029296875, 1735.6600341796875, 1736.0, 1736.1099853515625, 1737.199951171875, 1736.4599609375, 1736.81005859375, 1736.31005859375, 1736.0699462890625, 1736.4599609375, 1736.25, 1736.0400390625, 1735.4599609375, 1736.2550048828125, 1736.0400390625, 1736.5899658203125, 1736.7650146484375, 1737.02001953125, 1738.489990234375, 1738.3349609375, 1738.1099853515625, 1737.3199462890625, 1737.4150390625, 1737.300048828125, 1736.800048828125, 1738.237548828125, 1738.3575439453125, 1739.550048828125, 1740.030029296875, 1736.3599853515625, 1737.9200439453125, 1737.4200439453125, 1737.219970703125, 1738.02001953125, 1736.239990234375, 1739.9599609375, 1742.577392578125, 1746.8599853515625, 1751.9449462890625, 1750.31005859375, 1753.340087890625, 1754.199951171875, 1757.5, 1754.0, 1754.85498046875, 1752.8790283203125, 1750.2650146484375, 1750.0, 1746.4375, 1746.1500244140625, 1744.5799560546875, 1747.989990234375, 1753.219970703125, 1753.0849609375, 1751.1099853515625, 1752.280029296875, 1749.3199462890625, 1746.2900390625, 1747.449951171875, 1746.1500244140625, 1746.219970703125, 1746.969970703125, 1745.8199462890625, 1747.6099853515625, 1747.7049560546875, 1746.198974609375, 1746.8900146484375, 1746.97998046875, 1746.6600341796875, 1746.0, 1745.907470703125, 1746.6700439453125, 1744.08251953125, 1742.2750244140625, 1743.72998046875, 1742.1700439453125, 1742.77001953125, 1743.989990234375, 1744.5400390625, 1743.2449951171875, 1745.5450439453125, 1745.1650390625, 1744.6650390625, 1744.8299560546875, 1746.9849853515625, 1747.89501953125]}, {\"marker\": {\"color\": \"green\", \"symbol\": \"circle\"}, \"mode\": \"markers\", \"name\": \"Buy\", \"showlegend\": true, \"type\": \"scatter\", \"x\": [\"2020-12-29 17:38:00\", \"2020-12-29 17:43:00\", \"2020-12-29 17:50:00\", \"2020-12-29 17:57:00\", \"2020-12-29 18:08:00\", \"2020-12-29 18:12:00\", \"2020-12-29 18:42:00\", \"2020-12-29 18:56:00\", \"2020-12-29 19:03:00\", \"2020-12-29 19:07:00\", \"2020-12-29 19:21:00\", \"2020-12-29 19:27:00\", \"2020-12-29 19:38:00\", \"2020-12-29 19:42:00\", \"2020-12-29 19:44:00\", \"2020-12-29 19:47:00\", \"2020-12-29 19:52:00\", \"2020-12-29 20:04:00\", \"2020-12-29 20:12:00\", \"2020-12-29 20:16:00\", \"2020-12-29 20:18:00\", \"2020-12-29 20:33:00\", \"2020-12-29 20:37:00\", \"2020-12-29 20:41:00\", \"2020-12-29 20:52:00\", \"2020-12-30 14:34:00\", \"2020-12-30 14:55:00\", \"2020-12-30 15:19:00\", \"2020-12-30 15:39:00\", \"2020-12-30 15:43:00\", \"2020-12-30 15:52:00\", \"2020-12-30 15:59:00\", \"2020-12-30 16:04:00\", \"2020-12-30 16:06:00\", \"2020-12-30 16:10:00\", \"2020-12-30 16:18:00\", \"2020-12-30 16:21:00\", \"2020-12-30 16:28:00\", \"2020-12-30 16:54:00\", \"2020-12-30 16:58:00\", \"2020-12-30 17:00:00\", \"2020-12-30 17:03:00\", \"2020-12-30 17:10:00\", \"2020-12-30 17:14:00\", \"2020-12-30 17:24:00\", \"2020-12-30 17:36:00\", \"2020-12-30 17:46:00\", \"2020-12-30 17:54:00\", \"2020-12-30 18:11:00\", \"2020-12-30 18:20:00\", \"2020-12-30 18:23:00\", \"2020-12-30 18:29:00\", \"2020-12-30 18:34:00\", \"2020-12-30 18:38:00\", \"2020-12-30 18:41:00\", \"2020-12-30 18:47:00\", \"2020-12-30 18:57:00\", \"2020-12-30 19:06:00\", \"2020-12-30 19:09:00\", \"2020-12-30 19:35:00\", \"2020-12-30 19:40:00\", \"2020-12-30 19:43:00\", \"2020-12-30 19:50:00\", \"2020-12-30 19:53:00\", \"2020-12-30 19:55:00\", \"2020-12-30 20:09:00\", \"2020-12-30 20:14:00\", \"2020-12-30 20:32:00\", \"2020-12-30 20:39:00\", \"2020-12-30 20:42:00\", \"2020-12-30 20:52:00\", \"2020-12-30 20:59:00\", \"2020-12-31 14:32:00\", \"2020-12-31 14:41:00\", \"2020-12-31 14:53:00\", \"2020-12-31 15:03:00\", \"2020-12-31 15:10:00\", \"2020-12-31 15:30:00\", \"2020-12-31 15:46:00\", \"2020-12-31 15:55:00\"], \"y\": [1761.0699462890625, 1758.97998046875, 1757.72998046875, 1761.8699951171875, 1759.5999755859375, 1762.280029296875, 1759.114990234375, 1762.449951171875, 1761.0799560546875, 1760.77001953125, 1760.280029296875, 1758.02001953125, 1759.074951171875, 1757.8900146484375, 1757.8299560546875, 1756.52001953125, 1759.719970703125, 1757.27001953125, 1758.1800537109375, 1757.989990234375, 1758.3199462890625, 1759.22998046875, 1758.574951171875, 1758.4599609375, 1758.8499755859375, 1757.0, 1752.189453125, 1747.31005859375, 1743.93994140625, 1744.3599853515625, 1747.5849609375, 1749.4649658203125, 1746.8804931640625, 1748.010009765625, 1748.6099853515625, 1748.800048828125, 1748.7950439453125, 1747.030029296875, 1745.7049560546875, 1745.97998046875, 1745.6300048828125, 1744.0, 1742.625, 1740.405029296875, 1736.6300048828125, 1734.72998046875, 1730.56005859375, 1729.0699462890625, 1731.5899658203125, 1732.8499755859375, 1732.699951171875, 1735.1199951171875, 1736.52001953125, 1735.10498046875, 1734.1298828125, 1735.18994140625, 1734.5400390625, 1733.0, 1731.9200439453125, 1732.0875244140625, 1733.4000244140625, 1734.010009765625, 1733.6800537109375, 1734.75, 1734.8800048828125, 1736.550048828125, 1735.9000244140625, 1736.4599609375, 1736.0400390625, 1737.02001953125, 1739.550048828125, 1736.239990234375, 1742.577392578125, 1754.0, 1750.0, 1753.0849609375, 1746.1500244140625, 1745.907470703125, 1744.5400390625, 1744.8299560546875]}, {\"marker\": {\"color\": \"red\", \"symbol\": \"circle\"}, \"mode\": \"markers\", \"name\": \"Sell\", \"showlegend\": true, \"type\": \"scatter\", \"x\": [\"2020-12-29 17:42:00\", \"2020-12-29 17:44:00\", \"2020-12-29 17:53:00\", \"2020-12-29 18:03:00\", \"2020-12-29 18:10:00\", \"2020-12-29 18:39:00\", \"2020-12-29 18:43:00\", \"2020-12-29 18:57:00\", \"2020-12-29 19:05:00\", \"2020-12-29 19:08:00\", \"2020-12-29 19:26:00\", \"2020-12-29 19:37:00\", \"2020-12-29 19:41:00\", \"2020-12-29 19:43:00\", \"2020-12-29 19:45:00\", \"2020-12-29 19:49:00\", \"2020-12-29 20:02:00\", \"2020-12-29 20:06:00\", \"2020-12-29 20:15:00\", \"2020-12-29 20:17:00\", \"2020-12-29 20:29:00\", \"2020-12-29 20:34:00\", \"2020-12-29 20:38:00\", \"2020-12-29 20:42:00\", \"2020-12-29 20:53:00\", \"2020-12-30 14:41:00\", \"2020-12-30 15:07:00\", \"2020-12-30 15:36:00\", \"2020-12-30 15:42:00\", \"2020-12-30 15:48:00\", \"2020-12-30 15:56:00\", \"2020-12-30 16:02:00\", \"2020-12-30 16:05:00\", \"2020-12-30 16:09:00\", \"2020-12-30 16:16:00\", \"2020-12-30 16:19:00\", \"2020-12-30 16:22:00\", \"2020-12-30 16:53:00\", \"2020-12-30 16:55:00\", \"2020-12-30 16:59:00\", \"2020-12-30 17:01:00\", \"2020-12-30 17:04:00\", \"2020-12-30 17:13:00\", \"2020-12-30 17:17:00\", \"2020-12-30 17:27:00\", \"2020-12-30 17:44:00\", \"2020-12-30 17:53:00\", \"2020-12-30 18:00:00\", \"2020-12-30 18:12:00\", \"2020-12-30 18:21:00\", \"2020-12-30 18:24:00\", \"2020-12-30 18:33:00\", \"2020-12-30 18:35:00\", \"2020-12-30 18:39:00\", \"2020-12-30 18:44:00\", \"2020-12-30 18:53:00\", \"2020-12-30 19:02:00\", \"2020-12-30 19:07:00\", \"2020-12-30 19:32:00\", \"2020-12-30 19:38:00\", \"2020-12-30 19:42:00\", \"2020-12-30 19:46:00\", \"2020-12-30 19:52:00\", \"2020-12-30 19:54:00\", \"2020-12-30 20:08:00\", \"2020-12-30 20:12:00\", \"2020-12-30 20:27:00\", \"2020-12-30 20:36:00\", \"2020-12-30 20:41:00\", \"2020-12-30 20:44:00\", \"2020-12-30 20:53:00\", \"2020-12-31 14:30:00\", \"2020-12-31 14:40:00\", \"2020-12-31 14:50:00\", \"2020-12-31 14:57:00\", \"2020-12-31 15:04:00\", \"2020-12-31 15:12:00\", \"2020-12-31 15:38:00\", \"2020-12-31 15:54:00\"], \"y\": [1759.8299560546875, 1759.458251953125, 1758.0699462890625, 1761.5, 1759.5699462890625, 1759.77001953125, 1758.720458984375, 1761.510009765625, 1761.2249755859375, 1760.3599853515625, 1758.34423828125, 1758.3699951171875, 1758.2049560546875, 1757.2900390625, 1758.1099853515625, 1756.844970703125, 1756.75, 1756.02001953125, 1757.8800048828125, 1758.0, 1759.9300537109375, 1759.4000244140625, 1759.1300048828125, 1758.3800048828125, 1758.9300537109375, 1755.06884765625, 1747.4599609375, 1744.050048828125, 1743.8900146484375, 1746.8900146484375, 1747.9200439453125, 1747.719970703125, 1748.2099609375, 1748.989990234375, 1749.199951171875, 1749.050048828125, 1748.99755859375, 1745.3599853515625, 1745.780029296875, 1745.75, 1745.199951171875, 1743.5400390625, 1741.760009765625, 1741.3499755859375, 1737.14501953125, 1730.4346923828125, 1729.2830810546875, 1731.0899658203125, 1731.6500244140625, 1732.949951171875, 1733.9100341796875, 1736.18994140625, 1735.5, 1734.5899658203125, 1735.1099853515625, 1734.31494140625, 1734.219970703125, 1732.7850341796875, 1731.9200439453125, 1732.3499755859375, 1734.1700439453125, 1733.510009765625, 1735.510009765625, 1733.8299560546875, 1737.02001953125, 1736.1700439453125, 1736.81005859375, 1735.4599609375, 1736.7650146484375, 1738.3349609375, 1740.030029296875, 1739.9599609375, 1757.5, 1752.8790283203125, 1744.5799560546875, 1751.1099853515625, 1746.219970703125, 1742.2750244140625, 1744.6650390625]}],                        {\"legend\": {\"title\": {\"text\": \"Legend\"}}, \"template\": {\"data\": {\"bar\": [{\"error_x\": {\"color\": \"#2a3f5f\"}, \"error_y\": {\"color\": \"#2a3f5f\"}, \"marker\": {\"line\": {\"color\": \"#E5ECF6\", \"width\": 0.5}}, \"type\": \"bar\"}], \"barpolar\": [{\"marker\": {\"line\": {\"color\": \"#E5ECF6\", \"width\": 0.5}}, \"type\": \"barpolar\"}], \"carpet\": [{\"aaxis\": {\"endlinecolor\": \"#2a3f5f\", \"gridcolor\": \"white\", \"linecolor\": \"white\", \"minorgridcolor\": \"white\", \"startlinecolor\": \"#2a3f5f\"}, \"baxis\": {\"endlinecolor\": \"#2a3f5f\", \"gridcolor\": \"white\", \"linecolor\": \"white\", \"minorgridcolor\": \"white\", \"startlinecolor\": \"#2a3f5f\"}, \"type\": \"carpet\"}], \"choropleth\": [{\"colorbar\": {\"outlinewidth\": 0, \"ticks\": \"\"}, \"type\": \"choropleth\"}], \"contour\": [{\"colorbar\": {\"outlinewidth\": 0, \"ticks\": \"\"}, \"colorscale\": [[0.0, \"#0d0887\"], [0.1111111111111111, \"#46039f\"], [0.2222222222222222, \"#7201a8\"], [0.3333333333333333, \"#9c179e\"], [0.4444444444444444, \"#bd3786\"], [0.5555555555555556, \"#d8576b\"], [0.6666666666666666, \"#ed7953\"], [0.7777777777777778, \"#fb9f3a\"], [0.8888888888888888, \"#fdca26\"], [1.0, \"#f0f921\"]], \"type\": \"contour\"}], \"contourcarpet\": [{\"colorbar\": {\"outlinewidth\": 0, \"ticks\": \"\"}, \"type\": \"contourcarpet\"}], \"heatmap\": [{\"colorbar\": {\"outlinewidth\": 0, \"ticks\": \"\"}, \"colorscale\": [[0.0, \"#0d0887\"], [0.1111111111111111, \"#46039f\"], [0.2222222222222222, \"#7201a8\"], [0.3333333333333333, \"#9c179e\"], [0.4444444444444444, \"#bd3786\"], [0.5555555555555556, \"#d8576b\"], [0.6666666666666666, \"#ed7953\"], [0.7777777777777778, \"#fb9f3a\"], [0.8888888888888888, \"#fdca26\"], [1.0, \"#f0f921\"]], \"type\": \"heatmap\"}], \"heatmapgl\": [{\"colorbar\": {\"outlinewidth\": 0, \"ticks\": \"\"}, \"colorscale\": [[0.0, \"#0d0887\"], [0.1111111111111111, \"#46039f\"], [0.2222222222222222, \"#7201a8\"], [0.3333333333333333, \"#9c179e\"], [0.4444444444444444, \"#bd3786\"], [0.5555555555555556, \"#d8576b\"], [0.6666666666666666, \"#ed7953\"], [0.7777777777777778, \"#fb9f3a\"], [0.8888888888888888, \"#fdca26\"], [1.0, \"#f0f921\"]], \"type\": \"heatmapgl\"}], \"histogram\": [{\"marker\": {\"colorbar\": {\"outlinewidth\": 0, \"ticks\": \"\"}}, \"type\": \"histogram\"}], \"histogram2d\": [{\"colorbar\": {\"outlinewidth\": 0, \"ticks\": \"\"}, \"colorscale\": [[0.0, \"#0d0887\"], [0.1111111111111111, \"#46039f\"], [0.2222222222222222, \"#7201a8\"], [0.3333333333333333, \"#9c179e\"], [0.4444444444444444, \"#bd3786\"], [0.5555555555555556, \"#d8576b\"], [0.6666666666666666, \"#ed7953\"], [0.7777777777777778, \"#fb9f3a\"], [0.8888888888888888, \"#fdca26\"], [1.0, \"#f0f921\"]], \"type\": \"histogram2d\"}], \"histogram2dcontour\": [{\"colorbar\": {\"outlinewidth\": 0, \"ticks\": \"\"}, \"colorscale\": [[0.0, \"#0d0887\"], [0.1111111111111111, \"#46039f\"], [0.2222222222222222, \"#7201a8\"], [0.3333333333333333, \"#9c179e\"], [0.4444444444444444, \"#bd3786\"], [0.5555555555555556, \"#d8576b\"], [0.6666666666666666, \"#ed7953\"], [0.7777777777777778, \"#fb9f3a\"], [0.8888888888888888, \"#fdca26\"], [1.0, \"#f0f921\"]], \"type\": \"histogram2dcontour\"}], \"mesh3d\": [{\"colorbar\": {\"outlinewidth\": 0, \"ticks\": \"\"}, \"type\": \"mesh3d\"}], \"parcoords\": [{\"line\": {\"colorbar\": {\"outlinewidth\": 0, \"ticks\": \"\"}}, \"type\": \"parcoords\"}], \"pie\": [{\"automargin\": true, \"type\": \"pie\"}], \"scatter\": [{\"marker\": {\"colorbar\": {\"outlinewidth\": 0, \"ticks\": \"\"}}, \"type\": \"scatter\"}], \"scatter3d\": [{\"line\": {\"colorbar\": {\"outlinewidth\": 0, \"ticks\": \"\"}}, \"marker\": {\"colorbar\": {\"outlinewidth\": 0, \"ticks\": \"\"}}, \"type\": \"scatter3d\"}], \"scattercarpet\": [{\"marker\": {\"colorbar\": {\"outlinewidth\": 0, \"ticks\": \"\"}}, \"type\": \"scattercarpet\"}], \"scattergeo\": [{\"marker\": {\"colorbar\": {\"outlinewidth\": 0, \"ticks\": \"\"}}, \"type\": \"scattergeo\"}], \"scattergl\": [{\"marker\": {\"colorbar\": {\"outlinewidth\": 0, \"ticks\": \"\"}}, \"type\": \"scattergl\"}], \"scattermapbox\": [{\"marker\": {\"colorbar\": {\"outlinewidth\": 0, \"ticks\": \"\"}}, \"type\": \"scattermapbox\"}], \"scatterpolar\": [{\"marker\": {\"colorbar\": {\"outlinewidth\": 0, \"ticks\": \"\"}}, \"type\": \"scatterpolar\"}], \"scatterpolargl\": [{\"marker\": {\"colorbar\": {\"outlinewidth\": 0, \"ticks\": \"\"}}, \"type\": \"scatterpolargl\"}], \"scatterternary\": [{\"marker\": {\"colorbar\": {\"outlinewidth\": 0, \"ticks\": \"\"}}, \"type\": \"scatterternary\"}], \"surface\": [{\"colorbar\": {\"outlinewidth\": 0, \"ticks\": \"\"}, \"colorscale\": [[0.0, \"#0d0887\"], [0.1111111111111111, \"#46039f\"], [0.2222222222222222, \"#7201a8\"], [0.3333333333333333, \"#9c179e\"], [0.4444444444444444, \"#bd3786\"], [0.5555555555555556, \"#d8576b\"], [0.6666666666666666, \"#ed7953\"], [0.7777777777777778, \"#fb9f3a\"], [0.8888888888888888, \"#fdca26\"], [1.0, \"#f0f921\"]], \"type\": \"surface\"}], \"table\": [{\"cells\": {\"fill\": {\"color\": \"#EBF0F8\"}, \"line\": {\"color\": \"white\"}}, \"header\": {\"fill\": {\"color\": \"#C8D4E3\"}, \"line\": {\"color\": \"white\"}}, \"type\": \"table\"}]}, \"layout\": {\"annotationdefaults\": {\"arrowcolor\": \"#2a3f5f\", \"arrowhead\": 0, \"arrowwidth\": 1}, \"autotypenumbers\": \"strict\", \"coloraxis\": {\"colorbar\": {\"outlinewidth\": 0, \"ticks\": \"\"}}, \"colorscale\": {\"diverging\": [[0, \"#8e0152\"], [0.1, \"#c51b7d\"], [0.2, \"#de77ae\"], [0.3, \"#f1b6da\"], [0.4, \"#fde0ef\"], [0.5, \"#f7f7f7\"], [0.6, \"#e6f5d0\"], [0.7, \"#b8e186\"], [0.8, \"#7fbc41\"], [0.9, \"#4d9221\"], [1, \"#276419\"]], \"sequential\": [[0.0, \"#0d0887\"], [0.1111111111111111, \"#46039f\"], [0.2222222222222222, \"#7201a8\"], [0.3333333333333333, \"#9c179e\"], [0.4444444444444444, \"#bd3786\"], [0.5555555555555556, \"#d8576b\"], [0.6666666666666666, \"#ed7953\"], [0.7777777777777778, \"#fb9f3a\"], [0.8888888888888888, \"#fdca26\"], [1.0, \"#f0f921\"]], \"sequentialminus\": [[0.0, \"#0d0887\"], [0.1111111111111111, \"#46039f\"], [0.2222222222222222, \"#7201a8\"], [0.3333333333333333, \"#9c179e\"], [0.4444444444444444, \"#bd3786\"], [0.5555555555555556, \"#d8576b\"], [0.6666666666666666, \"#ed7953\"], [0.7777777777777778, \"#fb9f3a\"], [0.8888888888888888, \"#fdca26\"], [1.0, \"#f0f921\"]]}, \"colorway\": [\"#636efa\", \"#EF553B\", \"#00cc96\", \"#ab63fa\", \"#FFA15A\", \"#19d3f3\", \"#FF6692\", \"#B6E880\", \"#FF97FF\", \"#FECB52\"], \"font\": {\"color\": \"#2a3f5f\"}, \"geo\": {\"bgcolor\": \"white\", \"lakecolor\": \"white\", \"landcolor\": \"#E5ECF6\", \"showlakes\": true, \"showland\": true, \"subunitcolor\": \"white\"}, \"hoverlabel\": {\"align\": \"left\"}, \"hovermode\": \"closest\", \"mapbox\": {\"style\": \"light\"}, \"paper_bgcolor\": \"white\", \"plot_bgcolor\": \"#E5ECF6\", \"polar\": {\"angularaxis\": {\"gridcolor\": \"white\", \"linecolor\": \"white\", \"ticks\": \"\"}, \"bgcolor\": \"#E5ECF6\", \"radialaxis\": {\"gridcolor\": \"white\", \"linecolor\": \"white\", \"ticks\": \"\"}}, \"scene\": {\"xaxis\": {\"backgroundcolor\": \"#E5ECF6\", \"gridcolor\": \"white\", \"gridwidth\": 2, \"linecolor\": \"white\", \"showbackground\": true, \"ticks\": \"\", \"zerolinecolor\": \"white\"}, \"yaxis\": {\"backgroundcolor\": \"#E5ECF6\", \"gridcolor\": \"white\", \"gridwidth\": 2, \"linecolor\": \"white\", \"showbackground\": true, \"ticks\": \"\", \"zerolinecolor\": \"white\"}, \"zaxis\": {\"backgroundcolor\": \"#E5ECF6\", \"gridcolor\": \"white\", \"gridwidth\": 2, \"linecolor\": \"white\", \"showbackground\": true, \"ticks\": \"\", \"zerolinecolor\": \"white\"}}, \"shapedefaults\": {\"line\": {\"color\": \"#2a3f5f\"}}, \"ternary\": {\"aaxis\": {\"gridcolor\": \"white\", \"linecolor\": \"white\", \"ticks\": \"\"}, \"baxis\": {\"gridcolor\": \"white\", \"linecolor\": \"white\", \"ticks\": \"\"}, \"bgcolor\": \"#E5ECF6\", \"caxis\": {\"gridcolor\": \"white\", \"linecolor\": \"white\", \"ticks\": \"\"}}, \"title\": {\"x\": 0.05}, \"xaxis\": {\"automargin\": true, \"gridcolor\": \"white\", \"linecolor\": \"white\", \"ticks\": \"\", \"title\": {\"standoff\": 15}, \"zerolinecolor\": \"white\", \"zerolinewidth\": 2}, \"yaxis\": {\"automargin\": true, \"gridcolor\": \"white\", \"linecolor\": \"white\", \"ticks\": \"\", \"title\": {\"standoff\": 15}, \"zerolinecolor\": \"white\", \"zerolinewidth\": 2}}}, \"title\": {\"text\": \"info\"}, \"xaxis\": {\"title\": {\"text\": \"Datetime\"}}, \"yaxis\": {\"title\": {\"text\": \"value\"}}},                        {\"responsive\": true}                    ).then(function(){\n",
       "                            \n",
       "var gd = document.getElementById('83574cfd-44ae-4296-be88-0076704a1e07');\n",
       "var x = new MutationObserver(function (mutations, observer) {{\n",
       "        var display = window.getComputedStyle(gd).display;\n",
       "        if (!display || display === 'none') {{\n",
       "            console.log([gd, 'removed!']);\n",
       "            Plotly.purge(gd);\n",
       "            observer.disconnect();\n",
       "        }}\n",
       "}});\n",
       "\n",
       "// Listen for the removal of the full notebook cells\n",
       "var notebookContainer = gd.closest('#notebook-container');\n",
       "if (notebookContainer) {{\n",
       "    x.observe(notebookContainer, {childList: true});\n",
       "}}\n",
       "\n",
       "// Listen for the clearing of the current output cell\n",
       "var outputEl = gd.closest('.output');\n",
       "if (outputEl) {{\n",
       "    x.observe(outputEl, {childList: true});\n",
       "}}\n",
       "\n",
       "                        })                };                });            </script>        </div>"
      ]
     },
     "metadata": {},
     "output_type": "display_data"
    },
    {
     "data": {
      "text/plain": []
     },
     "execution_count": 129,
     "metadata": {},
     "output_type": "execute_result"
    }
   ],
   "source": [
    "det_tst = Time_Series_Transformer.from_pandas(det,'Datetime',None)\n",
    "det_tst.plot([\"Close\"],'info').add_marker(\n",
    "    x = buySignal['Datetime'],\n",
    "    y = buySignal['Buy'],color = 'green',\n",
    "    legendName = 'Buy').add_marker(\n",
    "    x = sellSignal['Datetime'],\n",
    "    y = sellSignal['Sell'],color = 'red',\n",
    "    legendName = 'Sell')"
   ]
  },
  {
   "cell_type": "code",
   "execution_count": 130,
   "metadata": {},
   "outputs": [
    {
     "data": {
      "text/plain": [
       "-1752.760986328125"
      ]
     },
     "execution_count": 130,
     "metadata": {},
     "output_type": "execute_result"
    }
   ],
   "source": [
    "det.Sell.sum() - det.Buy.sum()"
   ]
  },
  {
   "cell_type": "code",
   "execution_count": 132,
   "metadata": {},
   "outputs": [],
   "source": [
    "# !pip install fix_yahoo_finance -U"
   ]
  },
  {
   "cell_type": "code",
   "execution_count": 4,
   "metadata": {},
   "outputs": [
    {
     "data": {
      "text/html": [
       "<div>\n",
       "<style scoped>\n",
       "    .dataframe tbody tr th:only-of-type {\n",
       "        vertical-align: middle;\n",
       "    }\n",
       "\n",
       "    .dataframe tbody tr th {\n",
       "        vertical-align: top;\n",
       "    }\n",
       "\n",
       "    .dataframe thead th {\n",
       "        text-align: right;\n",
       "    }\n",
       "</style>\n",
       "<table border=\"1\" class=\"dataframe\">\n",
       "  <thead>\n",
       "    <tr style=\"text-align: right;\">\n",
       "      <th></th>\n",
       "      <th>Datetime</th>\n",
       "      <th>Open</th>\n",
       "      <th>High</th>\n",
       "      <th>Low</th>\n",
       "      <th>Close</th>\n",
       "      <th>Volume</th>\n",
       "      <th>Dividends</th>\n",
       "      <th>Stock Splits</th>\n",
       "      <th>symbol</th>\n",
       "    </tr>\n",
       "  </thead>\n",
       "  <tbody>\n",
       "    <tr>\n",
       "      <th>0</th>\n",
       "      <td>2020-12-28 14:30:00</td>\n",
       "      <td>1744.910034</td>\n",
       "      <td>1755.060059</td>\n",
       "      <td>1741.819946</td>\n",
       "      <td>1753.890015</td>\n",
       "      <td>134200</td>\n",
       "      <td>0</td>\n",
       "      <td>0</td>\n",
       "      <td>GOOGL</td>\n",
       "    </tr>\n",
       "    <tr>\n",
       "      <th>1</th>\n",
       "      <td>2020-12-28 15:00:00</td>\n",
       "      <td>1755.000000</td>\n",
       "      <td>1757.849976</td>\n",
       "      <td>1749.849976</td>\n",
       "      <td>1756.989990</td>\n",
       "      <td>73854</td>\n",
       "      <td>0</td>\n",
       "      <td>0</td>\n",
       "      <td>GOOGL</td>\n",
       "    </tr>\n",
       "    <tr>\n",
       "      <th>2</th>\n",
       "      <td>2020-12-28 15:30:00</td>\n",
       "      <td>1757.000000</td>\n",
       "      <td>1767.430054</td>\n",
       "      <td>1755.800049</td>\n",
       "      <td>1762.844971</td>\n",
       "      <td>82034</td>\n",
       "      <td>0</td>\n",
       "      <td>0</td>\n",
       "      <td>GOOGL</td>\n",
       "    </tr>\n",
       "    <tr>\n",
       "      <th>3</th>\n",
       "      <td>2020-12-28 16:00:00</td>\n",
       "      <td>1762.280029</td>\n",
       "      <td>1765.307617</td>\n",
       "      <td>1762.010010</td>\n",
       "      <td>1763.479980</td>\n",
       "      <td>48326</td>\n",
       "      <td>0</td>\n",
       "      <td>0</td>\n",
       "      <td>GOOGL</td>\n",
       "    </tr>\n",
       "    <tr>\n",
       "      <th>4</th>\n",
       "      <td>2020-12-28 16:30:00</td>\n",
       "      <td>1763.569946</td>\n",
       "      <td>1767.000000</td>\n",
       "      <td>1763.045044</td>\n",
       "      <td>1766.530029</td>\n",
       "      <td>52059</td>\n",
       "      <td>0</td>\n",
       "      <td>0</td>\n",
       "      <td>GOOGL</td>\n",
       "    </tr>\n",
       "    <tr>\n",
       "      <th>...</th>\n",
       "      <td>...</td>\n",
       "      <td>...</td>\n",
       "      <td>...</td>\n",
       "      <td>...</td>\n",
       "      <td>...</td>\n",
       "      <td>...</td>\n",
       "      <td>...</td>\n",
       "      <td>...</td>\n",
       "      <td>...</td>\n",
       "    </tr>\n",
       "    <tr>\n",
       "      <th>79</th>\n",
       "      <td>2020-12-30 20:00:00</td>\n",
       "      <td>133.764999</td>\n",
       "      <td>133.850006</td>\n",
       "      <td>133.399994</td>\n",
       "      <td>133.703400</td>\n",
       "      <td>5632752</td>\n",
       "      <td>0</td>\n",
       "      <td>0</td>\n",
       "      <td>AAPL</td>\n",
       "    </tr>\n",
       "    <tr>\n",
       "      <th>80</th>\n",
       "      <td>2020-12-30 20:30:00</td>\n",
       "      <td>133.699997</td>\n",
       "      <td>134.179993</td>\n",
       "      <td>133.490005</td>\n",
       "      <td>133.679993</td>\n",
       "      <td>9694328</td>\n",
       "      <td>0</td>\n",
       "      <td>0</td>\n",
       "      <td>AAPL</td>\n",
       "    </tr>\n",
       "    <tr>\n",
       "      <th>81</th>\n",
       "      <td>2020-12-31 14:30:00</td>\n",
       "      <td>134.080002</td>\n",
       "      <td>134.679993</td>\n",
       "      <td>133.199997</td>\n",
       "      <td>133.434998</td>\n",
       "      <td>13548575</td>\n",
       "      <td>0</td>\n",
       "      <td>0</td>\n",
       "      <td>AAPL</td>\n",
       "    </tr>\n",
       "    <tr>\n",
       "      <th>82</th>\n",
       "      <td>2020-12-31 15:00:00</td>\n",
       "      <td>133.440002</td>\n",
       "      <td>133.600006</td>\n",
       "      <td>132.650299</td>\n",
       "      <td>132.884995</td>\n",
       "      <td>9513875</td>\n",
       "      <td>0</td>\n",
       "      <td>0</td>\n",
       "      <td>AAPL</td>\n",
       "    </tr>\n",
       "    <tr>\n",
       "      <th>83</th>\n",
       "      <td>2020-12-31 15:30:00</td>\n",
       "      <td>132.880798</td>\n",
       "      <td>133.300003</td>\n",
       "      <td>132.790100</td>\n",
       "      <td>133.127304</td>\n",
       "      <td>5526675</td>\n",
       "      <td>0</td>\n",
       "      <td>0</td>\n",
       "      <td>AAPL</td>\n",
       "    </tr>\n",
       "  </tbody>\n",
       "</table>\n",
       "<p>84 rows × 9 columns</p>\n",
       "</div>"
      ],
      "text/plain": [
       "               Datetime         Open         High          Low        Close  \\\n",
       "0   2020-12-28 14:30:00  1744.910034  1755.060059  1741.819946  1753.890015   \n",
       "1   2020-12-28 15:00:00  1755.000000  1757.849976  1749.849976  1756.989990   \n",
       "2   2020-12-28 15:30:00  1757.000000  1767.430054  1755.800049  1762.844971   \n",
       "3   2020-12-28 16:00:00  1762.280029  1765.307617  1762.010010  1763.479980   \n",
       "4   2020-12-28 16:30:00  1763.569946  1767.000000  1763.045044  1766.530029   \n",
       "..                  ...          ...          ...          ...          ...   \n",
       "79  2020-12-30 20:00:00   133.764999   133.850006   133.399994   133.703400   \n",
       "80  2020-12-30 20:30:00   133.699997   134.179993   133.490005   133.679993   \n",
       "81  2020-12-31 14:30:00   134.080002   134.679993   133.199997   133.434998   \n",
       "82  2020-12-31 15:00:00   133.440002   133.600006   132.650299   132.884995   \n",
       "83  2020-12-31 15:30:00   132.880798   133.300003   132.790100   133.127304   \n",
       "\n",
       "      Volume  Dividends  Stock Splits symbol  \n",
       "0     134200          0             0  GOOGL  \n",
       "1      73854          0             0  GOOGL  \n",
       "2      82034          0             0  GOOGL  \n",
       "3      48326          0             0  GOOGL  \n",
       "4      52059          0             0  GOOGL  \n",
       "..       ...        ...           ...    ...  \n",
       "79   5632752          0             0   AAPL  \n",
       "80   9694328          0             0   AAPL  \n",
       "81  13548575          0             0   AAPL  \n",
       "82   9513875          0             0   AAPL  \n",
       "83   5526675          0             0   AAPL  \n",
       "\n",
       "[84 rows x 9 columns]"
      ]
     },
     "execution_count": 4,
     "metadata": {},
     "output_type": "execute_result"
    }
   ],
   "source": [
    "Stock_Transformer.from_stock_engine_intraday([\"GOOGL\",'AAPL'],'2020-12-27','2020-12-31','yahoo',interval='30m').to_pandas()"
   ]
  },
  {
   "cell_type": "code",
   "execution_count": null,
   "metadata": {},
   "outputs": [],
   "source": []
  }
 ],
 "metadata": {
  "kernelspec": {
   "display_name": "Python 3",
   "language": "python",
   "name": "python3"
  },
  "language_info": {
   "codemirror_mode": {
    "name": "ipython",
    "version": 3
   },
   "file_extension": ".py",
   "mimetype": "text/x-python",
   "name": "python",
   "nbconvert_exporter": "python",
   "pygments_lexer": "ipython3",
   "version": "3.8.5"
  }
 },
 "nbformat": 4,
 "nbformat_minor": 2
}
